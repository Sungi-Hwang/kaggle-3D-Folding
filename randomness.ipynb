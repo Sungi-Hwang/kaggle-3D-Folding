{
 "cells": [
  {
   "cell_type": "code",
   "execution_count": 1,
   "id": "6642a71e",
   "metadata": {
    "execution": {
     "iopub.execute_input": "2025-05-14T01:47:07.461162Z",
     "iopub.status.busy": "2025-05-14T01:47:07.460674Z",
     "iopub.status.idle": "2025-05-14T01:47:07.466363Z",
     "shell.execute_reply": "2025-05-14T01:47:07.465354Z"
    },
    "papermill": {
     "duration": 0.013582,
     "end_time": "2025-05-14T01:47:07.468021",
     "exception": false,
     "start_time": "2025-05-14T01:47:07.454439",
     "status": "completed"
    },
    "tags": []
   },
   "outputs": [],
   "source": [
    "MODEL_TYPE='protenix'\n",
    "VALIDATION=True"
   ]
  },
  {
   "cell_type": "code",
   "execution_count": 2,
   "id": "f2b426c5",
   "metadata": {
    "execution": {
     "iopub.execute_input": "2025-05-14T01:47:07.477993Z",
     "iopub.status.busy": "2025-05-14T01:47:07.477652Z",
     "iopub.status.idle": "2025-05-14T01:47:10.897576Z",
     "shell.execute_reply": "2025-05-14T01:47:10.896248Z"
    },
    "papermill": {
     "duration": 3.426844,
     "end_time": "2025-05-14T01:47:10.899492",
     "exception": false,
     "start_time": "2025-05-14T01:47:07.472648",
     "status": "completed"
    },
    "tags": []
   },
   "outputs": [
    {
     "name": "stdout",
     "output_type": "stream",
     "text": [
      "Name: biopython\r\n",
      "Version: 1.85\r\n",
      "Summary: Freely available tools for computational molecular biology.\r\n",
      "Home-page: https://biopython.org/\r\n",
      "Author: The Biopython Contributors\r\n",
      "Author-email: biopython@biopython.org\r\n",
      "License: \r\n",
      "Location: /usr/local/lib/python3.10/dist-packages\r\n",
      "Requires: numpy\r\n",
      "Required-by: protenix\r\n"
     ]
    }
   ],
   "source": [
    "!pip show biopython\n"
   ]
  },
  {
   "cell_type": "markdown",
   "id": "b6ddac51",
   "metadata": {
    "papermill": {
     "duration": 0.003941,
     "end_time": "2025-05-14T01:47:10.908023",
     "exception": false,
     "start_time": "2025-05-14T01:47:10.904082",
     "status": "completed"
    },
    "tags": []
   },
   "source": [
    "## Install requirements "
   ]
  },
  {
   "cell_type": "markdown",
   "id": "074a23ae",
   "metadata": {
    "papermill": {
     "duration": 0.003869,
     "end_time": "2025-05-14T01:47:10.916135",
     "exception": false,
     "start_time": "2025-05-14T01:47:10.912266",
     "status": "completed"
    },
    "tags": []
   },
   "source": [
    "RNA 3D 예측 결과와 실제 구조를 비교하고, 이를 평가하는 파이프 라인."
   ]
  },
  {
   "cell_type": "code",
   "execution_count": 3,
   "id": "4b5f42c1",
   "metadata": {
    "execution": {
     "iopub.execute_input": "2025-05-14T01:47:10.925614Z",
     "iopub.status.busy": "2025-05-14T01:47:10.925289Z",
     "iopub.status.idle": "2025-05-14T01:47:28.478499Z",
     "shell.execute_reply": "2025-05-14T01:47:28.477271Z"
    },
    "papermill": {
     "duration": 17.560962,
     "end_time": "2025-05-14T01:47:28.481235",
     "exception": false,
     "start_time": "2025-05-14T01:47:10.920273",
     "status": "completed"
    },
    "tags": []
   },
   "outputs": [
    {
     "name": "stdout",
     "output_type": "stream",
     "text": [
      "Requirement already satisfied: protenix in /usr/local/lib/python3.10/dist-packages (0.4.6)\r\n",
      "Requirement already satisfied: biopython in /usr/local/lib/python3.10/dist-packages (1.85)\r\n",
      "Requirement already satisfied: numpy in /usr/local/lib/python3.10/dist-packages (from biopython) (1.26.4)\r\n",
      "Requirement already satisfied: mkl_fft in /usr/local/lib/python3.10/dist-packages (from numpy->biopython) (1.3.8)\r\n",
      "Requirement already satisfied: mkl_random in /usr/local/lib/python3.10/dist-packages (from numpy->biopython) (1.2.4)\r\n",
      "Requirement already satisfied: mkl_umath in /usr/local/lib/python3.10/dist-packages (from numpy->biopython) (0.1.1)\r\n",
      "Requirement already satisfied: mkl in /usr/local/lib/python3.10/dist-packages (from numpy->biopython) (2025.0.1)\r\n",
      "Requirement already satisfied: tbb4py in /usr/local/lib/python3.10/dist-packages (from numpy->biopython) (2022.0.0)\r\n",
      "Requirement already satisfied: mkl-service in /usr/local/lib/python3.10/dist-packages (from numpy->biopython) (2.4.1)\r\n",
      "Requirement already satisfied: intel-openmp>=2024 in /usr/local/lib/python3.10/dist-packages (from mkl->numpy->biopython) (2024.2.0)\r\n",
      "Requirement already satisfied: tbb==2022.* in /usr/local/lib/python3.10/dist-packages (from mkl->numpy->biopython) (2022.0.0)\r\n",
      "Requirement already satisfied: tcmlib==1.* in /usr/local/lib/python3.10/dist-packages (from tbb==2022.*->mkl->numpy->biopython) (1.2.0)\r\n",
      "Requirement already satisfied: intel-cmplr-lib-rt in /usr/local/lib/python3.10/dist-packages (from mkl_umath->numpy->biopython) (2024.2.0)\r\n",
      "Requirement already satisfied: intel-cmplr-lib-ur==2024.2.0 in /usr/local/lib/python3.10/dist-packages (from intel-openmp>=2024->mkl->numpy->biopython) (2024.2.0)\r\n",
      "Requirement already satisfied: ml-collections in /usr/local/lib/python3.10/dist-packages (1.1.0)\r\n",
      "Requirement already satisfied: absl-py in /usr/local/lib/python3.10/dist-packages (from ml-collections) (1.4.0)\r\n",
      "Requirement already satisfied: PyYAML in /usr/local/lib/python3.10/dist-packages (from ml-collections) (6.0.2)\r\n",
      "Requirement already satisfied: biotite==1.0.1 in /usr/local/lib/python3.10/dist-packages (1.0.1)\r\n",
      "Requirement already satisfied: biotraj<2.0,>=1.0 in /usr/local/lib/python3.10/dist-packages (from biotite==1.0.1) (1.2.2)\r\n",
      "Requirement already satisfied: msgpack>=0.5.6 in /usr/local/lib/python3.10/dist-packages (from biotite==1.0.1) (1.1.0)\r\n",
      "Requirement already satisfied: networkx>=2.0 in /usr/local/lib/python3.10/dist-packages (from biotite==1.0.1) (3.4.2)\r\n",
      "Requirement already satisfied: numpy>=1.25 in /usr/local/lib/python3.10/dist-packages (from biotite==1.0.1) (1.26.4)\r\n",
      "Requirement already satisfied: requests>=2.12 in /usr/local/lib/python3.10/dist-packages (from biotite==1.0.1) (2.32.3)\r\n",
      "Requirement already satisfied: scipy>=1.13 in /usr/local/lib/python3.10/dist-packages (from biotraj<2.0,>=1.0->biotite==1.0.1) (1.13.1)\r\n",
      "Requirement already satisfied: mkl_fft in /usr/local/lib/python3.10/dist-packages (from numpy>=1.25->biotite==1.0.1) (1.3.8)\r\n",
      "Requirement already satisfied: mkl_random in /usr/local/lib/python3.10/dist-packages (from numpy>=1.25->biotite==1.0.1) (1.2.4)\r\n",
      "Requirement already satisfied: mkl_umath in /usr/local/lib/python3.10/dist-packages (from numpy>=1.25->biotite==1.0.1) (0.1.1)\r\n",
      "Requirement already satisfied: mkl in /usr/local/lib/python3.10/dist-packages (from numpy>=1.25->biotite==1.0.1) (2025.0.1)\r\n",
      "Requirement already satisfied: tbb4py in /usr/local/lib/python3.10/dist-packages (from numpy>=1.25->biotite==1.0.1) (2022.0.0)\r\n",
      "Requirement already satisfied: mkl-service in /usr/local/lib/python3.10/dist-packages (from numpy>=1.25->biotite==1.0.1) (2.4.1)\r\n",
      "Requirement already satisfied: charset-normalizer<4,>=2 in /usr/local/lib/python3.10/dist-packages (from requests>=2.12->biotite==1.0.1) (3.4.1)\r\n",
      "Requirement already satisfied: idna<4,>=2.5 in /usr/local/lib/python3.10/dist-packages (from requests>=2.12->biotite==1.0.1) (3.10)\r\n",
      "Requirement already satisfied: urllib3<3,>=1.21.1 in /usr/local/lib/python3.10/dist-packages (from requests>=2.12->biotite==1.0.1) (2.3.0)\r\n",
      "Requirement already satisfied: certifi>=2017.4.17 in /usr/local/lib/python3.10/dist-packages (from requests>=2.12->biotite==1.0.1) (2025.1.31)\r\n",
      "Requirement already satisfied: intel-openmp>=2024 in /usr/local/lib/python3.10/dist-packages (from mkl->numpy>=1.25->biotite==1.0.1) (2024.2.0)\r\n",
      "Requirement already satisfied: tbb==2022.* in /usr/local/lib/python3.10/dist-packages (from mkl->numpy>=1.25->biotite==1.0.1) (2022.0.0)\r\n",
      "Requirement already satisfied: tcmlib==1.* in /usr/local/lib/python3.10/dist-packages (from tbb==2022.*->mkl->numpy>=1.25->biotite==1.0.1) (1.2.0)\r\n",
      "Requirement already satisfied: intel-cmplr-lib-rt in /usr/local/lib/python3.10/dist-packages (from mkl_umath->numpy>=1.25->biotite==1.0.1) (2024.2.0)\r\n",
      "Requirement already satisfied: intel-cmplr-lib-ur==2024.2.0 in /usr/local/lib/python3.10/dist-packages (from intel-openmp>=2024->mkl->numpy>=1.25->biotite==1.0.1) (2024.2.0)\r\n",
      "Requirement already satisfied: rdkit in /usr/local/lib/python3.10/dist-packages (2025.3.2)\r\n",
      "Requirement already satisfied: numpy in /usr/local/lib/python3.10/dist-packages (from rdkit) (1.26.4)\r\n",
      "Requirement already satisfied: Pillow in /usr/local/lib/python3.10/dist-packages (from rdkit) (11.0.0)\r\n",
      "Requirement already satisfied: mkl_fft in /usr/local/lib/python3.10/dist-packages (from numpy->rdkit) (1.3.8)\r\n",
      "Requirement already satisfied: mkl_random in /usr/local/lib/python3.10/dist-packages (from numpy->rdkit) (1.2.4)\r\n",
      "Requirement already satisfied: mkl_umath in /usr/local/lib/python3.10/dist-packages (from numpy->rdkit) (0.1.1)\r\n",
      "Requirement already satisfied: mkl in /usr/local/lib/python3.10/dist-packages (from numpy->rdkit) (2025.0.1)\r\n",
      "Requirement already satisfied: tbb4py in /usr/local/lib/python3.10/dist-packages (from numpy->rdkit) (2022.0.0)\r\n",
      "Requirement already satisfied: mkl-service in /usr/local/lib/python3.10/dist-packages (from numpy->rdkit) (2.4.1)\r\n",
      "Requirement already satisfied: intel-openmp>=2024 in /usr/local/lib/python3.10/dist-packages (from mkl->numpy->rdkit) (2024.2.0)\r\n",
      "Requirement already satisfied: tbb==2022.* in /usr/local/lib/python3.10/dist-packages (from mkl->numpy->rdkit) (2022.0.0)\r\n",
      "Requirement already satisfied: tcmlib==1.* in /usr/local/lib/python3.10/dist-packages (from tbb==2022.*->mkl->numpy->rdkit) (1.2.0)\r\n",
      "Requirement already satisfied: intel-cmplr-lib-rt in /usr/local/lib/python3.10/dist-packages (from mkl_umath->numpy->rdkit) (2024.2.0)\r\n",
      "Requirement already satisfied: intel-cmplr-lib-ur==2024.2.0 in /usr/local/lib/python3.10/dist-packages (from intel-openmp>=2024->mkl->numpy->rdkit) (2024.2.0)\r\n"
     ]
    }
   ],
   "source": [
    "if MODEL_TYPE=='protenix' and VALIDATION:\n",
    "    !pip install --no-deps protenix\n",
    "    !pip install biopython\n",
    "    !pip install ml-collections\n",
    "    !pip install biotite==1.0.1\n",
    "    !pip install rdkit\n",
    "!export PROTENIX_DATA_ROOT_DIR=/kaggle/input/protenix-checkpoints"
   ]
  },
  {
   "cell_type": "code",
   "execution_count": 4,
   "id": "8171bb86",
   "metadata": {
    "execution": {
     "iopub.execute_input": "2025-05-14T01:47:28.492324Z",
     "iopub.status.busy": "2025-05-14T01:47:28.492018Z",
     "iopub.status.idle": "2025-05-14T01:47:28.851383Z",
     "shell.execute_reply": "2025-05-14T01:47:28.850088Z"
    },
    "papermill": {
     "duration": 0.367315,
     "end_time": "2025-05-14T01:47:28.853564",
     "exception": false,
     "start_time": "2025-05-14T01:47:28.486249",
     "status": "completed"
    },
    "tags": []
   },
   "outputs": [
    {
     "name": "stdout",
     "output_type": "stream",
     "text": [
      "components.v20240608.cif\t\tmodel_v0.2.0.pt\r\n",
      "components.v20240608.cif.rdkit_mol.pkl\r\n"
     ]
    }
   ],
   "source": [
    "! mkdir /af3-dev \n",
    "! ln -s /kaggle/input/protenix-checkpoints /af3-dev/release_data\n",
    "! ls /af3-dev/release_data/"
   ]
  },
  {
   "cell_type": "markdown",
   "id": "50122741",
   "metadata": {
    "papermill": {
     "duration": 0.004425,
     "end_time": "2025-05-14T01:47:28.862970",
     "exception": false,
     "start_time": "2025-05-14T01:47:28.858545",
     "status": "completed"
    },
    "tags": []
   },
   "source": [
    "## Helper scripts"
   ]
  },
  {
   "cell_type": "code",
   "execution_count": 5,
   "id": "bb138ad1",
   "metadata": {
    "_cell_guid": "b1076dfc-b9ad-4769-8c92-a6c4dae69d19",
    "_uuid": "8f2839f25d086af736a60e9eeb907d3b93b6e0e5",
    "execution": {
     "iopub.execute_input": "2025-05-14T01:47:28.873556Z",
     "iopub.status.busy": "2025-05-14T01:47:28.873201Z",
     "iopub.status.idle": "2025-05-14T01:47:33.636464Z",
     "shell.execute_reply": "2025-05-14T01:47:33.635332Z"
    },
    "papermill": {
     "duration": 4.770478,
     "end_time": "2025-05-14T01:47:33.638028",
     "exception": false,
     "start_time": "2025-05-14T01:47:28.867550",
     "status": "completed"
    },
    "tags": []
   },
   "outputs": [
    {
     "name": "stdout",
     "output_type": "stream",
     "text": [
      "IMPORT OK !!!!\n"
     ]
    }
   ],
   "source": [
    "import Bio\n",
    "\n",
    "from copy import deepcopy\n",
    "\n",
    "import pandas as pd\n",
    "from Bio.PDB import Atom, Model, Chain, Residue, Structure, PDBParser\n",
    "from Bio import SeqIO\n",
    "import os, sys\n",
    "import re\n",
    "import numpy as np\n",
    "import torch\n",
    "\n",
    "import matplotlib\n",
    "import matplotlib.pyplot as plt\n",
    "from tqdm import tqdm\n",
    "import time\n",
    "time0=time.time()\n",
    "from Bio import AlignIO\n",
    "print('IMPORT OK !!!!')"
   ]
  },
  {
   "cell_type": "code",
   "execution_count": 6,
   "id": "a6b12fe6",
   "metadata": {
    "execution": {
     "iopub.execute_input": "2025-05-14T01:47:33.649550Z",
     "iopub.status.busy": "2025-05-14T01:47:33.649109Z",
     "iopub.status.idle": "2025-05-14T01:47:33.776377Z",
     "shell.execute_reply": "2025-05-14T01:47:33.775324Z"
    },
    "papermill": {
     "duration": 0.135012,
     "end_time": "2025-05-14T01:47:33.778097",
     "exception": false,
     "start_time": "2025-05-14T01:47:33.643085",
     "status": "completed"
    },
    "tags": []
   },
   "outputs": [
    {
     "name": "stdout",
     "output_type": "stream",
     "text": [
      "PYTHON /usr/bin/python3\n",
      "HELPER OK!!!\n"
     ]
    }
   ],
   "source": [
    "PYTHON = sys.executable\n",
    "print('PYTHON',PYTHON)\n",
    "\n",
    "RHONET_DIR=\\\n",
    "'/kaggle/input/data-for-demo-for-rhofold-plus-with-kaggle-msa/RhoFold-main'\n",
    "#'<your downloaded rhofold repo>/RhoFold-main'\n",
    "\n",
    "USALIGN = \\\n",
    "'/kaggle/working//USalign'\n",
    "#'<your us align path>/USalign'\n",
    "\n",
    "os.system('cp /kaggle/input/usalign/USalign /kaggle/working/')\n",
    "os.system('sudo chmod u+x /kaggle/working//USalign')\n",
    "sys.path.append(RHONET_DIR)\n",
    "\n",
    "\n",
    "DATA_KAGGLE_DIR = '/kaggle/input/stanford-rna-3d-folding'\n",
    "\n",
    "\n",
    "# helper ----\n",
    "# 딕셔너리 <-> 키 매핑\n",
    "class dotdict(dict):\n",
    "\t__setattr__ = dict.__setitem__\n",
    "\t__delattr__ = dict.__delitem__\n",
    "\n",
    "\tdef __getattr__(self, name):\n",
    "\t\ttry:\n",
    "\t\t\treturn self[name]\n",
    "\t\texcept KeyError:\n",
    "\t\t\traise AttributeError(name)\n",
    "\n",
    "# visualisation helper ----\n",
    "def set_aspect_equal(ax):\n",
    "\tx_limits = ax.get_xlim()\n",
    "\ty_limits = ax.get_ylim()\n",
    "\tz_limits = ax.get_zlim()\n",
    "\n",
    "\t# Compute the mean of each axis\n",
    "\tx_middle = np.mean(x_limits)\n",
    "\ty_middle = np.mean(y_limits)\n",
    "\tz_middle = np.mean(z_limits)\n",
    "\n",
    "\t# Compute the max range across all axes\n",
    "\tmax_range = max(x_limits[1] - x_limits[0],\n",
    "\t\t\t\t\ty_limits[1] - y_limits[0],\n",
    "\t\t\t\t\tz_limits[1] - z_limits[0]) / 2.0\n",
    "\n",
    "\t# Set the new limits to ensure equal scaling\n",
    "\tax.set_xlim(x_middle - max_range, x_middle + max_range)\n",
    "\tax.set_ylim(y_middle - max_range, y_middle + max_range)\n",
    "\tax.set_zlim(z_middle - max_range, z_middle + max_range)\n",
    "\n",
    "\n",
    "\n",
    "\n",
    "# xyz df helper --------------------\n",
    "def get_truth_df(target_id):\n",
    "    truth_df = LABEL_DF[LABEL_DF['target_id'] == target_id]\n",
    "    truth_df = truth_df.reset_index(drop=True)\n",
    "    return truth_df\n",
    "\n",
    "def parse_output_to_df(output, seq, target_id):\n",
    "    df = []\n",
    "    chain_data = []\n",
    "    for i, res in enumerate(seq):\n",
    "        d=dict(ID = target_id,\n",
    "                    resname=res,\n",
    "                    resid=i+1)\n",
    "        for n in range(len(output)):\n",
    "            d={**d, f'x_{n+1}': round(output[n,i,0].item(),3),\n",
    "                     f'y_{n+1}': round(output[n,i,1].item(),3),\n",
    "                     f'z_{n+1}': round(output[n,i,2].item(),3)}\n",
    "        chain_data.append(d)\n",
    "\n",
    "    if len(chain_data)!=0:\n",
    "        chain_df = pd.DataFrame(chain_data)\n",
    "        df.append(chain_df)\n",
    "        ##print(chain_df)\n",
    "    return df\n",
    "\n",
    "def parse_pdb_to_df(pdb_file, target_id):\n",
    "    parser = PDBParser()\n",
    "    structure = parser.get_structure('', pdb_file)\n",
    "\n",
    "    df = []\n",
    "    for model in structure:\n",
    "        for chain in model:\n",
    "            print(chain)\n",
    "            chain_data = []\n",
    "            for residue in chain:\n",
    "                # print(residue)\n",
    "                if residue.get_resname() in ['A', 'U', 'G', 'C']:\n",
    "                    # Check if the residue has a C1' atom\n",
    "                    if 'C1\\'' in residue:\n",
    "                        atom = residue['C1\\'']\n",
    "                        xyz = atom.get_coord()\n",
    "                        resname = residue.get_resname()\n",
    "                        resid = residue.get_id()[1]\n",
    "\n",
    "                        #todo detect discontinous: resid = prev_resid+1\n",
    "                        #ID\tresname\tresid\tx_1\ty_1\tz_1\n",
    "                        chain_data.append(dict(\n",
    "                            ID = target_id+'_'+str(resid),\n",
    "                            resname=resname,\n",
    "                            resid=resid,\n",
    "                            x_1=xyz[0],\n",
    "                            y_1=xyz[1],\n",
    "                            z_1=xyz[2],\n",
    "                        ))\n",
    "                        ##print(f\"Residue {resname} {resid}, Atom: {atom.get_name()}, xyz: {xyz}\")\n",
    "\n",
    "            if len(chain_data)!=0:\n",
    "                chain_df = pd.DataFrame(chain_data)\n",
    "                df.append(chain_df)\n",
    "                ##print(chain_df)\n",
    "    return df\n",
    "\n",
    "# usalign helper --------------------\n",
    "def write_target_line(\n",
    "    atom_name, atom_serial, residue_name, chain_id, residue_num, x_coord, y_coord, z_coord, occupancy=1.0, b_factor=0.0, atom_type='P'\n",
    "):\n",
    "    \"\"\"\n",
    "    Writes a single line of PDB format based on provided atom information.\n",
    "\n",
    "    Args:\n",
    "        atom_name (str): Name of the atom (e.g., \"N\", \"CA\").\n",
    "        atom_serial (int): Atom serial number.\n",
    "        residue_name (str): Residue name (e.g., \"ALA\").\n",
    "        chain_id (str): Chain identifier.\n",
    "        residue_num (int): Residue number.\n",
    "        x_coord (float): X coordinate.\n",
    "        y_coord (float): Y coordinate.\n",
    "        z_coord (float): Z coordinate.\n",
    "        occupancy (float, optional): Occupancy value (default: 1.0).\n",
    "        b_factor (float, optional): B-factor value (default: 0.0).\n",
    "\n",
    "    Returns:\n",
    "        str: A single line of PDB string.\n",
    "    \"\"\"\n",
    "    return f'ATOM  {atom_serial:>5d}  {atom_name:<5s} {residue_name:<3s} {residue_num:>3d}    {x_coord:>8.3f}{y_coord:>8.3f}{z_coord:>8.3f}{occupancy:>6.2f}{b_factor:>6.2f}           {atom_type}\\n'\n",
    "\n",
    "def write_xyz_to_pdb(df, pdb_file, xyz_id = 1):\n",
    "    resolved_cnt = 0\n",
    "    with open(pdb_file, 'w') as target_file:\n",
    "        for _, row in df.iterrows():\n",
    "            x_coord = row[f'x_{xyz_id}']\n",
    "            y_coord = row[f'y_{xyz_id}']\n",
    "            z_coord = row[f'z_{xyz_id}']\n",
    "\n",
    "            if x_coord > -1e17 and y_coord > -1e17 and z_coord > -1e17:\n",
    "                resolved_cnt += 1\n",
    "                target_line = write_target_line(\n",
    "                    atom_name=\"C1'\",\n",
    "                    atom_serial=int(row['resid']),\n",
    "                    residue_name=row['resname'],\n",
    "                    chain_id='0',\n",
    "                    residue_num=int(row['resid']),\n",
    "                    x_coord=x_coord,\n",
    "                    y_coord=y_coord,\n",
    "                    z_coord=z_coord,\n",
    "                    atom_type='C',\n",
    "                )\n",
    "                target_file.write(target_line)\n",
    "    return resolved_cnt\n",
    "\n",
    "def parse_usalign_for_tm_score(output):\n",
    "    # Extract TM-score based on length of reference structure (second)\n",
    "    tm_score_match = re.findall(r'TM-score=\\s+([\\d.]+)', output)[1]\n",
    "    if not tm_score_match:\n",
    "        raise ValueError('No TM score found')\n",
    "    return float(tm_score_match)\n",
    "\n",
    "def parse_usalign_for_transform(output):\n",
    "    # Locate the rotation matrix section\n",
    "    matrix_lines = []\n",
    "    found_matrix = False\n",
    "\n",
    "    for line in output.splitlines():\n",
    "        if \"The rotation matrix to rotate Structure_1 to Structure_2\" in line:\n",
    "            found_matrix = True\n",
    "        elif found_matrix and re.match(r'^\\d+\\s+[-\\d.]+\\s+[-\\d.]+\\s+[-\\d.]+\\s+[-\\d.]+$', line):\n",
    "            matrix_lines.append(line)\n",
    "        elif found_matrix and not line.strip():\n",
    "            break  # Stop parsing if an empty line is encountered after the matrix\n",
    "\n",
    "    # Parse the rotation matrix values\n",
    "    rotation_matrix = []\n",
    "    for line in matrix_lines:\n",
    "        parts = line.split()\n",
    "        row_values = list(map(float, parts[1:]))  # Skip the first column (index)\n",
    "        rotation_matrix.append(row_values)\n",
    "\n",
    "    return np.array(rotation_matrix)\n",
    "\n",
    "def call_usalign(predict_df, truth_df, verbose=1):\n",
    "    truth_pdb = '~truth.pdb'\n",
    "    predict_pdb = '~predict.pdb'\n",
    "    write_xyz_to_pdb(predict_df, predict_pdb, xyz_id=1)\n",
    "    write_xyz_to_pdb(truth_df, truth_pdb, xyz_id=1)\n",
    "\n",
    "    command = f'{USALIGN} {predict_pdb} {truth_pdb} -atom \" C1\\'\" -m -'\n",
    "    output = os.popen(command).read()\n",
    "    if verbose==1:\n",
    "        print(output)\n",
    "    tm_score = parse_usalign_for_tm_score(output)\n",
    "    transform = parse_usalign_for_transform(output)\n",
    "    return tm_score, transform\n",
    "\n",
    "print('HELPER OK!!!')"
   ]
  },
  {
   "cell_type": "code",
   "execution_count": 7,
   "id": "bd804b7c",
   "metadata": {
    "execution": {
     "iopub.execute_input": "2025-05-14T01:47:33.789489Z",
     "iopub.status.busy": "2025-05-14T01:47:33.789190Z",
     "iopub.status.idle": "2025-05-14T01:47:39.596775Z",
     "shell.execute_reply": "2025-05-14T01:47:39.595965Z"
    },
    "papermill": {
     "duration": 5.815258,
     "end_time": "2025-05-14T01:47:39.598615",
     "exception": false,
     "start_time": "2025-05-14T01:47:33.783357",
     "status": "completed"
    },
    "tags": []
   },
   "outputs": [],
   "source": [
    "if MODEL_TYPE=='protenix':\n",
    "    \n",
    "    \n",
    "    from runner.batch_inference import get_default_runner\n",
    "    from runner.inference import update_inference_configs, InferenceRunner\n",
    "\n",
    "    from protenix.data.infer_data_pipeline import InferenceDataset\n",
    "\n",
    "    np.random.seed(0)\n",
    "    torch.random.manual_seed(0)\n",
    "    torch.cuda.manual_seed_all(0)\n",
    "\n",
    "class DictDataset(InferenceDataset):\n",
    "    def __init__(\n",
    "        self,\n",
    "        seq_list: list,\n",
    "        dump_dir: str,\n",
    "        id_list: list = None,\n",
    "        msa_root_1: str = \"/kaggle/input/stanford-rna-3d-folding/MSA\",\n",
    "        msa_root_2: str = \"/kaggle/input/stanford-rna-3d-folding/MSA_v2\",\n",
    "    ) -> None:\n",
    "        self.dump_dir = dump_dir\n",
    "        self.msa_roots = [msa_root_2, msa_root_1]  # 우선순위: v2 > v1\n",
    "\n",
    "        if isinstance(id_list, type(None)):\n",
    "            self.inputs = [{\"sequences\": [{\"rnaSequence\": {\"sequence\": seq, \"count\": 1}}], \"name\": \"query\"}\n",
    "                           for seq in seq_list]\n",
    "        else:\n",
    "            self.inputs = [{\"sequences\": [{\"rnaSequence\": {\"sequence\": seq, \"count\": 1}}], \"name\": i}\n",
    "                           for i, seq in zip(id_list, seq_list)]\n",
    "\n",
    "    def __getitem__(self, index):\n",
    "        data, atom_array, error_msg = super().__getitem__(index)\n",
    "        target_id = self.inputs[index][\"name\"]\n",
    "\n",
    "        # MSA 파일 탐색\n",
    "        msa_tensor = None\n",
    "        for root in self.msa_roots:\n",
    "            msa_path = os.path.join(root, f\"{target_id}.MSA.fasta\")\n",
    "            if os.path.exists(msa_path):\n",
    "                try:\n",
    "                    msa_tensor = self.load_msa_fasta(msa_path)\n",
    "                    print(f\"✅ Loaded MSA for {target_id} from {root} | shape={msa_tensor.shape}\")\n",
    "                    break\n",
    "                except Exception as e:\n",
    "                    print(f\"⚠️ Error loading MSA for {target_id}: {e}\")\n",
    "\n",
    "        if msa_tensor is not None:\n",
    "            if \"input_feature_dict\" not in data:\n",
    "                data[\"input_feature_dict\"] = {}  # ← 이 줄 추가!\n",
    "            data[\"input_feature_dict\"][\"msa_feat\"] = msa_tensor\n",
    "            print(f\"✅ Loaded MSA for {target_id} from {root} | shape={msa_tensor.shape}\")\n",
    "\n",
    "        else:\n",
    "            print(f\"❌ No MSA found for {target_id}\")\n",
    "\n",
    "        return data, atom_array, error_msg\n",
    "\n",
    "    def load_msa_fasta(self, msa_path):\n",
    "        alignment = AlignIO.read(msa_path, \"fasta\")\n",
    "        alignment = alignment[:64]  # optional limit\n",
    "        L = len(alignment[0])\n",
    "        N = len(alignment)\n",
    "        msa_tensor = torch.zeros((N, L), dtype=torch.long)\n",
    "\n",
    "        for i, record in enumerate(alignment):\n",
    "            msa_tensor[i] = torch.tensor([\n",
    "                ord(residue) if residue != '-' else 0  # gap은 0으로 처리\n",
    "                for residue in record.seq\n",
    "            ])\n",
    "        return msa_tensor"
   ]
  },
  {
   "cell_type": "code",
   "execution_count": 8,
   "id": "463b1e40",
   "metadata": {
    "execution": {
     "iopub.execute_input": "2025-05-14T01:47:39.610230Z",
     "iopub.status.busy": "2025-05-14T01:47:39.609572Z",
     "iopub.status.idle": "2025-05-14T01:47:56.260397Z",
     "shell.execute_reply": "2025-05-14T01:47:56.259338Z"
    },
    "papermill": {
     "duration": 16.65897,
     "end_time": "2025-05-14T01:47:56.262773",
     "exception": false,
     "start_time": "2025-05-14T01:47:39.603803",
     "status": "completed"
    },
    "tags": []
   },
   "outputs": [
    {
     "name": "stdout",
     "output_type": "stream",
     "text": [
      "train scheduler 16.0\n",
      "inference scheduler 16.0\n",
      "Diffusion Module has 16.0\n"
     ]
    },
    {
     "name": "stderr",
     "output_type": "stream",
     "text": [
      "/usr/local/lib/python3.10/dist-packages/runner/inference.py:107: FutureWarning: You are using `torch.load` with `weights_only=False` (the current default value), which uses the default pickle module implicitly. It is possible to construct malicious pickle data which will execute arbitrary code during unpickling (See https://github.com/pytorch/pytorch/blob/main/SECURITY.md#untrusted-models for more details). In a future release, the default value for `weights_only` will be flipped to `True`. This limits the functions that could be executed during unpickling. Arbitrary objects will no longer be allowed to be loaded via this mode unless they are explicitly allowlisted by the user via `torch.serialization.add_safe_globals`. We recommend you start setting `weights_only=True` for any use case where you don't have full control of the loaded file. Please open an issue on GitHub for any issues related to this experimental feature.\n",
      "  checkpoint = torch.load(checkpoint_path, self.device)\n"
     ]
    },
    {
     "name": "stdout",
     "output_type": "stream",
     "text": [
      "<class 'protenix.model.protenix.Protenix'>\n",
      "Protenix(\n",
      "  (input_embedder): InputFeatureEmbedder(\n",
      "    (atom_attention_encoder): AtomAttentionEncoder(\n",
      "      (linear_no_bias_f): Linear(in_features=389, out_features=128, bias=False)\n",
      "      (linear_no_bias_d): Linear(in_features=3, out_features=16, bias=False)\n",
      "      (linear_no_bias_invd): Linear(in_features=1, out_features=16, bias=False)\n",
      "      (linear_no_bias_v): Linear(in_features=1, out_features=16, bias=False)\n",
      "      (linear_no_bias_cl): Linear(in_features=128, out_features=16, bias=False)\n",
      "      (linear_no_bias_cm): Linear(in_features=128, out_features=16, bias=False)\n",
      "      (small_mlp): Sequential(\n",
      "        (0): ReLU()\n",
      "        (1): Linear(in_features=16, out_features=16, bias=False)\n",
      "        (2): ReLU()\n",
      "        (3): Linear(in_features=16, out_features=16, bias=False)\n",
      "        (4): ReLU()\n",
      "        (5): Linear(in_features=16, out_features=16, bias=False)\n",
      "      )\n",
      "      (atom_transformer): AtomTransformer(\n",
      "        (diffusion_transformer): DiffusionTransformer(\n",
      "          (blocks): ModuleList(\n",
      "            (0-2): 3 x DiffusionTransformerBlock(\n",
      "              (attention_pair_bias): AttentionPairBias(\n",
      "                (layernorm_a): AdaptiveLayerNorm(\n",
      "                  (layernorm_a): LayerNorm((128,), eps=1e-05, elementwise_affine=False)\n",
      "                  (layernorm_s): LayerNorm((128,), eps=1e-05, elementwise_affine=True)\n",
      "                  (linear_s): Linear(in_features=128, out_features=128, bias=True)\n",
      "                  (linear_nobias_s): Linear(in_features=128, out_features=128, bias=False)\n",
      "                )\n",
      "                (linear_a_last): BiasInitLinear(in_features=128, out_features=128, bias=True)\n",
      "                (attention): Attention(\n",
      "                  (linear_q): Linear(in_features=128, out_features=128, bias=True)\n",
      "                  (linear_k): Linear(in_features=128, out_features=128, bias=False)\n",
      "                  (linear_v): Linear(in_features=128, out_features=128, bias=False)\n",
      "                  (linear_o): Linear(in_features=128, out_features=128, bias=False)\n",
      "                  (linear_g): Linear(in_features=128, out_features=128, bias=False)\n",
      "                  (sigmoid): Sigmoid()\n",
      "                )\n",
      "                (layernorm_z): OpenFoldLayerNorm()\n",
      "                (linear_nobias_z): Linear(in_features=16, out_features=4, bias=False)\n",
      "              )\n",
      "              (conditioned_transition_block): ConditionedTransitionBlock(\n",
      "                (adaln): AdaptiveLayerNorm(\n",
      "                  (layernorm_a): LayerNorm((128,), eps=1e-05, elementwise_affine=False)\n",
      "                  (layernorm_s): LayerNorm((128,), eps=1e-05, elementwise_affine=True)\n",
      "                  (linear_s): Linear(in_features=128, out_features=128, bias=True)\n",
      "                  (linear_nobias_s): Linear(in_features=128, out_features=128, bias=False)\n",
      "                )\n",
      "                (linear_nobias_a1): Linear(in_features=128, out_features=256, bias=False)\n",
      "                (linear_nobias_a2): Linear(in_features=128, out_features=256, bias=False)\n",
      "                (linear_nobias_b): Linear(in_features=256, out_features=128, bias=False)\n",
      "                (linear_s): BiasInitLinear(in_features=128, out_features=128, bias=True)\n",
      "              )\n",
      "            )\n",
      "          )\n",
      "        )\n",
      "      )\n",
      "      (linear_no_bias_q): Linear(in_features=128, out_features=384, bias=False)\n",
      "    )\n",
      "  )\n",
      "  (relative_position_encoding): RelativePositionEncoding(\n",
      "    (linear_no_bias): Linear(in_features=139, out_features=128, bias=False)\n",
      "  )\n",
      "  (template_embedder): TemplateEmbedder(\n",
      "    (linear_no_bias_z): Linear(in_features=128, out_features=64, bias=False)\n",
      "    (layernorm_z): OpenFoldLayerNorm()\n",
      "    (linear_no_bias_a): Linear(in_features=108, out_features=64, bias=False)\n",
      "    (pairformer_stack): PairformerStack(\n",
      "      (blocks): ModuleList()\n",
      "    )\n",
      "    (layernorm_v): OpenFoldLayerNorm()\n",
      "    (linear_no_bias_u): Linear(in_features=64, out_features=128, bias=False)\n",
      "  )\n",
      "  (msa_module): MSAModule(\n",
      "    (linear_no_bias_m): Linear(in_features=34, out_features=64, bias=False)\n",
      "    (linear_no_bias_s): Linear(in_features=449, out_features=64, bias=False)\n",
      "    (blocks): ModuleList(\n",
      "      (0-2): 3 x MSABlock(\n",
      "        (outer_product_mean_msa): OuterProductMean(\n",
      "          (layer_norm): LayerNorm((64,), eps=1e-05, elementwise_affine=True)\n",
      "          (linear_1): Linear(in_features=64, out_features=32, bias=True)\n",
      "          (linear_2): Linear(in_features=64, out_features=32, bias=True)\n",
      "          (linear_out): Linear(in_features=1024, out_features=128, bias=True)\n",
      "        )\n",
      "        (msa_stack): MSAStack(\n",
      "          (msa_pair_weighted_averaging): MSAPairWeightedAveraging(\n",
      "            (layernorm_m): OpenFoldLayerNorm()\n",
      "            (linear_no_bias_mv): Linear(in_features=64, out_features=64, bias=False)\n",
      "            (layernorm_z): OpenFoldLayerNorm()\n",
      "            (linear_no_bias_z): Linear(in_features=128, out_features=8, bias=False)\n",
      "            (linear_no_bias_mg): Linear(in_features=64, out_features=64, bias=False)\n",
      "            (softmax_w): Softmax(dim=-2)\n",
      "            (linear_no_bias_out): Linear(in_features=64, out_features=64, bias=False)\n",
      "          )\n",
      "          (dropout_row): DropoutRowwise(\n",
      "            (dropout): Dropout(p=0.15, inplace=False)\n",
      "          )\n",
      "          (transition_m): Transition(\n",
      "            (layernorm1): OpenFoldLayerNorm()\n",
      "            (linear_no_bias_a): Linear(in_features=64, out_features=256, bias=False)\n",
      "            (linear_no_bias_b): Linear(in_features=64, out_features=256, bias=False)\n",
      "            (linear_no_bias): Linear(in_features=256, out_features=64, bias=False)\n",
      "          )\n",
      "        )\n",
      "        (pair_stack): PairformerBlock(\n",
      "          (tri_mul_out): TriangleMultiplicationOutgoing(\n",
      "            (linear_g): Linear(in_features=128, out_features=128, bias=True)\n",
      "            (linear_z): Linear(in_features=128, out_features=128, bias=True)\n",
      "            (layer_norm_in): OpenFoldLayerNorm()\n",
      "            (layer_norm_out): OpenFoldLayerNorm()\n",
      "            (sigmoid): Sigmoid()\n",
      "            (linear_a_p): Linear(in_features=128, out_features=128, bias=True)\n",
      "            (linear_a_g): Linear(in_features=128, out_features=128, bias=True)\n",
      "            (linear_b_p): Linear(in_features=128, out_features=128, bias=True)\n",
      "            (linear_b_g): Linear(in_features=128, out_features=128, bias=True)\n",
      "          )\n",
      "          (tri_mul_in): TriangleMultiplicationIncoming(\n",
      "            (linear_g): Linear(in_features=128, out_features=128, bias=True)\n",
      "            (linear_z): Linear(in_features=128, out_features=128, bias=True)\n",
      "            (layer_norm_in): OpenFoldLayerNorm()\n",
      "            (layer_norm_out): OpenFoldLayerNorm()\n",
      "            (sigmoid): Sigmoid()\n",
      "            (linear_a_p): Linear(in_features=128, out_features=128, bias=True)\n",
      "            (linear_a_g): Linear(in_features=128, out_features=128, bias=True)\n",
      "            (linear_b_p): Linear(in_features=128, out_features=128, bias=True)\n",
      "            (linear_b_g): Linear(in_features=128, out_features=128, bias=True)\n",
      "          )\n",
      "          (tri_att_start): TriangleAttention(\n",
      "            (layer_norm): OpenFoldLayerNorm()\n",
      "            (linear): Linear(in_features=128, out_features=4, bias=False)\n",
      "            (mha): Attention(\n",
      "              (linear_q): Linear(in_features=128, out_features=128, bias=False)\n",
      "              (linear_k): Linear(in_features=128, out_features=128, bias=False)\n",
      "              (linear_v): Linear(in_features=128, out_features=128, bias=False)\n",
      "              (linear_o): Linear(in_features=128, out_features=128, bias=True)\n",
      "              (linear_g): Linear(in_features=128, out_features=128, bias=True)\n",
      "              (sigmoid): Sigmoid()\n",
      "            )\n",
      "          )\n",
      "          (tri_att_end): TriangleAttention(\n",
      "            (layer_norm): OpenFoldLayerNorm()\n",
      "            (linear): Linear(in_features=128, out_features=4, bias=False)\n",
      "            (mha): Attention(\n",
      "              (linear_q): Linear(in_features=128, out_features=128, bias=False)\n",
      "              (linear_k): Linear(in_features=128, out_features=128, bias=False)\n",
      "              (linear_v): Linear(in_features=128, out_features=128, bias=False)\n",
      "              (linear_o): Linear(in_features=128, out_features=128, bias=True)\n",
      "              (linear_g): Linear(in_features=128, out_features=128, bias=True)\n",
      "              (sigmoid): Sigmoid()\n",
      "            )\n",
      "          )\n",
      "          (dropout_row): DropoutRowwise(\n",
      "            (dropout): Dropout(p=0.25, inplace=False)\n",
      "          )\n",
      "          (pair_transition): Transition(\n",
      "            (layernorm1): OpenFoldLayerNorm()\n",
      "            (linear_no_bias_a): Linear(in_features=128, out_features=512, bias=False)\n",
      "            (linear_no_bias_b): Linear(in_features=128, out_features=512, bias=False)\n",
      "            (linear_no_bias): Linear(in_features=512, out_features=128, bias=False)\n",
      "          )\n",
      "        )\n",
      "      )\n",
      "      (3): MSABlock(\n",
      "        (outer_product_mean_msa): OuterProductMean(\n",
      "          (layer_norm): LayerNorm((64,), eps=1e-05, elementwise_affine=True)\n",
      "          (linear_1): Linear(in_features=64, out_features=32, bias=True)\n",
      "          (linear_2): Linear(in_features=64, out_features=32, bias=True)\n",
      "          (linear_out): Linear(in_features=1024, out_features=128, bias=True)\n",
      "        )\n",
      "        (pair_stack): PairformerBlock(\n",
      "          (tri_mul_out): TriangleMultiplicationOutgoing(\n",
      "            (linear_g): Linear(in_features=128, out_features=128, bias=True)\n",
      "            (linear_z): Linear(in_features=128, out_features=128, bias=True)\n",
      "            (layer_norm_in): OpenFoldLayerNorm()\n",
      "            (layer_norm_out): OpenFoldLayerNorm()\n",
      "            (sigmoid): Sigmoid()\n",
      "            (linear_a_p): Linear(in_features=128, out_features=128, bias=True)\n",
      "            (linear_a_g): Linear(in_features=128, out_features=128, bias=True)\n",
      "            (linear_b_p): Linear(in_features=128, out_features=128, bias=True)\n",
      "            (linear_b_g): Linear(in_features=128, out_features=128, bias=True)\n",
      "          )\n",
      "          (tri_mul_in): TriangleMultiplicationIncoming(\n",
      "            (linear_g): Linear(in_features=128, out_features=128, bias=True)\n",
      "            (linear_z): Linear(in_features=128, out_features=128, bias=True)\n",
      "            (layer_norm_in): OpenFoldLayerNorm()\n",
      "            (layer_norm_out): OpenFoldLayerNorm()\n",
      "            (sigmoid): Sigmoid()\n",
      "            (linear_a_p): Linear(in_features=128, out_features=128, bias=True)\n",
      "            (linear_a_g): Linear(in_features=128, out_features=128, bias=True)\n",
      "            (linear_b_p): Linear(in_features=128, out_features=128, bias=True)\n",
      "            (linear_b_g): Linear(in_features=128, out_features=128, bias=True)\n",
      "          )\n",
      "          (tri_att_start): TriangleAttention(\n",
      "            (layer_norm): OpenFoldLayerNorm()\n",
      "            (linear): Linear(in_features=128, out_features=4, bias=False)\n",
      "            (mha): Attention(\n",
      "              (linear_q): Linear(in_features=128, out_features=128, bias=False)\n",
      "              (linear_k): Linear(in_features=128, out_features=128, bias=False)\n",
      "              (linear_v): Linear(in_features=128, out_features=128, bias=False)\n",
      "              (linear_o): Linear(in_features=128, out_features=128, bias=True)\n",
      "              (linear_g): Linear(in_features=128, out_features=128, bias=True)\n",
      "              (sigmoid): Sigmoid()\n",
      "            )\n",
      "          )\n",
      "          (tri_att_end): TriangleAttention(\n",
      "            (layer_norm): OpenFoldLayerNorm()\n",
      "            (linear): Linear(in_features=128, out_features=4, bias=False)\n",
      "            (mha): Attention(\n",
      "              (linear_q): Linear(in_features=128, out_features=128, bias=False)\n",
      "              (linear_k): Linear(in_features=128, out_features=128, bias=False)\n",
      "              (linear_v): Linear(in_features=128, out_features=128, bias=False)\n",
      "              (linear_o): Linear(in_features=128, out_features=128, bias=True)\n",
      "              (linear_g): Linear(in_features=128, out_features=128, bias=True)\n",
      "              (sigmoid): Sigmoid()\n",
      "            )\n",
      "          )\n",
      "          (dropout_row): DropoutRowwise(\n",
      "            (dropout): Dropout(p=0.25, inplace=False)\n",
      "          )\n",
      "          (pair_transition): Transition(\n",
      "            (layernorm1): OpenFoldLayerNorm()\n",
      "            (linear_no_bias_a): Linear(in_features=128, out_features=512, bias=False)\n",
      "            (linear_no_bias_b): Linear(in_features=128, out_features=512, bias=False)\n",
      "            (linear_no_bias): Linear(in_features=512, out_features=128, bias=False)\n",
      "          )\n",
      "        )\n",
      "      )\n",
      "    )\n",
      "  )\n",
      "  (pairformer_stack): PairformerStack(\n",
      "    (blocks): ModuleList(\n",
      "      (0-47): 48 x PairformerBlock(\n",
      "        (tri_mul_out): TriangleMultiplicationOutgoing(\n",
      "          (linear_g): Linear(in_features=128, out_features=128, bias=True)\n",
      "          (linear_z): Linear(in_features=128, out_features=128, bias=True)\n",
      "          (layer_norm_in): OpenFoldLayerNorm()\n",
      "          (layer_norm_out): OpenFoldLayerNorm()\n",
      "          (sigmoid): Sigmoid()\n",
      "          (linear_a_p): Linear(in_features=128, out_features=128, bias=True)\n",
      "          (linear_a_g): Linear(in_features=128, out_features=128, bias=True)\n",
      "          (linear_b_p): Linear(in_features=128, out_features=128, bias=True)\n",
      "          (linear_b_g): Linear(in_features=128, out_features=128, bias=True)\n",
      "        )\n",
      "        (tri_mul_in): TriangleMultiplicationIncoming(\n",
      "          (linear_g): Linear(in_features=128, out_features=128, bias=True)\n",
      "          (linear_z): Linear(in_features=128, out_features=128, bias=True)\n",
      "          (layer_norm_in): OpenFoldLayerNorm()\n",
      "          (layer_norm_out): OpenFoldLayerNorm()\n",
      "          (sigmoid): Sigmoid()\n",
      "          (linear_a_p): Linear(in_features=128, out_features=128, bias=True)\n",
      "          (linear_a_g): Linear(in_features=128, out_features=128, bias=True)\n",
      "          (linear_b_p): Linear(in_features=128, out_features=128, bias=True)\n",
      "          (linear_b_g): Linear(in_features=128, out_features=128, bias=True)\n",
      "        )\n",
      "        (tri_att_start): TriangleAttention(\n",
      "          (layer_norm): OpenFoldLayerNorm()\n",
      "          (linear): Linear(in_features=128, out_features=4, bias=False)\n",
      "          (mha): Attention(\n",
      "            (linear_q): Linear(in_features=128, out_features=128, bias=False)\n",
      "            (linear_k): Linear(in_features=128, out_features=128, bias=False)\n",
      "            (linear_v): Linear(in_features=128, out_features=128, bias=False)\n",
      "            (linear_o): Linear(in_features=128, out_features=128, bias=True)\n",
      "            (linear_g): Linear(in_features=128, out_features=128, bias=True)\n",
      "            (sigmoid): Sigmoid()\n",
      "          )\n",
      "        )\n",
      "        (tri_att_end): TriangleAttention(\n",
      "          (layer_norm): OpenFoldLayerNorm()\n",
      "          (linear): Linear(in_features=128, out_features=4, bias=False)\n",
      "          (mha): Attention(\n",
      "            (linear_q): Linear(in_features=128, out_features=128, bias=False)\n",
      "            (linear_k): Linear(in_features=128, out_features=128, bias=False)\n",
      "            (linear_v): Linear(in_features=128, out_features=128, bias=False)\n",
      "            (linear_o): Linear(in_features=128, out_features=128, bias=True)\n",
      "            (linear_g): Linear(in_features=128, out_features=128, bias=True)\n",
      "            (sigmoid): Sigmoid()\n",
      "          )\n",
      "        )\n",
      "        (dropout_row): DropoutRowwise(\n",
      "          (dropout): Dropout(p=0.25, inplace=False)\n",
      "        )\n",
      "        (pair_transition): Transition(\n",
      "          (layernorm1): OpenFoldLayerNorm()\n",
      "          (linear_no_bias_a): Linear(in_features=128, out_features=512, bias=False)\n",
      "          (linear_no_bias_b): Linear(in_features=128, out_features=512, bias=False)\n",
      "          (linear_no_bias): Linear(in_features=512, out_features=128, bias=False)\n",
      "        )\n",
      "        (attention_pair_bias): AttentionPairBias(\n",
      "          (layernorm_a): OpenFoldLayerNorm()\n",
      "          (attention): Attention(\n",
      "            (linear_q): Linear(in_features=384, out_features=384, bias=True)\n",
      "            (linear_k): Linear(in_features=384, out_features=384, bias=False)\n",
      "            (linear_v): Linear(in_features=384, out_features=384, bias=False)\n",
      "            (linear_o): Linear(in_features=384, out_features=384, bias=False)\n",
      "            (linear_g): Linear(in_features=384, out_features=384, bias=False)\n",
      "            (sigmoid): Sigmoid()\n",
      "          )\n",
      "          (layernorm_z): OpenFoldLayerNorm()\n",
      "          (linear_nobias_z): Linear(in_features=128, out_features=16, bias=False)\n",
      "        )\n",
      "        (single_transition): Transition(\n",
      "          (layernorm1): OpenFoldLayerNorm()\n",
      "          (linear_no_bias_a): Linear(in_features=384, out_features=1536, bias=False)\n",
      "          (linear_no_bias_b): Linear(in_features=384, out_features=1536, bias=False)\n",
      "          (linear_no_bias): Linear(in_features=1536, out_features=384, bias=False)\n",
      "        )\n",
      "      )\n",
      "    )\n",
      "  )\n",
      "  (diffusion_module): DiffusionModule(\n",
      "    (diffusion_conditioning): DiffusionConditioning(\n",
      "      (relpe): RelativePositionEncoding(\n",
      "        (linear_no_bias): Linear(in_features=139, out_features=128, bias=False)\n",
      "      )\n",
      "      (layernorm_z): OpenFoldLayerNorm()\n",
      "      (linear_no_bias_z): Linear(in_features=256, out_features=128, bias=False)\n",
      "      (transition_z1): Transition(\n",
      "        (layernorm1): OpenFoldLayerNorm()\n",
      "        (linear_no_bias_a): Linear(in_features=128, out_features=256, bias=False)\n",
      "        (linear_no_bias_b): Linear(in_features=128, out_features=256, bias=False)\n",
      "        (linear_no_bias): Linear(in_features=256, out_features=128, bias=False)\n",
      "      )\n",
      "      (transition_z2): Transition(\n",
      "        (layernorm1): OpenFoldLayerNorm()\n",
      "        (linear_no_bias_a): Linear(in_features=128, out_features=256, bias=False)\n",
      "        (linear_no_bias_b): Linear(in_features=128, out_features=256, bias=False)\n",
      "        (linear_no_bias): Linear(in_features=256, out_features=128, bias=False)\n",
      "      )\n",
      "      (layernorm_s): OpenFoldLayerNorm()\n",
      "      (linear_no_bias_s): Linear(in_features=833, out_features=384, bias=False)\n",
      "      (fourier_embedding): FourierEmbedding()\n",
      "      (layernorm_n): OpenFoldLayerNorm()\n",
      "      (linear_no_bias_n): Linear(in_features=256, out_features=384, bias=False)\n",
      "      (transition_s1): Transition(\n",
      "        (layernorm1): OpenFoldLayerNorm()\n",
      "        (linear_no_bias_a): Linear(in_features=384, out_features=768, bias=False)\n",
      "        (linear_no_bias_b): Linear(in_features=384, out_features=768, bias=False)\n",
      "        (linear_no_bias): Linear(in_features=768, out_features=384, bias=False)\n",
      "      )\n",
      "      (transition_s2): Transition(\n",
      "        (layernorm1): OpenFoldLayerNorm()\n",
      "        (linear_no_bias_a): Linear(in_features=384, out_features=768, bias=False)\n",
      "        (linear_no_bias_b): Linear(in_features=384, out_features=768, bias=False)\n",
      "        (linear_no_bias): Linear(in_features=768, out_features=384, bias=False)\n",
      "      )\n",
      "    )\n",
      "    (atom_attention_encoder): AtomAttentionEncoder(\n",
      "      (linear_no_bias_f): Linear(in_features=389, out_features=128, bias=False)\n",
      "      (linear_no_bias_d): Linear(in_features=3, out_features=16, bias=False)\n",
      "      (linear_no_bias_invd): Linear(in_features=1, out_features=16, bias=False)\n",
      "      (linear_no_bias_v): Linear(in_features=1, out_features=16, bias=False)\n",
      "      (layernorm_s): OpenFoldLayerNorm()\n",
      "      (linear_no_bias_s): Linear(in_features=384, out_features=128, bias=False)\n",
      "      (layernorm_z): OpenFoldLayerNorm()\n",
      "      (linear_no_bias_z): Linear(in_features=128, out_features=16, bias=False)\n",
      "      (linear_no_bias_r): Linear(in_features=3, out_features=128, bias=False)\n",
      "      (linear_no_bias_cl): Linear(in_features=128, out_features=16, bias=False)\n",
      "      (linear_no_bias_cm): Linear(in_features=128, out_features=16, bias=False)\n",
      "      (small_mlp): Sequential(\n",
      "        (0): ReLU()\n",
      "        (1): Linear(in_features=16, out_features=16, bias=False)\n",
      "        (2): ReLU()\n",
      "        (3): Linear(in_features=16, out_features=16, bias=False)\n",
      "        (4): ReLU()\n",
      "        (5): Linear(in_features=16, out_features=16, bias=False)\n",
      "      )\n",
      "      (atom_transformer): AtomTransformer(\n",
      "        (diffusion_transformer): DiffusionTransformer(\n",
      "          (blocks): ModuleList(\n",
      "            (0-2): 3 x DiffusionTransformerBlock(\n",
      "              (attention_pair_bias): AttentionPairBias(\n",
      "                (layernorm_a): AdaptiveLayerNorm(\n",
      "                  (layernorm_a): LayerNorm((128,), eps=1e-05, elementwise_affine=False)\n",
      "                  (layernorm_s): LayerNorm((128,), eps=1e-05, elementwise_affine=True)\n",
      "                  (linear_s): Linear(in_features=128, out_features=128, bias=True)\n",
      "                  (linear_nobias_s): Linear(in_features=128, out_features=128, bias=False)\n",
      "                )\n",
      "                (linear_a_last): BiasInitLinear(in_features=128, out_features=128, bias=True)\n",
      "                (attention): Attention(\n",
      "                  (linear_q): Linear(in_features=128, out_features=128, bias=True)\n",
      "                  (linear_k): Linear(in_features=128, out_features=128, bias=False)\n",
      "                  (linear_v): Linear(in_features=128, out_features=128, bias=False)\n",
      "                  (linear_o): Linear(in_features=128, out_features=128, bias=False)\n",
      "                  (linear_g): Linear(in_features=128, out_features=128, bias=False)\n",
      "                  (sigmoid): Sigmoid()\n",
      "                )\n",
      "                (layernorm_z): OpenFoldLayerNorm()\n",
      "                (linear_nobias_z): Linear(in_features=16, out_features=4, bias=False)\n",
      "              )\n",
      "              (conditioned_transition_block): ConditionedTransitionBlock(\n",
      "                (adaln): AdaptiveLayerNorm(\n",
      "                  (layernorm_a): LayerNorm((128,), eps=1e-05, elementwise_affine=False)\n",
      "                  (layernorm_s): LayerNorm((128,), eps=1e-05, elementwise_affine=True)\n",
      "                  (linear_s): Linear(in_features=128, out_features=128, bias=True)\n",
      "                  (linear_nobias_s): Linear(in_features=128, out_features=128, bias=False)\n",
      "                )\n",
      "                (linear_nobias_a1): Linear(in_features=128, out_features=256, bias=False)\n",
      "                (linear_nobias_a2): Linear(in_features=128, out_features=256, bias=False)\n",
      "                (linear_nobias_b): Linear(in_features=256, out_features=128, bias=False)\n",
      "                (linear_s): BiasInitLinear(in_features=128, out_features=128, bias=True)\n",
      "              )\n",
      "            )\n",
      "          )\n",
      "        )\n",
      "      )\n",
      "      (linear_no_bias_q): Linear(in_features=128, out_features=768, bias=False)\n",
      "    )\n",
      "    (layernorm_s): OpenFoldLayerNorm()\n",
      "    (linear_no_bias_s): Linear(in_features=384, out_features=768, bias=False)\n",
      "    (diffusion_transformer): DiffusionTransformer(\n",
      "      (blocks): ModuleList(\n",
      "        (0-23): 24 x DiffusionTransformerBlock(\n",
      "          (attention_pair_bias): AttentionPairBias(\n",
      "            (layernorm_a): AdaptiveLayerNorm(\n",
      "              (layernorm_a): LayerNorm((768,), eps=1e-05, elementwise_affine=False)\n",
      "              (layernorm_s): LayerNorm((384,), eps=1e-05, elementwise_affine=True)\n",
      "              (linear_s): Linear(in_features=384, out_features=768, bias=True)\n",
      "              (linear_nobias_s): Linear(in_features=384, out_features=768, bias=False)\n",
      "            )\n",
      "            (linear_a_last): BiasInitLinear(in_features=384, out_features=768, bias=True)\n",
      "            (attention): Attention(\n",
      "              (linear_q): Linear(in_features=768, out_features=768, bias=True)\n",
      "              (linear_k): Linear(in_features=768, out_features=768, bias=False)\n",
      "              (linear_v): Linear(in_features=768, out_features=768, bias=False)\n",
      "              (linear_o): Linear(in_features=768, out_features=768, bias=False)\n",
      "              (linear_g): Linear(in_features=768, out_features=768, bias=False)\n",
      "              (sigmoid): Sigmoid()\n",
      "            )\n",
      "            (layernorm_z): OpenFoldLayerNorm()\n",
      "            (linear_nobias_z): Linear(in_features=128, out_features=16, bias=False)\n",
      "          )\n",
      "          (conditioned_transition_block): ConditionedTransitionBlock(\n",
      "            (adaln): AdaptiveLayerNorm(\n",
      "              (layernorm_a): LayerNorm((768,), eps=1e-05, elementwise_affine=False)\n",
      "              (layernorm_s): LayerNorm((384,), eps=1e-05, elementwise_affine=True)\n",
      "              (linear_s): Linear(in_features=384, out_features=768, bias=True)\n",
      "              (linear_nobias_s): Linear(in_features=384, out_features=768, bias=False)\n",
      "            )\n",
      "            (linear_nobias_a1): Linear(in_features=768, out_features=1536, bias=False)\n",
      "            (linear_nobias_a2): Linear(in_features=768, out_features=1536, bias=False)\n",
      "            (linear_nobias_b): Linear(in_features=1536, out_features=768, bias=False)\n",
      "            (linear_s): BiasInitLinear(in_features=384, out_features=768, bias=True)\n",
      "          )\n",
      "        )\n",
      "      )\n",
      "    )\n",
      "    (layernorm_a): OpenFoldLayerNorm()\n",
      "    (atom_attention_decoder): AtomAttentionDecoder(\n",
      "      (linear_no_bias_a): Linear(in_features=768, out_features=128, bias=False)\n",
      "      (layernorm_q): OpenFoldLayerNorm()\n",
      "      (linear_no_bias_out): Linear(in_features=128, out_features=3, bias=False)\n",
      "      (atom_transformer): AtomTransformer(\n",
      "        (diffusion_transformer): DiffusionTransformer(\n",
      "          (blocks): ModuleList(\n",
      "            (0-2): 3 x DiffusionTransformerBlock(\n",
      "              (attention_pair_bias): AttentionPairBias(\n",
      "                (layernorm_a): AdaptiveLayerNorm(\n",
      "                  (layernorm_a): LayerNorm((128,), eps=1e-05, elementwise_affine=False)\n",
      "                  (layernorm_s): LayerNorm((128,), eps=1e-05, elementwise_affine=True)\n",
      "                  (linear_s): Linear(in_features=128, out_features=128, bias=True)\n",
      "                  (linear_nobias_s): Linear(in_features=128, out_features=128, bias=False)\n",
      "                )\n",
      "                (linear_a_last): BiasInitLinear(in_features=128, out_features=128, bias=True)\n",
      "                (attention): Attention(\n",
      "                  (linear_q): Linear(in_features=128, out_features=128, bias=True)\n",
      "                  (linear_k): Linear(in_features=128, out_features=128, bias=False)\n",
      "                  (linear_v): Linear(in_features=128, out_features=128, bias=False)\n",
      "                  (linear_o): Linear(in_features=128, out_features=128, bias=False)\n",
      "                  (linear_g): Linear(in_features=128, out_features=128, bias=False)\n",
      "                  (sigmoid): Sigmoid()\n",
      "                )\n",
      "                (layernorm_z): OpenFoldLayerNorm()\n",
      "                (linear_nobias_z): Linear(in_features=16, out_features=4, bias=False)\n",
      "              )\n",
      "              (conditioned_transition_block): ConditionedTransitionBlock(\n",
      "                (adaln): AdaptiveLayerNorm(\n",
      "                  (layernorm_a): LayerNorm((128,), eps=1e-05, elementwise_affine=False)\n",
      "                  (layernorm_s): LayerNorm((128,), eps=1e-05, elementwise_affine=True)\n",
      "                  (linear_s): Linear(in_features=128, out_features=128, bias=True)\n",
      "                  (linear_nobias_s): Linear(in_features=128, out_features=128, bias=False)\n",
      "                )\n",
      "                (linear_nobias_a1): Linear(in_features=128, out_features=256, bias=False)\n",
      "                (linear_nobias_a2): Linear(in_features=128, out_features=256, bias=False)\n",
      "                (linear_nobias_b): Linear(in_features=256, out_features=128, bias=False)\n",
      "                (linear_s): BiasInitLinear(in_features=128, out_features=128, bias=True)\n",
      "              )\n",
      "            )\n",
      "          )\n",
      "        )\n",
      "      )\n",
      "    )\n",
      "  )\n",
      "  (distogram_head): DistogramHead(\n",
      "    (linear): Linear(in_features=128, out_features=64, bias=True)\n",
      "  )\n",
      "  (confidence_head): ConfidenceHead(\n",
      "    (linear_no_bias_s1): Linear(in_features=449, out_features=128, bias=False)\n",
      "    (linear_no_bias_s2): Linear(in_features=449, out_features=128, bias=False)\n",
      "    (linear_no_bias_d): Linear(in_features=39, out_features=128, bias=False)\n",
      "    (pairformer_stack): PairformerStack(\n",
      "      (blocks): ModuleList(\n",
      "        (0-3): 4 x PairformerBlock(\n",
      "          (tri_mul_out): TriangleMultiplicationOutgoing(\n",
      "            (linear_g): Linear(in_features=128, out_features=128, bias=True)\n",
      "            (linear_z): Linear(in_features=128, out_features=128, bias=True)\n",
      "            (layer_norm_in): OpenFoldLayerNorm()\n",
      "            (layer_norm_out): OpenFoldLayerNorm()\n",
      "            (sigmoid): Sigmoid()\n",
      "            (linear_a_p): Linear(in_features=128, out_features=128, bias=True)\n",
      "            (linear_a_g): Linear(in_features=128, out_features=128, bias=True)\n",
      "            (linear_b_p): Linear(in_features=128, out_features=128, bias=True)\n",
      "            (linear_b_g): Linear(in_features=128, out_features=128, bias=True)\n",
      "          )\n",
      "          (tri_mul_in): TriangleMultiplicationIncoming(\n",
      "            (linear_g): Linear(in_features=128, out_features=128, bias=True)\n",
      "            (linear_z): Linear(in_features=128, out_features=128, bias=True)\n",
      "            (layer_norm_in): OpenFoldLayerNorm()\n",
      "            (layer_norm_out): OpenFoldLayerNorm()\n",
      "            (sigmoid): Sigmoid()\n",
      "            (linear_a_p): Linear(in_features=128, out_features=128, bias=True)\n",
      "            (linear_a_g): Linear(in_features=128, out_features=128, bias=True)\n",
      "            (linear_b_p): Linear(in_features=128, out_features=128, bias=True)\n",
      "            (linear_b_g): Linear(in_features=128, out_features=128, bias=True)\n",
      "          )\n",
      "          (tri_att_start): TriangleAttention(\n",
      "            (layer_norm): OpenFoldLayerNorm()\n",
      "            (linear): Linear(in_features=128, out_features=4, bias=False)\n",
      "            (mha): Attention(\n",
      "              (linear_q): Linear(in_features=128, out_features=128, bias=False)\n",
      "              (linear_k): Linear(in_features=128, out_features=128, bias=False)\n",
      "              (linear_v): Linear(in_features=128, out_features=128, bias=False)\n",
      "              (linear_o): Linear(in_features=128, out_features=128, bias=True)\n",
      "              (linear_g): Linear(in_features=128, out_features=128, bias=True)\n",
      "              (sigmoid): Sigmoid()\n",
      "            )\n",
      "          )\n",
      "          (tri_att_end): TriangleAttention(\n",
      "            (layer_norm): OpenFoldLayerNorm()\n",
      "            (linear): Linear(in_features=128, out_features=4, bias=False)\n",
      "            (mha): Attention(\n",
      "              (linear_q): Linear(in_features=128, out_features=128, bias=False)\n",
      "              (linear_k): Linear(in_features=128, out_features=128, bias=False)\n",
      "              (linear_v): Linear(in_features=128, out_features=128, bias=False)\n",
      "              (linear_o): Linear(in_features=128, out_features=128, bias=True)\n",
      "              (linear_g): Linear(in_features=128, out_features=128, bias=True)\n",
      "              (sigmoid): Sigmoid()\n",
      "            )\n",
      "          )\n",
      "          (dropout_row): DropoutRowwise(\n",
      "            (dropout): Dropout(p=0.0, inplace=False)\n",
      "          )\n",
      "          (pair_transition): Transition(\n",
      "            (layernorm1): OpenFoldLayerNorm()\n",
      "            (linear_no_bias_a): Linear(in_features=128, out_features=512, bias=False)\n",
      "            (linear_no_bias_b): Linear(in_features=128, out_features=512, bias=False)\n",
      "            (linear_no_bias): Linear(in_features=512, out_features=128, bias=False)\n",
      "          )\n",
      "          (attention_pair_bias): AttentionPairBias(\n",
      "            (layernorm_a): OpenFoldLayerNorm()\n",
      "            (attention): Attention(\n",
      "              (linear_q): Linear(in_features=384, out_features=384, bias=True)\n",
      "              (linear_k): Linear(in_features=384, out_features=384, bias=False)\n",
      "              (linear_v): Linear(in_features=384, out_features=384, bias=False)\n",
      "              (linear_o): Linear(in_features=384, out_features=384, bias=False)\n",
      "              (linear_g): Linear(in_features=384, out_features=384, bias=False)\n",
      "              (sigmoid): Sigmoid()\n",
      "            )\n",
      "            (layernorm_z): OpenFoldLayerNorm()\n",
      "            (linear_nobias_z): Linear(in_features=128, out_features=16, bias=False)\n",
      "          )\n",
      "          (single_transition): Transition(\n",
      "            (layernorm1): OpenFoldLayerNorm()\n",
      "            (linear_no_bias_a): Linear(in_features=384, out_features=1536, bias=False)\n",
      "            (linear_no_bias_b): Linear(in_features=384, out_features=1536, bias=False)\n",
      "            (linear_no_bias): Linear(in_features=1536, out_features=384, bias=False)\n",
      "          )\n",
      "        )\n",
      "      )\n",
      "    )\n",
      "    (linear_no_bias_pae): Linear(in_features=128, out_features=64, bias=False)\n",
      "    (linear_no_bias_pde): Linear(in_features=128, out_features=64, bias=False)\n",
      "    (linear_no_bias_s_inputs): Linear(in_features=449, out_features=384, bias=False)\n",
      "    (linear_no_bias_s_trunk): Linear(in_features=384, out_features=384, bias=False)\n",
      "    (layernorm_s_trunk): OpenFoldLayerNorm()\n",
      "    (linear_no_bias_z_trunk): Linear(in_features=128, out_features=128, bias=False)\n",
      "    (layernorm_z_trunk): OpenFoldLayerNorm()\n",
      "    (layernorm_no_bias_z_cat): LayerNorm((256,), eps=1e-05, elementwise_affine=True)\n",
      "    (layernorm_no_bias_s_cat): LayerNorm((768,), eps=1e-05, elementwise_affine=True)\n",
      "    (linear_no_bias_z_cat): Linear(in_features=256, out_features=128, bias=False)\n",
      "    (linear_no_bias_s_cat): Linear(in_features=768, out_features=384, bias=False)\n",
      "    (pae_ln): OpenFoldLayerNorm()\n",
      "    (pde_ln): OpenFoldLayerNorm()\n",
      "    (plddt_ln): OpenFoldLayerNorm()\n",
      "    (resolved_ln): OpenFoldLayerNorm()\n",
      "  )\n",
      "  (linear_no_bias_sinit): Linear(in_features=449, out_features=384, bias=False)\n",
      "  (linear_no_bias_zinit1): Linear(in_features=384, out_features=128, bias=False)\n",
      "  (linear_no_bias_zinit2): Linear(in_features=384, out_features=128, bias=False)\n",
      "  (linear_no_bias_token_bond): Linear(in_features=1, out_features=128, bias=False)\n",
      "  (linear_no_bias_z_cycle): Linear(in_features=128, out_features=128, bias=False)\n",
      "  (linear_no_bias_s): Linear(in_features=384, out_features=384, bias=False)\n",
      "  (layernorm_z_cycle): OpenFoldLayerNorm()\n",
      "  (layernorm_s): OpenFoldLayerNorm()\n",
      ")\n"
     ]
    }
   ],
   "source": [
    "if MODEL_TYPE=='protenix':\n",
    "\n",
    "    from configs.configs_base import configs as configs_base\n",
    "    from configs.configs_data import data_configs\n",
    "    from configs.configs_inference import inference_configs\n",
    "    from protenix.config.config import parse_configs\n",
    "\n",
    "    configs_base[\"use_deepspeed_evo_attention\"] = (\n",
    "    os.environ.get(\"USE_DEEPSPEED_EVO_ATTENTION\", False) == \"true\")\n",
    "    configs_base[\"model\"][\"N_cycle\"] = 10 #10\n",
    "    configs_base[\"sample_diffusion\"][\"N_sample\"] = (1 if VALIDATION else 5)\n",
    "    configs_base[\"sample_diffusion\"][\"N_step\"] = 200\n",
    "    inference_configs['load_checkpoint_path']='/kaggle/input/protenix-checkpoints/model_v0.2.0.pt'\n",
    "    configs = {**configs_base, **{\"data\": data_configs}, **inference_configs}\n",
    "\n",
    "    configs = parse_configs(\n",
    "            configs=configs,\n",
    "            fill_required_with_null=True,\n",
    "        )\n",
    "    \n",
    "    runner=InferenceRunner(configs)\n",
    "    print(type(runner.model))          # 클래스 이름\n",
    "    print(runner.model)                # 전체 구조 요약"
   ]
  },
  {
   "cell_type": "code",
   "execution_count": 9,
   "id": "edbd0560",
   "metadata": {
    "execution": {
     "iopub.execute_input": "2025-05-14T01:47:56.283228Z",
     "iopub.status.busy": "2025-05-14T01:47:56.282848Z",
     "iopub.status.idle": "2025-05-14T01:47:56.655441Z",
     "shell.execute_reply": "2025-05-14T01:47:56.654491Z"
    },
    "papermill": {
     "duration": 0.383225,
     "end_time": "2025-05-14T01:47:56.657395",
     "exception": false,
     "start_time": "2025-05-14T01:47:56.274170",
     "status": "completed"
    },
    "tags": []
   },
   "outputs": [],
   "source": [
    "if VALIDATION:\n",
    "    LABEL_DF = pd.read_csv('/kaggle/input/stanford-rna-3d-folding/train_labels.csv')\n",
    "    LABEL_DF['target_id'] = LABEL_DF['ID'].apply(lambda x: '_'.join(x.split('_')[:-1]))\n",
    "    train_df=pd.read_csv('/kaggle/input/stanford-rna-3d-folding/train_sequences.csv')\n"
   ]
  },
  {
   "cell_type": "code",
   "execution_count": 10,
   "id": "dea15e4b",
   "metadata": {
    "execution": {
     "iopub.execute_input": "2025-05-14T01:47:56.670962Z",
     "iopub.status.busy": "2025-05-14T01:47:56.670597Z",
     "iopub.status.idle": "2025-05-14T01:51:50.423916Z",
     "shell.execute_reply": "2025-05-14T01:51:50.422942Z"
    },
    "papermill": {
     "duration": 233.761971,
     "end_time": "2025-05-14T01:51:50.425527",
     "exception": false,
     "start_time": "2025-05-14T01:47:56.663556",
     "status": "completed"
    },
    "tags": []
   },
   "outputs": [
    {
     "name": "stderr",
     "output_type": "stream",
     "text": [
      "  0%|          | 2/844 [00:12<1:13:23,  5.23s/it]"
     ]
    },
    {
     "name": "stdout",
     "output_type": "stream",
     "text": [
      "✅ Loaded MSA for 1SCL_A from /kaggle/input/stanford-rna-3d-folding/MSA_v2 | shape=torch.Size([64, 29])\n",
      "✅ Loaded MSA for 1SCL_A from /kaggle/input/stanford-rna-3d-folding/MSA_v2 | shape=torch.Size([64, 29])\n",
      "✅ Loaded MSA for 1RNK_A from /kaggle/input/stanford-rna-3d-folding/MSA_v2 | shape=torch.Size([10, 34])\n",
      "✅ Loaded MSA for 1RNK_A from /kaggle/input/stanford-rna-3d-folding/MSA_v2 | shape=torch.Size([10, 34])\n"
     ]
    },
    {
     "name": "stderr",
     "output_type": "stream",
     "text": [
      "  0%|          | 4/844 [00:12<25:09,  1.80s/it]"
     ]
    },
    {
     "name": "stdout",
     "output_type": "stream",
     "text": [
      "✅ Loaded MSA for 1RHT_A from /kaggle/input/stanford-rna-3d-folding/MSA | shape=torch.Size([12, 24])\n",
      "✅ Loaded MSA for 1RHT_A from /kaggle/input/stanford-rna-3d-folding/MSA | shape=torch.Size([12, 24])\n",
      "✅ Loaded MSA for 1HLX_A from /kaggle/input/stanford-rna-3d-folding/MSA_v2 | shape=torch.Size([11, 20])\n",
      "✅ Loaded MSA for 1HLX_A from /kaggle/input/stanford-rna-3d-folding/MSA_v2 | shape=torch.Size([11, 20])\n"
     ]
    },
    {
     "name": "stderr",
     "output_type": "stream",
     "text": [
      "  1%|          | 7/844 [00:13<08:56,  1.56it/s]"
     ]
    },
    {
     "name": "stdout",
     "output_type": "stream",
     "text": [
      "✅ Loaded MSA for 1HMH_E from /kaggle/input/stanford-rna-3d-folding/MSA_v2 | shape=torch.Size([64, 34])\n",
      "✅ Loaded MSA for 1HMH_E from /kaggle/input/stanford-rna-3d-folding/MSA_v2 | shape=torch.Size([64, 34])\n",
      "✅ Loaded MSA for 1RNG_A from /kaggle/input/stanford-rna-3d-folding/MSA | shape=torch.Size([1, 12])\n",
      "✅ Loaded MSA for 1RNG_A from /kaggle/input/stanford-rna-3d-folding/MSA | shape=torch.Size([1, 12])\n",
      "✅ Loaded MSA for 1MME_D from /kaggle/input/stanford-rna-3d-folding/MSA_v2 | shape=torch.Size([2, 25])\n",
      "✅ Loaded MSA for 1MME_D from /kaggle/input/stanford-rna-3d-folding/MSA_v2 | shape=torch.Size([2, 25])\n"
     ]
    },
    {
     "name": "stderr",
     "output_type": "stream",
     "text": [
      "  1%|          | 8/844 [00:13<07:05,  1.96it/s]"
     ]
    },
    {
     "name": "stdout",
     "output_type": "stream",
     "text": [
      "✅ Loaded MSA for 1KAJ_A from /kaggle/input/stanford-rna-3d-folding/MSA | shape=torch.Size([64, 32])\n",
      "✅ Loaded MSA for 1KAJ_A from /kaggle/input/stanford-rna-3d-folding/MSA | shape=torch.Size([64, 32])\n",
      "✅ Loaded MSA for 1SLO_A from /kaggle/input/stanford-rna-3d-folding/MSA | shape=torch.Size([26, 19])\n",
      "✅ Loaded MSA for 1SLO_A from /kaggle/input/stanford-rna-3d-folding/MSA | shape=torch.Size([26, 19])\n"
     ]
    },
    {
     "name": "stderr",
     "output_type": "stream",
     "text": [
      "  1%|▏         | 11/844 [00:13<04:00,  3.46it/s]"
     ]
    },
    {
     "name": "stdout",
     "output_type": "stream",
     "text": [
      "✅ Loaded MSA for 1BIV_A from /kaggle/input/stanford-rna-3d-folding/MSA | shape=torch.Size([7, 28])\n",
      "✅ Loaded MSA for 1BIV_A from /kaggle/input/stanford-rna-3d-folding/MSA | shape=torch.Size([7, 28])\n",
      "✅ Loaded MSA for 1ANR_A from /kaggle/input/stanford-rna-3d-folding/MSA | shape=torch.Size([64, 29])\n",
      "✅ Loaded MSA for 1ANR_A from /kaggle/input/stanford-rna-3d-folding/MSA | shape=torch.Size([64, 29])\n",
      "✅ Loaded MSA for 1ZIG_A from /kaggle/input/stanford-rna-3d-folding/MSA_v2 | shape=torch.Size([2, 12])\n",
      "✅ Loaded MSA for 1ZIG_A from /kaggle/input/stanford-rna-3d-folding/MSA_v2 | shape=torch.Size([2, 12])\n"
     ]
    },
    {
     "name": "stderr",
     "output_type": "stream",
     "text": [
      "  2%|▏         | 13/844 [00:13<02:46,  5.01it/s]"
     ]
    },
    {
     "name": "stdout",
     "output_type": "stream",
     "text": [
      "✅ Loaded MSA for 1ZIH_A from /kaggle/input/stanford-rna-3d-folding/MSA | shape=torch.Size([1, 12])\n",
      "✅ Loaded MSA for 1ZIH_A from /kaggle/input/stanford-rna-3d-folding/MSA | shape=torch.Size([1, 12])\n",
      "✅ Loaded MSA for 1ETF_A from /kaggle/input/stanford-rna-3d-folding/MSA_v2 | shape=torch.Size([33, 34])\n",
      "✅ Loaded MSA for 1ETF_A from /kaggle/input/stanford-rna-3d-folding/MSA_v2 | shape=torch.Size([33, 34])\n"
     ]
    },
    {
     "name": "stderr",
     "output_type": "stream",
     "text": [
      "  2%|▏         | 16/844 [00:14<02:14,  6.13it/s]"
     ]
    },
    {
     "name": "stdout",
     "output_type": "stream",
     "text": [
      "✅ Loaded MSA for 1ZIF_A from /kaggle/input/stanford-rna-3d-folding/MSA_v2 | shape=torch.Size([1, 12])\n",
      "✅ Loaded MSA for 1ZIF_A from /kaggle/input/stanford-rna-3d-folding/MSA_v2 | shape=torch.Size([1, 12])\n",
      "✅ Loaded MSA for 1KPD_A from /kaggle/input/stanford-rna-3d-folding/MSA_v2 | shape=torch.Size([15, 32])\n",
      "✅ Loaded MSA for 1KPD_A from /kaggle/input/stanford-rna-3d-folding/MSA_v2 | shape=torch.Size([15, 32])\n"
     ]
    },
    {
     "name": "stderr",
     "output_type": "stream",
     "text": [
      "  2%|▏         | 19/844 [00:14<01:42,  8.09it/s]"
     ]
    },
    {
     "name": "stdout",
     "output_type": "stream",
     "text": [
      "✅ Loaded MSA for 1IKD_A from /kaggle/input/stanford-rna-3d-folding/MSA_v2 | shape=torch.Size([28, 22])\n",
      "✅ Loaded MSA for 1IKD_A from /kaggle/input/stanford-rna-3d-folding/MSA_v2 | shape=torch.Size([28, 22])\n",
      "✅ Loaded MSA for 1ZDI_S from /kaggle/input/stanford-rna-3d-folding/MSA_v2 | shape=torch.Size([6, 19])\n",
      "✅ Loaded MSA for 1ZDI_S from /kaggle/input/stanford-rna-3d-folding/MSA_v2 | shape=torch.Size([6, 19])\n",
      "✅ Loaded MSA for 1AFX_A from /kaggle/input/stanford-rna-3d-folding/MSA | shape=torch.Size([1, 12])\n",
      "✅ Loaded MSA for 1AFX_A from /kaggle/input/stanford-rna-3d-folding/MSA | shape=torch.Size([1, 12])\n"
     ]
    },
    {
     "name": "stderr",
     "output_type": "stream",
     "text": [
      "  2%|▏         | 21/844 [00:14<01:45,  7.81it/s]"
     ]
    },
    {
     "name": "stdout",
     "output_type": "stream",
     "text": [
      "✅ Loaded MSA for 1EBQ_A from /kaggle/input/stanford-rna-3d-folding/MSA | shape=torch.Size([38, 29])\n",
      "✅ Loaded MSA for 1EBQ_A from /kaggle/input/stanford-rna-3d-folding/MSA | shape=torch.Size([38, 29])\n",
      "✅ Loaded MSA for 1EBR_A from /kaggle/input/stanford-rna-3d-folding/MSA_v2 | shape=torch.Size([64, 30])\n",
      "✅ Loaded MSA for 1EBR_A from /kaggle/input/stanford-rna-3d-folding/MSA_v2 | shape=torch.Size([64, 30])\n"
     ]
    },
    {
     "name": "stderr",
     "output_type": "stream",
     "text": [
      "  3%|▎         | 24/844 [00:15<01:31,  8.95it/s]"
     ]
    },
    {
     "name": "stdout",
     "output_type": "stream",
     "text": [
      "✅ Loaded MSA for 1ULL_A from /kaggle/input/stanford-rna-3d-folding/MSA_v2 | shape=torch.Size([8, 35])\n",
      "✅ Loaded MSA for 1ULL_A from /kaggle/input/stanford-rna-3d-folding/MSA_v2 | shape=torch.Size([8, 35])\n",
      "✅ Loaded MSA for 1KIS_B from /kaggle/input/stanford-rna-3d-folding/MSA_v2 | shape=torch.Size([1, 16])\n",
      "✅ Loaded MSA for 1KIS_B from /kaggle/input/stanford-rna-3d-folding/MSA_v2 | shape=torch.Size([1, 16])\n",
      "✅ Loaded MSA for 1KIS_A from /kaggle/input/stanford-rna-3d-folding/MSA_v2 | shape=torch.Size([1, 16])\n",
      "✅ Loaded MSA for 1KIS_A from /kaggle/input/stanford-rna-3d-folding/MSA_v2 | shape=torch.Size([1, 16])\n"
     ]
    },
    {
     "name": "stderr",
     "output_type": "stream",
     "text": [
      "  3%|▎         | 26/844 [00:15<01:31,  8.97it/s]"
     ]
    },
    {
     "name": "stdout",
     "output_type": "stream",
     "text": [
      "✅ Loaded MSA for 1ATO_A from /kaggle/input/stanford-rna-3d-folding/MSA | shape=torch.Size([55, 19])\n",
      "✅ Loaded MSA for 1ATO_A from /kaggle/input/stanford-rna-3d-folding/MSA | shape=torch.Size([55, 19])\n",
      "✅ Loaded MSA for 1TLR_A from /kaggle/input/stanford-rna-3d-folding/MSA | shape=torch.Size([10, 23])\n",
      "✅ Loaded MSA for 1TLR_A from /kaggle/input/stanford-rna-3d-folding/MSA | shape=torch.Size([10, 23])\n",
      "✅ Loaded MSA for 1VOP_A from /kaggle/input/stanford-rna-3d-folding/MSA | shape=torch.Size([1, 13])\n",
      "✅ Loaded MSA for 1VOP_A from /kaggle/input/stanford-rna-3d-folding/MSA | shape=torch.Size([1, 13])\n"
     ]
    },
    {
     "name": "stderr",
     "output_type": "stream",
     "text": [
      "  4%|▎         | 30/844 [00:15<01:20, 10.11it/s]"
     ]
    },
    {
     "name": "stdout",
     "output_type": "stream",
     "text": [
      "✅ Loaded MSA for 1AQO_A from /kaggle/input/stanford-rna-3d-folding/MSA | shape=torch.Size([57, 29])\n",
      "✅ Loaded MSA for 1AQO_A from /kaggle/input/stanford-rna-3d-folding/MSA | shape=torch.Size([57, 29])\n",
      "✅ Loaded MSA for 1ATV_A from /kaggle/input/stanford-rna-3d-folding/MSA | shape=torch.Size([26, 17])\n",
      "✅ Loaded MSA for 1ATV_A from /kaggle/input/stanford-rna-3d-folding/MSA | shape=torch.Size([26, 17])\n",
      "✅ Loaded MSA for 1ATW_A from /kaggle/input/stanford-rna-3d-folding/MSA_v2 | shape=torch.Size([1, 15])\n",
      "✅ Loaded MSA for 1ATW_A from /kaggle/input/stanford-rna-3d-folding/MSA_v2 | shape=torch.Size([1, 15])\n"
     ]
    },
    {
     "name": "stderr",
     "output_type": "stream",
     "text": [
      "  4%|▍         | 32/844 [00:15<01:24,  9.66it/s]"
     ]
    },
    {
     "name": "stdout",
     "output_type": "stream",
     "text": [
      "✅ Loaded MSA for 1UUU_A from /kaggle/input/stanford-rna-3d-folding/MSA | shape=torch.Size([1, 19])\n",
      "✅ Loaded MSA for 1UUU_A from /kaggle/input/stanford-rna-3d-folding/MSA | shape=torch.Size([1, 19])\n",
      "✅ Loaded MSA for 1AUD_B from /kaggle/input/stanford-rna-3d-folding/MSA_v2 | shape=torch.Size([11, 30])\n",
      "✅ Loaded MSA for 1AUD_B from /kaggle/input/stanford-rna-3d-folding/MSA_v2 | shape=torch.Size([11, 30])\n"
     ]
    },
    {
     "name": "stderr",
     "output_type": "stream",
     "text": [
      "  4%|▍         | 33/844 [00:15<01:23,  9.71it/s]"
     ]
    },
    {
     "name": "stdout",
     "output_type": "stream",
     "text": [
      "✅ Loaded MSA for 2U2A_A from /kaggle/input/stanford-rna-3d-folding/MSA | shape=torch.Size([49, 20])\n",
      "✅ Loaded MSA for 2U2A_A from /kaggle/input/stanford-rna-3d-folding/MSA | shape=torch.Size([49, 20])\n",
      "✅ Loaded MSA for 1A4T_A from /kaggle/input/stanford-rna-3d-folding/MSA_v2 | shape=torch.Size([1, 15])\n",
      "✅ Loaded MSA for 1A4T_A from /kaggle/input/stanford-rna-3d-folding/MSA_v2 | shape=torch.Size([1, 15])\n"
     ]
    },
    {
     "name": "stderr",
     "output_type": "stream",
     "text": [
      "  4%|▍         | 36/844 [00:16<01:44,  7.70it/s]"
     ]
    },
    {
     "name": "stdout",
     "output_type": "stream",
     "text": [
      "✅ Loaded MSA for 1A60_A from /kaggle/input/stanford-rna-3d-folding/MSA | shape=torch.Size([64, 44])\n",
      "✅ Loaded MSA for 1A60_A from /kaggle/input/stanford-rna-3d-folding/MSA | shape=torch.Size([64, 44])\n",
      "✅ Loaded MSA for 1A51_A from /kaggle/input/stanford-rna-3d-folding/MSA_v2 | shape=torch.Size([64, 41])\n",
      "✅ Loaded MSA for 1A51_A from /kaggle/input/stanford-rna-3d-folding/MSA_v2 | shape=torch.Size([64, 41])\n"
     ]
    },
    {
     "name": "stderr",
     "output_type": "stream",
     "text": [
      "  5%|▍         | 38/844 [00:16<01:44,  7.69it/s]"
     ]
    },
    {
     "name": "stdout",
     "output_type": "stream",
     "text": [
      "✅ Loaded MSA for 2A9L_A from /kaggle/input/stanford-rna-3d-folding/MSA | shape=torch.Size([18, 38])\n",
      "✅ Loaded MSA for 2A9L_A from /kaggle/input/stanford-rna-3d-folding/MSA | shape=torch.Size([18, 38])\n",
      "✅ Loaded MSA for 1A1T_B from /kaggle/input/stanford-rna-3d-folding/MSA | shape=torch.Size([1, 20])\n",
      "✅ Loaded MSA for 1A1T_B from /kaggle/input/stanford-rna-3d-folding/MSA | shape=torch.Size([1, 20])\n"
     ]
    },
    {
     "name": "stderr",
     "output_type": "stream",
     "text": [
      "  5%|▍         | 40/844 [00:17<02:18,  5.81it/s]"
     ]
    },
    {
     "name": "stdout",
     "output_type": "stream",
     "text": [
      "✅ Loaded MSA for 1A9N_Q from /kaggle/input/stanford-rna-3d-folding/MSA | shape=torch.Size([64, 24])\n",
      "✅ Loaded MSA for 1A9N_Q from /kaggle/input/stanford-rna-3d-folding/MSA | shape=torch.Size([64, 24])\n",
      "✅ Loaded MSA for 3PHP_A from /kaggle/input/stanford-rna-3d-folding/MSA | shape=torch.Size([64, 23])\n",
      "✅ Loaded MSA for 3PHP_A from /kaggle/input/stanford-rna-3d-folding/MSA | shape=torch.Size([64, 23])\n"
     ]
    },
    {
     "name": "stderr",
     "output_type": "stream",
     "text": [
      "  5%|▌         | 43/844 [00:17<01:44,  7.65it/s]"
     ]
    },
    {
     "name": "stdout",
     "output_type": "stream",
     "text": [
      "✅ Loaded MSA for 2TPK_A from /kaggle/input/stanford-rna-3d-folding/MSA_v2 | shape=torch.Size([13, 36])\n",
      "✅ Loaded MSA for 2TPK_A from /kaggle/input/stanford-rna-3d-folding/MSA_v2 | shape=torch.Size([13, 36])\n",
      "✅ Loaded MSA for 7MSF_S from /kaggle/input/stanford-rna-3d-folding/MSA | shape=torch.Size([1, 14])\n",
      "✅ Loaded MSA for 7MSF_S from /kaggle/input/stanford-rna-3d-folding/MSA | shape=torch.Size([1, 14])\n",
      "✅ Loaded MSA for 5MSF_S from /kaggle/input/stanford-rna-3d-folding/MSA_v2 | shape=torch.Size([2, 18])\n",
      "✅ Loaded MSA for 5MSF_S from /kaggle/input/stanford-rna-3d-folding/MSA_v2 | shape=torch.Size([2, 18])\n"
     ]
    },
    {
     "name": "stderr",
     "output_type": "stream",
     "text": [
      "  5%|▌         | 46/844 [00:17<01:34,  8.46it/s]"
     ]
    },
    {
     "name": "stdout",
     "output_type": "stream",
     "text": [
      "✅ Loaded MSA for 1LDZ_A from /kaggle/input/stanford-rna-3d-folding/MSA | shape=torch.Size([4, 30])\n",
      "✅ Loaded MSA for 1LDZ_A from /kaggle/input/stanford-rna-3d-folding/MSA | shape=torch.Size([4, 30])\n",
      "✅ Loaded MSA for 1ZDK_S from /kaggle/input/stanford-rna-3d-folding/MSA_v2 | shape=torch.Size([7, 19])\n",
      "✅ Loaded MSA for 1ZDK_S from /kaggle/input/stanford-rna-3d-folding/MSA_v2 | shape=torch.Size([7, 19])\n",
      "✅ Loaded MSA for 1BVJ_A from /kaggle/input/stanford-rna-3d-folding/MSA | shape=torch.Size([3, 23])\n",
      "✅ Loaded MSA for 1BVJ_A from /kaggle/input/stanford-rna-3d-folding/MSA | shape=torch.Size([3, 23])\n"
     ]
    },
    {
     "name": "stderr",
     "output_type": "stream",
     "text": [
      "  6%|▌         | 48/844 [00:18<01:45,  7.55it/s]"
     ]
    },
    {
     "name": "stdout",
     "output_type": "stream",
     "text": [
      "✅ Loaded MSA for 1B36_A from /kaggle/input/stanford-rna-3d-folding/MSA | shape=torch.Size([64, 38])\n",
      "✅ Loaded MSA for 1B36_A from /kaggle/input/stanford-rna-3d-folding/MSA | shape=torch.Size([64, 38])\n",
      "✅ Loaded MSA for 1HVU_I from /kaggle/input/stanford-rna-3d-folding/MSA | shape=torch.Size([13, 30])\n",
      "✅ Loaded MSA for 1HVU_I from /kaggle/input/stanford-rna-3d-folding/MSA | shape=torch.Size([13, 30])\n"
     ]
    },
    {
     "name": "stderr",
     "output_type": "stream",
     "text": [
      "  6%|▌         | 51/844 [00:18<01:29,  8.88it/s]"
     ]
    },
    {
     "name": "stdout",
     "output_type": "stream",
     "text": [
      "✅ Loaded MSA for 1BGZ_A from /kaggle/input/stanford-rna-3d-folding/MSA_v2 | shape=torch.Size([8, 23])\n",
      "✅ Loaded MSA for 1BGZ_A from /kaggle/input/stanford-rna-3d-folding/MSA_v2 | shape=torch.Size([8, 23])\n",
      "✅ Loaded MSA for 2BJ2_B from /kaggle/input/stanford-rna-3d-folding/MSA_v2 | shape=torch.Size([1, 19])\n",
      "✅ Loaded MSA for 2BJ2_B from /kaggle/input/stanford-rna-3d-folding/MSA_v2 | shape=torch.Size([1, 19])\n",
      "✅ Loaded MSA for 2BJ2_A from /kaggle/input/stanford-rna-3d-folding/MSA_v2 | shape=torch.Size([6, 21])\n",
      "✅ Loaded MSA for 2BJ2_A from /kaggle/input/stanford-rna-3d-folding/MSA_v2 | shape=torch.Size([6, 21])\n"
     ]
    },
    {
     "name": "stderr",
     "output_type": "stream",
     "text": [
      "  6%|▋         | 54/844 [00:18<01:25,  9.24it/s]"
     ]
    },
    {
     "name": "stdout",
     "output_type": "stream",
     "text": [
      "✅ Loaded MSA for 28SP_A from /kaggle/input/stanford-rna-3d-folding/MSA_v2 | shape=torch.Size([64, 28])\n",
      "✅ Loaded MSA for 28SP_A from /kaggle/input/stanford-rna-3d-folding/MSA_v2 | shape=torch.Size([64, 28])\n",
      "✅ Loaded MSA for 1QFQ_A from /kaggle/input/stanford-rna-3d-folding/MSA_v2 | shape=torch.Size([2, 15])\n",
      "✅ Loaded MSA for 1QFQ_A from /kaggle/input/stanford-rna-3d-folding/MSA_v2 | shape=torch.Size([2, 15])\n",
      "✅ Loaded MSA for 17RA_A from /kaggle/input/stanford-rna-3d-folding/MSA | shape=torch.Size([5, 21])\n",
      "✅ Loaded MSA for 17RA_A from /kaggle/input/stanford-rna-3d-folding/MSA | shape=torch.Size([5, 21])\n"
     ]
    },
    {
     "name": "stderr",
     "output_type": "stream",
     "text": [
      "  7%|▋         | 55/844 [00:18<01:29,  8.86it/s]"
     ]
    },
    {
     "name": "stdout",
     "output_type": "stream",
     "text": [
      "✅ Loaded MSA for 1BAU_B from /kaggle/input/stanford-rna-3d-folding/MSA | shape=torch.Size([7, 23])\n",
      "✅ Loaded MSA for 1BAU_B from /kaggle/input/stanford-rna-3d-folding/MSA | shape=torch.Size([7, 23])\n",
      "✅ Loaded MSA for 1BZ2_A from /kaggle/input/stanford-rna-3d-folding/MSA_v2 | shape=torch.Size([64, 17])\n",
      "✅ Loaded MSA for 1BZ2_A from /kaggle/input/stanford-rna-3d-folding/MSA_v2 | shape=torch.Size([64, 17])\n"
     ]
    },
    {
     "name": "stderr",
     "output_type": "stream",
     "text": [
      "  7%|▋         | 58/844 [00:19<01:42,  7.68it/s]"
     ]
    },
    {
     "name": "stdout",
     "output_type": "stream",
     "text": [
      "✅ Loaded MSA for 1CQ5_A from /kaggle/input/stanford-rna-3d-folding/MSA_v2 | shape=torch.Size([64, 43])\n",
      "✅ Loaded MSA for 1CQ5_A from /kaggle/input/stanford-rna-3d-folding/MSA_v2 | shape=torch.Size([64, 43])\n",
      "✅ Loaded MSA for 1QC8_A from /kaggle/input/stanford-rna-3d-folding/MSA | shape=torch.Size([5, 25])\n",
      "✅ Loaded MSA for 1QC8_A from /kaggle/input/stanford-rna-3d-folding/MSA | shape=torch.Size([5, 25])\n"
     ]
    },
    {
     "name": "stderr",
     "output_type": "stream",
     "text": [
      "  7%|▋         | 60/844 [00:19<01:50,  7.11it/s]"
     ]
    },
    {
     "name": "stdout",
     "output_type": "stream",
     "text": [
      "✅ Loaded MSA for 484D_B from /kaggle/input/stanford-rna-3d-folding/MSA_v2 | shape=torch.Size([9, 27])\n",
      "✅ Loaded MSA for 484D_B from /kaggle/input/stanford-rna-3d-folding/MSA_v2 | shape=torch.Size([9, 27])\n",
      "✅ Loaded MSA for 1D6K_B from /kaggle/input/stanford-rna-3d-folding/MSA_v2 | shape=torch.Size([64, 37])\n",
      "✅ Loaded MSA for 1D6K_B from /kaggle/input/stanford-rna-3d-folding/MSA_v2 | shape=torch.Size([64, 37])\n"
     ]
    },
    {
     "name": "stderr",
     "output_type": "stream",
     "text": [
      "  7%|▋         | 61/844 [00:20<02:47,  4.68it/s]"
     ]
    },
    {
     "name": "stdout",
     "output_type": "stream",
     "text": [
      "✅ Loaded MSA for 1EIY_C from /kaggle/input/stanford-rna-3d-folding/MSA | shape=torch.Size([64, 76])\n",
      "✅ Loaded MSA for 1EIY_C from /kaggle/input/stanford-rna-3d-folding/MSA | shape=torch.Size([64, 76])\n",
      "✅ Loaded MSA for 1ESH_A from /kaggle/input/stanford-rna-3d-folding/MSA_v2 | shape=torch.Size([1, 13])\n",
      "✅ Loaded MSA for 1ESH_A from /kaggle/input/stanford-rna-3d-folding/MSA_v2 | shape=torch.Size([1, 13])\n"
     ]
    },
    {
     "name": "stderr",
     "output_type": "stream",
     "text": [
      "  8%|▊         | 64/844 [00:20<02:00,  6.47it/s]"
     ]
    },
    {
     "name": "stdout",
     "output_type": "stream",
     "text": [
      "✅ Loaded MSA for 1EXY_A from /kaggle/input/stanford-rna-3d-folding/MSA_v2 | shape=torch.Size([25, 33])\n",
      "✅ Loaded MSA for 1EXY_A from /kaggle/input/stanford-rna-3d-folding/MSA_v2 | shape=torch.Size([25, 33])\n",
      "✅ Loaded MSA for 1D0U_A from /kaggle/input/stanford-rna-3d-folding/MSA | shape=torch.Size([2, 21])\n",
      "✅ Loaded MSA for 1D0U_A from /kaggle/input/stanford-rna-3d-folding/MSA | shape=torch.Size([2, 21])\n",
      "✅ Loaded MSA for 1ESY_A from /kaggle/input/stanford-rna-3d-folding/MSA_v2 | shape=torch.Size([3, 19])\n",
      "✅ Loaded MSA for 1ESY_A from /kaggle/input/stanford-rna-3d-folding/MSA_v2 | shape=torch.Size([3, 19])\n"
     ]
    },
    {
     "name": "stderr",
     "output_type": "stream",
     "text": [
      "  8%|▊         | 67/844 [00:21<02:36,  4.95it/s]"
     ]
    },
    {
     "name": "stdout",
     "output_type": "stream",
     "text": [
      "✅ Loaded MSA for 1EUQ_B from /kaggle/input/stanford-rna-3d-folding/MSA | shape=torch.Size([64, 72])\n",
      "✅ Loaded MSA for 1EUQ_B from /kaggle/input/stanford-rna-3d-folding/MSA | shape=torch.Size([64, 72])\n",
      "✅ Loaded MSA for 1F9L_A from /kaggle/input/stanford-rna-3d-folding/MSA_v2 | shape=torch.Size([39, 22])\n",
      "✅ Loaded MSA for 1F9L_A from /kaggle/input/stanford-rna-3d-folding/MSA_v2 | shape=torch.Size([39, 22])\n"
     ]
    },
    {
     "name": "stderr",
     "output_type": "stream",
     "text": [
      "  8%|▊         | 69/844 [00:21<03:14,  3.98it/s]"
     ]
    },
    {
     "name": "stdout",
     "output_type": "stream",
     "text": [
      "✅ Loaded MSA for 1FFK_9 from /kaggle/input/stanford-rna-3d-folding/MSA_v2 | shape=torch.Size([64, 122])\n",
      "✅ Loaded MSA for 1FFK_9 from /kaggle/input/stanford-rna-3d-folding/MSA_v2 | shape=torch.Size([64, 122])\n",
      "✅ Loaded MSA for 1EKZ_B from /kaggle/input/stanford-rna-3d-folding/MSA_v2 | shape=torch.Size([64, 30])\n",
      "✅ Loaded MSA for 1EKZ_B from /kaggle/input/stanford-rna-3d-folding/MSA_v2 | shape=torch.Size([64, 30])\n"
     ]
    },
    {
     "name": "stderr",
     "output_type": "stream",
     "text": [
      "  8%|▊         | 71/844 [00:22<02:27,  5.25it/s]"
     ]
    },
    {
     "name": "stdout",
     "output_type": "stream",
     "text": [
      "✅ Loaded MSA for 1F5U_B from /kaggle/input/stanford-rna-3d-folding/MSA | shape=torch.Size([15, 18])\n",
      "✅ Loaded MSA for 1F5U_B from /kaggle/input/stanford-rna-3d-folding/MSA | shape=torch.Size([15, 18])\n",
      "✅ Loaded MSA for 1F6Z_A from /kaggle/input/stanford-rna-3d-folding/MSA | shape=torch.Size([64, 27])\n",
      "✅ Loaded MSA for 1F6Z_A from /kaggle/input/stanford-rna-3d-folding/MSA | shape=torch.Size([64, 27])\n"
     ]
    },
    {
     "name": "stderr",
     "output_type": "stream",
     "text": [
      "  9%|▉         | 74/844 [00:22<01:51,  6.91it/s]"
     ]
    },
    {
     "name": "stdout",
     "output_type": "stream",
     "text": [
      "✅ Loaded MSA for 1F6X_A from /kaggle/input/stanford-rna-3d-folding/MSA_v2 | shape=torch.Size([46, 27])\n",
      "✅ Loaded MSA for 1F6X_A from /kaggle/input/stanford-rna-3d-folding/MSA_v2 | shape=torch.Size([46, 27])\n",
      "✅ Loaded MSA for 1F85_A from /kaggle/input/stanford-rna-3d-folding/MSA_v2 | shape=torch.Size([1, 14])\n",
      "✅ Loaded MSA for 1F85_A from /kaggle/input/stanford-rna-3d-folding/MSA_v2 | shape=torch.Size([1, 14])\n",
      "✅ Loaded MSA for 1F84_A from /kaggle/input/stanford-rna-3d-folding/MSA_v2 | shape=torch.Size([64, 29])\n",
      "✅ Loaded MSA for 1F84_A from /kaggle/input/stanford-rna-3d-folding/MSA_v2 | shape=torch.Size([64, 29])\n"
     ]
    },
    {
     "name": "stderr",
     "output_type": "stream",
     "text": [
      "  9%|▉         | 76/844 [00:23<02:32,  5.04it/s]"
     ]
    },
    {
     "name": "stdout",
     "output_type": "stream",
     "text": [
      "✅ Loaded MSA for 1FOQ_A from /kaggle/input/stanford-rna-3d-folding/MSA | shape=torch.Size([13, 120])\n",
      "✅ Loaded MSA for 1FOQ_A from /kaggle/input/stanford-rna-3d-folding/MSA | shape=torch.Size([13, 120])\n",
      "✅ Loaded MSA for 1FJE_A from /kaggle/input/stanford-rna-3d-folding/MSA | shape=torch.Size([4, 22])\n",
      "✅ Loaded MSA for 1FJE_A from /kaggle/input/stanford-rna-3d-folding/MSA | shape=torch.Size([4, 22])\n"
     ]
    },
    {
     "name": "stderr",
     "output_type": "stream",
     "text": [
      "  9%|▉         | 78/844 [00:23<02:05,  6.11it/s]"
     ]
    },
    {
     "name": "stdout",
     "output_type": "stream",
     "text": [
      "✅ Loaded MSA for 1E4P_A from /kaggle/input/stanford-rna-3d-folding/MSA_v2 | shape=torch.Size([10, 24])\n",
      "✅ Loaded MSA for 1E4P_A from /kaggle/input/stanford-rna-3d-folding/MSA_v2 | shape=torch.Size([10, 24])\n",
      "✅ Loaded MSA for 1FQZ_A from /kaggle/input/stanford-rna-3d-folding/MSA | shape=torch.Size([64, 27])\n",
      "✅ Loaded MSA for 1FQZ_A from /kaggle/input/stanford-rna-3d-folding/MSA | shape=torch.Size([64, 27])\n"
     ]
    },
    {
     "name": "stderr",
     "output_type": "stream",
     "text": [
      "  9%|▉         | 80/844 [00:23<01:53,  6.76it/s]"
     ]
    },
    {
     "name": "stdout",
     "output_type": "stream",
     "text": [
      "✅ Loaded MSA for 1G70_A from /kaggle/input/stanford-rna-3d-folding/MSA | shape=torch.Size([10, 32])\n",
      "✅ Loaded MSA for 1G70_A from /kaggle/input/stanford-rna-3d-folding/MSA | shape=torch.Size([10, 32])\n",
      "✅ Loaded MSA for 1E7K_D from /kaggle/input/stanford-rna-3d-folding/MSA_v2 | shape=torch.Size([64, 22])\n",
      "✅ Loaded MSA for 1E7K_D from /kaggle/input/stanford-rna-3d-folding/MSA_v2 | shape=torch.Size([64, 22])\n"
     ]
    },
    {
     "name": "stderr",
     "output_type": "stream",
     "text": [
      " 10%|▉         | 83/844 [00:23<01:27,  8.66it/s]"
     ]
    },
    {
     "name": "stdout",
     "output_type": "stream",
     "text": [
      "✅ Loaded MSA for 1FYO_A from /kaggle/input/stanford-rna-3d-folding/MSA | shape=torch.Size([26, 27])\n",
      "✅ Loaded MSA for 1FYO_A from /kaggle/input/stanford-rna-3d-folding/MSA | shape=torch.Size([26, 27])\n",
      "✅ Loaded MSA for 1FHK_A from /kaggle/input/stanford-rna-3d-folding/MSA | shape=torch.Size([1, 14])\n",
      "✅ Loaded MSA for 1FHK_A from /kaggle/input/stanford-rna-3d-folding/MSA | shape=torch.Size([1, 14])\n",
      "✅ Loaded MSA for 1I3X_A from /kaggle/input/stanford-rna-3d-folding/MSA_v2 | shape=torch.Size([3, 19])\n",
      "✅ Loaded MSA for 1I3X_A from /kaggle/input/stanford-rna-3d-folding/MSA_v2 | shape=torch.Size([3, 19])\n"
     ]
    },
    {
     "name": "stderr",
     "output_type": "stream",
     "text": [
      " 10%|█         | 85/844 [00:24<01:13, 10.32it/s]"
     ]
    },
    {
     "name": "stdout",
     "output_type": "stream",
     "text": [
      "✅ Loaded MSA for 1I4C_A from /kaggle/input/stanford-rna-3d-folding/MSA_v2 | shape=torch.Size([1, 13])\n",
      "✅ Loaded MSA for 1I4C_A from /kaggle/input/stanford-rna-3d-folding/MSA_v2 | shape=torch.Size([1, 13])\n",
      "✅ Loaded MSA for 1I46_A from /kaggle/input/stanford-rna-3d-folding/MSA_v2 | shape=torch.Size([1, 13])\n",
      "✅ Loaded MSA for 1I46_A from /kaggle/input/stanford-rna-3d-folding/MSA_v2 | shape=torch.Size([1, 13])\n",
      "✅ Loaded MSA for 1IBM_Y from /kaggle/input/stanford-rna-3d-folding/MSA_v2 | shape=torch.Size([10, 15])\n",
      "✅ Loaded MSA for 1IBM_Y from /kaggle/input/stanford-rna-3d-folding/MSA_v2 | shape=torch.Size([10, 15])\n"
     ]
    },
    {
     "name": "stderr",
     "output_type": "stream",
     "text": [
      " 10%|█         | 87/844 [00:24<01:19,  9.49it/s]"
     ]
    },
    {
     "name": "stdout",
     "output_type": "stream",
     "text": [
      "✅ Loaded MSA for 1HWQ_A from /kaggle/input/stanford-rna-3d-folding/MSA_v2 | shape=torch.Size([34, 30])\n",
      "✅ Loaded MSA for 1HWQ_A from /kaggle/input/stanford-rna-3d-folding/MSA_v2 | shape=torch.Size([34, 30])\n",
      "✅ Loaded MSA for 1IK1_A from /kaggle/input/stanford-rna-3d-folding/MSA_v2 | shape=torch.Size([1, 14])\n",
      "✅ Loaded MSA for 1IK1_A from /kaggle/input/stanford-rna-3d-folding/MSA_v2 | shape=torch.Size([1, 14])\n"
     ]
    },
    {
     "name": "stderr",
     "output_type": "stream",
     "text": [
      " 11%|█         | 89/844 [00:24<01:22,  9.17it/s]"
     ]
    },
    {
     "name": "stdout",
     "output_type": "stream",
     "text": [
      "✅ Loaded MSA for 1E95_A from /kaggle/input/stanford-rna-3d-folding/MSA_v2 | shape=torch.Size([64, 36])\n",
      "✅ Loaded MSA for 1E95_A from /kaggle/input/stanford-rna-3d-folding/MSA_v2 | shape=torch.Size([64, 36])\n",
      "✅ Loaded MSA for 1HS2_A from /kaggle/input/stanford-rna-3d-folding/MSA_v2 | shape=torch.Size([1, 13])\n",
      "✅ Loaded MSA for 1HS2_A from /kaggle/input/stanford-rna-3d-folding/MSA_v2 | shape=torch.Size([1, 13])\n"
     ]
    },
    {
     "name": "stderr",
     "output_type": "stream",
     "text": [
      " 11%|█         | 93/844 [00:24<01:14, 10.14it/s]"
     ]
    },
    {
     "name": "stdout",
     "output_type": "stream",
     "text": [
      "✅ Loaded MSA for 1JO7_A from /kaggle/input/stanford-rna-3d-folding/MSA_v2 | shape=torch.Size([42, 31])\n",
      "✅ Loaded MSA for 1JO7_A from /kaggle/input/stanford-rna-3d-folding/MSA_v2 | shape=torch.Size([42, 31])\n",
      "✅ Loaded MSA for 1IDV_A from /kaggle/input/stanford-rna-3d-folding/MSA_v2 | shape=torch.Size([1, 10])\n",
      "✅ Loaded MSA for 1IDV_A from /kaggle/input/stanford-rna-3d-folding/MSA_v2 | shape=torch.Size([1, 10])\n",
      "✅ Loaded MSA for 1K5I_A from /kaggle/input/stanford-rna-3d-folding/MSA | shape=torch.Size([64, 23])\n",
      "✅ Loaded MSA for 1K5I_A from /kaggle/input/stanford-rna-3d-folding/MSA | shape=torch.Size([64, 23])\n"
     ]
    },
    {
     "name": "stderr",
     "output_type": "stream",
     "text": [
      " 11%|█▏        | 95/844 [00:25<01:13, 10.22it/s]"
     ]
    },
    {
     "name": "stdout",
     "output_type": "stream",
     "text": [
      "✅ Loaded MSA for 1K9W_A from /kaggle/input/stanford-rna-3d-folding/MSA | shape=torch.Size([64, 23])\n",
      "✅ Loaded MSA for 1K9W_A from /kaggle/input/stanford-rna-3d-folding/MSA | shape=torch.Size([64, 23])\n",
      "✅ Loaded MSA for 1JTW_A from /kaggle/input/stanford-rna-3d-folding/MSA | shape=torch.Size([5, 16])\n",
      "✅ Loaded MSA for 1JTW_A from /kaggle/input/stanford-rna-3d-folding/MSA | shape=torch.Size([5, 16])\n",
      "✅ Loaded MSA for 1K6G_A from /kaggle/input/stanford-rna-3d-folding/MSA_v2 | shape=torch.Size([2, 22])\n",
      "✅ Loaded MSA for 1K6G_A from /kaggle/input/stanford-rna-3d-folding/MSA_v2 | shape=torch.Size([2, 22])\n"
     ]
    },
    {
     "name": "stderr",
     "output_type": "stream",
     "text": [
      " 12%|█▏        | 99/844 [00:25<01:09, 10.74it/s]"
     ]
    },
    {
     "name": "stdout",
     "output_type": "stream",
     "text": [
      "✅ Loaded MSA for 1K4B_A from /kaggle/input/stanford-rna-3d-folding/MSA_v2 | shape=torch.Size([1, 14])\n",
      "✅ Loaded MSA for 1K4B_A from /kaggle/input/stanford-rna-3d-folding/MSA_v2 | shape=torch.Size([1, 14])\n",
      "✅ Loaded MSA for 1K4A_A from /kaggle/input/stanford-rna-3d-folding/MSA_v2 | shape=torch.Size([3, 14])\n",
      "✅ Loaded MSA for 1K4A_A from /kaggle/input/stanford-rna-3d-folding/MSA_v2 | shape=torch.Size([3, 14])\n",
      "✅ Loaded MSA for 1K6H_A from /kaggle/input/stanford-rna-3d-folding/MSA | shape=torch.Size([2, 22])\n",
      "✅ Loaded MSA for 1K6H_A from /kaggle/input/stanford-rna-3d-folding/MSA | shape=torch.Size([2, 22])\n"
     ]
    },
    {
     "name": "stderr",
     "output_type": "stream",
     "text": [
      " 12%|█▏        | 101/844 [00:25<01:13, 10.04it/s]"
     ]
    },
    {
     "name": "stdout",
     "output_type": "stream",
     "text": [
      "✅ Loaded MSA for 1JUR_A from /kaggle/input/stanford-rna-3d-folding/MSA_v2 | shape=torch.Size([12, 22])\n",
      "✅ Loaded MSA for 1JUR_A from /kaggle/input/stanford-rna-3d-folding/MSA_v2 | shape=torch.Size([12, 22])\n",
      "✅ Loaded MSA for 1KKS_A from /kaggle/input/stanford-rna-3d-folding/MSA_v2 | shape=torch.Size([64, 24])\n",
      "✅ Loaded MSA for 1KKS_A from /kaggle/input/stanford-rna-3d-folding/MSA_v2 | shape=torch.Size([64, 24])\n"
     ]
    },
    {
     "name": "stderr",
     "output_type": "stream",
     "text": [
      " 12%|█▏        | 103/844 [00:25<01:22,  9.03it/s]"
     ]
    },
    {
     "name": "stdout",
     "output_type": "stream",
     "text": [
      "✅ Loaded MSA for 1JWC_A from /kaggle/input/stanford-rna-3d-folding/MSA | shape=torch.Size([64, 28])\n",
      "✅ Loaded MSA for 1JWC_A from /kaggle/input/stanford-rna-3d-folding/MSA | shape=torch.Size([64, 28])\n",
      "✅ Loaded MSA for 1L1C_C from /kaggle/input/stanford-rna-3d-folding/MSA | shape=torch.Size([64, 29])\n",
      "✅ Loaded MSA for 1L1C_C from /kaggle/input/stanford-rna-3d-folding/MSA | shape=torch.Size([64, 29])\n"
     ]
    },
    {
     "name": "stderr",
     "output_type": "stream",
     "text": [
      " 12%|█▏        | 105/844 [00:26<01:22,  8.98it/s]"
     ]
    },
    {
     "name": "stdout",
     "output_type": "stream",
     "text": [
      "✅ Loaded MSA for 1KP7_A from /kaggle/input/stanford-rna-3d-folding/MSA | shape=torch.Size([2, 30])\n",
      "✅ Loaded MSA for 1KP7_A from /kaggle/input/stanford-rna-3d-folding/MSA | shape=torch.Size([2, 30])\n",
      "✅ Loaded MSA for 1JOX_A from /kaggle/input/stanford-rna-3d-folding/MSA | shape=torch.Size([8, 21])\n",
      "✅ Loaded MSA for 1JOX_A from /kaggle/input/stanford-rna-3d-folding/MSA | shape=torch.Size([8, 21])\n"
     ]
    },
    {
     "name": "stderr",
     "output_type": "stream",
     "text": [
      " 13%|█▎        | 107/844 [00:26<01:27,  8.43it/s]"
     ]
    },
    {
     "name": "stdout",
     "output_type": "stream",
     "text": [
      "✅ Loaded MSA for 1K2G_A from /kaggle/input/stanford-rna-3d-folding/MSA_v2 | shape=torch.Size([2, 22])\n",
      "✅ Loaded MSA for 1K2G_A from /kaggle/input/stanford-rna-3d-folding/MSA_v2 | shape=torch.Size([2, 22])\n",
      "✅ Loaded MSA for 1L1W_A from /kaggle/input/stanford-rna-3d-folding/MSA | shape=torch.Size([64, 29])\n",
      "✅ Loaded MSA for 1L1W_A from /kaggle/input/stanford-rna-3d-folding/MSA | shape=torch.Size([64, 29])\n"
     ]
    },
    {
     "name": "stderr",
     "output_type": "stream",
     "text": [
      " 13%|█▎        | 110/844 [00:26<01:06, 11.09it/s]"
     ]
    },
    {
     "name": "stdout",
     "output_type": "stream",
     "text": [
      "✅ Loaded MSA for 1LC6_A from /kaggle/input/stanford-rna-3d-folding/MSA | shape=torch.Size([64, 24])\n",
      "✅ Loaded MSA for 1LC6_A from /kaggle/input/stanford-rna-3d-folding/MSA | shape=torch.Size([64, 24])\n",
      "✅ Loaded MSA for 1KKA_A from /kaggle/input/stanford-rna-3d-folding/MSA | shape=torch.Size([32, 17])\n",
      "✅ Loaded MSA for 1KKA_A from /kaggle/input/stanford-rna-3d-folding/MSA | shape=torch.Size([32, 17])\n"
     ]
    },
    {
     "name": "stderr",
     "output_type": "stream",
     "text": [
      " 13%|█▎        | 112/844 [00:26<01:22,  8.91it/s]"
     ]
    },
    {
     "name": "stdout",
     "output_type": "stream",
     "text": [
      "✅ Loaded MSA for 1MFY_A from /kaggle/input/stanford-rna-3d-folding/MSA | shape=torch.Size([47, 31])\n",
      "✅ Loaded MSA for 1MFY_A from /kaggle/input/stanford-rna-3d-folding/MSA | shape=torch.Size([47, 31])\n",
      "✅ Loaded MSA for 1M5L_A from /kaggle/input/stanford-rna-3d-folding/MSA_v2 | shape=torch.Size([62, 38])\n",
      "✅ Loaded MSA for 1M5L_A from /kaggle/input/stanford-rna-3d-folding/MSA_v2 | shape=torch.Size([62, 38])\n"
     ]
    },
    {
     "name": "stderr",
     "output_type": "stream",
     "text": [
      " 14%|█▎        | 114/844 [00:27<01:18,  9.28it/s]"
     ]
    },
    {
     "name": "stdout",
     "output_type": "stream",
     "text": [
      "✅ Loaded MSA for 1MFJ_A from /kaggle/input/stanford-rna-3d-folding/MSA | shape=torch.Size([35, 20])\n",
      "✅ Loaded MSA for 1MFJ_A from /kaggle/input/stanford-rna-3d-folding/MSA | shape=torch.Size([35, 20])\n",
      "✅ Loaded MSA for 1MFK_A from /kaggle/input/stanford-rna-3d-folding/MSA_v2 | shape=torch.Size([18, 23])\n",
      "✅ Loaded MSA for 1MFK_A from /kaggle/input/stanford-rna-3d-folding/MSA_v2 | shape=torch.Size([18, 23])\n"
     ]
    },
    {
     "name": "stderr",
     "output_type": "stream",
     "text": [
      " 14%|█▎        | 116/844 [00:27<01:06, 10.99it/s]"
     ]
    },
    {
     "name": "stdout",
     "output_type": "stream",
     "text": [
      "✅ Loaded MSA for 1JTJ_A from /kaggle/input/stanford-rna-3d-folding/MSA | shape=torch.Size([64, 23])\n",
      "✅ Loaded MSA for 1JTJ_A from /kaggle/input/stanford-rna-3d-folding/MSA | shape=torch.Size([64, 23])\n",
      "✅ Loaded MSA for 1MT4_A from /kaggle/input/stanford-rna-3d-folding/MSA_v2 | shape=torch.Size([64, 24])\n",
      "✅ Loaded MSA for 1MT4_A from /kaggle/input/stanford-rna-3d-folding/MSA_v2 | shape=torch.Size([64, 24])\n"
     ]
    },
    {
     "name": "stderr",
     "output_type": "stream",
     "text": [
      " 14%|█▍        | 118/844 [00:27<01:19,  9.16it/s]"
     ]
    },
    {
     "name": "stdout",
     "output_type": "stream",
     "text": [
      "✅ Loaded MSA for 1MNX_A from /kaggle/input/stanford-rna-3d-folding/MSA_v2 | shape=torch.Size([64, 42])\n",
      "✅ Loaded MSA for 1MNX_A from /kaggle/input/stanford-rna-3d-folding/MSA_v2 | shape=torch.Size([64, 42])\n",
      "✅ Loaded MSA for 1NA2_A from /kaggle/input/stanford-rna-3d-folding/MSA_v2 | shape=torch.Size([64, 30])\n",
      "✅ Loaded MSA for 1NA2_A from /kaggle/input/stanford-rna-3d-folding/MSA_v2 | shape=torch.Size([64, 30])\n"
     ]
    },
    {
     "name": "stderr",
     "output_type": "stream",
     "text": [
      " 14%|█▍        | 121/844 [00:27<01:28,  8.19it/s]"
     ]
    },
    {
     "name": "stdout",
     "output_type": "stream",
     "text": [
      "✅ Loaded MSA for 1NC0_A from /kaggle/input/stanford-rna-3d-folding/MSA_v2 | shape=torch.Size([4, 24])\n",
      "✅ Loaded MSA for 1NC0_A from /kaggle/input/stanford-rna-3d-folding/MSA_v2 | shape=torch.Size([4, 24])\n",
      "✅ Loaded MSA for 1N8X_A from /kaggle/input/stanford-rna-3d-folding/MSA_v2 | shape=torch.Size([64, 36])\n",
      "✅ Loaded MSA for 1N8X_A from /kaggle/input/stanford-rna-3d-folding/MSA_v2 | shape=torch.Size([64, 36])\n"
     ]
    },
    {
     "name": "stderr",
     "output_type": "stream",
     "text": [
      " 15%|█▍        | 123/844 [00:28<01:21,  8.79it/s]"
     ]
    },
    {
     "name": "stdout",
     "output_type": "stream",
     "text": [
      "✅ Loaded MSA for 1OQ0_A from /kaggle/input/stanford-rna-3d-folding/MSA_v2 | shape=torch.Size([1, 15])\n",
      "✅ Loaded MSA for 1OQ0_A from /kaggle/input/stanford-rna-3d-folding/MSA_v2 | shape=torch.Size([1, 15])\n",
      "✅ Loaded MSA for 1OW9_A from /kaggle/input/stanford-rna-3d-folding/MSA | shape=torch.Size([13, 23])\n",
      "✅ Loaded MSA for 1OW9_A from /kaggle/input/stanford-rna-3d-folding/MSA | shape=torch.Size([13, 23])\n"
     ]
    },
    {
     "name": "stderr",
     "output_type": "stream",
     "text": [
      " 15%|█▍        | 125/844 [00:28<01:26,  8.30it/s]"
     ]
    },
    {
     "name": "stdout",
     "output_type": "stream",
     "text": [
      "✅ Loaded MSA for 1OSW_A from /kaggle/input/stanford-rna-3d-folding/MSA_v2 | shape=torch.Size([6, 23])\n",
      "✅ Loaded MSA for 1OSW_A from /kaggle/input/stanford-rna-3d-folding/MSA_v2 | shape=torch.Size([6, 23])\n",
      "✅ Loaded MSA for 1M82_A from /kaggle/input/stanford-rna-3d-folding/MSA_v2 | shape=torch.Size([59, 25])\n",
      "✅ Loaded MSA for 1M82_A from /kaggle/input/stanford-rna-3d-folding/MSA_v2 | shape=torch.Size([59, 25])\n"
     ]
    },
    {
     "name": "stderr",
     "output_type": "stream",
     "text": [
      " 15%|█▌        | 127/844 [00:28<01:30,  7.93it/s]"
     ]
    },
    {
     "name": "stdout",
     "output_type": "stream",
     "text": [
      "✅ Loaded MSA for 1NYB_B from /kaggle/input/stanford-rna-3d-folding/MSA_v2 | shape=torch.Size([10, 24])\n",
      "✅ Loaded MSA for 1NYB_B from /kaggle/input/stanford-rna-3d-folding/MSA_v2 | shape=torch.Size([10, 24])\n",
      "✅ Loaded MSA for 1PJY_A from /kaggle/input/stanford-rna-3d-folding/MSA_v2 | shape=torch.Size([64, 22])\n",
      "✅ Loaded MSA for 1PJY_A from /kaggle/input/stanford-rna-3d-folding/MSA_v2 | shape=torch.Size([64, 22])\n"
     ]
    },
    {
     "name": "stderr",
     "output_type": "stream",
     "text": [
      " 15%|█▌        | 128/844 [00:29<02:15,  5.27it/s]"
     ]
    },
    {
     "name": "stdout",
     "output_type": "stream",
     "text": [
      "✅ Loaded MSA for 1P6V_B from /kaggle/input/stanford-rna-3d-folding/MSA | shape=torch.Size([64, 68])\n",
      "✅ Loaded MSA for 1P6V_B from /kaggle/input/stanford-rna-3d-folding/MSA | shape=torch.Size([64, 68])\n"
     ]
    },
    {
     "name": "stderr",
     "output_type": "stream",
     "text": [
      " 15%|█▌        | 130/844 [00:29<02:23,  4.96it/s]"
     ]
    },
    {
     "name": "stdout",
     "output_type": "stream",
     "text": [
      "✅ Loaded MSA for 1P6V_D from /kaggle/input/stanford-rna-3d-folding/MSA_v2 | shape=torch.Size([64, 68])\n",
      "✅ Loaded MSA for 1P6V_D from /kaggle/input/stanford-rna-3d-folding/MSA_v2 | shape=torch.Size([64, 68])\n",
      "✅ Loaded MSA for 1N66_A from /kaggle/input/stanford-rna-3d-folding/MSA_v2 | shape=torch.Size([11, 22])\n",
      "✅ Loaded MSA for 1N66_A from /kaggle/input/stanford-rna-3d-folding/MSA_v2 | shape=torch.Size([11, 22])\n",
      "✅ Loaded MSA for 1HS1_A from /kaggle/input/stanford-rna-3d-folding/MSA_v2 | shape=torch.Size([1, 13])\n",
      "✅ Loaded MSA for 1HS1_A from /kaggle/input/stanford-rna-3d-folding/MSA_v2 | shape=torch.Size([1, 13])\n"
     ]
    },
    {
     "name": "stderr",
     "output_type": "stream",
     "text": [
      " 16%|█▌        | 134/844 [00:29<01:21,  8.68it/s]"
     ]
    },
    {
     "name": "stdout",
     "output_type": "stream",
     "text": [
      "✅ Loaded MSA for 1HS8_A from /kaggle/input/stanford-rna-3d-folding/MSA_v2 | shape=torch.Size([1, 13])\n",
      "✅ Loaded MSA for 1HS8_A from /kaggle/input/stanford-rna-3d-folding/MSA_v2 | shape=torch.Size([1, 13])\n",
      "✅ Loaded MSA for 1HS4_A from /kaggle/input/stanford-rna-3d-folding/MSA_v2 | shape=torch.Size([1, 13])\n",
      "✅ Loaded MSA for 1HS4_A from /kaggle/input/stanford-rna-3d-folding/MSA_v2 | shape=torch.Size([1, 13])\n",
      "✅ Loaded MSA for 1HS3_A from /kaggle/input/stanford-rna-3d-folding/MSA_v2 | shape=torch.Size([1, 13])\n",
      "✅ Loaded MSA for 1HS3_A from /kaggle/input/stanford-rna-3d-folding/MSA_v2 | shape=torch.Size([1, 13])\n",
      "✅ Loaded MSA for 1JZC_A from /kaggle/input/stanford-rna-3d-folding/MSA_v2 | shape=torch.Size([1, 13])\n",
      "✅ Loaded MSA for 1JZC_A from /kaggle/input/stanford-rna-3d-folding/MSA_v2 | shape=torch.Size([1, 13])\n"
     ]
    },
    {
     "name": "stderr",
     "output_type": "stream",
     "text": [
      " 16%|█▋        | 139/844 [00:30<01:13,  9.63it/s]"
     ]
    },
    {
     "name": "stdout",
     "output_type": "stream",
     "text": [
      "✅ Loaded MSA for 1P5M_A from /kaggle/input/stanford-rna-3d-folding/MSA | shape=torch.Size([64, 55])\n",
      "✅ Loaded MSA for 1P5M_A from /kaggle/input/stanford-rna-3d-folding/MSA | shape=torch.Size([64, 55])\n",
      "✅ Loaded MSA for 1P5N_A from /kaggle/input/stanford-rna-3d-folding/MSA_v2 | shape=torch.Size([64, 34])\n",
      "✅ Loaded MSA for 1P5N_A from /kaggle/input/stanford-rna-3d-folding/MSA_v2 | shape=torch.Size([64, 34])\n"
     ]
    },
    {
     "name": "stderr",
     "output_type": "stream",
     "text": [
      " 17%|█▋        | 144/844 [00:30<01:04, 10.86it/s]"
     ]
    },
    {
     "name": "stdout",
     "output_type": "stream",
     "text": [
      "✅ Loaded MSA for 1P5P_A from /kaggle/input/stanford-rna-3d-folding/MSA_v2 | shape=torch.Size([64, 77])\n",
      "✅ Loaded MSA for 1P5P_A from /kaggle/input/stanford-rna-3d-folding/MSA_v2 | shape=torch.Size([64, 77])\n",
      "✅ Loaded MSA for 1QWB_A from /kaggle/input/stanford-rna-3d-folding/MSA | shape=torch.Size([6, 26])\n",
      "✅ Loaded MSA for 1QWB_A from /kaggle/input/stanford-rna-3d-folding/MSA | shape=torch.Size([6, 26])\n"
     ]
    },
    {
     "name": "stderr",
     "output_type": "stream",
     "text": [
      " 17%|█▋        | 146/844 [00:30<01:04, 10.85it/s]"
     ]
    },
    {
     "name": "stdout",
     "output_type": "stream",
     "text": [
      "✅ Loaded MSA for 1QWA_A from /kaggle/input/stanford-rna-3d-folding/MSA | shape=torch.Size([9, 21])\n",
      "✅ Loaded MSA for 1QWA_A from /kaggle/input/stanford-rna-3d-folding/MSA | shape=torch.Size([9, 21])\n",
      "✅ Loaded MSA for 1Q75_A from /kaggle/input/stanford-rna-3d-folding/MSA_v2 | shape=torch.Size([1, 15])\n",
      "✅ Loaded MSA for 1Q75_A from /kaggle/input/stanford-rna-3d-folding/MSA_v2 | shape=torch.Size([1, 15])\n"
     ]
    },
    {
     "name": "stderr",
     "output_type": "stream",
     "text": [
      " 18%|█▊        | 148/844 [00:31<01:16,  9.11it/s]"
     ]
    },
    {
     "name": "stdout",
     "output_type": "stream",
     "text": [
      "✅ Loaded MSA for 1R2P_A from /kaggle/input/stanford-rna-3d-folding/MSA | shape=torch.Size([64, 34])\n",
      "✅ Loaded MSA for 1R2P_A from /kaggle/input/stanford-rna-3d-folding/MSA | shape=torch.Size([64, 34])\n",
      "✅ Loaded MSA for 1RFR_A from /kaggle/input/stanford-rna-3d-folding/MSA_v2 | shape=torch.Size([64, 30])\n",
      "✅ Loaded MSA for 1RFR_A from /kaggle/input/stanford-rna-3d-folding/MSA_v2 | shape=torch.Size([64, 30])\n",
      "✅ Loaded MSA for 1S9S_A from /kaggle/input/stanford-rna-3d-folding/MSA | shape=torch.Size([64, 101])\n",
      "✅ Loaded MSA for 1S9S_A from /kaggle/input/stanford-rna-3d-folding/MSA | shape=torch.Size([64, 101])\n"
     ]
    },
    {
     "name": "stderr",
     "output_type": "stream",
     "text": [
      " 18%|█▊        | 151/844 [00:32<02:15,  5.10it/s]"
     ]
    },
    {
     "name": "stdout",
     "output_type": "stream",
     "text": [
      "✅ Loaded MSA for 1RY1_E from /kaggle/input/stanford-rna-3d-folding/MSA | shape=torch.Size([64, 50])\n",
      "✅ Loaded MSA for 1RY1_E from /kaggle/input/stanford-rna-3d-folding/MSA | shape=torch.Size([64, 50])\n",
      "✅ Loaded MSA for 1SZY_A from /kaggle/input/stanford-rna-3d-folding/MSA | shape=torch.Size([64, 21])\n",
      "✅ Loaded MSA for 1SZY_A from /kaggle/input/stanford-rna-3d-folding/MSA | shape=torch.Size([64, 21])\n",
      "✅ Loaded MSA for 1ROQ_A from /kaggle/input/stanford-rna-3d-folding/MSA_v2 | shape=torch.Size([1, 14])\n",
      "✅ Loaded MSA for 1ROQ_A from /kaggle/input/stanford-rna-3d-folding/MSA_v2 | shape=torch.Size([1, 14])\n"
     ]
    },
    {
     "name": "stderr",
     "output_type": "stream",
     "text": [
      " 18%|█▊        | 154/844 [00:32<01:53,  6.08it/s]"
     ]
    },
    {
     "name": "stdout",
     "output_type": "stream",
     "text": [
      "✅ Loaded MSA for 1R7W_A from /kaggle/input/stanford-rna-3d-folding/MSA_v2 | shape=torch.Size([64, 34])\n",
      "✅ Loaded MSA for 1R7W_A from /kaggle/input/stanford-rna-3d-folding/MSA_v2 | shape=torch.Size([64, 34])\n",
      "✅ Loaded MSA for 1R7Z_A from /kaggle/input/stanford-rna-3d-folding/MSA_v2 | shape=torch.Size([64, 34])\n",
      "✅ Loaded MSA for 1R7Z_A from /kaggle/input/stanford-rna-3d-folding/MSA_v2 | shape=torch.Size([64, 34])\n"
     ]
    },
    {
     "name": "stderr",
     "output_type": "stream",
     "text": [
      " 18%|█▊        | 155/844 [00:32<01:50,  6.21it/s]"
     ]
    },
    {
     "name": "stdout",
     "output_type": "stream",
     "text": [
      "✅ Loaded MSA for 1T4L_A from /kaggle/input/stanford-rna-3d-folding/MSA | shape=torch.Size([64, 32])\n",
      "✅ Loaded MSA for 1T4L_A from /kaggle/input/stanford-rna-3d-folding/MSA | shape=torch.Size([64, 32])\n",
      "✅ Loaded MSA for 1WKS_A from /kaggle/input/stanford-rna-3d-folding/MSA_v2 | shape=torch.Size([50, 17])\n",
      "✅ Loaded MSA for 1WKS_A from /kaggle/input/stanford-rna-3d-folding/MSA_v2 | shape=torch.Size([50, 17])\n"
     ]
    },
    {
     "name": "stderr",
     "output_type": "stream",
     "text": [
      " 19%|█▊        | 158/844 [00:33<01:33,  7.31it/s]"
     ]
    },
    {
     "name": "stdout",
     "output_type": "stream",
     "text": [
      "✅ Loaded MSA for 1T28_A from /kaggle/input/stanford-rna-3d-folding/MSA_v2 | shape=torch.Size([64, 34])\n",
      "✅ Loaded MSA for 1T28_A from /kaggle/input/stanford-rna-3d-folding/MSA_v2 | shape=torch.Size([64, 34])\n",
      "✅ Loaded MSA for 1S34_A from /kaggle/input/stanford-rna-3d-folding/MSA | shape=torch.Size([34, 23])\n",
      "✅ Loaded MSA for 1S34_A from /kaggle/input/stanford-rna-3d-folding/MSA | shape=torch.Size([34, 23])\n"
     ]
    },
    {
     "name": "stderr",
     "output_type": "stream",
     "text": [
      " 19%|█▉        | 160/844 [00:33<01:37,  7.05it/s]"
     ]
    },
    {
     "name": "stdout",
     "output_type": "stream",
     "text": [
      "✅ Loaded MSA for 1TJZ_A from /kaggle/input/stanford-rna-3d-folding/MSA | shape=torch.Size([3, 22])\n",
      "✅ Loaded MSA for 1TJZ_A from /kaggle/input/stanford-rna-3d-folding/MSA | shape=torch.Size([3, 22])\n",
      "✅ Loaded MSA for 1TXS_A from /kaggle/input/stanford-rna-3d-folding/MSA_v2 | shape=torch.Size([64, 38])\n",
      "✅ Loaded MSA for 1TXS_A from /kaggle/input/stanford-rna-3d-folding/MSA_v2 | shape=torch.Size([64, 38])\n"
     ]
    },
    {
     "name": "stderr",
     "output_type": "stream",
     "text": [
      " 19%|█▉        | 162/844 [00:33<01:25,  7.96it/s]"
     ]
    },
    {
     "name": "stdout",
     "output_type": "stream",
     "text": [
      "✅ Loaded MSA for 1R4H_A from /kaggle/input/stanford-rna-3d-folding/MSA | shape=torch.Size([1, 10])\n",
      "✅ Loaded MSA for 1R4H_A from /kaggle/input/stanford-rna-3d-folding/MSA | shape=torch.Size([1, 10])\n",
      "✅ Loaded MSA for 1XHP_A from /kaggle/input/stanford-rna-3d-folding/MSA_v2 | shape=torch.Size([64, 32])\n",
      "✅ Loaded MSA for 1XHP_A from /kaggle/input/stanford-rna-3d-folding/MSA_v2 | shape=torch.Size([64, 32])\n"
     ]
    },
    {
     "name": "stderr",
     "output_type": "stream",
     "text": [
      " 20%|█▉        | 165/844 [00:33<01:09,  9.73it/s]"
     ]
    },
    {
     "name": "stdout",
     "output_type": "stream",
     "text": [
      "✅ Loaded MSA for 1XSG_A from /kaggle/input/stanford-rna-3d-folding/MSA | shape=torch.Size([64, 27])\n",
      "✅ Loaded MSA for 1XSG_A from /kaggle/input/stanford-rna-3d-folding/MSA | shape=torch.Size([64, 27])\n",
      "✅ Loaded MSA for 1XSH_A from /kaggle/input/stanford-rna-3d-folding/MSA | shape=torch.Size([64, 27])\n",
      "✅ Loaded MSA for 1XSH_A from /kaggle/input/stanford-rna-3d-folding/MSA | shape=torch.Size([64, 27])\n"
     ]
    },
    {
     "name": "stderr",
     "output_type": "stream",
     "text": [
      " 20%|█▉        | 167/844 [00:34<01:17,  8.70it/s]"
     ]
    },
    {
     "name": "stdout",
     "output_type": "stream",
     "text": [
      "✅ Loaded MSA for 1YLG_A from /kaggle/input/stanford-rna-3d-folding/MSA | shape=torch.Size([47, 31])\n",
      "✅ Loaded MSA for 1YLG_A from /kaggle/input/stanford-rna-3d-folding/MSA | shape=torch.Size([47, 31])\n",
      "✅ Loaded MSA for 1YNE_A from /kaggle/input/stanford-rna-3d-folding/MSA | shape=torch.Size([64, 31])\n",
      "✅ Loaded MSA for 1YNE_A from /kaggle/input/stanford-rna-3d-folding/MSA | shape=torch.Size([64, 31])\n"
     ]
    },
    {
     "name": "stderr",
     "output_type": "stream",
     "text": [
      " 20%|██        | 169/844 [00:34<01:10,  9.59it/s]"
     ]
    },
    {
     "name": "stdout",
     "output_type": "stream",
     "text": [
      "✅ Loaded MSA for 1XWU_A from /kaggle/input/stanford-rna-3d-folding/MSA | shape=torch.Size([1, 16])\n",
      "✅ Loaded MSA for 1XWU_A from /kaggle/input/stanford-rna-3d-folding/MSA | shape=torch.Size([1, 16])\n",
      "✅ Loaded MSA for 1XWP_A from /kaggle/input/stanford-rna-3d-folding/MSA_v2 | shape=torch.Size([1, 15])\n",
      "✅ Loaded MSA for 1XWP_A from /kaggle/input/stanford-rna-3d-folding/MSA_v2 | shape=torch.Size([1, 15])\n",
      "✅ Loaded MSA for 1TBK_A from /kaggle/input/stanford-rna-3d-folding/MSA | shape=torch.Size([1, 17])\n",
      "✅ Loaded MSA for 1TBK_A from /kaggle/input/stanford-rna-3d-folding/MSA | shape=torch.Size([1, 17])\n"
     ]
    },
    {
     "name": "stderr",
     "output_type": "stream",
     "text": [
      " 20%|██        | 172/844 [00:34<01:21,  8.26it/s]"
     ]
    },
    {
     "name": "stdout",
     "output_type": "stream",
     "text": [
      "✅ Loaded MSA for 1YMO_A from /kaggle/input/stanford-rna-3d-folding/MSA | shape=torch.Size([64, 47])\n",
      "✅ Loaded MSA for 1YMO_A from /kaggle/input/stanford-rna-3d-folding/MSA | shape=torch.Size([64, 47])\n",
      "✅ Loaded MSA for 1Z31_A from /kaggle/input/stanford-rna-3d-folding/MSA | shape=torch.Size([10, 32])\n",
      "✅ Loaded MSA for 1Z31_A from /kaggle/input/stanford-rna-3d-folding/MSA | shape=torch.Size([10, 32])\n"
     ]
    },
    {
     "name": "stderr",
     "output_type": "stream",
     "text": [
      " 21%|██▏       | 180/844 [00:35<00:39, 16.62it/s]"
     ]
    },
    {
     "name": "stdout",
     "output_type": "stream",
     "text": [
      "✅ Loaded MSA for 1U63_D from /kaggle/input/stanford-rna-3d-folding/MSA | shape=torch.Size([43, 49])\n",
      "✅ Loaded MSA for 1U63_D from /kaggle/input/stanford-rna-3d-folding/MSA | shape=torch.Size([43, 49])\n",
      "✅ Loaded MSA for 1Z30_A from /kaggle/input/stanford-rna-3d-folding/MSA_v2 | shape=torch.Size([1, 18])\n",
      "✅ Loaded MSA for 1Z30_A from /kaggle/input/stanford-rna-3d-folding/MSA_v2 | shape=torch.Size([1, 18])\n"
     ]
    },
    {
     "name": "stderr",
     "output_type": "stream",
     "text": [
      " 22%|██▏       | 184/844 [00:35<00:38, 16.93it/s]"
     ]
    },
    {
     "name": "stdout",
     "output_type": "stream",
     "text": [
      "✅ Loaded MSA for 1ZC5_A from /kaggle/input/stanford-rna-3d-folding/MSA_v2 | shape=torch.Size([64, 41])\n",
      "✅ Loaded MSA for 1ZC5_A from /kaggle/input/stanford-rna-3d-folding/MSA_v2 | shape=torch.Size([64, 41])\n"
     ]
    },
    {
     "name": "stderr",
     "output_type": "stream",
     "text": [
      " 22%|██▏       | 186/844 [00:35<00:45, 14.58it/s]"
     ]
    },
    {
     "name": "stdout",
     "output_type": "stream",
     "text": [
      "✅ Loaded MSA for 1Z2J_A from /kaggle/input/stanford-rna-3d-folding/MSA | shape=torch.Size([64, 45])\n",
      "✅ Loaded MSA for 1Z2J_A from /kaggle/input/stanford-rna-3d-folding/MSA | shape=torch.Size([64, 45])\n"
     ]
    },
    {
     "name": "stderr",
     "output_type": "stream",
     "text": [
      " 22%|██▏       | 188/844 [00:36<01:20,  8.11it/s]"
     ]
    },
    {
     "name": "stdout",
     "output_type": "stream",
     "text": [
      "✅ Loaded MSA for 1YSH_B from /kaggle/input/stanford-rna-3d-folding/MSA | shape=torch.Size([64, 101])\n",
      "✅ Loaded MSA for 1YSH_B from /kaggle/input/stanford-rna-3d-folding/MSA | shape=torch.Size([64, 101])\n",
      "✅ Loaded MSA for 1YSH_A from /kaggle/input/stanford-rna-3d-folding/MSA | shape=torch.Size([64, 28])\n",
      "✅ Loaded MSA for 1YSH_A from /kaggle/input/stanford-rna-3d-folding/MSA | shape=torch.Size([64, 28])\n"
     ]
    },
    {
     "name": "stderr",
     "output_type": "stream",
     "text": [
      " 23%|██▎       | 190/844 [00:36<01:22,  7.91it/s]"
     ]
    },
    {
     "name": "stdout",
     "output_type": "stream",
     "text": [
      "✅ Loaded MSA for 1YSH_F from /kaggle/input/stanford-rna-3d-folding/MSA_v2 | shape=torch.Size([64, 34])\n",
      "✅ Loaded MSA for 1YSH_F from /kaggle/input/stanford-rna-3d-folding/MSA_v2 | shape=torch.Size([64, 34])\n",
      "✅ Loaded MSA for 1YSV_A from /kaggle/input/stanford-rna-3d-folding/MSA_v2 | shape=torch.Size([37, 27])\n",
      "✅ Loaded MSA for 1YSV_A from /kaggle/input/stanford-rna-3d-folding/MSA_v2 | shape=torch.Size([37, 27])\n",
      "✅ Loaded MSA for 2ADT_A from /kaggle/input/stanford-rna-3d-folding/MSA | shape=torch.Size([64, 43])\n",
      "✅ Loaded MSA for 2ADT_A from /kaggle/input/stanford-rna-3d-folding/MSA | shape=torch.Size([64, 43])\n"
     ]
    },
    {
     "name": "stderr",
     "output_type": "stream",
     "text": [
      " 23%|██▎       | 192/844 [00:37<02:23,  4.54it/s]"
     ]
    },
    {
     "name": "stdout",
     "output_type": "stream",
     "text": [
      "✅ Loaded MSA for 1WZ2_D from /kaggle/input/stanford-rna-3d-folding/MSA_v2 | shape=torch.Size([64, 88])\n",
      "✅ Loaded MSA for 1WZ2_D from /kaggle/input/stanford-rna-3d-folding/MSA_v2 | shape=torch.Size([64, 88])\n",
      "✅ Loaded MSA for 2D19_A from /kaggle/input/stanford-rna-3d-folding/MSA | shape=torch.Size([31, 17])\n",
      "✅ Loaded MSA for 2D19_A from /kaggle/input/stanford-rna-3d-folding/MSA | shape=torch.Size([31, 17])\n"
     ]
    },
    {
     "name": "stderr",
     "output_type": "stream",
     "text": [
      " 23%|██▎       | 196/844 [00:37<01:49,  5.90it/s]"
     ]
    },
    {
     "name": "stdout",
     "output_type": "stream",
     "text": [
      "✅ Loaded MSA for 2D1B_B from /kaggle/input/stanford-rna-3d-folding/MSA_v2 | shape=torch.Size([64, 39])\n",
      "✅ Loaded MSA for 2D1B_B from /kaggle/input/stanford-rna-3d-folding/MSA_v2 | shape=torch.Size([64, 39])\n",
      "✅ Loaded MSA for 2EUY_A from /kaggle/input/stanford-rna-3d-folding/MSA_v2 | shape=torch.Size([64, 34])\n",
      "✅ Loaded MSA for 2EUY_A from /kaggle/input/stanford-rna-3d-folding/MSA_v2 | shape=torch.Size([64, 34])\n"
     ]
    },
    {
     "name": "stderr",
     "output_type": "stream",
     "text": [
      " 23%|██▎       | 198/844 [00:38<01:36,  6.68it/s]"
     ]
    },
    {
     "name": "stdout",
     "output_type": "stream",
     "text": [
      "✅ Loaded MSA for 2B6G_B from /kaggle/input/stanford-rna-3d-folding/MSA_v2 | shape=torch.Size([16, 19])\n",
      "✅ Loaded MSA for 2B6G_B from /kaggle/input/stanford-rna-3d-folding/MSA_v2 | shape=torch.Size([16, 19])\n",
      "✅ Loaded MSA for 2ESE_B from /kaggle/input/stanford-rna-3d-folding/MSA_v2 | shape=torch.Size([64, 23])\n",
      "✅ Loaded MSA for 2ESE_B from /kaggle/input/stanford-rna-3d-folding/MSA_v2 | shape=torch.Size([64, 23])\n"
     ]
    },
    {
     "name": "stderr",
     "output_type": "stream",
     "text": [
      " 24%|██▎       | 200/844 [00:38<01:36,  6.68it/s]"
     ]
    },
    {
     "name": "stdout",
     "output_type": "stream",
     "text": [
      "✅ Loaded MSA for 2F4X_B from /kaggle/input/stanford-rna-3d-folding/MSA | shape=torch.Size([64, 24])\n",
      "✅ Loaded MSA for 2F4X_B from /kaggle/input/stanford-rna-3d-folding/MSA | shape=torch.Size([64, 24])\n",
      "✅ Loaded MSA for 2F88_A from /kaggle/input/stanford-rna-3d-folding/MSA_v2 | shape=torch.Size([64, 34])\n",
      "✅ Loaded MSA for 2F88_A from /kaggle/input/stanford-rna-3d-folding/MSA_v2 | shape=torch.Size([64, 34])\n"
     ]
    },
    {
     "name": "stderr",
     "output_type": "stream",
     "text": [
      " 24%|██▍       | 203/844 [00:38<01:18,  8.17it/s]"
     ]
    },
    {
     "name": "stdout",
     "output_type": "stream",
     "text": [
      "✅ Loaded MSA for 2BQ5_S from /kaggle/input/stanford-rna-3d-folding/MSA_v2 | shape=torch.Size([6, 19])\n",
      "✅ Loaded MSA for 2BQ5_S from /kaggle/input/stanford-rna-3d-folding/MSA_v2 | shape=torch.Size([6, 19])\n",
      "✅ Loaded MSA for 2BS0_R from /kaggle/input/stanford-rna-3d-folding/MSA_v2 | shape=torch.Size([11, 20])\n",
      "✅ Loaded MSA for 2BS0_R from /kaggle/input/stanford-rna-3d-folding/MSA_v2 | shape=torch.Size([11, 20])\n",
      "✅ Loaded MSA for 2BQ5_R from /kaggle/input/stanford-rna-3d-folding/MSA | shape=torch.Size([6, 19])\n",
      "✅ Loaded MSA for 2BQ5_R from /kaggle/input/stanford-rna-3d-folding/MSA | shape=torch.Size([6, 19])\n"
     ]
    },
    {
     "name": "stderr",
     "output_type": "stream",
     "text": [
      " 24%|██▍       | 205/844 [00:38<01:13,  8.69it/s]"
     ]
    },
    {
     "name": "stdout",
     "output_type": "stream",
     "text": [
      "✅ Loaded MSA for 2BS0_S from /kaggle/input/stanford-rna-3d-folding/MSA | shape=torch.Size([11, 20])\n",
      "✅ Loaded MSA for 2BS0_S from /kaggle/input/stanford-rna-3d-folding/MSA | shape=torch.Size([11, 20])\n",
      "✅ Loaded MSA for 2G1W_A from /kaggle/input/stanford-rna-3d-folding/MSA | shape=torch.Size([11, 22])\n",
      "✅ Loaded MSA for 2G1W_A from /kaggle/input/stanford-rna-3d-folding/MSA | shape=torch.Size([11, 22])\n"
     ]
    },
    {
     "name": "stderr",
     "output_type": "stream",
     "text": [
      " 24%|██▍       | 206/844 [00:38<01:13,  8.63it/s]"
     ]
    },
    {
     "name": "stdout",
     "output_type": "stream",
     "text": [
      "✅ Loaded MSA for 2B2E_R from /kaggle/input/stanford-rna-3d-folding/MSA | shape=torch.Size([6, 19])\n",
      "✅ Loaded MSA for 2B2E_R from /kaggle/input/stanford-rna-3d-folding/MSA | shape=torch.Size([6, 19])\n",
      "✅ Loaded MSA for 2B2E_S from /kaggle/input/stanford-rna-3d-folding/MSA_v2 | shape=torch.Size([6, 19])\n",
      "✅ Loaded MSA for 2B2E_S from /kaggle/input/stanford-rna-3d-folding/MSA_v2 | shape=torch.Size([6, 19])\n"
     ]
    },
    {
     "name": "stderr",
     "output_type": "stream",
     "text": [
      " 25%|██▍       | 208/844 [00:39<01:53,  5.60it/s]"
     ]
    },
    {
     "name": "stdout",
     "output_type": "stream",
     "text": [
      "✅ Loaded MSA for 2GO5_9 from /kaggle/input/stanford-rna-3d-folding/MSA | shape=torch.Size([64, 90])\n",
      "✅ Loaded MSA for 2GO5_9 from /kaggle/input/stanford-rna-3d-folding/MSA | shape=torch.Size([64, 90])\n"
     ]
    },
    {
     "name": "stderr",
     "output_type": "stream",
     "text": [
      " 25%|██▍       | 210/844 [00:40<02:35,  4.09it/s]"
     ]
    },
    {
     "name": "stdout",
     "output_type": "stream",
     "text": [
      "✅ Loaded MSA for 2GO5_A from /kaggle/input/stanford-rna-3d-folding/MSA_v2 | shape=torch.Size([64, 127])\n",
      "✅ Loaded MSA for 2GO5_A from /kaggle/input/stanford-rna-3d-folding/MSA_v2 | shape=torch.Size([64, 127])\n",
      "✅ Loaded MSA for 2GIP_A from /kaggle/input/stanford-rna-3d-folding/MSA | shape=torch.Size([64, 28])\n",
      "✅ Loaded MSA for 2GIP_A from /kaggle/input/stanford-rna-3d-folding/MSA | shape=torch.Size([64, 28])\n"
     ]
    },
    {
     "name": "stderr",
     "output_type": "stream",
     "text": [
      " 25%|██▌       | 212/844 [00:40<02:09,  4.88it/s]"
     ]
    },
    {
     "name": "stdout",
     "output_type": "stream",
     "text": [
      "✅ Loaded MSA for 2GIO_A from /kaggle/input/stanford-rna-3d-folding/MSA | shape=torch.Size([64, 29])\n",
      "✅ Loaded MSA for 2GIO_A from /kaggle/input/stanford-rna-3d-folding/MSA | shape=torch.Size([64, 29])\n",
      "✅ Loaded MSA for 2FEY_A from /kaggle/input/stanford-rna-3d-folding/MSA_v2 | shape=torch.Size([28, 43])\n",
      "✅ Loaded MSA for 2FEY_A from /kaggle/input/stanford-rna-3d-folding/MSA_v2 | shape=torch.Size([28, 43])\n"
     ]
    },
    {
     "name": "stderr",
     "output_type": "stream",
     "text": [
      " 25%|██▌       | 213/844 [00:41<03:29,  3.01it/s]"
     ]
    },
    {
     "name": "stdout",
     "output_type": "stream",
     "text": [
      "✅ Loaded MSA for 2AKE_B from /kaggle/input/stanford-rna-3d-folding/MSA_v2 | shape=torch.Size([64, 72])\n",
      "✅ Loaded MSA for 2AKE_B from /kaggle/input/stanford-rna-3d-folding/MSA_v2 | shape=torch.Size([64, 72])\n"
     ]
    },
    {
     "name": "stderr",
     "output_type": "stream",
     "text": [
      " 26%|██▌       | 217/844 [00:41<01:53,  5.54it/s]"
     ]
    },
    {
     "name": "stdout",
     "output_type": "stream",
     "text": [
      "✅ Loaded MSA for 2DR2_B from /kaggle/input/stanford-rna-3d-folding/MSA | shape=torch.Size([64, 75])\n",
      "✅ Loaded MSA for 2DR2_B from /kaggle/input/stanford-rna-3d-folding/MSA | shape=torch.Size([64, 75])\n",
      "✅ Loaded MSA for 2IZN_S from /kaggle/input/stanford-rna-3d-folding/MSA_v2 | shape=torch.Size([1, 19])\n",
      "✅ Loaded MSA for 2IZN_S from /kaggle/input/stanford-rna-3d-folding/MSA_v2 | shape=torch.Size([1, 19])\n"
     ]
    },
    {
     "name": "stderr",
     "output_type": "stream",
     "text": [
      " 26%|██▌       | 219/844 [00:41<01:33,  6.69it/s]"
     ]
    },
    {
     "name": "stdout",
     "output_type": "stream",
     "text": [
      "✅ Loaded MSA for 2IZ8_R from /kaggle/input/stanford-rna-3d-folding/MSA_v2 | shape=torch.Size([8, 19])\n",
      "✅ Loaded MSA for 2IZ8_R from /kaggle/input/stanford-rna-3d-folding/MSA_v2 | shape=torch.Size([8, 19])\n",
      "✅ Loaded MSA for 2IZ8_S from /kaggle/input/stanford-rna-3d-folding/MSA | shape=torch.Size([8, 19])\n",
      "✅ Loaded MSA for 2IZ8_S from /kaggle/input/stanford-rna-3d-folding/MSA | shape=torch.Size([8, 19])\n"
     ]
    },
    {
     "name": "stderr",
     "output_type": "stream",
     "text": [
      " 26%|██▋       | 222/844 [00:42<01:51,  5.60it/s]"
     ]
    },
    {
     "name": "stdout",
     "output_type": "stream",
     "text": [
      "✅ Loaded MSA for 2HGH_B from /kaggle/input/stanford-rna-3d-folding/MSA_v2 | shape=torch.Size([64, 55])\n",
      "✅ Loaded MSA for 2HGH_B from /kaggle/input/stanford-rna-3d-folding/MSA_v2 | shape=torch.Size([64, 55])\n",
      "✅ Loaded MSA for 2F87_A from /kaggle/input/stanford-rna-3d-folding/MSA_v2 | shape=torch.Size([1, 12])\n",
      "✅ Loaded MSA for 2F87_A from /kaggle/input/stanford-rna-3d-folding/MSA_v2 | shape=torch.Size([1, 12])\n",
      "✅ Loaded MSA for 2GV3_A from /kaggle/input/stanford-rna-3d-folding/MSA | shape=torch.Size([3, 22])\n",
      "✅ Loaded MSA for 2GV3_A from /kaggle/input/stanford-rna-3d-folding/MSA | shape=torch.Size([3, 22])\n"
     ]
    },
    {
     "name": "stderr",
     "output_type": "stream",
     "text": [
      " 26%|██▋       | 223/844 [00:43<02:22,  4.35it/s]"
     ]
    },
    {
     "name": "stdout",
     "output_type": "stream",
     "text": [
      "✅ Loaded MSA for 2DER_D from /kaggle/input/stanford-rna-3d-folding/MSA | shape=torch.Size([64, 76])\n",
      "✅ Loaded MSA for 2DER_D from /kaggle/input/stanford-rna-3d-folding/MSA | shape=torch.Size([64, 76])\n"
     ]
    },
    {
     "name": "stderr",
     "output_type": "stream",
     "text": [
      " 27%|██▋       | 226/844 [00:43<02:28,  4.15it/s]"
     ]
    },
    {
     "name": "stdout",
     "output_type": "stream",
     "text": [
      "✅ Loaded MSA for 2DET_C from /kaggle/input/stanford-rna-3d-folding/MSA_v2 | shape=torch.Size([64, 76])\n",
      "✅ Loaded MSA for 2DET_C from /kaggle/input/stanford-rna-3d-folding/MSA_v2 | shape=torch.Size([64, 76])\n",
      "✅ Loaded MSA for 2EVY_A from /kaggle/input/stanford-rna-3d-folding/MSA_v2 | shape=torch.Size([1, 14])\n",
      "✅ Loaded MSA for 2EVY_A from /kaggle/input/stanford-rna-3d-folding/MSA_v2 | shape=torch.Size([1, 14])\n",
      "✅ Loaded MSA for 2IXY_A from /kaggle/input/stanford-rna-3d-folding/MSA_v2 | shape=torch.Size([64, 27])\n",
      "✅ Loaded MSA for 2IXY_A from /kaggle/input/stanford-rna-3d-folding/MSA_v2 | shape=torch.Size([64, 27])\n"
     ]
    },
    {
     "name": "stderr",
     "output_type": "stream",
     "text": [
      " 27%|██▋       | 228/844 [00:44<01:53,  5.41it/s]"
     ]
    },
    {
     "name": "stdout",
     "output_type": "stream",
     "text": [
      "✅ Loaded MSA for 2IXZ_A from /kaggle/input/stanford-rna-3d-folding/MSA | shape=torch.Size([1, 8])\n",
      "✅ Loaded MSA for 2IXZ_A from /kaggle/input/stanford-rna-3d-folding/MSA | shape=torch.Size([1, 8])\n",
      "✅ Loaded MSA for 2HEM_A from /kaggle/input/stanford-rna-3d-folding/MSA | shape=torch.Size([64, 24])\n",
      "✅ Loaded MSA for 2HEM_A from /kaggle/input/stanford-rna-3d-folding/MSA | shape=torch.Size([64, 24])\n"
     ]
    },
    {
     "name": "stderr",
     "output_type": "stream",
     "text": [
      " 27%|██▋       | 230/844 [00:44<01:36,  6.35it/s]"
     ]
    },
    {
     "name": "stdout",
     "output_type": "stream",
     "text": [
      "✅ Loaded MSA for 1ZBH_E from /kaggle/input/stanford-rna-3d-folding/MSA | shape=torch.Size([64, 20])\n",
      "✅ Loaded MSA for 1ZBH_E from /kaggle/input/stanford-rna-3d-folding/MSA | shape=torch.Size([64, 20])\n",
      "✅ Loaded MSA for 2AHT_A from /kaggle/input/stanford-rna-3d-folding/MSA_v2 | shape=torch.Size([6, 27])\n",
      "✅ Loaded MSA for 2AHT_A from /kaggle/input/stanford-rna-3d-folding/MSA_v2 | shape=torch.Size([6, 27])\n"
     ]
    },
    {
     "name": "stderr",
     "output_type": "stream",
     "text": [
      " 27%|██▋       | 231/844 [00:44<01:28,  6.91it/s]"
     ]
    },
    {
     "name": "stdout",
     "output_type": "stream",
     "text": [
      "✅ Loaded MSA for 2HNS_A from /kaggle/input/stanford-rna-3d-folding/MSA_v2 | shape=torch.Size([4, 22])\n",
      "✅ Loaded MSA for 2HNS_A from /kaggle/input/stanford-rna-3d-folding/MSA_v2 | shape=torch.Size([4, 22])\n"
     ]
    },
    {
     "name": "stderr",
     "output_type": "stream",
     "text": [
      " 28%|██▊       | 233/844 [00:44<01:36,  6.31it/s]"
     ]
    },
    {
     "name": "stdout",
     "output_type": "stream",
     "text": [
      "✅ Loaded MSA for 2J28_8 from /kaggle/input/stanford-rna-3d-folding/MSA_v2 | shape=torch.Size([64, 74])\n",
      "✅ Loaded MSA for 2J28_8 from /kaggle/input/stanford-rna-3d-folding/MSA_v2 | shape=torch.Size([64, 74])\n"
     ]
    },
    {
     "name": "stderr",
     "output_type": "stream",
     "text": [
      " 28%|██▊       | 234/844 [00:45<02:39,  3.82it/s]"
     ]
    },
    {
     "name": "stdout",
     "output_type": "stream",
     "text": [
      "✅ Loaded MSA for 2J37_A from /kaggle/input/stanford-rna-3d-folding/MSA_v2 | shape=torch.Size([64, 128])\n",
      "✅ Loaded MSA for 2J37_A from /kaggle/input/stanford-rna-3d-folding/MSA_v2 | shape=torch.Size([64, 128])\n"
     ]
    },
    {
     "name": "stderr",
     "output_type": "stream",
     "text": [
      " 28%|██▊       | 235/844 [00:45<03:25,  2.96it/s]"
     ]
    },
    {
     "name": "stdout",
     "output_type": "stream",
     "text": [
      "✅ Loaded MSA for 2J28_A from /kaggle/input/stanford-rna-3d-folding/MSA | shape=torch.Size([64, 117])\n",
      "✅ Loaded MSA for 2J28_A from /kaggle/input/stanford-rna-3d-folding/MSA | shape=torch.Size([64, 117])\n"
     ]
    },
    {
     "name": "stderr",
     "output_type": "stream",
     "text": [
      " 28%|██▊       | 236/844 [00:46<03:06,  3.27it/s]"
     ]
    },
    {
     "name": "stdout",
     "output_type": "stream",
     "text": [
      "✅ Loaded MSA for 2NOQ_B from /kaggle/input/stanford-rna-3d-folding/MSA | shape=torch.Size([64, 46])\n",
      "✅ Loaded MSA for 2NOQ_B from /kaggle/input/stanford-rna-3d-folding/MSA | shape=torch.Size([64, 46])\n"
     ]
    },
    {
     "name": "stderr",
     "output_type": "stream",
     "text": [
      " 28%|██▊       | 237/844 [00:46<02:56,  3.45it/s]"
     ]
    },
    {
     "name": "stdout",
     "output_type": "stream",
     "text": [
      "✅ Loaded MSA for 2NOQ_E from /kaggle/input/stanford-rna-3d-folding/MSA | shape=torch.Size([64, 53])\n",
      "✅ Loaded MSA for 2NOQ_E from /kaggle/input/stanford-rna-3d-folding/MSA | shape=torch.Size([64, 53])\n"
     ]
    },
    {
     "name": "stderr",
     "output_type": "stream",
     "text": [
      " 28%|██▊       | 239/844 [00:47<03:54,  2.58it/s]"
     ]
    },
    {
     "name": "stdout",
     "output_type": "stream",
     "text": [
      "✅ Loaded MSA for 2NOQ_A from /kaggle/input/stanford-rna-3d-folding/MSA | shape=torch.Size([64, 190])\n",
      "✅ Loaded MSA for 2NOQ_A from /kaggle/input/stanford-rna-3d-folding/MSA | shape=torch.Size([64, 190])\n",
      "✅ Loaded MSA for 2FDT_A from /kaggle/input/stanford-rna-3d-folding/MSA | shape=torch.Size([64, 36])\n",
      "✅ Loaded MSA for 2FDT_A from /kaggle/input/stanford-rna-3d-folding/MSA | shape=torch.Size([64, 36])\n"
     ]
    },
    {
     "name": "stderr",
     "output_type": "stream",
     "text": [
      " 29%|██▊       | 242/844 [00:47<02:14,  4.46it/s]"
     ]
    },
    {
     "name": "stdout",
     "output_type": "stream",
     "text": [
      "✅ Loaded MSA for 2IHX_B from /kaggle/input/stanford-rna-3d-folding/MSA_v2 | shape=torch.Size([64, 75])\n",
      "✅ Loaded MSA for 2IHX_B from /kaggle/input/stanford-rna-3d-folding/MSA_v2 | shape=torch.Size([64, 75])\n",
      "✅ Loaded MSA for 2FY1_B from /kaggle/input/stanford-rna-3d-folding/MSA_v2 | shape=torch.Size([6, 21])\n",
      "✅ Loaded MSA for 2FY1_B from /kaggle/input/stanford-rna-3d-folding/MSA_v2 | shape=torch.Size([6, 21])\n",
      "✅ Loaded MSA for 2O33_A from /kaggle/input/stanford-rna-3d-folding/MSA_v2 | shape=torch.Size([26, 20])\n",
      "✅ Loaded MSA for 2O33_A from /kaggle/input/stanford-rna-3d-folding/MSA_v2 | shape=torch.Size([26, 20])\n"
     ]
    },
    {
     "name": "stderr",
     "output_type": "stream",
     "text": [
      " 29%|██▉       | 244/844 [00:48<02:50,  3.51it/s]"
     ]
    },
    {
     "name": "stdout",
     "output_type": "stream",
     "text": [
      "✅ Loaded MSA for 2IL9_M from /kaggle/input/stanford-rna-3d-folding/MSA | shape=torch.Size([64, 142])\n",
      "✅ Loaded MSA for 2IL9_M from /kaggle/input/stanford-rna-3d-folding/MSA | shape=torch.Size([64, 142])\n"
     ]
    },
    {
     "name": "stderr",
     "output_type": "stream",
     "text": [
      " 29%|██▉       | 246/844 [00:49<03:04,  3.24it/s]"
     ]
    },
    {
     "name": "stdout",
     "output_type": "stream",
     "text": [
      "✅ Loaded MSA for 2IL9_A from /kaggle/input/stanford-rna-3d-folding/MSA | shape=torch.Size([64, 142])\n",
      "✅ Loaded MSA for 2IL9_A from /kaggle/input/stanford-rna-3d-folding/MSA | shape=torch.Size([64, 142])\n",
      "✅ Loaded MSA for 2GRW_A from /kaggle/input/stanford-rna-3d-folding/MSA_v2 | shape=torch.Size([21, 22])\n",
      "✅ Loaded MSA for 2GRW_A from /kaggle/input/stanford-rna-3d-folding/MSA_v2 | shape=torch.Size([21, 22])\n"
     ]
    },
    {
     "name": "stderr",
     "output_type": "stream",
     "text": [
      " 29%|██▉       | 247/844 [00:50<04:01,  2.47it/s]"
     ]
    },
    {
     "name": "stdout",
     "output_type": "stream",
     "text": [
      "✅ Loaded MSA for 2DU5_D from /kaggle/input/stanford-rna-3d-folding/MSA | shape=torch.Size([64, 71])\n",
      "✅ Loaded MSA for 2DU5_D from /kaggle/input/stanford-rna-3d-folding/MSA | shape=torch.Size([64, 71])\n"
     ]
    },
    {
     "name": "stderr",
     "output_type": "stream",
     "text": [
      " 29%|██▉       | 248/844 [00:50<04:37,  2.15it/s]"
     ]
    },
    {
     "name": "stdout",
     "output_type": "stream",
     "text": [
      "✅ Loaded MSA for 2DU4_C from /kaggle/input/stanford-rna-3d-folding/MSA_v2 | shape=torch.Size([64, 71])\n",
      "✅ Loaded MSA for 2DU4_C from /kaggle/input/stanford-rna-3d-folding/MSA_v2 | shape=torch.Size([64, 71])\n"
     ]
    },
    {
     "name": "stderr",
     "output_type": "stream",
     "text": [
      " 30%|██▉       | 250/844 [00:51<03:33,  2.78it/s]"
     ]
    },
    {
     "name": "stdout",
     "output_type": "stream",
     "text": [
      "✅ Loaded MSA for 2DU6_D from /kaggle/input/stanford-rna-3d-folding/MSA | shape=torch.Size([64, 71])\n",
      "✅ Loaded MSA for 2DU6_D from /kaggle/input/stanford-rna-3d-folding/MSA | shape=torch.Size([64, 71])\n",
      "✅ Loaded MSA for 2GV4_A from /kaggle/input/stanford-rna-3d-folding/MSA_v2 | shape=torch.Size([64, 22])\n",
      "✅ Loaded MSA for 2GV4_A from /kaggle/input/stanford-rna-3d-folding/MSA_v2 | shape=torch.Size([64, 22])\n"
     ]
    },
    {
     "name": "stderr",
     "output_type": "stream",
     "text": [
      " 30%|██▉       | 251/844 [00:51<03:00,  3.29it/s]"
     ]
    },
    {
     "name": "stdout",
     "output_type": "stream",
     "text": [
      "✅ Loaded MSA for 2HUA_A from /kaggle/input/stanford-rna-3d-folding/MSA_v2 | shape=torch.Size([15, 40])\n",
      "✅ Loaded MSA for 2HUA_A from /kaggle/input/stanford-rna-3d-folding/MSA_v2 | shape=torch.Size([15, 40])\n",
      "✅ Loaded MSA for 2GVO_A from /kaggle/input/stanford-rna-3d-folding/MSA_v2 | shape=torch.Size([1, 18])\n",
      "✅ Loaded MSA for 2GVO_A from /kaggle/input/stanford-rna-3d-folding/MSA_v2 | shape=torch.Size([1, 18])\n"
     ]
    },
    {
     "name": "stderr",
     "output_type": "stream",
     "text": [
      " 30%|██▉       | 253/844 [00:51<02:10,  4.54it/s]"
     ]
    },
    {
     "name": "stdout",
     "output_type": "stream",
     "text": [
      "✅ Loaded MSA for 2PCW_A from /kaggle/input/stanford-rna-3d-folding/MSA_v2 | shape=torch.Size([17, 35])\n",
      "✅ Loaded MSA for 2PCW_A from /kaggle/input/stanford-rna-3d-folding/MSA_v2 | shape=torch.Size([17, 35])\n"
     ]
    },
    {
     "name": "stderr",
     "output_type": "stream",
     "text": [
      " 30%|███       | 254/844 [00:52<03:29,  2.81it/s]"
     ]
    },
    {
     "name": "stdout",
     "output_type": "stream",
     "text": [
      "✅ Loaded MSA for 2NR0_H from /kaggle/input/stanford-rna-3d-folding/MSA_v2 | shape=torch.Size([64, 87])\n",
      "✅ Loaded MSA for 2NR0_H from /kaggle/input/stanford-rna-3d-folding/MSA_v2 | shape=torch.Size([64, 87])\n"
     ]
    },
    {
     "name": "stderr",
     "output_type": "stream",
     "text": [
      " 30%|███       | 255/844 [00:53<04:36,  2.13it/s]"
     ]
    },
    {
     "name": "stdout",
     "output_type": "stream",
     "text": [
      "✅ Loaded MSA for 2NR0_G from /kaggle/input/stanford-rna-3d-folding/MSA_v2 | shape=torch.Size([64, 87])\n",
      "✅ Loaded MSA for 2NR0_G from /kaggle/input/stanford-rna-3d-folding/MSA_v2 | shape=torch.Size([64, 87])\n"
     ]
    },
    {
     "name": "stderr",
     "output_type": "stream",
     "text": [
      " 30%|███       | 256/844 [00:53<04:43,  2.08it/s]"
     ]
    },
    {
     "name": "stdout",
     "output_type": "stream",
     "text": [
      "✅ Loaded MSA for 2NR0_F from /kaggle/input/stanford-rna-3d-folding/MSA_v2 | shape=torch.Size([64, 87])\n",
      "✅ Loaded MSA for 2NR0_F from /kaggle/input/stanford-rna-3d-folding/MSA_v2 | shape=torch.Size([64, 87])\n"
     ]
    },
    {
     "name": "stderr",
     "output_type": "stream",
     "text": [
      " 31%|███       | 259/844 [00:54<03:20,  2.92it/s]"
     ]
    },
    {
     "name": "stdout",
     "output_type": "stream",
     "text": [
      "✅ Loaded MSA for 2NR0_E from /kaggle/input/stanford-rna-3d-folding/MSA_v2 | shape=torch.Size([64, 87])\n",
      "✅ Loaded MSA for 2NR0_E from /kaggle/input/stanford-rna-3d-folding/MSA_v2 | shape=torch.Size([64, 87])\n",
      "✅ Loaded MSA for 2OJ8_A from /kaggle/input/stanford-rna-3d-folding/MSA | shape=torch.Size([1, 8])\n",
      "✅ Loaded MSA for 2OJ8_A from /kaggle/input/stanford-rna-3d-folding/MSA | shape=torch.Size([1, 8])\n",
      "✅ Loaded MSA for 2IZM_S from /kaggle/input/stanford-rna-3d-folding/MSA | shape=torch.Size([3, 19])\n",
      "✅ Loaded MSA for 2IZM_S from /kaggle/input/stanford-rna-3d-folding/MSA | shape=torch.Size([3, 19])\n"
     ]
    },
    {
     "name": "stderr",
     "output_type": "stream",
     "text": [
      " 31%|███       | 261/844 [00:54<02:22,  4.09it/s]"
     ]
    },
    {
     "name": "stdout",
     "output_type": "stream",
     "text": [
      "✅ Loaded MSA for 2JR4_A from /kaggle/input/stanford-rna-3d-folding/MSA_v2 | shape=torch.Size([3, 17])\n",
      "✅ Loaded MSA for 2JR4_A from /kaggle/input/stanford-rna-3d-folding/MSA_v2 | shape=torch.Size([3, 17])\n",
      "✅ Loaded MSA for 2JPP_C from /kaggle/input/stanford-rna-3d-folding/MSA | shape=torch.Size([3, 20])\n",
      "✅ Loaded MSA for 2JPP_C from /kaggle/input/stanford-rna-3d-folding/MSA | shape=torch.Size([3, 20])\n",
      "✅ Loaded MSA for 2QH3_A from /kaggle/input/stanford-rna-3d-folding/MSA_v2 | shape=torch.Size([6, 23])\n",
      "✅ Loaded MSA for 2QH3_A from /kaggle/input/stanford-rna-3d-folding/MSA_v2 | shape=torch.Size([6, 23])\n"
     ]
    },
    {
     "name": "stderr",
     "output_type": "stream",
     "text": [
      " 31%|███▏      | 264/844 [00:55<01:39,  5.85it/s]"
     ]
    },
    {
     "name": "stdout",
     "output_type": "stream",
     "text": [
      "✅ Loaded MSA for 2QH4_A from /kaggle/input/stanford-rna-3d-folding/MSA_v2 | shape=torch.Size([17, 18])\n",
      "✅ Loaded MSA for 2QH4_A from /kaggle/input/stanford-rna-3d-folding/MSA_v2 | shape=torch.Size([17, 18])\n",
      "✅ Loaded MSA for 2QH2_A from /kaggle/input/stanford-rna-3d-folding/MSA | shape=torch.Size([59, 24])\n",
      "✅ Loaded MSA for 2QH2_A from /kaggle/input/stanford-rna-3d-folding/MSA | shape=torch.Size([59, 24])\n"
     ]
    },
    {
     "name": "stderr",
     "output_type": "stream",
     "text": [
      " 32%|███▏      | 267/844 [00:55<01:11,  8.02it/s]"
     ]
    },
    {
     "name": "stdout",
     "output_type": "stream",
     "text": [
      "✅ Loaded MSA for 2JTP_A from /kaggle/input/stanford-rna-3d-folding/MSA_v2 | shape=torch.Size([64, 34])\n",
      "✅ Loaded MSA for 2JTP_A from /kaggle/input/stanford-rna-3d-folding/MSA_v2 | shape=torch.Size([64, 34])\n",
      "✅ Loaded MSA for 2OM3_R from /kaggle/input/stanford-rna-3d-folding/MSA | shape=torch.Size([1, 3])\n",
      "✅ Loaded MSA for 2OM3_R from /kaggle/input/stanford-rna-3d-folding/MSA | shape=torch.Size([1, 3])\n",
      "✅ Loaded MSA for 2PN9_A from /kaggle/input/stanford-rna-3d-folding/MSA | shape=torch.Size([4, 16])\n",
      "✅ Loaded MSA for 2PN9_A from /kaggle/input/stanford-rna-3d-folding/MSA | shape=torch.Size([4, 16])\n"
     ]
    },
    {
     "name": "stderr",
     "output_type": "stream",
     "text": [
      " 32%|███▏      | 269/844 [00:55<01:06,  8.59it/s]"
     ]
    },
    {
     "name": "stdout",
     "output_type": "stream",
     "text": [
      "✅ Loaded MSA for 2JSE_A from /kaggle/input/stanford-rna-3d-folding/MSA | shape=torch.Size([2, 22])\n",
      "✅ Loaded MSA for 2JSE_A from /kaggle/input/stanford-rna-3d-folding/MSA | shape=torch.Size([2, 22])\n",
      "✅ Loaded MSA for 2R93_R from /kaggle/input/stanford-rna-3d-folding/MSA_v2 | shape=torch.Size([1, 18])\n",
      "✅ Loaded MSA for 2R93_R from /kaggle/input/stanford-rna-3d-folding/MSA_v2 | shape=torch.Size([1, 18])\n"
     ]
    },
    {
     "name": "stderr",
     "output_type": "stream",
     "text": [
      " 32%|███▏      | 271/844 [00:56<01:10,  8.10it/s]"
     ]
    },
    {
     "name": "stdout",
     "output_type": "stream",
     "text": [
      "✅ Loaded MSA for 2JWV_A from /kaggle/input/stanford-rna-3d-folding/MSA_v2 | shape=torch.Size([64, 29])\n",
      "✅ Loaded MSA for 2JWV_A from /kaggle/input/stanford-rna-3d-folding/MSA_v2 | shape=torch.Size([64, 29])\n",
      "✅ Loaded MSA for 2OM7_F from /kaggle/input/stanford-rna-3d-folding/MSA | shape=torch.Size([64, 29])\n",
      "✅ Loaded MSA for 2OM7_F from /kaggle/input/stanford-rna-3d-folding/MSA | shape=torch.Size([64, 29])\n"
     ]
    },
    {
     "name": "stderr",
     "output_type": "stream",
     "text": [
      " 32%|███▏      | 272/844 [00:56<01:56,  4.92it/s]"
     ]
    },
    {
     "name": "stdout",
     "output_type": "stream",
     "text": [
      "✅ Loaded MSA for 2OM7_J from /kaggle/input/stanford-rna-3d-folding/MSA | shape=torch.Size([64, 102])\n",
      "✅ Loaded MSA for 2OM7_J from /kaggle/input/stanford-rna-3d-folding/MSA | shape=torch.Size([64, 102])\n"
     ]
    },
    {
     "name": "stderr",
     "output_type": "stream",
     "text": [
      " 32%|███▏      | 273/844 [00:57<02:55,  3.25it/s]"
     ]
    },
    {
     "name": "stdout",
     "output_type": "stream",
     "text": [
      "✅ Loaded MSA for 2OM7_C from /kaggle/input/stanford-rna-3d-folding/MSA | shape=torch.Size([64, 96])\n",
      "✅ Loaded MSA for 2OM7_C from /kaggle/input/stanford-rna-3d-folding/MSA | shape=torch.Size([64, 96])\n"
     ]
    },
    {
     "name": "stderr",
     "output_type": "stream",
     "text": [
      " 32%|███▏      | 274/844 [00:57<02:49,  3.36it/s]"
     ]
    },
    {
     "name": "stdout",
     "output_type": "stream",
     "text": [
      "✅ Loaded MSA for 2OM7_I from /kaggle/input/stanford-rna-3d-folding/MSA | shape=torch.Size([64, 58])\n",
      "✅ Loaded MSA for 2OM7_I from /kaggle/input/stanford-rna-3d-folding/MSA | shape=torch.Size([64, 58])\n"
     ]
    },
    {
     "name": "stderr",
     "output_type": "stream",
     "text": [
      " 33%|███▎      | 275/844 [00:57<02:43,  3.48it/s]"
     ]
    },
    {
     "name": "stdout",
     "output_type": "stream",
     "text": [
      "✅ Loaded MSA for 2OM7_G from /kaggle/input/stanford-rna-3d-folding/MSA | shape=torch.Size([64, 54])\n",
      "✅ Loaded MSA for 2OM7_G from /kaggle/input/stanford-rna-3d-folding/MSA | shape=torch.Size([64, 54])\n",
      "✅ Loaded MSA for 2OM7_A from /kaggle/input/stanford-rna-3d-folding/MSA_v2 | shape=torch.Size([1, 12])\n",
      "✅ Loaded MSA for 2OM7_A from /kaggle/input/stanford-rna-3d-folding/MSA_v2 | shape=torch.Size([1, 12])\n"
     ]
    },
    {
     "name": "stderr",
     "output_type": "stream",
     "text": [
      " 33%|███▎      | 279/844 [00:58<01:30,  6.24it/s]"
     ]
    },
    {
     "name": "stdout",
     "output_type": "stream",
     "text": [
      "✅ Loaded MSA for 2OM7_H from /kaggle/input/stanford-rna-3d-folding/MSA | shape=torch.Size([64, 42])\n",
      "✅ Loaded MSA for 2OM7_H from /kaggle/input/stanford-rna-3d-folding/MSA | shape=torch.Size([64, 42])\n",
      "✅ Loaded MSA for 2RLU_A from /kaggle/input/stanford-rna-3d-folding/MSA_v2 | shape=torch.Size([2, 19])\n",
      "✅ Loaded MSA for 2RLU_A from /kaggle/input/stanford-rna-3d-folding/MSA_v2 | shape=torch.Size([2, 19])\n"
     ]
    },
    {
     "name": "stderr",
     "output_type": "stream",
     "text": [
      " 34%|███▍      | 285/844 [00:58<00:43, 12.77it/s]"
     ]
    },
    {
     "name": "stdout",
     "output_type": "stream",
     "text": [
      "✅ Loaded MSA for 2JYM_A from /kaggle/input/stanford-rna-3d-folding/MSA_v2 | shape=torch.Size([15, 22])\n",
      "✅ Loaded MSA for 2JYM_A from /kaggle/input/stanford-rna-3d-folding/MSA_v2 | shape=torch.Size([15, 22])\n",
      "✅ Loaded MSA for 2JXV_A from /kaggle/input/stanford-rna-3d-folding/MSA | shape=torch.Size([15, 33])\n",
      "✅ Loaded MSA for 2JXV_A from /kaggle/input/stanford-rna-3d-folding/MSA | shape=torch.Size([15, 33])\n"
     ]
    },
    {
     "name": "stderr",
     "output_type": "stream",
     "text": [
      " 34%|███▍      | 289/844 [00:59<01:12,  7.68it/s]"
     ]
    },
    {
     "name": "stdout",
     "output_type": "stream",
     "text": [
      "✅ Loaded MSA for 2ZJQ_Y from /kaggle/input/stanford-rna-3d-folding/MSA_v2 | shape=torch.Size([64, 122])\n",
      "✅ Loaded MSA for 2ZJQ_Y from /kaggle/input/stanford-rna-3d-folding/MSA_v2 | shape=torch.Size([64, 122])\n",
      "✅ Loaded MSA for 3DEG_I from /kaggle/input/stanford-rna-3d-folding/MSA | shape=torch.Size([64, 29])\n",
      "✅ Loaded MSA for 3DEG_I from /kaggle/input/stanford-rna-3d-folding/MSA | shape=torch.Size([64, 29])\n"
     ]
    },
    {
     "name": "stderr",
     "output_type": "stream",
     "text": [
      " 34%|███▍      | 291/844 [00:59<01:21,  6.76it/s]"
     ]
    },
    {
     "name": "stdout",
     "output_type": "stream",
     "text": [
      "✅ Loaded MSA for 3DEG_G from /kaggle/input/stanford-rna-3d-folding/MSA | shape=torch.Size([64, 70])\n",
      "✅ Loaded MSA for 3DEG_G from /kaggle/input/stanford-rna-3d-folding/MSA | shape=torch.Size([64, 70])\n",
      "✅ Loaded MSA for 3DKN_E from /kaggle/input/stanford-rna-3d-folding/MSA | shape=torch.Size([3, 17])\n",
      "✅ Loaded MSA for 3DKN_E from /kaggle/input/stanford-rna-3d-folding/MSA | shape=torch.Size([3, 17])\n",
      "✅ Loaded MSA for 3DEG_J from /kaggle/input/stanford-rna-3d-folding/MSA | shape=torch.Size([41, 18])\n",
      "✅ Loaded MSA for 3DEG_J from /kaggle/input/stanford-rna-3d-folding/MSA | shape=torch.Size([41, 18])\n"
     ]
    },
    {
     "name": "stderr",
     "output_type": "stream",
     "text": [
      " 35%|███▍      | 294/844 [00:59<01:16,  7.22it/s]"
     ]
    },
    {
     "name": "stdout",
     "output_type": "stream",
     "text": [
      "✅ Loaded MSA for 3DKN_F from /kaggle/input/stanford-rna-3d-folding/MSA | shape=torch.Size([64, 32])\n",
      "✅ Loaded MSA for 3DKN_F from /kaggle/input/stanford-rna-3d-folding/MSA | shape=torch.Size([64, 32])\n",
      "✅ Loaded MSA for 3DEG_E from /kaggle/input/stanford-rna-3d-folding/MSA_v2 | shape=torch.Size([1, 16])\n",
      "✅ Loaded MSA for 3DEG_E from /kaggle/input/stanford-rna-3d-folding/MSA_v2 | shape=torch.Size([1, 16])\n"
     ]
    },
    {
     "name": "stderr",
     "output_type": "stream",
     "text": [
      " 35%|███▌      | 297/844 [01:00<01:04,  8.42it/s]"
     ]
    },
    {
     "name": "stdout",
     "output_type": "stream",
     "text": [
      "✅ Loaded MSA for 3DKN_D from /kaggle/input/stanford-rna-3d-folding/MSA_v2 | shape=torch.Size([64, 20])\n",
      "✅ Loaded MSA for 3DKN_D from /kaggle/input/stanford-rna-3d-folding/MSA_v2 | shape=torch.Size([64, 20])\n",
      "✅ Loaded MSA for 3DEG_K from /kaggle/input/stanford-rna-3d-folding/MSA_v2 | shape=torch.Size([1, 15])\n",
      "✅ Loaded MSA for 3DEG_K from /kaggle/input/stanford-rna-3d-folding/MSA_v2 | shape=torch.Size([1, 15])\n",
      "✅ Loaded MSA for 2RN1_B from /kaggle/input/stanford-rna-3d-folding/MSA_v2 | shape=torch.Size([1, 16])\n",
      "✅ Loaded MSA for 2RN1_B from /kaggle/input/stanford-rna-3d-folding/MSA_v2 | shape=torch.Size([1, 16])\n"
     ]
    },
    {
     "name": "stderr",
     "output_type": "stream",
     "text": [
      " 35%|███▌      | 298/844 [01:00<01:20,  6.79it/s]"
     ]
    },
    {
     "name": "stdout",
     "output_type": "stream",
     "text": [
      "✅ Loaded MSA for 2K95_A from /kaggle/input/stanford-rna-3d-folding/MSA | shape=torch.Size([64, 48])\n",
      "✅ Loaded MSA for 2K95_A from /kaggle/input/stanford-rna-3d-folding/MSA | shape=torch.Size([64, 48])\n"
     ]
    },
    {
     "name": "stderr",
     "output_type": "stream",
     "text": [
      " 36%|███▌      | 300/844 [01:01<02:04,  4.36it/s]"
     ]
    },
    {
     "name": "stdout",
     "output_type": "stream",
     "text": [
      "✅ Loaded MSA for 2K4C_A from /kaggle/input/stanford-rna-3d-folding/MSA | shape=torch.Size([64, 76])\n",
      "✅ Loaded MSA for 2K4C_A from /kaggle/input/stanford-rna-3d-folding/MSA | shape=torch.Size([64, 76])\n",
      "✅ Loaded MSA for 2W2H_S from /kaggle/input/stanford-rna-3d-folding/MSA_v2 | shape=torch.Size([8, 22])\n",
      "✅ Loaded MSA for 2W2H_S from /kaggle/input/stanford-rna-3d-folding/MSA_v2 | shape=torch.Size([8, 22])\n"
     ]
    },
    {
     "name": "stderr",
     "output_type": "stream",
     "text": [
      " 37%|███▋      | 309/844 [01:01<00:42, 12.61it/s]"
     ]
    },
    {
     "name": "stdout",
     "output_type": "stream",
     "text": [
      "✅ Loaded MSA for 2RPK_A from /kaggle/input/stanford-rna-3d-folding/MSA_v2 | shape=torch.Size([6, 20])\n",
      "✅ Loaded MSA for 2RPK_A from /kaggle/input/stanford-rna-3d-folding/MSA_v2 | shape=torch.Size([6, 20])\n",
      "✅ Loaded MSA for 2RO2_A from /kaggle/input/stanford-rna-3d-folding/MSA_v2 | shape=torch.Size([45, 23])\n",
      "✅ Loaded MSA for 2RO2_A from /kaggle/input/stanford-rna-3d-folding/MSA_v2 | shape=torch.Size([45, 23])\n"
     ]
    },
    {
     "name": "stderr",
     "output_type": "stream",
     "text": [
      " 37%|███▋      | 311/844 [01:02<00:58,  9.14it/s]"
     ]
    },
    {
     "name": "stdout",
     "output_type": "stream",
     "text": [
      "✅ Loaded MSA for 3HAY_E from /kaggle/input/stanford-rna-3d-folding/MSA_v2 | shape=torch.Size([58, 71])\n",
      "✅ Loaded MSA for 3HAY_E from /kaggle/input/stanford-rna-3d-folding/MSA_v2 | shape=torch.Size([58, 71])\n",
      "✅ Loaded MSA for 2K66_A from /kaggle/input/stanford-rna-3d-folding/MSA_v2 | shape=torch.Size([16, 22])\n",
      "✅ Loaded MSA for 2K66_A from /kaggle/input/stanford-rna-3d-folding/MSA_v2 | shape=torch.Size([16, 22])\n",
      "✅ Loaded MSA for 2K5Z_A from /kaggle/input/stanford-rna-3d-folding/MSA_v2 | shape=torch.Size([23, 29])\n",
      "✅ Loaded MSA for 2K5Z_A from /kaggle/input/stanford-rna-3d-folding/MSA_v2 | shape=torch.Size([23, 29])\n"
     ]
    },
    {
     "name": "stderr",
     "output_type": "stream",
     "text": [
      " 37%|███▋      | 313/844 [01:02<01:20,  6.57it/s]"
     ]
    },
    {
     "name": "stdout",
     "output_type": "stream",
     "text": [
      "✅ Loaded MSA for 3A3A_A from /kaggle/input/stanford-rna-3d-folding/MSA_v2 | shape=torch.Size([64, 90])\n",
      "✅ Loaded MSA for 3A3A_A from /kaggle/input/stanford-rna-3d-folding/MSA_v2 | shape=torch.Size([64, 90])\n",
      "✅ Loaded MSA for 2KMJ_A from /kaggle/input/stanford-rna-3d-folding/MSA | shape=torch.Size([28, 28])\n",
      "✅ Loaded MSA for 2KMJ_A from /kaggle/input/stanford-rna-3d-folding/MSA | shape=torch.Size([28, 28])\n"
     ]
    },
    {
     "name": "stderr",
     "output_type": "stream",
     "text": [
      " 37%|███▋      | 315/844 [01:02<01:15,  6.99it/s]"
     ]
    },
    {
     "name": "stdout",
     "output_type": "stream",
     "text": [
      "✅ Loaded MSA for 2RPT_A from /kaggle/input/stanford-rna-3d-folding/MSA_v2 | shape=torch.Size([17, 20])\n",
      "✅ Loaded MSA for 2RPT_A from /kaggle/input/stanford-rna-3d-folding/MSA_v2 | shape=torch.Size([17, 20])\n"
     ]
    },
    {
     "name": "stderr",
     "output_type": "stream",
     "text": [
      " 38%|███▊      | 318/844 [01:03<01:21,  6.46it/s]"
     ]
    },
    {
     "name": "stdout",
     "output_type": "stream",
     "text": [
      "✅ Loaded MSA for 3A2K_C from /kaggle/input/stanford-rna-3d-folding/MSA | shape=torch.Size([64, 77])\n",
      "✅ Loaded MSA for 3A2K_C from /kaggle/input/stanford-rna-3d-folding/MSA | shape=torch.Size([64, 77])\n",
      "✅ Loaded MSA for 2KOC_A from /kaggle/input/stanford-rna-3d-folding/MSA | shape=torch.Size([1, 14])\n",
      "✅ Loaded MSA for 2KOC_A from /kaggle/input/stanford-rna-3d-folding/MSA | shape=torch.Size([1, 14])\n",
      "✅ Loaded MSA for 2KD8_A from /kaggle/input/stanford-rna-3d-folding/MSA_v2 | shape=torch.Size([3, 22])\n",
      "✅ Loaded MSA for 2KD8_A from /kaggle/input/stanford-rna-3d-folding/MSA_v2 | shape=torch.Size([3, 22])\n"
     ]
    },
    {
     "name": "stderr",
     "output_type": "stream",
     "text": [
      " 38%|███▊      | 320/844 [01:03<01:26,  6.07it/s]"
     ]
    },
    {
     "name": "stdout",
     "output_type": "stream",
     "text": [
      "✅ Loaded MSA for 2KE6_A from /kaggle/input/stanford-rna-3d-folding/MSA_v2 | shape=torch.Size([64, 48])\n",
      "✅ Loaded MSA for 2KE6_A from /kaggle/input/stanford-rna-3d-folding/MSA_v2 | shape=torch.Size([64, 48])\n",
      "✅ Loaded MSA for 2KHY_A from /kaggle/input/stanford-rna-3d-folding/MSA | shape=torch.Size([6, 38])\n",
      "✅ Loaded MSA for 2KHY_A from /kaggle/input/stanford-rna-3d-folding/MSA | shape=torch.Size([6, 38])\n"
     ]
    },
    {
     "name": "stderr",
     "output_type": "stream",
     "text": [
      " 38%|███▊      | 321/844 [01:03<01:22,  6.37it/s]"
     ]
    },
    {
     "name": "stdout",
     "output_type": "stream",
     "text": [
      "✅ Loaded MSA for 2X7N_A from /kaggle/input/stanford-rna-3d-folding/MSA | shape=torch.Size([64, 28])\n",
      "✅ Loaded MSA for 2X7N_A from /kaggle/input/stanford-rna-3d-folding/MSA | shape=torch.Size([64, 28])\n"
     ]
    },
    {
     "name": "stderr",
     "output_type": "stream",
     "text": [
      " 38%|███▊      | 322/844 [01:04<01:29,  5.86it/s]"
     ]
    },
    {
     "name": "stdout",
     "output_type": "stream",
     "text": [
      "✅ Loaded MSA for 2KUV_A from /kaggle/input/stanford-rna-3d-folding/MSA_v2 | shape=torch.Size([64, 48])\n",
      "✅ Loaded MSA for 2KUV_A from /kaggle/input/stanford-rna-3d-folding/MSA_v2 | shape=torch.Size([64, 48])\n"
     ]
    },
    {
     "name": "stderr",
     "output_type": "stream",
     "text": [
      " 38%|███▊      | 324/844 [01:04<01:36,  5.40it/s]"
     ]
    },
    {
     "name": "stdout",
     "output_type": "stream",
     "text": [
      "✅ Loaded MSA for 2KUW_A from /kaggle/input/stanford-rna-3d-folding/MSA | shape=torch.Size([64, 48])\n",
      "✅ Loaded MSA for 2KUW_A from /kaggle/input/stanford-rna-3d-folding/MSA | shape=torch.Size([64, 48])\n",
      "✅ Loaded MSA for 2KUU_A from /kaggle/input/stanford-rna-3d-folding/MSA_v2 | shape=torch.Size([64, 48])\n",
      "✅ Loaded MSA for 2KUU_A from /kaggle/input/stanford-rna-3d-folding/MSA_v2 | shape=torch.Size([64, 48])\n"
     ]
    },
    {
     "name": "stderr",
     "output_type": "stream",
     "text": [
      " 39%|███▊      | 327/844 [01:04<01:13,  7.00it/s]"
     ]
    },
    {
     "name": "stdout",
     "output_type": "stream",
     "text": [
      "✅ Loaded MSA for 2KUR_A from /kaggle/input/stanford-rna-3d-folding/MSA_v2 | shape=torch.Size([64, 48])\n",
      "✅ Loaded MSA for 2KUR_A from /kaggle/input/stanford-rna-3d-folding/MSA_v2 | shape=torch.Size([64, 48])\n",
      "✅ Loaded MSA for 2KPD_A from /kaggle/input/stanford-rna-3d-folding/MSA_v2 | shape=torch.Size([3, 17])\n",
      "✅ Loaded MSA for 2KPD_A from /kaggle/input/stanford-rna-3d-folding/MSA_v2 | shape=torch.Size([3, 17])\n",
      "✅ Loaded MSA for 2KPC_A from /kaggle/input/stanford-rna-3d-folding/MSA_v2 | shape=torch.Size([1, 17])\n",
      "✅ Loaded MSA for 2KPC_A from /kaggle/input/stanford-rna-3d-folding/MSA_v2 | shape=torch.Size([1, 17])\n",
      "✅ Loaded MSA for 2KVN_A from /kaggle/input/stanford-rna-3d-folding/MSA_v2 | shape=torch.Size([1, 17])\n",
      "✅ Loaded MSA for 2KVN_A from /kaggle/input/stanford-rna-3d-folding/MSA_v2 | shape=torch.Size([1, 17])\n"
     ]
    },
    {
     "name": "stderr",
     "output_type": "stream",
     "text": [
      " 39%|███▉      | 330/844 [01:05<01:17,  6.62it/s]"
     ]
    },
    {
     "name": "stdout",
     "output_type": "stream",
     "text": [
      "✅ Loaded MSA for 3LWQ_D from /kaggle/input/stanford-rna-3d-folding/MSA | shape=torch.Size([18, 58])\n",
      "✅ Loaded MSA for 3LWQ_D from /kaggle/input/stanford-rna-3d-folding/MSA | shape=torch.Size([18, 58])\n",
      "✅ Loaded MSA for 2KPV_A from /kaggle/input/stanford-rna-3d-folding/MSA | shape=torch.Size([17, 34])\n",
      "✅ Loaded MSA for 2KPV_A from /kaggle/input/stanford-rna-3d-folding/MSA | shape=torch.Size([17, 34])\n"
     ]
    },
    {
     "name": "stderr",
     "output_type": "stream",
     "text": [
      " 39%|███▉      | 331/844 [01:06<02:40,  3.20it/s]"
     ]
    },
    {
     "name": "stdout",
     "output_type": "stream",
     "text": [
      "✅ Loaded MSA for 3JQ4_B from /kaggle/input/stanford-rna-3d-folding/MSA | shape=torch.Size([64, 118])\n",
      "✅ Loaded MSA for 3JQ4_B from /kaggle/input/stanford-rna-3d-folding/MSA | shape=torch.Size([64, 118])\n"
     ]
    },
    {
     "name": "stderr",
     "output_type": "stream",
     "text": [
      " 40%|███▉      | 335/844 [01:06<01:32,  5.48it/s]"
     ]
    },
    {
     "name": "stdout",
     "output_type": "stream",
     "text": [
      "✅ Loaded MSA for 3AKZ_H from /kaggle/input/stanford-rna-3d-folding/MSA_v2 | shape=torch.Size([64, 74])\n",
      "✅ Loaded MSA for 3AKZ_H from /kaggle/input/stanford-rna-3d-folding/MSA_v2 | shape=torch.Size([64, 74])\n",
      "✅ Loaded MSA for 2L3C_B from /kaggle/input/stanford-rna-3d-folding/MSA_v2 | shape=torch.Size([64, 34])\n",
      "✅ Loaded MSA for 2L3C_B from /kaggle/input/stanford-rna-3d-folding/MSA_v2 | shape=torch.Size([64, 34])\n"
     ]
    },
    {
     "name": "stderr",
     "output_type": "stream",
     "text": [
      " 40%|███▉      | 337/844 [01:07<01:40,  5.07it/s]"
     ]
    },
    {
     "name": "stdout",
     "output_type": "stream",
     "text": [
      "✅ Loaded MSA for 2L1F_A from /kaggle/input/stanford-rna-3d-folding/MSA | shape=torch.Size([64, 65])\n",
      "✅ Loaded MSA for 2L1F_A from /kaggle/input/stanford-rna-3d-folding/MSA | shape=torch.Size([64, 65])\n",
      "✅ Loaded MSA for 2L2J_A from /kaggle/input/stanford-rna-3d-folding/MSA | shape=torch.Size([64, 42])\n",
      "✅ Loaded MSA for 2L2J_A from /kaggle/input/stanford-rna-3d-folding/MSA | shape=torch.Size([64, 42])\n"
     ]
    },
    {
     "name": "stderr",
     "output_type": "stream",
     "text": [
      " 40%|████      | 338/844 [01:07<01:49,  4.61it/s]"
     ]
    },
    {
     "name": "stdout",
     "output_type": "stream",
     "text": [
      "✅ Loaded MSA for 2L1F_B from /kaggle/input/stanford-rna-3d-folding/MSA_v2 | shape=torch.Size([64, 66])\n",
      "✅ Loaded MSA for 2L1F_B from /kaggle/input/stanford-rna-3d-folding/MSA_v2 | shape=torch.Size([64, 66])\n"
     ]
    },
    {
     "name": "stderr",
     "output_type": "stream",
     "text": [
      " 40%|████      | 340/844 [01:07<01:52,  4.47it/s]"
     ]
    },
    {
     "name": "stdout",
     "output_type": "stream",
     "text": [
      "✅ Loaded MSA for 2L3J_B from /kaggle/input/stanford-rna-3d-folding/MSA | shape=torch.Size([64, 71])\n",
      "✅ Loaded MSA for 2L3J_B from /kaggle/input/stanford-rna-3d-folding/MSA | shape=torch.Size([64, 71])\n",
      "✅ Loaded MSA for 2L3E_A from /kaggle/input/stanford-rna-3d-folding/MSA | shape=torch.Size([31, 35])\n",
      "✅ Loaded MSA for 2L3E_A from /kaggle/input/stanford-rna-3d-folding/MSA | shape=torch.Size([31, 35])\n"
     ]
    },
    {
     "name": "stderr",
     "output_type": "stream",
     "text": [
      " 40%|████      | 341/844 [01:08<03:05,  2.71it/s]"
     ]
    },
    {
     "name": "stdout",
     "output_type": "stream",
     "text": [
      "✅ Loaded MSA for 3IZD_A from /kaggle/input/stanford-rna-3d-folding/MSA | shape=torch.Size([64, 151])\n",
      "✅ Loaded MSA for 3IZD_A from /kaggle/input/stanford-rna-3d-folding/MSA | shape=torch.Size([64, 151])\n",
      "✅ Loaded MSA for 2KRP_A from /kaggle/input/stanford-rna-3d-folding/MSA_v2 | shape=torch.Size([4, 17])\n",
      "✅ Loaded MSA for 2KRP_A from /kaggle/input/stanford-rna-3d-folding/MSA_v2 | shape=torch.Size([4, 17])\n"
     ]
    },
    {
     "name": "stderr",
     "output_type": "stream",
     "text": [
      " 41%|████      | 345/844 [01:09<02:01,  4.10it/s]"
     ]
    },
    {
     "name": "stdout",
     "output_type": "stream",
     "text": [
      "✅ Loaded MSA for 2KRL_A from /kaggle/input/stanford-rna-3d-folding/MSA_v2 | shape=torch.Size([8, 102])\n",
      "✅ Loaded MSA for 2KRL_A from /kaggle/input/stanford-rna-3d-folding/MSA_v2 | shape=torch.Size([8, 102])\n",
      "✅ Loaded MSA for 2L5Z_A from /kaggle/input/stanford-rna-3d-folding/MSA | shape=torch.Size([3, 26])\n",
      "✅ Loaded MSA for 2L5Z_A from /kaggle/input/stanford-rna-3d-folding/MSA | shape=torch.Size([3, 26])\n"
     ]
    },
    {
     "name": "stderr",
     "output_type": "stream",
     "text": [
      " 41%|████      | 346/844 [01:10<03:27,  2.40it/s]"
     ]
    },
    {
     "name": "stdout",
     "output_type": "stream",
     "text": [
      "✅ Loaded MSA for 3NDB_M from /kaggle/input/stanford-rna-3d-folding/MSA | shape=torch.Size([64, 136])\n",
      "✅ Loaded MSA for 3NDB_M from /kaggle/input/stanford-rna-3d-folding/MSA | shape=torch.Size([64, 136])\n"
     ]
    },
    {
     "name": "stderr",
     "output_type": "stream",
     "text": [
      " 41%|████      | 347/844 [01:10<03:06,  2.67it/s]"
     ]
    },
    {
     "name": "stdout",
     "output_type": "stream",
     "text": [
      "✅ Loaded MSA for 2KZL_A from /kaggle/input/stanford-rna-3d-folding/MSA_v2 | shape=torch.Size([40, 55])\n",
      "✅ Loaded MSA for 2KZL_A from /kaggle/input/stanford-rna-3d-folding/MSA_v2 | shape=torch.Size([40, 55])\n"
     ]
    },
    {
     "name": "stderr",
     "output_type": "stream",
     "text": [
      " 41%|████      | 348/844 [01:11<03:34,  2.31it/s]"
     ]
    },
    {
     "name": "stdout",
     "output_type": "stream",
     "text": [
      "✅ Loaded MSA for 3PIP_Y from /kaggle/input/stanford-rna-3d-folding/MSA | shape=torch.Size([64, 123])\n",
      "✅ Loaded MSA for 3PIP_Y from /kaggle/input/stanford-rna-3d-folding/MSA | shape=torch.Size([64, 123])\n"
     ]
    },
    {
     "name": "stderr",
     "output_type": "stream",
     "text": [
      " 41%|████▏     | 349/844 [01:11<03:44,  2.20it/s]"
     ]
    },
    {
     "name": "stdout",
     "output_type": "stream",
     "text": [
      "✅ Loaded MSA for 2XXA_F from /kaggle/input/stanford-rna-3d-folding/MSA_v2 | shape=torch.Size([64, 106])\n",
      "✅ Loaded MSA for 2XXA_F from /kaggle/input/stanford-rna-3d-folding/MSA_v2 | shape=torch.Size([64, 106])\n",
      "✅ Loaded MSA for 2L6I_A from /kaggle/input/stanford-rna-3d-folding/MSA | shape=torch.Size([6, 16])\n",
      "✅ Loaded MSA for 2L6I_A from /kaggle/input/stanford-rna-3d-folding/MSA | shape=torch.Size([6, 16])\n"
     ]
    },
    {
     "name": "stderr",
     "output_type": "stream",
     "text": [
      " 42%|████▏     | 352/844 [01:12<02:38,  3.10it/s]"
     ]
    },
    {
     "name": "stdout",
     "output_type": "stream",
     "text": [
      "✅ Loaded MSA for 3IZZ_E from /kaggle/input/stanford-rna-3d-folding/MSA | shape=torch.Size([64, 100])\n",
      "✅ Loaded MSA for 3IZZ_E from /kaggle/input/stanford-rna-3d-folding/MSA | shape=torch.Size([64, 100])\n",
      "✅ Loaded MSA for 2LA5_A from /kaggle/input/stanford-rna-3d-folding/MSA_v2 | shape=torch.Size([64, 36])\n",
      "✅ Loaded MSA for 2LA5_A from /kaggle/input/stanford-rna-3d-folding/MSA_v2 | shape=torch.Size([64, 36])\n"
     ]
    },
    {
     "name": "stderr",
     "output_type": "stream",
     "text": [
      " 42%|████▏     | 354/844 [01:12<01:58,  4.15it/s]"
     ]
    },
    {
     "name": "stdout",
     "output_type": "stream",
     "text": [
      "✅ Loaded MSA for 2LAC_A from /kaggle/input/stanford-rna-3d-folding/MSA_v2 | shape=torch.Size([4, 17])\n",
      "✅ Loaded MSA for 2LAC_A from /kaggle/input/stanford-rna-3d-folding/MSA_v2 | shape=torch.Size([4, 17])\n",
      "✅ Loaded MSA for 2LBS_A from /kaggle/input/stanford-rna-3d-folding/MSA | shape=torch.Size([64, 32])\n",
      "✅ Loaded MSA for 2LBS_A from /kaggle/input/stanford-rna-3d-folding/MSA | shape=torch.Size([64, 32])\n"
     ]
    },
    {
     "name": "stderr",
     "output_type": "stream",
     "text": [
      " 42%|████▏     | 355/844 [01:12<01:47,  4.56it/s]"
     ]
    },
    {
     "name": "stdout",
     "output_type": "stream",
     "text": [
      "✅ Loaded MSA for 2LDT_A from /kaggle/input/stanford-rna-3d-folding/MSA | shape=torch.Size([64, 31])\n",
      "✅ Loaded MSA for 2LDT_A from /kaggle/input/stanford-rna-3d-folding/MSA | shape=torch.Size([64, 31])\n"
     ]
    },
    {
     "name": "stderr",
     "output_type": "stream",
     "text": [
      " 42%|████▏     | 356/844 [01:13<02:43,  2.99it/s]"
     ]
    },
    {
     "name": "stdout",
     "output_type": "stream",
     "text": [
      "✅ Loaded MSA for 3AMU_B from /kaggle/input/stanford-rna-3d-folding/MSA | shape=torch.Size([64, 78])\n",
      "✅ Loaded MSA for 3AMU_B from /kaggle/input/stanford-rna-3d-folding/MSA | shape=torch.Size([64, 78])\n",
      "✅ Loaded MSA for 2Y95_A from /kaggle/input/stanford-rna-3d-folding/MSA | shape=torch.Size([1, 14])\n",
      "✅ Loaded MSA for 2Y95_A from /kaggle/input/stanford-rna-3d-folding/MSA | shape=torch.Size([1, 14])\n"
     ]
    },
    {
     "name": "stderr",
     "output_type": "stream",
     "text": [
      " 42%|████▏     | 358/844 [01:14<02:21,  3.43it/s]"
     ]
    },
    {
     "name": "stdout",
     "output_type": "stream",
     "text": [
      "✅ Loaded MSA for 3TUP_T from /kaggle/input/stanford-rna-3d-folding/MSA_v2 | shape=torch.Size([64, 76])\n",
      "✅ Loaded MSA for 3TUP_T from /kaggle/input/stanford-rna-3d-folding/MSA_v2 | shape=torch.Size([64, 76])\n"
     ]
    },
    {
     "name": "stderr",
     "output_type": "stream",
     "text": [
      " 43%|████▎     | 360/844 [01:14<02:01,  4.00it/s]"
     ]
    },
    {
     "name": "stdout",
     "output_type": "stream",
     "text": [
      "✅ Loaded MSA for 2LC8_A from /kaggle/input/stanford-rna-3d-folding/MSA | shape=torch.Size([64, 63])\n",
      "✅ Loaded MSA for 2LC8_A from /kaggle/input/stanford-rna-3d-folding/MSA | shape=torch.Size([64, 63])\n",
      "✅ Loaded MSA for 2LDL_A from /kaggle/input/stanford-rna-3d-folding/MSA | shape=torch.Size([64, 27])\n",
      "✅ Loaded MSA for 2LDL_A from /kaggle/input/stanford-rna-3d-folding/MSA | shape=torch.Size([64, 27])\n"
     ]
    },
    {
     "name": "stderr",
     "output_type": "stream",
     "text": [
      " 43%|████▎     | 362/844 [01:15<02:08,  3.74it/s]"
     ]
    },
    {
     "name": "stdout",
     "output_type": "stream",
     "text": [
      "✅ Loaded MSA for 2LKR_A from /kaggle/input/stanford-rna-3d-folding/MSA_v2 | shape=torch.Size([64, 111])\n",
      "✅ Loaded MSA for 2LKR_A from /kaggle/input/stanford-rna-3d-folding/MSA_v2 | shape=torch.Size([64, 111])\n",
      "✅ Loaded MSA for 2LK3_A from /kaggle/input/stanford-rna-3d-folding/MSA | shape=torch.Size([59, 24])\n",
      "✅ Loaded MSA for 2LK3_A from /kaggle/input/stanford-rna-3d-folding/MSA | shape=torch.Size([59, 24])\n",
      "✅ Loaded MSA for 2LBJ_A from /kaggle/input/stanford-rna-3d-folding/MSA_v2 | shape=torch.Size([2, 17])\n",
      "✅ Loaded MSA for 2LBJ_A from /kaggle/input/stanford-rna-3d-folding/MSA_v2 | shape=torch.Size([2, 17])\n"
     ]
    },
    {
     "name": "stderr",
     "output_type": "stream",
     "text": [
      " 43%|████▎     | 366/844 [01:15<01:09,  6.86it/s]"
     ]
    },
    {
     "name": "stdout",
     "output_type": "stream",
     "text": [
      "✅ Loaded MSA for 2LBK_A from /kaggle/input/stanford-rna-3d-folding/MSA_v2 | shape=torch.Size([2, 17])\n",
      "✅ Loaded MSA for 2LBK_A from /kaggle/input/stanford-rna-3d-folding/MSA_v2 | shape=torch.Size([2, 17])\n",
      "✅ Loaded MSA for 2LBL_A from /kaggle/input/stanford-rna-3d-folding/MSA_v2 | shape=torch.Size([2, 17])\n",
      "✅ Loaded MSA for 2LBL_A from /kaggle/input/stanford-rna-3d-folding/MSA_v2 | shape=torch.Size([2, 17])\n",
      "✅ Loaded MSA for 2LPA_A from /kaggle/input/stanford-rna-3d-folding/MSA | shape=torch.Size([1, 15])\n",
      "✅ Loaded MSA for 2LPA_A from /kaggle/input/stanford-rna-3d-folding/MSA | shape=torch.Size([1, 15])\n"
     ]
    },
    {
     "name": "stderr",
     "output_type": "stream",
     "text": [
      " 44%|████▎     | 368/844 [01:15<01:00,  7.89it/s]"
     ]
    },
    {
     "name": "stdout",
     "output_type": "stream",
     "text": [
      "✅ Loaded MSA for 2LP9_A from /kaggle/input/stanford-rna-3d-folding/MSA_v2 | shape=torch.Size([1, 16])\n",
      "✅ Loaded MSA for 2LP9_A from /kaggle/input/stanford-rna-3d-folding/MSA_v2 | shape=torch.Size([1, 16])\n",
      "✅ Loaded MSA for 4A4T_A from /kaggle/input/stanford-rna-3d-folding/MSA | shape=torch.Size([64, 22])\n",
      "✅ Loaded MSA for 4A4T_A from /kaggle/input/stanford-rna-3d-folding/MSA | shape=torch.Size([64, 22])\n"
     ]
    },
    {
     "name": "stderr",
     "output_type": "stream",
     "text": [
      " 44%|████▍     | 370/844 [01:15<00:55,  8.47it/s]"
     ]
    },
    {
     "name": "stdout",
     "output_type": "stream",
     "text": [
      "✅ Loaded MSA for 4A4U_A from /kaggle/input/stanford-rna-3d-folding/MSA | shape=torch.Size([32, 22])\n",
      "✅ Loaded MSA for 4A4U_A from /kaggle/input/stanford-rna-3d-folding/MSA | shape=torch.Size([32, 22])\n",
      "✅ Loaded MSA for 4A4S_A from /kaggle/input/stanford-rna-3d-folding/MSA_v2 | shape=torch.Size([36, 22])\n",
      "✅ Loaded MSA for 4A4S_A from /kaggle/input/stanford-rna-3d-folding/MSA_v2 | shape=torch.Size([36, 22])\n"
     ]
    },
    {
     "name": "stderr",
     "output_type": "stream",
     "text": [
      " 44%|████▍     | 372/844 [01:16<01:01,  7.67it/s]"
     ]
    },
    {
     "name": "stdout",
     "output_type": "stream",
     "text": [
      "✅ Loaded MSA for 3UZS_C from /kaggle/input/stanford-rna-3d-folding/MSA_v2 | shape=torch.Size([55, 28])\n",
      "✅ Loaded MSA for 3UZS_C from /kaggle/input/stanford-rna-3d-folding/MSA_v2 | shape=torch.Size([55, 28])\n",
      "✅ Loaded MSA for 2LHP_A from /kaggle/input/stanford-rna-3d-folding/MSA_v2 | shape=torch.Size([40, 37])\n",
      "✅ Loaded MSA for 2LHP_A from /kaggle/input/stanford-rna-3d-folding/MSA_v2 | shape=torch.Size([40, 37])\n"
     ]
    },
    {
     "name": "stderr",
     "output_type": "stream",
     "text": [
      " 44%|████▍     | 374/844 [01:16<01:04,  7.33it/s]"
     ]
    },
    {
     "name": "stdout",
     "output_type": "stream",
     "text": [
      "✅ Loaded MSA for 2LUB_A from /kaggle/input/stanford-rna-3d-folding/MSA | shape=torch.Size([28, 37])\n",
      "✅ Loaded MSA for 2LUB_A from /kaggle/input/stanford-rna-3d-folding/MSA | shape=torch.Size([28, 37])\n",
      "✅ Loaded MSA for 2LQZ_A from /kaggle/input/stanford-rna-3d-folding/MSA_v2 | shape=torch.Size([25, 27])\n",
      "✅ Loaded MSA for 2LQZ_A from /kaggle/input/stanford-rna-3d-folding/MSA_v2 | shape=torch.Size([25, 27])\n"
     ]
    },
    {
     "name": "stderr",
     "output_type": "stream",
     "text": [
      " 45%|████▍     | 376/844 [01:16<01:02,  7.51it/s]"
     ]
    },
    {
     "name": "stdout",
     "output_type": "stream",
     "text": [
      "✅ Loaded MSA for 2LI4_A from /kaggle/input/stanford-rna-3d-folding/MSA_v2 | shape=torch.Size([64, 32])\n",
      "✅ Loaded MSA for 2LI4_A from /kaggle/input/stanford-rna-3d-folding/MSA_v2 | shape=torch.Size([64, 32])\n",
      "✅ Loaded MSA for 2LJJ_A from /kaggle/input/stanford-rna-3d-folding/MSA | shape=torch.Size([20, 27])\n",
      "✅ Loaded MSA for 2LJJ_A from /kaggle/input/stanford-rna-3d-folding/MSA | shape=torch.Size([20, 27])\n"
     ]
    },
    {
     "name": "stderr",
     "output_type": "stream",
     "text": [
      " 45%|████▍     | 378/844 [01:16<00:50,  9.17it/s]"
     ]
    },
    {
     "name": "stdout",
     "output_type": "stream",
     "text": [
      "✅ Loaded MSA for 4DR5_W from /kaggle/input/stanford-rna-3d-folding/MSA | shape=torch.Size([10, 15])\n",
      "✅ Loaded MSA for 4DR5_W from /kaggle/input/stanford-rna-3d-folding/MSA | shape=torch.Size([10, 15])\n",
      "✅ Loaded MSA for 4ILM_M from /kaggle/input/stanford-rna-3d-folding/MSA | shape=torch.Size([1, 16])\n",
      "✅ Loaded MSA for 4ILM_M from /kaggle/input/stanford-rna-3d-folding/MSA | shape=torch.Size([1, 16])\n",
      "✅ Loaded MSA for 2M21_A from /kaggle/input/stanford-rna-3d-folding/MSA_v2 | shape=torch.Size([3, 21])\n",
      "✅ Loaded MSA for 2M21_A from /kaggle/input/stanford-rna-3d-folding/MSA_v2 | shape=torch.Size([3, 21])\n"
     ]
    },
    {
     "name": "stderr",
     "output_type": "stream",
     "text": [
      " 45%|████▌     | 381/844 [01:17<00:49,  9.35it/s]"
     ]
    },
    {
     "name": "stdout",
     "output_type": "stream",
     "text": [
      "✅ Loaded MSA for 4ILL_C from /kaggle/input/stanford-rna-3d-folding/MSA | shape=torch.Size([37, 24])\n",
      "✅ Loaded MSA for 4ILL_C from /kaggle/input/stanford-rna-3d-folding/MSA | shape=torch.Size([37, 24])\n",
      "✅ Loaded MSA for 2M22_A from /kaggle/input/stanford-rna-3d-folding/MSA_v2 | shape=torch.Size([12, 23])\n",
      "✅ Loaded MSA for 2M22_A from /kaggle/input/stanford-rna-3d-folding/MSA_v2 | shape=torch.Size([12, 23])\n"
     ]
    },
    {
     "name": "stderr",
     "output_type": "stream",
     "text": [
      " 45%|████▌     | 382/844 [01:17<01:01,  7.55it/s]"
     ]
    },
    {
     "name": "stdout",
     "output_type": "stream",
     "text": [
      "✅ Loaded MSA for 2LU0_A from /kaggle/input/stanford-rna-3d-folding/MSA_v2 | shape=torch.Size([27, 49])\n",
      "✅ Loaded MSA for 2LU0_A from /kaggle/input/stanford-rna-3d-folding/MSA_v2 | shape=torch.Size([27, 49])\n"
     ]
    },
    {
     "name": "stderr",
     "output_type": "stream",
     "text": [
      " 45%|████▌     | 383/844 [01:18<02:17,  3.36it/s]"
     ]
    },
    {
     "name": "stdout",
     "output_type": "stream",
     "text": [
      "✅ Loaded MSA for 3W1K_F from /kaggle/input/stanford-rna-3d-folding/MSA | shape=torch.Size([64, 95])\n",
      "✅ Loaded MSA for 3W1K_F from /kaggle/input/stanford-rna-3d-folding/MSA | shape=torch.Size([64, 95])\n"
     ]
    },
    {
     "name": "stderr",
     "output_type": "stream",
     "text": [
      " 46%|████▌     | 386/844 [01:18<01:50,  4.13it/s]"
     ]
    },
    {
     "name": "stdout",
     "output_type": "stream",
     "text": [
      "✅ Loaded MSA for 3J3V_B from /kaggle/input/stanford-rna-3d-folding/MSA | shape=torch.Size([64, 119])\n",
      "✅ Loaded MSA for 3J3V_B from /kaggle/input/stanford-rna-3d-folding/MSA | shape=torch.Size([64, 119])\n"
     ]
    },
    {
     "name": "stderr",
     "output_type": "stream",
     "text": [
      " 46%|████▌     | 388/844 [01:19<01:34,  4.81it/s]"
     ]
    },
    {
     "name": "stdout",
     "output_type": "stream",
     "text": [
      "✅ Loaded MSA for 2M8K_A from /kaggle/input/stanford-rna-3d-folding/MSA | shape=torch.Size([56, 48])\n",
      "✅ Loaded MSA for 2M8K_A from /kaggle/input/stanford-rna-3d-folding/MSA | shape=torch.Size([56, 48])\n",
      "✅ Loaded MSA for 2LV0_A from /kaggle/input/stanford-rna-3d-folding/MSA | shape=torch.Size([64, 24])\n",
      "✅ Loaded MSA for 2LV0_A from /kaggle/input/stanford-rna-3d-folding/MSA | shape=torch.Size([64, 24])\n",
      "✅ Loaded MSA for 4KJI_D from /kaggle/input/stanford-rna-3d-folding/MSA | shape=torch.Size([8, 16])\n",
      "✅ Loaded MSA for 4KJI_D from /kaggle/input/stanford-rna-3d-folding/MSA | shape=torch.Size([8, 16])\n"
     ]
    },
    {
     "name": "stderr",
     "output_type": "stream",
     "text": [
      " 46%|████▋     | 391/844 [01:19<01:27,  5.20it/s]"
     ]
    },
    {
     "name": "stdout",
     "output_type": "stream",
     "text": [
      "✅ Loaded MSA for 4BY9_A from /kaggle/input/stanford-rna-3d-folding/MSA | shape=torch.Size([64, 72])\n",
      "✅ Loaded MSA for 4BY9_A from /kaggle/input/stanford-rna-3d-folding/MSA | shape=torch.Size([64, 72])\n",
      "✅ Loaded MSA for 2M12_A from /kaggle/input/stanford-rna-3d-folding/MSA_v2 | shape=torch.Size([15, 23])\n",
      "✅ Loaded MSA for 2M12_A from /kaggle/input/stanford-rna-3d-folding/MSA_v2 | shape=torch.Size([15, 23])\n"
     ]
    },
    {
     "name": "stderr",
     "output_type": "stream",
     "text": [
      " 47%|████▋     | 393/844 [01:20<02:47,  2.70it/s]"
     ]
    },
    {
     "name": "stdout",
     "output_type": "stream",
     "text": [
      "✅ Loaded MSA for 4C4Q_N from /kaggle/input/stanford-rna-3d-folding/MSA | shape=torch.Size([64, 233])\n",
      "✅ Loaded MSA for 4C4Q_N from /kaggle/input/stanford-rna-3d-folding/MSA | shape=torch.Size([64, 233])\n",
      "✅ Loaded MSA for 2M23_A from /kaggle/input/stanford-rna-3d-folding/MSA_v2 | shape=torch.Size([25, 29])\n",
      "✅ Loaded MSA for 2M23_A from /kaggle/input/stanford-rna-3d-folding/MSA_v2 | shape=torch.Size([25, 29])\n"
     ]
    },
    {
     "name": "stderr",
     "output_type": "stream",
     "text": [
      " 47%|████▋     | 395/844 [01:21<02:41,  2.78it/s]"
     ]
    },
    {
     "name": "stdout",
     "output_type": "stream",
     "text": [
      "✅ Loaded MSA for 3WC2_Q from /kaggle/input/stanford-rna-3d-folding/MSA_v2 | shape=torch.Size([64, 76])\n",
      "✅ Loaded MSA for 3WC2_Q from /kaggle/input/stanford-rna-3d-folding/MSA_v2 | shape=torch.Size([64, 76])\n",
      "✅ Loaded MSA for 2LUN_A from /kaggle/input/stanford-rna-3d-folding/MSA_v2 | shape=torch.Size([48, 28])\n",
      "✅ Loaded MSA for 2LUN_A from /kaggle/input/stanford-rna-3d-folding/MSA_v2 | shape=torch.Size([48, 28])\n"
     ]
    },
    {
     "name": "stderr",
     "output_type": "stream",
     "text": [
      " 47%|████▋     | 396/844 [01:22<02:45,  2.70it/s]"
     ]
    },
    {
     "name": "stdout",
     "output_type": "stream",
     "text": [
      "✅ Loaded MSA for 3WC2_P from /kaggle/input/stanford-rna-3d-folding/MSA_v2 | shape=torch.Size([64, 76])\n",
      "✅ Loaded MSA for 3WC2_P from /kaggle/input/stanford-rna-3d-folding/MSA_v2 | shape=torch.Size([64, 76])\n"
     ]
    },
    {
     "name": "stderr",
     "output_type": "stream",
     "text": [
      " 47%|████▋     | 397/844 [01:22<02:42,  2.76it/s]"
     ]
    },
    {
     "name": "stdout",
     "output_type": "stream",
     "text": [
      "✅ Loaded MSA for 3WC1_Q from /kaggle/input/stanford-rna-3d-folding/MSA_v2 | shape=torch.Size([64, 75])\n",
      "✅ Loaded MSA for 3WC1_Q from /kaggle/input/stanford-rna-3d-folding/MSA_v2 | shape=torch.Size([64, 75])\n"
     ]
    },
    {
     "name": "stderr",
     "output_type": "stream",
     "text": [
      " 47%|████▋     | 398/844 [01:22<02:24,  3.10it/s]"
     ]
    },
    {
     "name": "stdout",
     "output_type": "stream",
     "text": [
      "✅ Loaded MSA for 2MHI_A from /kaggle/input/stanford-rna-3d-folding/MSA_v2 | shape=torch.Size([64, 53])\n",
      "✅ Loaded MSA for 2MHI_A from /kaggle/input/stanford-rna-3d-folding/MSA_v2 | shape=torch.Size([64, 53])\n"
     ]
    },
    {
     "name": "stderr",
     "output_type": "stream",
     "text": [
      " 47%|████▋     | 399/844 [01:23<03:05,  2.39it/s]"
     ]
    },
    {
     "name": "stdout",
     "output_type": "stream",
     "text": [
      "✅ Loaded MSA for 3WFR_D from /kaggle/input/stanford-rna-3d-folding/MSA | shape=torch.Size([64, 75])\n",
      "✅ Loaded MSA for 3WFR_D from /kaggle/input/stanford-rna-3d-folding/MSA | shape=torch.Size([64, 75])\n"
     ]
    },
    {
     "name": "stderr",
     "output_type": "stream",
     "text": [
      " 47%|████▋     | 400/844 [01:23<03:00,  2.46it/s]"
     ]
    },
    {
     "name": "stdout",
     "output_type": "stream",
     "text": [
      "✅ Loaded MSA for 3WFQ_C from /kaggle/input/stanford-rna-3d-folding/MSA | shape=torch.Size([64, 73])\n",
      "✅ Loaded MSA for 3WFQ_C from /kaggle/input/stanford-rna-3d-folding/MSA | shape=torch.Size([64, 73])\n",
      "✅ Loaded MSA for 2MEQ_A from /kaggle/input/stanford-rna-3d-folding/MSA | shape=torch.Size([64, 19])\n",
      "✅ Loaded MSA for 2MEQ_A from /kaggle/input/stanford-rna-3d-folding/MSA | shape=torch.Size([64, 19])\n"
     ]
    },
    {
     "name": "stderr",
     "output_type": "stream",
     "text": [
      " 48%|████▊     | 403/844 [01:24<02:22,  3.10it/s]"
     ]
    },
    {
     "name": "stdout",
     "output_type": "stream",
     "text": [
      "✅ Loaded MSA for 3WFR_B from /kaggle/input/stanford-rna-3d-folding/MSA | shape=torch.Size([64, 74])\n",
      "✅ Loaded MSA for 3WFR_B from /kaggle/input/stanford-rna-3d-folding/MSA | shape=torch.Size([64, 74])\n",
      "✅ Loaded MSA for 2MI0_B from /kaggle/input/stanford-rna-3d-folding/MSA_v2 | shape=torch.Size([3, 21])\n",
      "✅ Loaded MSA for 2MI0_B from /kaggle/input/stanford-rna-3d-folding/MSA_v2 | shape=torch.Size([3, 21])\n"
     ]
    },
    {
     "name": "stderr",
     "output_type": "stream",
     "text": [
      " 48%|████▊     | 405/844 [01:24<01:39,  4.42it/s]"
     ]
    },
    {
     "name": "stdout",
     "output_type": "stream",
     "text": [
      "✅ Loaded MSA for 2MI0_A from /kaggle/input/stanford-rna-3d-folding/MSA | shape=torch.Size([25, 22])\n",
      "✅ Loaded MSA for 2MI0_A from /kaggle/input/stanford-rna-3d-folding/MSA | shape=torch.Size([25, 22])\n",
      "✅ Loaded MSA for 2MFG_D from /kaggle/input/stanford-rna-3d-folding/MSA | shape=torch.Size([64, 21])\n",
      "✅ Loaded MSA for 2MFG_D from /kaggle/input/stanford-rna-3d-folding/MSA | shape=torch.Size([64, 21])\n"
     ]
    },
    {
     "name": "stderr",
     "output_type": "stream",
     "text": [
      " 48%|████▊     | 407/844 [01:25<01:20,  5.43it/s]"
     ]
    },
    {
     "name": "stdout",
     "output_type": "stream",
     "text": [
      "✅ Loaded MSA for 2MFC_B from /kaggle/input/stanford-rna-3d-folding/MSA_v2 | shape=torch.Size([64, 22])\n",
      "✅ Loaded MSA for 2MFC_B from /kaggle/input/stanford-rna-3d-folding/MSA_v2 | shape=torch.Size([64, 22])\n",
      "✅ Loaded MSA for 2M57_A from /kaggle/input/stanford-rna-3d-folding/MSA | shape=torch.Size([64, 35])\n",
      "✅ Loaded MSA for 2M57_A from /kaggle/input/stanford-rna-3d-folding/MSA | shape=torch.Size([64, 35])\n"
     ]
    },
    {
     "name": "stderr",
     "output_type": "stream",
     "text": [
      " 48%|████▊     | 409/844 [01:25<01:03,  6.87it/s]"
     ]
    },
    {
     "name": "stdout",
     "output_type": "stream",
     "text": [
      "✅ Loaded MSA for 2MFE_D from /kaggle/input/stanford-rna-3d-folding/MSA_v2 | shape=torch.Size([64, 22])\n",
      "✅ Loaded MSA for 2MFE_D from /kaggle/input/stanford-rna-3d-folding/MSA_v2 | shape=torch.Size([64, 22])\n",
      "✅ Loaded MSA for 2MFF_B from /kaggle/input/stanford-rna-3d-folding/MSA | shape=torch.Size([64, 21])\n",
      "✅ Loaded MSA for 2MFF_B from /kaggle/input/stanford-rna-3d-folding/MSA | shape=torch.Size([64, 21])\n",
      "✅ Loaded MSA for 2M4W_A from /kaggle/input/stanford-rna-3d-folding/MSA | shape=torch.Size([1, 17])\n",
      "✅ Loaded MSA for 2M4W_A from /kaggle/input/stanford-rna-3d-folding/MSA | shape=torch.Size([1, 17])\n"
     ]
    },
    {
     "name": "stderr",
     "output_type": "stream",
     "text": [
      " 49%|████▉     | 412/844 [01:25<00:52,  8.29it/s]"
     ]
    },
    {
     "name": "stdout",
     "output_type": "stream",
     "text": [
      "✅ Loaded MSA for 2M5U_A from /kaggle/input/stanford-rna-3d-folding/MSA | shape=torch.Size([64, 22])\n",
      "✅ Loaded MSA for 2M5U_A from /kaggle/input/stanford-rna-3d-folding/MSA | shape=torch.Size([64, 22])\n",
      "✅ Loaded MSA for 3J6B_e from /kaggle/input/stanford-rna-3d-folding/MSA_v2 | shape=torch.Size([17, 20])\n",
      "✅ Loaded MSA for 3J6B_e from /kaggle/input/stanford-rna-3d-folding/MSA_v2 | shape=torch.Size([17, 20])\n"
     ]
    },
    {
     "name": "stderr",
     "output_type": "stream",
     "text": [
      " 49%|████▉     | 413/844 [01:25<00:57,  7.56it/s]"
     ]
    },
    {
     "name": "stdout",
     "output_type": "stream",
     "text": [
      "✅ Loaded MSA for 4KR6_D from /kaggle/input/stanford-rna-3d-folding/MSA_v2 | shape=torch.Size([21, 39])\n",
      "✅ Loaded MSA for 4KR6_D from /kaggle/input/stanford-rna-3d-folding/MSA_v2 | shape=torch.Size([21, 39])\n"
     ]
    },
    {
     "name": "stderr",
     "output_type": "stream",
     "text": [
      " 49%|████▉     | 414/844 [01:26<01:16,  5.59it/s]"
     ]
    },
    {
     "name": "stdout",
     "output_type": "stream",
     "text": [
      "✅ Loaded MSA for 2MF0_G from /kaggle/input/stanford-rna-3d-folding/MSA | shape=torch.Size([64, 72])\n",
      "✅ Loaded MSA for 2MF0_G from /kaggle/input/stanford-rna-3d-folding/MSA | shape=torch.Size([64, 72])\n"
     ]
    },
    {
     "name": "stderr",
     "output_type": "stream",
     "text": [
      " 49%|████▉     | 415/844 [01:27<02:47,  2.57it/s]"
     ]
    },
    {
     "name": "stdout",
     "output_type": "stream",
     "text": [
      "✅ Loaded MSA for 4P8Z_A from /kaggle/input/stanford-rna-3d-folding/MSA | shape=torch.Size([4, 188])\n",
      "✅ Loaded MSA for 4P8Z_A from /kaggle/input/stanford-rna-3d-folding/MSA | shape=torch.Size([4, 188])\n"
     ]
    },
    {
     "name": "stderr",
     "output_type": "stream",
     "text": [
      " 49%|████▉     | 416/844 [01:27<02:51,  2.50it/s]"
     ]
    },
    {
     "name": "stdout",
     "output_type": "stream",
     "text": [
      "✅ Loaded MSA for 3WQZ_C from /kaggle/input/stanford-rna-3d-folding/MSA_v2 | shape=torch.Size([64, 75])\n",
      "✅ Loaded MSA for 3WQZ_C from /kaggle/input/stanford-rna-3d-folding/MSA_v2 | shape=torch.Size([64, 75])\n"
     ]
    },
    {
     "name": "stderr",
     "output_type": "stream",
     "text": [
      " 49%|████▉     | 417/844 [01:28<03:25,  2.07it/s]"
     ]
    },
    {
     "name": "stdout",
     "output_type": "stream",
     "text": [
      "✅ Loaded MSA for 4V6X_BC from /kaggle/input/stanford-rna-3d-folding/MSA_v2 | shape=torch.Size([64, 75])\n",
      "✅ Loaded MSA for 4V6X_BC from /kaggle/input/stanford-rna-3d-folding/MSA_v2 | shape=torch.Size([64, 75])\n",
      "✅ Loaded MSA for 4V99_FX from /kaggle/input/stanford-rna-3d-folding/MSA | shape=torch.Size([1, 17])\n",
      "✅ Loaded MSA for 4V99_FX from /kaggle/input/stanford-rna-3d-folding/MSA | shape=torch.Size([1, 17])\n"
     ]
    },
    {
     "name": "stderr",
     "output_type": "stream",
     "text": [
      " 50%|████▉     | 419/844 [01:28<02:59,  2.36it/s]"
     ]
    },
    {
     "name": "stdout",
     "output_type": "stream",
     "text": [
      "✅ Loaded MSA for 4V4N_A3 from /kaggle/input/stanford-rna-3d-folding/MSA | shape=torch.Size([64, 126])\n",
      "✅ Loaded MSA for 4V4N_A3 from /kaggle/input/stanford-rna-3d-folding/MSA | shape=torch.Size([64, 126])\n"
     ]
    },
    {
     "name": "stderr",
     "output_type": "stream",
     "text": [
      " 50%|████▉     | 420/844 [01:29<04:01,  1.75it/s]"
     ]
    },
    {
     "name": "stdout",
     "output_type": "stream",
     "text": [
      "✅ Loaded MSA for 4V6W_A7 from /kaggle/input/stanford-rna-3d-folding/MSA | shape=torch.Size([64, 120])\n",
      "✅ Loaded MSA for 4V6W_A7 from /kaggle/input/stanford-rna-3d-folding/MSA | shape=torch.Size([64, 120])\n"
     ]
    },
    {
     "name": "stderr",
     "output_type": "stream",
     "text": [
      " 50%|█████     | 424/844 [01:30<02:12,  3.16it/s]"
     ]
    },
    {
     "name": "stdout",
     "output_type": "stream",
     "text": [
      "✅ Loaded MSA for 4V4W_B9 from /kaggle/input/stanford-rna-3d-folding/MSA_v2 | shape=torch.Size([64, 108])\n",
      "✅ Loaded MSA for 4V4W_B9 from /kaggle/input/stanford-rna-3d-folding/MSA_v2 | shape=torch.Size([64, 108])\n"
     ]
    },
    {
     "name": "stderr",
     "output_type": "stream",
     "text": [
      " 50%|█████     | 425/844 [01:30<02:18,  3.02it/s]"
     ]
    },
    {
     "name": "stdout",
     "output_type": "stream",
     "text": [
      "✅ Loaded MSA for 4V8J_CW from /kaggle/input/stanford-rna-3d-folding/MSA | shape=torch.Size([64, 76])\n",
      "✅ Loaded MSA for 4V8J_CW from /kaggle/input/stanford-rna-3d-folding/MSA | shape=torch.Size([64, 76])\n"
     ]
    },
    {
     "name": "stderr",
     "output_type": "stream",
     "text": [
      " 51%|█████     | 428/844 [01:31<01:52,  3.69it/s]"
     ]
    },
    {
     "name": "stdout",
     "output_type": "stream",
     "text": [
      "✅ Loaded MSA for 4V6W_A8 from /kaggle/input/stanford-rna-3d-folding/MSA | shape=torch.Size([64, 123])\n",
      "✅ Loaded MSA for 4V6W_A8 from /kaggle/input/stanford-rna-3d-folding/MSA | shape=torch.Size([64, 123])\n"
     ]
    },
    {
     "name": "stderr",
     "output_type": "stream",
     "text": [
      " 51%|█████     | 430/844 [01:32<02:03,  3.36it/s]"
     ]
    },
    {
     "name": "stdout",
     "output_type": "stream",
     "text": [
      "✅ Loaded MSA for 4V6U_A0 from /kaggle/input/stanford-rna-3d-folding/MSA_v2 | shape=torch.Size([64, 76])\n",
      "✅ Loaded MSA for 4V6U_A0 from /kaggle/input/stanford-rna-3d-folding/MSA_v2 | shape=torch.Size([64, 76])\n"
     ]
    },
    {
     "name": "stderr",
     "output_type": "stream",
     "text": [
      " 51%|█████     | 432/844 [01:32<01:53,  3.64it/s]"
     ]
    },
    {
     "name": "stdout",
     "output_type": "stream",
     "text": [
      "✅ Loaded MSA for 4V9B_CD from /kaggle/input/stanford-rna-3d-folding/MSA | shape=torch.Size([64, 77])\n",
      "✅ Loaded MSA for 4V9B_CD from /kaggle/input/stanford-rna-3d-folding/MSA | shape=torch.Size([64, 77])\n"
     ]
    },
    {
     "name": "stderr",
     "output_type": "stream",
     "text": [
      " 51%|█████▏    | 433/844 [01:33<02:23,  2.86it/s]"
     ]
    },
    {
     "name": "stdout",
     "output_type": "stream",
     "text": [
      "✅ Loaded MSA for 4V4N_B1 from /kaggle/input/stanford-rna-3d-folding/MSA | shape=torch.Size([64, 77])\n",
      "✅ Loaded MSA for 4V4N_B1 from /kaggle/input/stanford-rna-3d-folding/MSA | shape=torch.Size([64, 77])\n"
     ]
    },
    {
     "name": "stderr",
     "output_type": "stream",
     "text": [
      " 52%|█████▏    | 435/844 [01:34<02:28,  2.75it/s]"
     ]
    },
    {
     "name": "stdout",
     "output_type": "stream",
     "text": [
      "✅ Loaded MSA for 4V7E_Ac from /kaggle/input/stanford-rna-3d-folding/MSA | shape=torch.Size([64, 160])\n",
      "✅ Loaded MSA for 4V7E_Ac from /kaggle/input/stanford-rna-3d-folding/MSA | shape=torch.Size([64, 160])\n"
     ]
    },
    {
     "name": "stderr",
     "output_type": "stream",
     "text": [
      " 52%|█████▏    | 437/844 [01:34<02:06,  3.23it/s]"
     ]
    },
    {
     "name": "stdout",
     "output_type": "stream",
     "text": [
      "✅ Loaded MSA for 4V6W_BC from /kaggle/input/stanford-rna-3d-folding/MSA_v2 | shape=torch.Size([64, 75])\n",
      "✅ Loaded MSA for 4V6W_BC from /kaggle/input/stanford-rna-3d-folding/MSA_v2 | shape=torch.Size([64, 75])\n"
     ]
    },
    {
     "name": "stderr",
     "output_type": "stream",
     "text": [
      " 52%|█████▏    | 440/844 [01:35<01:47,  3.77it/s]"
     ]
    },
    {
     "name": "stdout",
     "output_type": "stream",
     "text": [
      "✅ Loaded MSA for 4V5G_BB from /kaggle/input/stanford-rna-3d-folding/MSA | shape=torch.Size([64, 122])\n",
      "✅ Loaded MSA for 4V5G_BB from /kaggle/input/stanford-rna-3d-folding/MSA | shape=torch.Size([64, 122])\n",
      "✅ Loaded MSA for 4V6D_AV from /kaggle/input/stanford-rna-3d-folding/MSA | shape=torch.Size([2, 17])\n",
      "✅ Loaded MSA for 4V6D_AV from /kaggle/input/stanford-rna-3d-folding/MSA | shape=torch.Size([2, 17])\n"
     ]
    },
    {
     "name": "stderr",
     "output_type": "stream",
     "text": [
      " 52%|█████▏    | 443/844 [01:35<01:42,  3.92it/s]"
     ]
    },
    {
     "name": "stdout",
     "output_type": "stream",
     "text": [
      "✅ Loaded MSA for 4V7E_Ab from /kaggle/input/stanford-rna-3d-folding/MSA | shape=torch.Size([64, 120])\n",
      "✅ Loaded MSA for 4V7E_Ab from /kaggle/input/stanford-rna-3d-folding/MSA | shape=torch.Size([64, 120])\n"
     ]
    },
    {
     "name": "stderr",
     "output_type": "stream",
     "text": [
      " 53%|█████▎    | 445/844 [01:36<02:07,  3.14it/s]"
     ]
    },
    {
     "name": "stdout",
     "output_type": "stream",
     "text": [
      "✅ Loaded MSA for 4V6X_A7 from /kaggle/input/stanford-rna-3d-folding/MSA_v2 | shape=torch.Size([64, 121])\n",
      "✅ Loaded MSA for 4V6X_A7 from /kaggle/input/stanford-rna-3d-folding/MSA_v2 | shape=torch.Size([64, 121])\n"
     ]
    },
    {
     "name": "stderr",
     "output_type": "stream",
     "text": [
      " 53%|█████▎    | 447/844 [01:37<02:27,  2.70it/s]"
     ]
    },
    {
     "name": "stdout",
     "output_type": "stream",
     "text": [
      "✅ Loaded MSA for 4V6X_A8 from /kaggle/input/stanford-rna-3d-folding/MSA | shape=torch.Size([64, 157])\n",
      "✅ Loaded MSA for 4V6X_A8 from /kaggle/input/stanford-rna-3d-folding/MSA | shape=torch.Size([64, 157])\n"
     ]
    },
    {
     "name": "stderr",
     "output_type": "stream",
     "text": [
      " 53%|█████▎    | 449/844 [01:38<02:08,  3.08it/s]"
     ]
    },
    {
     "name": "stdout",
     "output_type": "stream",
     "text": [
      "✅ Loaded MSA for 4V8J_AV from /kaggle/input/stanford-rna-3d-folding/MSA | shape=torch.Size([64, 77])\n",
      "✅ Loaded MSA for 4V8J_AV from /kaggle/input/stanford-rna-3d-folding/MSA | shape=torch.Size([64, 77])\n"
     ]
    },
    {
     "name": "stderr",
     "output_type": "stream",
     "text": [
      " 55%|█████▍    | 463/844 [01:38<00:39,  9.57it/s]"
     ]
    },
    {
     "name": "stdout",
     "output_type": "stream",
     "text": [
      "✅ Loaded MSA for 4V7E_Ae from /kaggle/input/stanford-rna-3d-folding/MSA | shape=torch.Size([64, 75])\n",
      "✅ Loaded MSA for 4V7E_Ae from /kaggle/input/stanford-rna-3d-folding/MSA | shape=torch.Size([64, 75])\n",
      "✅ Loaded MSA for 4QIL_C from /kaggle/input/stanford-rna-3d-folding/MSA_v2 | shape=torch.Size([2, 19])\n",
      "✅ Loaded MSA for 4QIL_C from /kaggle/input/stanford-rna-3d-folding/MSA_v2 | shape=torch.Size([2, 19])\n"
     ]
    },
    {
     "name": "stderr",
     "output_type": "stream",
     "text": [
      " 55%|█████▌    | 465/844 [01:39<00:54,  6.97it/s]"
     ]
    },
    {
     "name": "stdout",
     "output_type": "stream",
     "text": [
      "✅ Loaded MSA for 4TZV_B from /kaggle/input/stanford-rna-3d-folding/MSA | shape=torch.Size([64, 75])\n",
      "✅ Loaded MSA for 4TZV_B from /kaggle/input/stanford-rna-3d-folding/MSA | shape=torch.Size([64, 75])\n",
      "✅ Loaded MSA for 4TZP_C from /kaggle/input/stanford-rna-3d-folding/MSA | shape=torch.Size([64, 102])\n",
      "✅ Loaded MSA for 4TZP_C from /kaggle/input/stanford-rna-3d-folding/MSA | shape=torch.Size([64, 102])\n"
     ]
    },
    {
     "name": "stderr",
     "output_type": "stream",
     "text": [
      " 55%|█████▌    | 467/844 [01:40<01:13,  5.15it/s]"
     ]
    },
    {
     "name": "stdout",
     "output_type": "stream",
     "text": [
      "✅ Loaded MSA for 2MS1_B from /kaggle/input/stanford-rna-3d-folding/MSA | shape=torch.Size([64, 71])\n",
      "✅ Loaded MSA for 2MS1_B from /kaggle/input/stanford-rna-3d-folding/MSA | shape=torch.Size([64, 71])\n"
     ]
    },
    {
     "name": "stderr",
     "output_type": "stream",
     "text": [
      " 56%|█████▌    | 469/844 [01:40<01:13,  5.07it/s]"
     ]
    },
    {
     "name": "stdout",
     "output_type": "stream",
     "text": [
      "✅ Loaded MSA for 2MQT_A from /kaggle/input/stanford-rna-3d-folding/MSA_v2 | shape=torch.Size([64, 68])\n",
      "✅ Loaded MSA for 2MQT_A from /kaggle/input/stanford-rna-3d-folding/MSA_v2 | shape=torch.Size([64, 68])\n",
      "✅ Loaded MSA for 2MNC_A from /kaggle/input/stanford-rna-3d-folding/MSA_v2 | shape=torch.Size([24, 29])\n",
      "✅ Loaded MSA for 2MNC_A from /kaggle/input/stanford-rna-3d-folding/MSA_v2 | shape=torch.Size([24, 29])\n"
     ]
    },
    {
     "name": "stderr",
     "output_type": "stream",
     "text": [
      " 56%|█████▌    | 471/844 [01:40<01:09,  5.41it/s]"
     ]
    },
    {
     "name": "stdout",
     "output_type": "stream",
     "text": [
      "✅ Loaded MSA for 2MFD_A from /kaggle/input/stanford-rna-3d-folding/MSA_v2 | shape=torch.Size([1, 19])\n",
      "✅ Loaded MSA for 2MFD_A from /kaggle/input/stanford-rna-3d-folding/MSA_v2 | shape=torch.Size([1, 19])\n",
      "✅ Loaded MSA for 2MTJ_A from /kaggle/input/stanford-rna-3d-folding/MSA_v2 | shape=torch.Size([12, 47])\n",
      "✅ Loaded MSA for 2MTJ_A from /kaggle/input/stanford-rna-3d-folding/MSA_v2 | shape=torch.Size([12, 47])\n",
      "✅ Loaded MSA for 4WSA_V from /kaggle/input/stanford-rna-3d-folding/MSA | shape=torch.Size([1, 14])\n",
      "✅ Loaded MSA for 4WSA_V from /kaggle/input/stanford-rna-3d-folding/MSA | shape=torch.Size([1, 14])\n"
     ]
    },
    {
     "name": "stderr",
     "output_type": "stream",
     "text": [
      " 56%|█████▌    | 474/844 [01:41<01:12,  5.12it/s]"
     ]
    },
    {
     "name": "stdout",
     "output_type": "stream",
     "text": [
      "✅ Loaded MSA for 3J8G_A from /kaggle/input/stanford-rna-3d-folding/MSA | shape=torch.Size([64, 117])\n",
      "✅ Loaded MSA for 3J8G_A from /kaggle/input/stanford-rna-3d-folding/MSA | shape=torch.Size([64, 117])\n"
     ]
    },
    {
     "name": "stderr",
     "output_type": "stream",
     "text": [
      " 56%|█████▋    | 475/844 [01:42<01:35,  3.88it/s]"
     ]
    },
    {
     "name": "stdout",
     "output_type": "stream",
     "text": [
      "✅ Loaded MSA for 4WJ3_Q from /kaggle/input/stanford-rna-3d-folding/MSA_v2 | shape=torch.Size([64, 76])\n",
      "✅ Loaded MSA for 4WJ3_Q from /kaggle/input/stanford-rna-3d-folding/MSA_v2 | shape=torch.Size([64, 76])\n"
     ]
    },
    {
     "name": "stderr",
     "output_type": "stream",
     "text": [
      " 56%|█████▋    | 476/844 [01:42<01:37,  3.79it/s]"
     ]
    },
    {
     "name": "stdout",
     "output_type": "stream",
     "text": [
      "✅ Loaded MSA for 4WZJ_VV from /kaggle/input/stanford-rna-3d-folding/MSA | shape=torch.Size([64, 68])\n",
      "✅ Loaded MSA for 4WZJ_VV from /kaggle/input/stanford-rna-3d-folding/MSA | shape=torch.Size([64, 68])\n"
     ]
    },
    {
     "name": "stderr",
     "output_type": "stream",
     "text": [
      " 57%|█████▋    | 478/844 [01:43<02:10,  2.79it/s]"
     ]
    },
    {
     "name": "stdout",
     "output_type": "stream",
     "text": [
      "✅ Loaded MSA for 4D5N_X from /kaggle/input/stanford-rna-3d-folding/MSA | shape=torch.Size([64, 201])\n",
      "✅ Loaded MSA for 4D5N_X from /kaggle/input/stanford-rna-3d-folding/MSA | shape=torch.Size([64, 201])\n",
      "✅ Loaded MSA for 4X4P_B from /kaggle/input/stanford-rna-3d-folding/MSA | shape=torch.Size([64, 36])\n",
      "✅ Loaded MSA for 4X4P_B from /kaggle/input/stanford-rna-3d-folding/MSA | shape=torch.Size([64, 36])\n"
     ]
    },
    {
     "name": "stderr",
     "output_type": "stream",
     "text": [
      " 57%|█████▋    | 479/844 [01:43<01:55,  3.15it/s]"
     ]
    },
    {
     "name": "stdout",
     "output_type": "stream",
     "text": [
      "✅ Loaded MSA for 4X4S_B from /kaggle/input/stanford-rna-3d-folding/MSA | shape=torch.Size([64, 37])\n",
      "✅ Loaded MSA for 4X4S_B from /kaggle/input/stanford-rna-3d-folding/MSA | shape=torch.Size([64, 37])\n"
     ]
    },
    {
     "name": "stderr",
     "output_type": "stream",
     "text": [
      " 57%|█████▋    | 480/844 [01:44<02:30,  2.41it/s]"
     ]
    },
    {
     "name": "stdout",
     "output_type": "stream",
     "text": [
      "✅ Loaded MSA for 4X0B_B from /kaggle/input/stanford-rna-3d-folding/MSA | shape=torch.Size([64, 77])\n",
      "✅ Loaded MSA for 4X0B_B from /kaggle/input/stanford-rna-3d-folding/MSA | shape=torch.Size([64, 77])\n"
     ]
    },
    {
     "name": "stderr",
     "output_type": "stream",
     "text": [
      " 57%|█████▋    | 481/844 [01:45<02:27,  2.47it/s]"
     ]
    },
    {
     "name": "stdout",
     "output_type": "stream",
     "text": [
      "✅ Loaded MSA for 4X0A_B from /kaggle/input/stanford-rna-3d-folding/MSA | shape=torch.Size([64, 73])\n",
      "✅ Loaded MSA for 4X0A_B from /kaggle/input/stanford-rna-3d-folding/MSA | shape=torch.Size([64, 73])\n"
     ]
    },
    {
     "name": "stderr",
     "output_type": "stream",
     "text": [
      " 57%|█████▋    | 483/844 [01:45<02:17,  2.63it/s]"
     ]
    },
    {
     "name": "stdout",
     "output_type": "stream",
     "text": [
      "✅ Loaded MSA for 4WC3_B from /kaggle/input/stanford-rna-3d-folding/MSA_v2 | shape=torch.Size([64, 76])\n",
      "✅ Loaded MSA for 4WC3_B from /kaggle/input/stanford-rna-3d-folding/MSA_v2 | shape=torch.Size([64, 76])\n",
      "✅ Loaded MSA for 5A18_A from /kaggle/input/stanford-rna-3d-folding/MSA | shape=torch.Size([21, 32])\n",
      "✅ Loaded MSA for 5A18_A from /kaggle/input/stanford-rna-3d-folding/MSA | shape=torch.Size([21, 32])\n"
     ]
    },
    {
     "name": "stderr",
     "output_type": "stream",
     "text": [
      " 57%|█████▋    | 485/844 [01:46<01:34,  3.81it/s]"
     ]
    },
    {
     "name": "stdout",
     "output_type": "stream",
     "text": [
      "✅ Loaded MSA for 2MXJ_A from /kaggle/input/stanford-rna-3d-folding/MSA_v2 | shape=torch.Size([1, 11])\n",
      "✅ Loaded MSA for 2MXJ_A from /kaggle/input/stanford-rna-3d-folding/MSA_v2 | shape=torch.Size([1, 11])\n",
      "✅ Loaded MSA for 2MXL_A from /kaggle/input/stanford-rna-3d-folding/MSA_v2 | shape=torch.Size([64, 39])\n",
      "✅ Loaded MSA for 2MXL_A from /kaggle/input/stanford-rna-3d-folding/MSA_v2 | shape=torch.Size([64, 39])\n"
     ]
    },
    {
     "name": "stderr",
     "output_type": "stream",
     "text": [
      " 58%|█████▊    | 487/844 [01:46<01:09,  5.12it/s]"
     ]
    },
    {
     "name": "stdout",
     "output_type": "stream",
     "text": [
      "✅ Loaded MSA for 4TUC_QY from /kaggle/input/stanford-rna-3d-folding/MSA | shape=torch.Size([5, 18])\n",
      "✅ Loaded MSA for 4TUC_QY from /kaggle/input/stanford-rna-3d-folding/MSA | shape=torch.Size([5, 18])\n",
      "✅ Loaded MSA for 4TUA_XY from /kaggle/input/stanford-rna-3d-folding/MSA | shape=torch.Size([2, 17])\n",
      "✅ Loaded MSA for 4TUA_XY from /kaggle/input/stanford-rna-3d-folding/MSA | shape=torch.Size([2, 17])\n"
     ]
    },
    {
     "name": "stderr",
     "output_type": "stream",
     "text": [
      " 58%|█████▊    | 488/844 [01:46<01:03,  5.59it/s]"
     ]
    },
    {
     "name": "stdout",
     "output_type": "stream",
     "text": [
      "✅ Loaded MSA for 2N0R_A from /kaggle/input/stanford-rna-3d-folding/MSA_v2 | shape=torch.Size([30, 26])\n",
      "✅ Loaded MSA for 2N0R_A from /kaggle/input/stanford-rna-3d-folding/MSA_v2 | shape=torch.Size([30, 26])\n"
     ]
    },
    {
     "name": "stderr",
     "output_type": "stream",
     "text": [
      " 58%|█████▊    | 489/844 [01:47<01:54,  3.09it/s]"
     ]
    },
    {
     "name": "stdout",
     "output_type": "stream",
     "text": [
      "✅ Loaded MSA for 2N1Q_A from /kaggle/input/stanford-rna-3d-folding/MSA | shape=torch.Size([64, 155])\n",
      "✅ Loaded MSA for 2N1Q_A from /kaggle/input/stanford-rna-3d-folding/MSA | shape=torch.Size([64, 155])\n",
      "✅ Loaded MSA for 5AMQ_C from /kaggle/input/stanford-rna-3d-folding/MSA | shape=torch.Size([1, 10])\n",
      "✅ Loaded MSA for 5AMQ_C from /kaggle/input/stanford-rna-3d-folding/MSA | shape=torch.Size([1, 10])\n"
     ]
    },
    {
     "name": "stderr",
     "output_type": "stream",
     "text": [
      " 58%|█████▊    | 491/844 [01:47<01:37,  3.62it/s]"
     ]
    },
    {
     "name": "stdout",
     "output_type": "stream",
     "text": [
      "✅ Loaded MSA for 4ZT9_D from /kaggle/input/stanford-rna-3d-folding/MSA_v2 | shape=torch.Size([64, 85])\n",
      "✅ Loaded MSA for 4ZT9_D from /kaggle/input/stanford-rna-3d-folding/MSA_v2 | shape=torch.Size([64, 85])\n"
     ]
    },
    {
     "name": "stderr",
     "output_type": "stream",
     "text": [
      " 58%|█████▊    | 492/844 [01:47<01:35,  3.70it/s]"
     ]
    },
    {
     "name": "stdout",
     "output_type": "stream",
     "text": [
      "✅ Loaded MSA for 2N3Q_A from /kaggle/input/stanford-rna-3d-folding/MSA | shape=torch.Size([1, 62])\n",
      "✅ Loaded MSA for 2N3Q_A from /kaggle/input/stanford-rna-3d-folding/MSA | shape=torch.Size([1, 62])\n"
     ]
    },
    {
     "name": "stderr",
     "output_type": "stream",
     "text": [
      " 58%|█████▊    | 493/844 [01:48<01:42,  3.44it/s]"
     ]
    },
    {
     "name": "stdout",
     "output_type": "stream",
     "text": [
      "✅ Loaded MSA for 4YVI_C from /kaggle/input/stanford-rna-3d-folding/MSA_v2 | shape=torch.Size([64, 74])\n",
      "✅ Loaded MSA for 4YVI_C from /kaggle/input/stanford-rna-3d-folding/MSA_v2 | shape=torch.Size([64, 74])\n"
     ]
    },
    {
     "name": "stderr",
     "output_type": "stream",
     "text": [
      " 59%|█████▊    | 494/844 [01:48<01:49,  3.19it/s]"
     ]
    },
    {
     "name": "stdout",
     "output_type": "stream",
     "text": [
      "✅ Loaded MSA for 4YVJ_C from /kaggle/input/stanford-rna-3d-folding/MSA_v2 | shape=torch.Size([64, 74])\n",
      "✅ Loaded MSA for 4YVJ_C from /kaggle/input/stanford-rna-3d-folding/MSA_v2 | shape=torch.Size([64, 74])\n"
     ]
    },
    {
     "name": "stderr",
     "output_type": "stream",
     "text": [
      " 59%|█████▉    | 496/844 [01:49<01:56,  2.99it/s]"
     ]
    },
    {
     "name": "stdout",
     "output_type": "stream",
     "text": [
      "✅ Loaded MSA for 4YVK_C from /kaggle/input/stanford-rna-3d-folding/MSA_v2 | shape=torch.Size([64, 74])\n",
      "✅ Loaded MSA for 4YVK_C from /kaggle/input/stanford-rna-3d-folding/MSA_v2 | shape=torch.Size([64, 74])\n",
      "✅ Loaded MSA for 2N2P_A from /kaggle/input/stanford-rna-3d-folding/MSA_v2 | shape=torch.Size([12, 23])\n",
      "✅ Loaded MSA for 2N2P_A from /kaggle/input/stanford-rna-3d-folding/MSA_v2 | shape=torch.Size([12, 23])\n"
     ]
    },
    {
     "name": "stderr",
     "output_type": "stream",
     "text": [
      " 59%|█████▉    | 497/844 [01:49<01:34,  3.68it/s]"
     ]
    },
    {
     "name": "stdout",
     "output_type": "stream",
     "text": [
      "✅ Loaded MSA for 2N2O_A from /kaggle/input/stanford-rna-3d-folding/MSA_v2 | shape=torch.Size([62, 23])\n",
      "✅ Loaded MSA for 2N2O_A from /kaggle/input/stanford-rna-3d-folding/MSA_v2 | shape=torch.Size([62, 23])\n"
     ]
    },
    {
     "name": "stderr",
     "output_type": "stream",
     "text": [
      " 59%|█████▉    | 498/844 [01:50<02:04,  2.79it/s]"
     ]
    },
    {
     "name": "stdout",
     "output_type": "stream",
     "text": [
      "✅ Loaded MSA for 3JB9_C from /kaggle/input/stanford-rna-3d-folding/MSA | shape=torch.Size([64, 120])\n",
      "✅ Loaded MSA for 3JB9_C from /kaggle/input/stanford-rna-3d-folding/MSA | shape=torch.Size([64, 120])\n"
     ]
    },
    {
     "name": "stderr",
     "output_type": "stream",
     "text": [
      " 59%|█████▉    | 499/844 [01:50<01:56,  2.95it/s]"
     ]
    },
    {
     "name": "stdout",
     "output_type": "stream",
     "text": [
      "✅ Loaded MSA for 2N8V_X from /kaggle/input/stanford-rna-3d-folding/MSA | shape=torch.Size([64, 70])\n",
      "✅ Loaded MSA for 2N8V_X from /kaggle/input/stanford-rna-3d-folding/MSA | shape=torch.Size([64, 70])\n"
     ]
    },
    {
     "name": "stderr",
     "output_type": "stream",
     "text": [
      " 59%|█████▉    | 500/844 [01:50<01:45,  3.25it/s]"
     ]
    },
    {
     "name": "stdout",
     "output_type": "stream",
     "text": [
      "✅ Loaded MSA for 2N4L_A from /kaggle/input/stanford-rna-3d-folding/MSA | shape=torch.Size([64, 53])\n",
      "✅ Loaded MSA for 2N4L_A from /kaggle/input/stanford-rna-3d-folding/MSA | shape=torch.Size([64, 53])\n"
     ]
    },
    {
     "name": "stderr",
     "output_type": "stream",
     "text": [
      " 60%|█████▉    | 503/844 [01:51<01:11,  4.75it/s]"
     ]
    },
    {
     "name": "stdout",
     "output_type": "stream",
     "text": [
      "✅ Loaded MSA for 2N7M_X from /kaggle/input/stanford-rna-3d-folding/MSA | shape=torch.Size([64, 92])\n",
      "✅ Loaded MSA for 2N7M_X from /kaggle/input/stanford-rna-3d-folding/MSA | shape=torch.Size([64, 92])\n",
      "✅ Loaded MSA for 5ELS_I from /kaggle/input/stanford-rna-3d-folding/MSA | shape=torch.Size([1, 6])\n",
      "✅ Loaded MSA for 5ELS_I from /kaggle/input/stanford-rna-3d-folding/MSA | shape=torch.Size([1, 6])\n",
      "✅ Loaded MSA for 5FMZ_V from /kaggle/input/stanford-rna-3d-folding/MSA | shape=torch.Size([1, 12])\n",
      "✅ Loaded MSA for 5FMZ_V from /kaggle/input/stanford-rna-3d-folding/MSA | shape=torch.Size([1, 12])\n",
      "✅ Loaded MSA for 5EPI_H from /kaggle/input/stanford-rna-3d-folding/MSA | shape=torch.Size([1, 12])\n",
      "✅ Loaded MSA for 5EPI_H from /kaggle/input/stanford-rna-3d-folding/MSA | shape=torch.Size([1, 12])\n"
     ]
    },
    {
     "name": "stderr",
     "output_type": "stream",
     "text": [
      " 60%|█████▉    | 505/844 [01:52<02:22,  2.38it/s]"
     ]
    },
    {
     "name": "stdout",
     "output_type": "stream",
     "text": [
      "✅ Loaded MSA for 5GAP_U from /kaggle/input/stanford-rna-3d-folding/MSA | shape=torch.Size([64, 214])\n",
      "✅ Loaded MSA for 5GAP_U from /kaggle/input/stanford-rna-3d-folding/MSA | shape=torch.Size([64, 214])\n"
     ]
    },
    {
     "name": "stderr",
     "output_type": "stream",
     "text": [
      " 60%|██████    | 507/844 [01:52<01:49,  3.08it/s]"
     ]
    },
    {
     "name": "stdout",
     "output_type": "stream",
     "text": [
      "✅ Loaded MSA for 5GAP_V from /kaggle/input/stanford-rna-3d-folding/MSA_v2 | shape=torch.Size([64, 67])\n",
      "✅ Loaded MSA for 5GAP_V from /kaggle/input/stanford-rna-3d-folding/MSA_v2 | shape=torch.Size([64, 67])\n",
      "✅ Loaded MSA for 2N7X_A from /kaggle/input/stanford-rna-3d-folding/MSA | shape=torch.Size([25, 23])\n",
      "✅ Loaded MSA for 2N7X_A from /kaggle/input/stanford-rna-3d-folding/MSA | shape=torch.Size([25, 23])\n",
      "✅ Loaded MSA for 4Z7L_F from /kaggle/input/stanford-rna-3d-folding/MSA_v2 | shape=torch.Size([1, 14])\n",
      "✅ Loaded MSA for 4Z7L_F from /kaggle/input/stanford-rna-3d-folding/MSA_v2 | shape=torch.Size([1, 14])\n"
     ]
    },
    {
     "name": "stderr",
     "output_type": "stream",
     "text": [
      " 61%|██████    | 511/844 [01:53<00:59,  5.56it/s]"
     ]
    },
    {
     "name": "stdout",
     "output_type": "stream",
     "text": [
      "✅ Loaded MSA for 5FJ1_H from /kaggle/input/stanford-rna-3d-folding/MSA_v2 | shape=torch.Size([55, 24])\n",
      "✅ Loaded MSA for 5FJ1_H from /kaggle/input/stanford-rna-3d-folding/MSA_v2 | shape=torch.Size([55, 24])\n",
      "✅ Loaded MSA for 2N6X_A from /kaggle/input/stanford-rna-3d-folding/MSA_v2 | shape=torch.Size([64, 43])\n",
      "✅ Loaded MSA for 2N6X_A from /kaggle/input/stanford-rna-3d-folding/MSA_v2 | shape=torch.Size([64, 43])\n"
     ]
    },
    {
     "name": "stderr",
     "output_type": "stream",
     "text": [
      " 61%|██████    | 512/844 [01:53<00:59,  5.58it/s]"
     ]
    },
    {
     "name": "stdout",
     "output_type": "stream",
     "text": [
      "✅ Loaded MSA for 2N6T_A from /kaggle/input/stanford-rna-3d-folding/MSA_v2 | shape=torch.Size([22, 42])\n",
      "✅ Loaded MSA for 2N6T_A from /kaggle/input/stanford-rna-3d-folding/MSA_v2 | shape=torch.Size([22, 42])\n"
     ]
    },
    {
     "name": "stderr",
     "output_type": "stream",
     "text": [
      " 61%|██████    | 514/844 [01:53<01:02,  5.29it/s]"
     ]
    },
    {
     "name": "stdout",
     "output_type": "stream",
     "text": [
      "✅ Loaded MSA for 2N6W_A from /kaggle/input/stanford-rna-3d-folding/MSA | shape=torch.Size([64, 68])\n",
      "✅ Loaded MSA for 2N6W_A from /kaggle/input/stanford-rna-3d-folding/MSA | shape=torch.Size([64, 68])\n",
      "✅ Loaded MSA for 2N6S_A from /kaggle/input/stanford-rna-3d-folding/MSA_v2 | shape=torch.Size([64, 36])\n",
      "✅ Loaded MSA for 2N6S_A from /kaggle/input/stanford-rna-3d-folding/MSA_v2 | shape=torch.Size([64, 36])\n"
     ]
    },
    {
     "name": "stderr",
     "output_type": "stream",
     "text": [
      " 61%|██████    | 516/844 [01:54<00:55,  5.92it/s]"
     ]
    },
    {
     "name": "stdout",
     "output_type": "stream",
     "text": [
      "✅ Loaded MSA for 2N3O_B from /kaggle/input/stanford-rna-3d-folding/MSA_v2 | shape=torch.Size([12, 23])\n",
      "✅ Loaded MSA for 2N3O_B from /kaggle/input/stanford-rna-3d-folding/MSA_v2 | shape=torch.Size([12, 23])\n",
      "✅ Loaded MSA for 2NBY_A from /kaggle/input/stanford-rna-3d-folding/MSA_v2 | shape=torch.Size([46, 39])\n",
      "✅ Loaded MSA for 2NBY_A from /kaggle/input/stanford-rna-3d-folding/MSA_v2 | shape=torch.Size([46, 39])\n"
     ]
    },
    {
     "name": "stderr",
     "output_type": "stream",
     "text": [
      " 61%|██████▏   | 518/844 [01:54<00:57,  5.65it/s]"
     ]
    },
    {
     "name": "stdout",
     "output_type": "stream",
     "text": [
      "✅ Loaded MSA for 2NC1_A from /kaggle/input/stanford-rna-3d-folding/MSA_v2 | shape=torch.Size([64, 67])\n",
      "✅ Loaded MSA for 2NC1_A from /kaggle/input/stanford-rna-3d-folding/MSA_v2 | shape=torch.Size([64, 67])\n",
      "✅ Loaded MSA for 2NC0_A from /kaggle/input/stanford-rna-3d-folding/MSA | shape=torch.Size([18, 28])\n",
      "✅ Loaded MSA for 2NC0_A from /kaggle/input/stanford-rna-3d-folding/MSA | shape=torch.Size([18, 28])\n"
     ]
    },
    {
     "name": "stderr",
     "output_type": "stream",
     "text": [
      " 62%|██████▏   | 520/844 [01:54<00:57,  5.68it/s]"
     ]
    },
    {
     "name": "stdout",
     "output_type": "stream",
     "text": [
      "✅ Loaded MSA for 5KK5_B from /kaggle/input/stanford-rna-3d-folding/MSA | shape=torch.Size([39, 45])\n",
      "✅ Loaded MSA for 5KK5_B from /kaggle/input/stanford-rna-3d-folding/MSA | shape=torch.Size([39, 45])\n",
      "✅ Loaded MSA for 2NBZ_A from /kaggle/input/stanford-rna-3d-folding/MSA | shape=torch.Size([38, 40])\n",
      "✅ Loaded MSA for 2NBZ_A from /kaggle/input/stanford-rna-3d-folding/MSA | shape=torch.Size([38, 40])\n"
     ]
    },
    {
     "name": "stderr",
     "output_type": "stream",
     "text": [
      " 62%|██████▏   | 522/844 [01:55<01:15,  4.26it/s]"
     ]
    },
    {
     "name": "stdout",
     "output_type": "stream",
     "text": [
      "✅ Loaded MSA for 2NBX_A from /kaggle/input/stanford-rna-3d-folding/MSA | shape=torch.Size([64, 108])\n",
      "✅ Loaded MSA for 2NBX_A from /kaggle/input/stanford-rna-3d-folding/MSA | shape=torch.Size([64, 108])\n",
      "✅ Loaded MSA for 5KQE_A from /kaggle/input/stanford-rna-3d-folding/MSA_v2 | shape=torch.Size([16, 36])\n",
      "✅ Loaded MSA for 5KQE_A from /kaggle/input/stanford-rna-3d-folding/MSA_v2 | shape=torch.Size([16, 36])\n"
     ]
    },
    {
     "name": "stderr",
     "output_type": "stream",
     "text": [
      " 62%|██████▏   | 524/844 [01:55<00:58,  5.49it/s]"
     ]
    },
    {
     "name": "stdout",
     "output_type": "stream",
     "text": [
      "✅ Loaded MSA for 2NCI_A from /kaggle/input/stanford-rna-3d-folding/MSA | shape=torch.Size([12, 28])\n",
      "✅ Loaded MSA for 2NCI_A from /kaggle/input/stanford-rna-3d-folding/MSA | shape=torch.Size([12, 28])\n",
      "✅ Loaded MSA for 5KMZ_A from /kaggle/input/stanford-rna-3d-folding/MSA_v2 | shape=torch.Size([10, 31])\n",
      "✅ Loaded MSA for 5KMZ_A from /kaggle/input/stanford-rna-3d-folding/MSA_v2 | shape=torch.Size([10, 31])\n"
     ]
    },
    {
     "name": "stderr",
     "output_type": "stream",
     "text": [
      " 62%|██████▏   | 525/844 [01:56<01:07,  4.75it/s]"
     ]
    },
    {
     "name": "stdout",
     "output_type": "stream",
     "text": [
      "✅ Loaded MSA for 5IEM_A from /kaggle/input/stanford-rna-3d-folding/MSA_v2 | shape=torch.Size([64, 57])\n",
      "✅ Loaded MSA for 5IEM_A from /kaggle/input/stanford-rna-3d-folding/MSA_v2 | shape=torch.Size([64, 57])\n"
     ]
    },
    {
     "name": "stderr",
     "output_type": "stream",
     "text": [
      " 62%|██████▏   | 526/844 [01:56<01:49,  2.90it/s]"
     ]
    },
    {
     "name": "stdout",
     "output_type": "stream",
     "text": [
      "✅ Loaded MSA for 5MC6_BR from /kaggle/input/stanford-rna-3d-folding/MSA | shape=torch.Size([64, 121])\n",
      "✅ Loaded MSA for 5MC6_BR from /kaggle/input/stanford-rna-3d-folding/MSA | shape=torch.Size([64, 121])\n"
     ]
    },
    {
     "name": "stderr",
     "output_type": "stream",
     "text": [
      " 62%|██████▏   | 527/844 [01:57<02:53,  1.82it/s]"
     ]
    },
    {
     "name": "stdout",
     "output_type": "stream",
     "text": [
      "✅ Loaded MSA for 5MC6_BS from /kaggle/input/stanford-rna-3d-folding/MSA | shape=torch.Size([64, 158])\n",
      "✅ Loaded MSA for 5MC6_BS from /kaggle/input/stanford-rna-3d-folding/MSA | shape=torch.Size([64, 158])\n"
     ]
    },
    {
     "name": "stderr",
     "output_type": "stream",
     "text": [
      " 63%|██████▎   | 528/844 [01:58<02:38,  1.99it/s]"
     ]
    },
    {
     "name": "stdout",
     "output_type": "stream",
     "text": [
      "✅ Loaded MSA for 5MC6_m from /kaggle/input/stanford-rna-3d-folding/MSA | shape=torch.Size([64, 76])\n",
      "✅ Loaded MSA for 5MC6_m from /kaggle/input/stanford-rna-3d-folding/MSA | shape=torch.Size([64, 76])\n"
     ]
    },
    {
     "name": "stderr",
     "output_type": "stream",
     "text": [
      " 63%|██████▎   | 530/844 [01:59<02:22,  2.21it/s]"
     ]
    },
    {
     "name": "stdout",
     "output_type": "stream",
     "text": [
      "✅ Loaded MSA for 5MC6_n from /kaggle/input/stanford-rna-3d-folding/MSA | shape=torch.Size([64, 77])\n",
      "✅ Loaded MSA for 5MC6_n from /kaggle/input/stanford-rna-3d-folding/MSA | shape=torch.Size([64, 77])\n",
      "✅ Loaded MSA for 2RVO_A from /kaggle/input/stanford-rna-3d-folding/MSA_v2 | shape=torch.Size([64, 34])\n",
      "✅ Loaded MSA for 2RVO_A from /kaggle/input/stanford-rna-3d-folding/MSA_v2 | shape=torch.Size([64, 34])\n"
     ]
    },
    {
     "name": "stderr",
     "output_type": "stream",
     "text": [
      " 63%|██████▎   | 532/844 [01:59<01:31,  3.43it/s]"
     ]
    },
    {
     "name": "stdout",
     "output_type": "stream",
     "text": [
      "✅ Loaded MSA for 5MS0_R from /kaggle/input/stanford-rna-3d-folding/MSA_v2 | shape=torch.Size([64, 29])\n",
      "✅ Loaded MSA for 5MS0_R from /kaggle/input/stanford-rna-3d-folding/MSA_v2 | shape=torch.Size([64, 29])\n",
      "✅ Loaded MSA for 5UZT_A from /kaggle/input/stanford-rna-3d-folding/MSA | shape=torch.Size([64, 31])\n",
      "✅ Loaded MSA for 5UZT_A from /kaggle/input/stanford-rna-3d-folding/MSA | shape=torch.Size([64, 31])\n"
     ]
    },
    {
     "name": "stderr",
     "output_type": "stream",
     "text": [
      " 63%|██████▎   | 533/844 [01:59<01:13,  4.21it/s]"
     ]
    },
    {
     "name": "stdout",
     "output_type": "stream",
     "text": [
      "✅ Loaded MSA for 5UF3_A from /kaggle/input/stanford-rna-3d-folding/MSA | shape=torch.Size([17, 23])\n",
      "✅ Loaded MSA for 5UF3_A from /kaggle/input/stanford-rna-3d-folding/MSA | shape=torch.Size([17, 23])\n"
     ]
    },
    {
     "name": "stderr",
     "output_type": "stream",
     "text": [
      " 63%|██████▎   | 535/844 [02:00<01:12,  4.25it/s]"
     ]
    },
    {
     "name": "stdout",
     "output_type": "stream",
     "text": [
      "✅ Loaded MSA for 5XBL_B from /kaggle/input/stanford-rna-3d-folding/MSA | shape=torch.Size([64, 98])\n",
      "✅ Loaded MSA for 5XBL_B from /kaggle/input/stanford-rna-3d-folding/MSA | shape=torch.Size([64, 98])\n",
      "✅ Loaded MSA for 5WQ1_A from /kaggle/input/stanford-rna-3d-folding/MSA_v2 | shape=torch.Size([64, 23])\n",
      "✅ Loaded MSA for 5WQ1_A from /kaggle/input/stanford-rna-3d-folding/MSA_v2 | shape=torch.Size([64, 23])\n"
     ]
    },
    {
     "name": "stderr",
     "output_type": "stream",
     "text": [
      " 64%|██████▎   | 537/844 [02:00<01:03,  4.82it/s]"
     ]
    },
    {
     "name": "stdout",
     "output_type": "stream",
     "text": [
      "✅ Loaded MSA for 5V16_A from /kaggle/input/stanford-rna-3d-folding/MSA | shape=torch.Size([64, 41])\n",
      "✅ Loaded MSA for 5V16_A from /kaggle/input/stanford-rna-3d-folding/MSA | shape=torch.Size([64, 41])\n",
      "✅ Loaded MSA for 5V17_A from /kaggle/input/stanford-rna-3d-folding/MSA | shape=torch.Size([64, 41])\n",
      "✅ Loaded MSA for 5V17_A from /kaggle/input/stanford-rna-3d-folding/MSA | shape=torch.Size([64, 41])\n"
     ]
    },
    {
     "name": "stderr",
     "output_type": "stream",
     "text": [
      " 64%|██████▎   | 538/844 [02:00<01:04,  4.78it/s]"
     ]
    },
    {
     "name": "stdout",
     "output_type": "stream",
     "text": [
      "✅ Loaded MSA for 5KH8_A from /kaggle/input/stanford-rna-3d-folding/MSA_v2 | shape=torch.Size([64, 47])\n",
      "✅ Loaded MSA for 5KH8_A from /kaggle/input/stanford-rna-3d-folding/MSA_v2 | shape=torch.Size([64, 47])\n"
     ]
    },
    {
     "name": "stderr",
     "output_type": "stream",
     "text": [
      " 64%|██████▍   | 540/844 [02:01<01:15,  4.01it/s]"
     ]
    },
    {
     "name": "stdout",
     "output_type": "stream",
     "text": [
      "✅ Loaded MSA for 5OA3_1 from /kaggle/input/stanford-rna-3d-folding/MSA_v2 | shape=torch.Size([64, 75])\n",
      "✅ Loaded MSA for 5OA3_1 from /kaggle/input/stanford-rna-3d-folding/MSA_v2 | shape=torch.Size([64, 75])\n",
      "✅ Loaded MSA for 5O7H_A from /kaggle/input/stanford-rna-3d-folding/MSA_v2 | shape=torch.Size([64, 43])\n",
      "✅ Loaded MSA for 5O7H_A from /kaggle/input/stanford-rna-3d-folding/MSA_v2 | shape=torch.Size([64, 43])\n"
     ]
    },
    {
     "name": "stderr",
     "output_type": "stream",
     "text": [
      " 64%|██████▍   | 541/844 [02:01<01:06,  4.56it/s]"
     ]
    },
    {
     "name": "stdout",
     "output_type": "stream",
     "text": [
      "✅ Loaded MSA for 5LSN_A from /kaggle/input/stanford-rna-3d-folding/MSA_v2 | shape=torch.Size([64, 29])\n",
      "✅ Loaded MSA for 5LSN_A from /kaggle/input/stanford-rna-3d-folding/MSA_v2 | shape=torch.Size([64, 29])\n"
     ]
    },
    {
     "name": "stderr",
     "output_type": "stream",
     "text": [
      " 64%|██████▍   | 542/844 [02:02<02:00,  2.50it/s]"
     ]
    },
    {
     "name": "stdout",
     "output_type": "stream",
     "text": [
      "✅ Loaded MSA for 5V93_B from /kaggle/input/stanford-rna-3d-folding/MSA | shape=torch.Size([64, 115])\n",
      "✅ Loaded MSA for 5V93_B from /kaggle/input/stanford-rna-3d-folding/MSA | shape=torch.Size([64, 115])\n"
     ]
    },
    {
     "name": "stderr",
     "output_type": "stream",
     "text": [
      " 64%|██████▍   | 544/844 [02:02<01:27,  3.43it/s]"
     ]
    },
    {
     "name": "stdout",
     "output_type": "stream",
     "text": [
      "✅ Loaded MSA for 5V6X_C from /kaggle/input/stanford-rna-3d-folding/MSA_v2 | shape=torch.Size([64, 72])\n",
      "✅ Loaded MSA for 5V6X_C from /kaggle/input/stanford-rna-3d-folding/MSA_v2 | shape=torch.Size([64, 72])\n"
     ]
    },
    {
     "name": "stderr",
     "output_type": "stream",
     "text": [
      " 65%|██████▍   | 545/844 [02:02<01:30,  3.32it/s]"
     ]
    },
    {
     "name": "stdout",
     "output_type": "stream",
     "text": [
      "✅ Loaded MSA for 5V6X_D from /kaggle/input/stanford-rna-3d-folding/MSA | shape=torch.Size([64, 72])\n",
      "✅ Loaded MSA for 5V6X_D from /kaggle/input/stanford-rna-3d-folding/MSA | shape=torch.Size([64, 72])\n",
      "✅ Loaded MSA for 5XJ2_G from /kaggle/input/stanford-rna-3d-folding/MSA_v2 | shape=torch.Size([1, 10])\n",
      "✅ Loaded MSA for 5XJ2_G from /kaggle/input/stanford-rna-3d-folding/MSA_v2 | shape=torch.Size([1, 10])\n"
     ]
    },
    {
     "name": "stderr",
     "output_type": "stream",
     "text": [
      " 65%|██████▌   | 550/844 [02:03<00:54,  5.42it/s]"
     ]
    },
    {
     "name": "stdout",
     "output_type": "stream",
     "text": [
      "✅ Loaded MSA for 5Y36_B from /kaggle/input/stanford-rna-3d-folding/MSA | shape=torch.Size([64, 99])\n",
      "✅ Loaded MSA for 5Y36_B from /kaggle/input/stanford-rna-3d-folding/MSA | shape=torch.Size([64, 99])\n",
      "✅ Loaded MSA for 6EVJ_V from /kaggle/input/stanford-rna-3d-folding/MSA_v2 | shape=torch.Size([1, 16])\n",
      "✅ Loaded MSA for 6EVJ_V from /kaggle/input/stanford-rna-3d-folding/MSA_v2 | shape=torch.Size([1, 16])\n"
     ]
    },
    {
     "name": "stderr",
     "output_type": "stream",
     "text": [
      " 65%|██████▌   | 552/844 [02:03<00:45,  6.36it/s]"
     ]
    },
    {
     "name": "stdout",
     "output_type": "stream",
     "text": [
      "✅ Loaded MSA for 6C4H_x from /kaggle/input/stanford-rna-3d-folding/MSA_v2 | shape=torch.Size([1, 12])\n",
      "✅ Loaded MSA for 6C4H_x from /kaggle/input/stanford-rna-3d-folding/MSA_v2 | shape=torch.Size([1, 12])\n",
      "✅ Loaded MSA for 5N5C_A from /kaggle/input/stanford-rna-3d-folding/MSA_v2 | shape=torch.Size([3, 19])\n",
      "✅ Loaded MSA for 5N5C_A from /kaggle/input/stanford-rna-3d-folding/MSA_v2 | shape=torch.Size([3, 19])\n"
     ]
    },
    {
     "name": "stderr",
     "output_type": "stream",
     "text": [
      " 66%|██████▌   | 553/844 [02:03<00:43,  6.67it/s]"
     ]
    },
    {
     "name": "stdout",
     "output_type": "stream",
     "text": [
      "✅ Loaded MSA for 6FLQ_R from /kaggle/input/stanford-rna-3d-folding/MSA_v2 | shape=torch.Size([2, 21])\n",
      "✅ Loaded MSA for 6FLQ_R from /kaggle/input/stanford-rna-3d-folding/MSA_v2 | shape=torch.Size([2, 21])\n"
     ]
    },
    {
     "name": "stderr",
     "output_type": "stream",
     "text": [
      " 66%|██████▌   | 554/844 [02:04<01:37,  2.99it/s]"
     ]
    },
    {
     "name": "stdout",
     "output_type": "stream",
     "text": [
      "✅ Loaded MSA for 6FT6_2 from /kaggle/input/stanford-rna-3d-folding/MSA | shape=torch.Size([64, 162])\n",
      "✅ Loaded MSA for 6FT6_2 from /kaggle/input/stanford-rna-3d-folding/MSA | shape=torch.Size([64, 162])\n"
     ]
    },
    {
     "name": "stderr",
     "output_type": "stream",
     "text": [
      " 66%|██████▌   | 555/844 [02:05<02:12,  2.19it/s]"
     ]
    },
    {
     "name": "stdout",
     "output_type": "stream",
     "text": [
      "✅ Loaded MSA for 5Z3G_B from /kaggle/input/stanford-rna-3d-folding/MSA | shape=torch.Size([64, 158])\n",
      "✅ Loaded MSA for 5Z3G_B from /kaggle/input/stanford-rna-3d-folding/MSA | shape=torch.Size([64, 158])\n"
     ]
    },
    {
     "name": "stderr",
     "output_type": "stream",
     "text": [
      " 66%|██████▌   | 557/844 [02:06<01:41,  2.81it/s]"
     ]
    },
    {
     "name": "stdout",
     "output_type": "stream",
     "text": [
      "✅ Loaded MSA for 5ZAL_C from /kaggle/input/stanford-rna-3d-folding/MSA_v2 | shape=torch.Size([64, 73])\n",
      "✅ Loaded MSA for 5ZAL_C from /kaggle/input/stanford-rna-3d-folding/MSA_v2 | shape=torch.Size([64, 73])\n",
      "✅ Loaded MSA for 5ZAM_C from /kaggle/input/stanford-rna-3d-folding/MSA_v2 | shape=torch.Size([64, 44])\n",
      "✅ Loaded MSA for 5ZAM_C from /kaggle/input/stanford-rna-3d-folding/MSA_v2 | shape=torch.Size([64, 44])\n"
     ]
    },
    {
     "name": "stderr",
     "output_type": "stream",
     "text": [
      " 66%|██████▌   | 558/844 [02:06<01:33,  3.06it/s]"
     ]
    },
    {
     "name": "stdout",
     "output_type": "stream",
     "text": [
      "✅ Loaded MSA for 6C66_J from /kaggle/input/stanford-rna-3d-folding/MSA_v2 | shape=torch.Size([64, 61])\n",
      "✅ Loaded MSA for 6C66_J from /kaggle/input/stanford-rna-3d-folding/MSA_v2 | shape=torch.Size([64, 61])\n"
     ]
    },
    {
     "name": "stderr",
     "output_type": "stream",
     "text": [
      " 66%|██████▋   | 560/844 [02:07<01:36,  2.95it/s]"
     ]
    },
    {
     "name": "stdout",
     "output_type": "stream",
     "text": [
      "✅ Loaded MSA for 5ZEY_B from /kaggle/input/stanford-rna-3d-folding/MSA | shape=torch.Size([64, 77])\n",
      "✅ Loaded MSA for 5ZEY_B from /kaggle/input/stanford-rna-3d-folding/MSA | shape=torch.Size([64, 77])\n",
      "✅ Loaded MSA for 6DU5_B from /kaggle/input/stanford-rna-3d-folding/MSA_v2 | shape=torch.Size([64, 27])\n",
      "✅ Loaded MSA for 6DU5_B from /kaggle/input/stanford-rna-3d-folding/MSA_v2 | shape=torch.Size([64, 27])\n"
     ]
    },
    {
     "name": "stderr",
     "output_type": "stream",
     "text": [
      " 67%|██████▋   | 563/844 [02:07<01:04,  4.38it/s]"
     ]
    },
    {
     "name": "stdout",
     "output_type": "stream",
     "text": [
      "✅ Loaded MSA for 6AH3_T from /kaggle/input/stanford-rna-3d-folding/MSA_v2 | shape=torch.Size([64, 80])\n",
      "✅ Loaded MSA for 6AH3_T from /kaggle/input/stanford-rna-3d-folding/MSA_v2 | shape=torch.Size([64, 80])\n",
      "✅ Loaded MSA for 6MCE_A from /kaggle/input/stanford-rna-3d-folding/MSA_v2 | shape=torch.Size([64, 30])\n",
      "✅ Loaded MSA for 6MCE_A from /kaggle/input/stanford-rna-3d-folding/MSA_v2 | shape=torch.Size([64, 30])\n"
     ]
    },
    {
     "name": "stderr",
     "output_type": "stream",
     "text": [
      " 67%|██████▋   | 566/844 [02:08<01:06,  4.21it/s]"
     ]
    },
    {
     "name": "stdout",
     "output_type": "stream",
     "text": [
      "✅ Loaded MSA for 6BZ7_QW from /kaggle/input/stanford-rna-3d-folding/MSA | shape=torch.Size([64, 77])\n",
      "✅ Loaded MSA for 6BZ7_QW from /kaggle/input/stanford-rna-3d-folding/MSA | shape=torch.Size([64, 77])\n",
      "✅ Loaded MSA for 6BZ8_XY from /kaggle/input/stanford-rna-3d-folding/MSA | shape=torch.Size([5, 17])\n",
      "✅ Loaded MSA for 6BZ8_XY from /kaggle/input/stanford-rna-3d-folding/MSA | shape=torch.Size([5, 17])\n",
      "✅ Loaded MSA for 6BZ7_XY from /kaggle/input/stanford-rna-3d-folding/MSA | shape=torch.Size([7, 17])\n",
      "✅ Loaded MSA for 6BZ7_XY from /kaggle/input/stanford-rna-3d-folding/MSA | shape=torch.Size([7, 17])\n"
     ]
    },
    {
     "name": "stderr",
     "output_type": "stream",
     "text": [
      " 67%|██████▋   | 568/844 [02:08<01:01,  4.45it/s]"
     ]
    },
    {
     "name": "stdout",
     "output_type": "stream",
     "text": [
      "✅ Loaded MSA for 6AHU_T from /kaggle/input/stanford-rna-3d-folding/MSA_v2 | shape=torch.Size([64, 72])\n",
      "✅ Loaded MSA for 6AHU_T from /kaggle/input/stanford-rna-3d-folding/MSA_v2 | shape=torch.Size([64, 72])\n",
      "✅ Loaded MSA for 6CYT_N from /kaggle/input/stanford-rna-3d-folding/MSA | shape=torch.Size([16, 20])\n",
      "✅ Loaded MSA for 6CYT_N from /kaggle/input/stanford-rna-3d-folding/MSA | shape=torch.Size([16, 20])\n"
     ]
    },
    {
     "name": "stderr",
     "output_type": "stream",
     "text": [
      " 68%|██████▊   | 570/844 [02:09<01:08,  3.99it/s]"
     ]
    },
    {
     "name": "stdout",
     "output_type": "stream",
     "text": [
      "✅ Loaded MSA for 6MJ0_B from /kaggle/input/stanford-rna-3d-folding/MSA | shape=torch.Size([64, 104])\n",
      "✅ Loaded MSA for 6MJ0_B from /kaggle/input/stanford-rna-3d-folding/MSA | shape=torch.Size([64, 104])\n"
     ]
    },
    {
     "name": "stderr",
     "output_type": "stream",
     "text": [
      " 68%|██████▊   | 571/844 [02:09<01:17,  3.53it/s]"
     ]
    },
    {
     "name": "stdout",
     "output_type": "stream",
     "text": [
      "✅ Loaded MSA for 6IFO_D from /kaggle/input/stanford-rna-3d-folding/MSA_v2 | shape=torch.Size([64, 99])\n",
      "✅ Loaded MSA for 6IFO_D from /kaggle/input/stanford-rna-3d-folding/MSA_v2 | shape=torch.Size([64, 99])\n",
      "✅ Loaded MSA for 6FHI_V from /kaggle/input/stanford-rna-3d-folding/MSA | shape=torch.Size([1, 16])\n",
      "✅ Loaded MSA for 6FHI_V from /kaggle/input/stanford-rna-3d-folding/MSA | shape=torch.Size([1, 16])\n"
     ]
    },
    {
     "name": "stderr",
     "output_type": "stream",
     "text": [
      " 68%|██████▊   | 573/844 [02:10<00:58,  4.60it/s]"
     ]
    },
    {
     "name": "stdout",
     "output_type": "stream",
     "text": [
      "✅ Loaded MSA for 6GBM_A from /kaggle/input/stanford-rna-3d-folding/MSA | shape=torch.Size([20, 23])\n",
      "✅ Loaded MSA for 6GBM_A from /kaggle/input/stanford-rna-3d-folding/MSA | shape=torch.Size([20, 23])\n",
      "✅ Loaded MSA for 6NDK_XY from /kaggle/input/stanford-rna-3d-folding/MSA_v2 | shape=torch.Size([4, 18])\n",
      "✅ Loaded MSA for 6NDK_XY from /kaggle/input/stanford-rna-3d-folding/MSA_v2 | shape=torch.Size([4, 18])\n"
     ]
    },
    {
     "name": "stderr",
     "output_type": "stream",
     "text": [
      " 68%|██████▊   | 575/844 [02:10<01:02,  4.33it/s]"
     ]
    },
    {
     "name": "stdout",
     "output_type": "stream",
     "text": [
      "✅ Loaded MSA for 6AEB_E from /kaggle/input/stanford-rna-3d-folding/MSA | shape=torch.Size([64, 100])\n",
      "✅ Loaded MSA for 6AEB_E from /kaggle/input/stanford-rna-3d-folding/MSA | shape=torch.Size([64, 100])\n"
     ]
    },
    {
     "name": "stderr",
     "output_type": "stream",
     "text": [
      " 68%|██████▊   | 576/844 [02:10<01:02,  4.27it/s]"
     ]
    },
    {
     "name": "stdout",
     "output_type": "stream",
     "text": [
      "✅ Loaded MSA for 6IV6_G from /kaggle/input/stanford-rna-3d-folding/MSA_v2 | shape=torch.Size([64, 59])\n",
      "✅ Loaded MSA for 6IV6_G from /kaggle/input/stanford-rna-3d-folding/MSA_v2 | shape=torch.Size([64, 59])\n"
     ]
    },
    {
     "name": "stderr",
     "output_type": "stream",
     "text": [
      " 68%|██████▊   | 577/844 [02:11<01:42,  2.61it/s]"
     ]
    },
    {
     "name": "stdout",
     "output_type": "stream",
     "text": [
      "✅ Loaded MSA for 6QX9_1 from /kaggle/input/stanford-rna-3d-folding/MSA | shape=torch.Size([64, 164])\n",
      "✅ Loaded MSA for 6QX9_1 from /kaggle/input/stanford-rna-3d-folding/MSA | shape=torch.Size([64, 164])\n"
     ]
    },
    {
     "name": "stderr",
     "output_type": "stream",
     "text": [
      " 69%|██████▊   | 579/844 [02:12<01:45,  2.50it/s]"
     ]
    },
    {
     "name": "stdout",
     "output_type": "stream",
     "text": [
      "✅ Loaded MSA for 6QW6_5 from /kaggle/input/stanford-rna-3d-folding/MSA | shape=torch.Size([64, 117])\n",
      "✅ Loaded MSA for 6QW6_5 from /kaggle/input/stanford-rna-3d-folding/MSA | shape=torch.Size([64, 117])\n",
      "✅ Loaded MSA for 6HYK_A from /kaggle/input/stanford-rna-3d-folding/MSA_v2 | shape=torch.Size([53, 31])\n",
      "✅ Loaded MSA for 6HYK_A from /kaggle/input/stanford-rna-3d-folding/MSA_v2 | shape=torch.Size([53, 31])\n"
     ]
    },
    {
     "name": "stderr",
     "output_type": "stream",
     "text": [
      " 69%|██████▉   | 581/844 [02:13<01:13,  3.59it/s]"
     ]
    },
    {
     "name": "stdout",
     "output_type": "stream",
     "text": [
      "✅ Loaded MSA for 6DTI_X from /kaggle/input/stanford-rna-3d-folding/MSA_v2 | shape=torch.Size([4, 17])\n",
      "✅ Loaded MSA for 6DTI_X from /kaggle/input/stanford-rna-3d-folding/MSA_v2 | shape=torch.Size([4, 17])\n",
      "✅ Loaded MSA for 6AAX_D from /kaggle/input/stanford-rna-3d-folding/MSA | shape=torch.Size([64, 28])\n",
      "✅ Loaded MSA for 6AAX_D from /kaggle/input/stanford-rna-3d-folding/MSA | shape=torch.Size([64, 28])\n"
     ]
    },
    {
     "name": "stderr",
     "output_type": "stream",
     "text": [
      " 69%|██████▉   | 582/844 [02:13<01:06,  3.93it/s]"
     ]
    },
    {
     "name": "stdout",
     "output_type": "stream",
     "text": [
      "✅ Loaded MSA for 6NM9_G from /kaggle/input/stanford-rna-3d-folding/MSA | shape=torch.Size([18, 40])\n",
      "✅ Loaded MSA for 6NM9_G from /kaggle/input/stanford-rna-3d-folding/MSA | shape=torch.Size([18, 40])\n"
     ]
    },
    {
     "name": "stderr",
     "output_type": "stream",
     "text": [
      " 69%|██████▉   | 583/844 [02:13<01:17,  3.39it/s]"
     ]
    },
    {
     "name": "stdout",
     "output_type": "stream",
     "text": [
      "✅ Loaded MSA for 6K0B_U from /kaggle/input/stanford-rna-3d-folding/MSA | shape=torch.Size([64, 83])\n",
      "✅ Loaded MSA for 6K0B_U from /kaggle/input/stanford-rna-3d-folding/MSA | shape=torch.Size([64, 83])\n"
     ]
    },
    {
     "name": "stderr",
     "output_type": "stream",
     "text": [
      " 69%|██████▉   | 584/844 [02:15<02:37,  1.65it/s]"
     ]
    },
    {
     "name": "stdout",
     "output_type": "stream",
     "text": [
      "✅ Loaded MSA for 6K0A_X from /kaggle/input/stanford-rna-3d-folding/MSA | shape=torch.Size([64, 258])\n",
      "✅ Loaded MSA for 6K0A_X from /kaggle/input/stanford-rna-3d-folding/MSA | shape=torch.Size([64, 258])\n"
     ]
    },
    {
     "name": "stderr",
     "output_type": "stream",
     "text": [
      " 69%|██████▉   | 585/844 [02:15<02:25,  1.78it/s]"
     ]
    },
    {
     "name": "stdout",
     "output_type": "stream",
     "text": [
      "✅ Loaded MSA for 6O0Z_B from /kaggle/input/stanford-rna-3d-folding/MSA | shape=torch.Size([64, 102])\n",
      "✅ Loaded MSA for 6O0Z_B from /kaggle/input/stanford-rna-3d-folding/MSA | shape=torch.Size([64, 102])\n"
     ]
    },
    {
     "name": "stderr",
     "output_type": "stream",
     "text": [
      " 69%|██████▉   | 586/844 [02:15<02:16,  1.88it/s]"
     ]
    },
    {
     "name": "stdout",
     "output_type": "stream",
     "text": [
      "✅ Loaded MSA for 6O0Y_B from /kaggle/input/stanford-rna-3d-folding/MSA | shape=torch.Size([64, 102])\n",
      "✅ Loaded MSA for 6O0Y_B from /kaggle/input/stanford-rna-3d-folding/MSA | shape=torch.Size([64, 102])\n"
     ]
    },
    {
     "name": "stderr",
     "output_type": "stream",
     "text": [
      " 70%|██████▉   | 587/844 [02:16<02:18,  1.85it/s]"
     ]
    },
    {
     "name": "stdout",
     "output_type": "stream",
     "text": [
      "✅ Loaded MSA for 6S0X_B from /kaggle/input/stanford-rna-3d-folding/MSA | shape=torch.Size([64, 115])\n",
      "✅ Loaded MSA for 6S0X_B from /kaggle/input/stanford-rna-3d-folding/MSA | shape=torch.Size([64, 115])\n"
     ]
    },
    {
     "name": "stderr",
     "output_type": "stream",
     "text": [
      " 70%|███████   | 592/844 [02:17<01:04,  3.90it/s]"
     ]
    },
    {
     "name": "stdout",
     "output_type": "stream",
     "text": [
      "✅ Loaded MSA for 6S0Z_B from /kaggle/input/stanford-rna-3d-folding/MSA_v2 | shape=torch.Size([64, 114])\n",
      "✅ Loaded MSA for 6S0Z_B from /kaggle/input/stanford-rna-3d-folding/MSA_v2 | shape=torch.Size([64, 114])\n",
      "✅ Loaded MSA for 6QWL_W from /kaggle/input/stanford-rna-3d-folding/MSA_v2 | shape=torch.Size([1, 14])\n",
      "✅ Loaded MSA for 6QWL_W from /kaggle/input/stanford-rna-3d-folding/MSA_v2 | shape=torch.Size([1, 14])\n",
      "✅ Loaded MSA for 6RR7_D from /kaggle/input/stanford-rna-3d-folding/MSA_v2 | shape=torch.Size([1, 15])\n",
      "✅ Loaded MSA for 6RR7_D from /kaggle/input/stanford-rna-3d-folding/MSA_v2 | shape=torch.Size([1, 15])\n",
      "✅ Loaded MSA for 6QX3_D from /kaggle/input/stanford-rna-3d-folding/MSA | shape=torch.Size([1, 15])\n",
      "✅ Loaded MSA for 6QX3_D from /kaggle/input/stanford-rna-3d-folding/MSA | shape=torch.Size([1, 15])\n"
     ]
    },
    {
     "name": "stderr",
     "output_type": "stream",
     "text": [
      " 70%|███████   | 595/844 [02:17<00:52,  4.76it/s]"
     ]
    },
    {
     "name": "stdout",
     "output_type": "stream",
     "text": [
      "✅ Loaded MSA for 6K4S_A from /kaggle/input/stanford-rna-3d-folding/MSA | shape=torch.Size([64, 83])\n",
      "✅ Loaded MSA for 6K4S_A from /kaggle/input/stanford-rna-3d-folding/MSA | shape=torch.Size([64, 83])\n"
     ]
    },
    {
     "name": "stderr",
     "output_type": "stream",
     "text": [
      " 71%|███████   | 598/844 [02:18<00:45,  5.39it/s]"
     ]
    },
    {
     "name": "stdout",
     "output_type": "stream",
     "text": [
      "✅ Loaded MSA for 6K3Z_A from /kaggle/input/stanford-rna-3d-folding/MSA_v2 | shape=torch.Size([64, 83])\n",
      "✅ Loaded MSA for 6K3Z_A from /kaggle/input/stanford-rna-3d-folding/MSA_v2 | shape=torch.Size([64, 83])\n",
      "✅ Loaded MSA for 6KUT_V from /kaggle/input/stanford-rna-3d-folding/MSA | shape=torch.Size([2, 15])\n",
      "✅ Loaded MSA for 6KUT_V from /kaggle/input/stanford-rna-3d-folding/MSA | shape=torch.Size([2, 15])\n",
      "✅ Loaded MSA for 6KUV_V from /kaggle/input/stanford-rna-3d-folding/MSA_v2 | shape=torch.Size([1, 15])\n",
      "✅ Loaded MSA for 6KUV_V from /kaggle/input/stanford-rna-3d-folding/MSA_v2 | shape=torch.Size([1, 15])\n"
     ]
    },
    {
     "name": "stderr",
     "output_type": "stream",
     "text": [
      " 71%|███████   | 599/844 [02:18<00:54,  4.47it/s]"
     ]
    },
    {
     "name": "stdout",
     "output_type": "stream",
     "text": [
      "✅ Loaded MSA for 6POM_B from /kaggle/input/stanford-rna-3d-folding/MSA_v2 | shape=torch.Size([64, 75])\n",
      "✅ Loaded MSA for 6POM_B from /kaggle/input/stanford-rna-3d-folding/MSA_v2 | shape=torch.Size([64, 75])\n"
     ]
    },
    {
     "name": "stderr",
     "output_type": "stream",
     "text": [
      " 71%|███████   | 600/844 [02:19<01:19,  3.08it/s]"
     ]
    },
    {
     "name": "stdout",
     "output_type": "stream",
     "text": [
      "✅ Loaded MSA for 6UFM_A from /kaggle/input/stanford-rna-3d-folding/MSA_v2 | shape=torch.Size([64, 77])\n",
      "✅ Loaded MSA for 6UFM_A from /kaggle/input/stanford-rna-3d-folding/MSA_v2 | shape=torch.Size([64, 77])\n"
     ]
    },
    {
     "name": "stderr",
     "output_type": "stream",
     "text": [
      " 71%|███████   | 601/844 [02:19<01:23,  2.90it/s]"
     ]
    },
    {
     "name": "stdout",
     "output_type": "stream",
     "text": [
      "✅ Loaded MSA for 6RFL_U from /kaggle/input/stanford-rna-3d-folding/MSA_v2 | shape=torch.Size([64, 72])\n",
      "✅ Loaded MSA for 6RFL_U from /kaggle/input/stanford-rna-3d-folding/MSA_v2 | shape=torch.Size([64, 72])\n"
     ]
    },
    {
     "name": "stderr",
     "output_type": "stream",
     "text": [
      " 71%|███████▏  | 603/844 [02:20<01:20,  3.00it/s]"
     ]
    },
    {
     "name": "stdout",
     "output_type": "stream",
     "text": [
      "✅ Loaded MSA for 6UES_A from /kaggle/input/stanford-rna-3d-folding/MSA_v2 | shape=torch.Size([64, 119])\n",
      "✅ Loaded MSA for 6UES_A from /kaggle/input/stanford-rna-3d-folding/MSA_v2 | shape=torch.Size([64, 119])\n",
      "✅ Loaded MSA for 6SDW_B from /kaggle/input/stanford-rna-3d-folding/MSA | shape=torch.Size([64, 34])\n",
      "✅ Loaded MSA for 6SDW_B from /kaggle/input/stanford-rna-3d-folding/MSA | shape=torch.Size([64, 34])\n"
     ]
    },
    {
     "name": "stderr",
     "output_type": "stream",
     "text": [
      " 72%|███████▏  | 604/844 [02:20<01:09,  3.46it/s]"
     ]
    },
    {
     "name": "stdout",
     "output_type": "stream",
     "text": [
      "✅ Loaded MSA for 6SY6_D from /kaggle/input/stanford-rna-3d-folding/MSA_v2 | shape=torch.Size([20, 39])\n",
      "✅ Loaded MSA for 6SY6_D from /kaggle/input/stanford-rna-3d-folding/MSA_v2 | shape=torch.Size([20, 39])\n"
     ]
    },
    {
     "name": "stderr",
     "output_type": "stream",
     "text": [
      " 72%|███████▏  | 606/844 [02:21<01:10,  3.36it/s]"
     ]
    },
    {
     "name": "stdout",
     "output_type": "stream",
     "text": [
      "✅ Loaded MSA for 6V5B_D from /kaggle/input/stanford-rna-3d-folding/MSA | shape=torch.Size([64, 105])\n",
      "✅ Loaded MSA for 6V5B_D from /kaggle/input/stanford-rna-3d-folding/MSA | shape=torch.Size([64, 105])\n",
      "✅ Loaded MSA for 6MXQ_A from /kaggle/input/stanford-rna-3d-folding/MSA_v2 | shape=torch.Size([32, 49])\n",
      "✅ Loaded MSA for 6MXQ_A from /kaggle/input/stanford-rna-3d-folding/MSA_v2 | shape=torch.Size([32, 49])\n"
     ]
    },
    {
     "name": "stderr",
     "output_type": "stream",
     "text": [
      " 72%|███████▏  | 609/844 [02:21<00:44,  5.24it/s]"
     ]
    },
    {
     "name": "stdout",
     "output_type": "stream",
     "text": [
      "✅ Loaded MSA for 6WPI_C from /kaggle/input/stanford-rna-3d-folding/MSA | shape=torch.Size([62, 47])\n",
      "✅ Loaded MSA for 6WPI_C from /kaggle/input/stanford-rna-3d-folding/MSA | shape=torch.Size([62, 47])\n",
      "✅ Loaded MSA for 6XWW_A from /kaggle/input/stanford-rna-3d-folding/MSA | shape=torch.Size([25, 19])\n",
      "✅ Loaded MSA for 6XWW_A from /kaggle/input/stanford-rna-3d-folding/MSA | shape=torch.Size([25, 19])\n",
      "✅ Loaded MSA for 6XWJ_A from /kaggle/input/stanford-rna-3d-folding/MSA | shape=torch.Size([21, 21])\n",
      "✅ Loaded MSA for 6XWJ_A from /kaggle/input/stanford-rna-3d-folding/MSA | shape=torch.Size([21, 21])\n"
     ]
    },
    {
     "name": "stderr",
     "output_type": "stream",
     "text": [
      " 72%|███████▏  | 610/844 [02:22<01:11,  3.27it/s]"
     ]
    },
    {
     "name": "stdout",
     "output_type": "stream",
     "text": [
      "✅ Loaded MSA for 6ORD_QY from /kaggle/input/stanford-rna-3d-folding/MSA_v2 | shape=torch.Size([64, 76])\n",
      "✅ Loaded MSA for 6ORD_QY from /kaggle/input/stanford-rna-3d-folding/MSA_v2 | shape=torch.Size([64, 76])\n",
      "✅ Loaded MSA for 6WB1_C from /kaggle/input/stanford-rna-3d-folding/MSA | shape=torch.Size([1, 103])\n",
      "✅ Loaded MSA for 6WB1_C from /kaggle/input/stanford-rna-3d-folding/MSA | shape=torch.Size([1, 103])\n"
     ]
    },
    {
     "name": "stderr",
     "output_type": "stream",
     "text": [
      " 73%|███████▎  | 613/844 [02:23<00:56,  4.12it/s]"
     ]
    },
    {
     "name": "stdout",
     "output_type": "stream",
     "text": [
      "✅ Loaded MSA for 6OJ2_QW from /kaggle/input/stanford-rna-3d-folding/MSA | shape=torch.Size([64, 76])\n",
      "✅ Loaded MSA for 6OJ2_QW from /kaggle/input/stanford-rna-3d-folding/MSA | shape=torch.Size([64, 76])\n",
      "✅ Loaded MSA for 6WB0_C from /kaggle/input/stanford-rna-3d-folding/MSA_v2 | shape=torch.Size([64, 35])\n",
      "✅ Loaded MSA for 6WB0_C from /kaggle/input/stanford-rna-3d-folding/MSA_v2 | shape=torch.Size([64, 35])\n"
     ]
    },
    {
     "name": "stderr",
     "output_type": "stream",
     "text": [
      " 73%|███████▎  | 614/844 [02:23<01:04,  3.55it/s]"
     ]
    },
    {
     "name": "stdout",
     "output_type": "stream",
     "text": [
      "✅ Loaded MSA for 6OF6_XW from /kaggle/input/stanford-rna-3d-folding/MSA | shape=torch.Size([64, 76])\n",
      "✅ Loaded MSA for 6OF6_XW from /kaggle/input/stanford-rna-3d-folding/MSA | shape=torch.Size([64, 76])\n"
     ]
    },
    {
     "name": "stderr",
     "output_type": "stream",
     "text": [
      " 73%|███████▎  | 615/844 [02:24<01:26,  2.65it/s]"
     ]
    },
    {
     "name": "stdout",
     "output_type": "stream",
     "text": [
      "✅ Loaded MSA for 6OPE_XY from /kaggle/input/stanford-rna-3d-folding/MSA | shape=torch.Size([64, 76])\n",
      "✅ Loaded MSA for 6OPE_XY from /kaggle/input/stanford-rna-3d-folding/MSA | shape=torch.Size([64, 76])\n"
     ]
    },
    {
     "name": "stderr",
     "output_type": "stream",
     "text": [
      " 73%|███████▎  | 616/844 [02:24<01:26,  2.63it/s]"
     ]
    },
    {
     "name": "stdout",
     "output_type": "stream",
     "text": [
      "✅ Loaded MSA for 6OJ2_QY from /kaggle/input/stanford-rna-3d-folding/MSA | shape=torch.Size([64, 76])\n",
      "✅ Loaded MSA for 6OJ2_QY from /kaggle/input/stanford-rna-3d-folding/MSA | shape=torch.Size([64, 76])\n",
      "✅ Loaded MSA for 6PK9_A from /kaggle/input/stanford-rna-3d-folding/MSA_v2 | shape=torch.Size([2, 20])\n",
      "✅ Loaded MSA for 6PK9_A from /kaggle/input/stanford-rna-3d-folding/MSA_v2 | shape=torch.Size([2, 20])\n"
     ]
    },
    {
     "name": "stderr",
     "output_type": "stream",
     "text": [
      " 73%|███████▎  | 619/844 [02:25<01:35,  2.36it/s]"
     ]
    },
    {
     "name": "stdout",
     "output_type": "stream",
     "text": [
      "✅ Loaded MSA for 6WLT_A from /kaggle/input/stanford-rna-3d-folding/MSA | shape=torch.Size([64, 231])\n",
      "✅ Loaded MSA for 6WLT_A from /kaggle/input/stanford-rna-3d-folding/MSA | shape=torch.Size([64, 231])\n"
     ]
    },
    {
     "name": "stderr",
     "output_type": "stream",
     "text": [
      " 74%|███████▎  | 621/844 [02:26<01:34,  2.36it/s]"
     ]
    },
    {
     "name": "stdout",
     "output_type": "stream",
     "text": [
      "✅ Loaded MSA for 6WD9_2 from /kaggle/input/stanford-rna-3d-folding/MSA | shape=torch.Size([64, 120])\n",
      "✅ Loaded MSA for 6WD9_2 from /kaggle/input/stanford-rna-3d-folding/MSA | shape=torch.Size([64, 120])\n"
     ]
    },
    {
     "name": "stderr",
     "output_type": "stream",
     "text": [
      " 74%|███████▍  | 624/844 [02:27<01:21,  2.71it/s]"
     ]
    },
    {
     "name": "stdout",
     "output_type": "stream",
     "text": [
      "✅ Loaded MSA for 6WLM_A from /kaggle/input/stanford-rna-3d-folding/MSA | shape=torch.Size([64, 171])\n",
      "✅ Loaded MSA for 6WLM_A from /kaggle/input/stanford-rna-3d-folding/MSA | shape=torch.Size([64, 171])\n"
     ]
    },
    {
     "name": "stderr",
     "output_type": "stream",
     "text": [
      " 74%|███████▍  | 625/844 [02:28<01:28,  2.47it/s]"
     ]
    },
    {
     "name": "stdout",
     "output_type": "stream",
     "text": [
      "✅ Loaded MSA for 6WLK_A from /kaggle/input/stanford-rna-3d-folding/MSA | shape=torch.Size([13, 130])\n",
      "✅ Loaded MSA for 6WLK_A from /kaggle/input/stanford-rna-3d-folding/MSA | shape=torch.Size([13, 130])\n"
     ]
    },
    {
     "name": "stderr",
     "output_type": "stream",
     "text": [
      " 74%|███████▍  | 626/844 [02:28<01:21,  2.69it/s]"
     ]
    },
    {
     "name": "stdout",
     "output_type": "stream",
     "text": [
      "✅ Loaded MSA for 6NOA_A from /kaggle/input/stanford-rna-3d-folding/MSA | shape=torch.Size([64, 56])\n",
      "✅ Loaded MSA for 6NOA_A from /kaggle/input/stanford-rna-3d-folding/MSA | shape=torch.Size([64, 56])\n",
      "✅ Loaded MSA for 6Z6B_UUU from /kaggle/input/stanford-rna-3d-folding/MSA | shape=torch.Size([1, 10])\n",
      "✅ Loaded MSA for 6Z6B_UUU from /kaggle/input/stanford-rna-3d-folding/MSA | shape=torch.Size([1, 10])\n"
     ]
    },
    {
     "name": "stderr",
     "output_type": "stream",
     "text": [
      " 75%|███████▍  | 629/844 [02:29<01:01,  3.50it/s]"
     ]
    },
    {
     "name": "stdout",
     "output_type": "stream",
     "text": [
      "✅ Loaded MSA for 6XRZ_A from /kaggle/input/stanford-rna-3d-folding/MSA | shape=torch.Size([64, 88])\n",
      "✅ Loaded MSA for 6XRZ_A from /kaggle/input/stanford-rna-3d-folding/MSA | shape=torch.Size([64, 88])\n",
      "✅ Loaded MSA for 6U79_A from /kaggle/input/stanford-rna-3d-folding/MSA_v2 | shape=torch.Size([43, 37])\n",
      "✅ Loaded MSA for 6U79_A from /kaggle/input/stanford-rna-3d-folding/MSA_v2 | shape=torch.Size([43, 37])\n"
     ]
    },
    {
     "name": "stderr",
     "output_type": "stream",
     "text": [
      " 75%|███████▍  | 631/844 [02:29<00:48,  4.42it/s]"
     ]
    },
    {
     "name": "stdout",
     "output_type": "stream",
     "text": [
      "✅ Loaded MSA for 6VZC_A from /kaggle/input/stanford-rna-3d-folding/MSA | shape=torch.Size([10, 28])\n",
      "✅ Loaded MSA for 6VZC_A from /kaggle/input/stanford-rna-3d-folding/MSA | shape=torch.Size([10, 28])\n",
      "✅ Loaded MSA for 6W62_B from /kaggle/input/stanford-rna-3d-folding/MSA_v2 | shape=torch.Size([4, 30])\n",
      "✅ Loaded MSA for 6W62_B from /kaggle/input/stanford-rna-3d-folding/MSA_v2 | shape=torch.Size([4, 30])\n"
     ]
    },
    {
     "name": "stderr",
     "output_type": "stream",
     "text": [
      " 75%|███████▍  | 632/844 [02:29<00:44,  4.75it/s]"
     ]
    },
    {
     "name": "stdout",
     "output_type": "stream",
     "text": [
      "✅ Loaded MSA for 6W64_B from /kaggle/input/stanford-rna-3d-folding/MSA_v2 | shape=torch.Size([8, 38])\n",
      "✅ Loaded MSA for 6W64_B from /kaggle/input/stanford-rna-3d-folding/MSA_v2 | shape=torch.Size([8, 38])\n"
     ]
    },
    {
     "name": "stderr",
     "output_type": "stream",
     "text": [
      " 75%|███████▌  | 634/844 [02:29<00:43,  4.86it/s]"
     ]
    },
    {
     "name": "stdout",
     "output_type": "stream",
     "text": [
      "✅ Loaded MSA for 6W5C_B from /kaggle/input/stanford-rna-3d-folding/MSA_v2 | shape=torch.Size([64, 59])\n",
      "✅ Loaded MSA for 6W5C_B from /kaggle/input/stanford-rna-3d-folding/MSA_v2 | shape=torch.Size([64, 59])\n",
      "✅ Loaded MSA for 6W3M_A from /kaggle/input/stanford-rna-3d-folding/MSA_v2 | shape=torch.Size([41, 41])\n",
      "✅ Loaded MSA for 6W3M_A from /kaggle/input/stanford-rna-3d-folding/MSA_v2 | shape=torch.Size([41, 41])\n"
     ]
    },
    {
     "name": "stderr",
     "output_type": "stream",
     "text": [
      " 75%|███████▌  | 635/844 [02:30<00:54,  3.83it/s]"
     ]
    },
    {
     "name": "stdout",
     "output_type": "stream",
     "text": [
      "✅ Loaded MSA for 6O3M_XV from /kaggle/input/stanford-rna-3d-folding/MSA | shape=torch.Size([64, 77])\n",
      "✅ Loaded MSA for 6O3M_XV from /kaggle/input/stanford-rna-3d-folding/MSA | shape=torch.Size([64, 77])\n"
     ]
    },
    {
     "name": "stderr",
     "output_type": "stream",
     "text": [
      " 75%|███████▌  | 636/844 [02:30<01:15,  2.77it/s]"
     ]
    },
    {
     "name": "stdout",
     "output_type": "stream",
     "text": [
      "✅ Loaded MSA for 6OSI_RB from /kaggle/input/stanford-rna-3d-folding/MSA | shape=torch.Size([64, 122])\n",
      "✅ Loaded MSA for 6OSI_RB from /kaggle/input/stanford-rna-3d-folding/MSA | shape=torch.Size([64, 122])\n"
     ]
    },
    {
     "name": "stderr",
     "output_type": "stream",
     "text": [
      " 76%|███████▌  | 640/844 [02:31<00:36,  5.66it/s]"
     ]
    },
    {
     "name": "stdout",
     "output_type": "stream",
     "text": [
      "✅ Loaded MSA for 6LTP_H from /kaggle/input/stanford-rna-3d-folding/MSA | shape=torch.Size([13, 56])\n",
      "✅ Loaded MSA for 6LTP_H from /kaggle/input/stanford-rna-3d-folding/MSA | shape=torch.Size([13, 56])\n",
      "✅ Loaded MSA for 6XZR_IN1 from /kaggle/input/stanford-rna-3d-folding/MSA_v2 | shape=torch.Size([1, 19])\n",
      "✅ Loaded MSA for 6XZR_IN1 from /kaggle/input/stanford-rna-3d-folding/MSA_v2 | shape=torch.Size([1, 19])\n",
      "✅ Loaded MSA for 6Y0C_IN1 from /kaggle/input/stanford-rna-3d-folding/MSA | shape=torch.Size([1, 49])\n",
      "✅ Loaded MSA for 6Y0C_IN1 from /kaggle/input/stanford-rna-3d-folding/MSA | shape=torch.Size([1, 49])\n",
      "✅ Loaded MSA for 6XZD_IN1 from /kaggle/input/stanford-rna-3d-folding/MSA_v2 | shape=torch.Size([4, 20])\n",
      "✅ Loaded MSA for 6XZD_IN1 from /kaggle/input/stanford-rna-3d-folding/MSA_v2 | shape=torch.Size([4, 20])\n"
     ]
    },
    {
     "name": "stderr",
     "output_type": "stream",
     "text": [
      " 76%|███████▌  | 642/844 [02:32<01:03,  3.18it/s]"
     ]
    },
    {
     "name": "stdout",
     "output_type": "stream",
     "text": [
      "✅ Loaded MSA for 6ZVK_d2 from /kaggle/input/stanford-rna-3d-folding/MSA | shape=torch.Size([64, 120])\n",
      "✅ Loaded MSA for 6ZVK_d2 from /kaggle/input/stanford-rna-3d-folding/MSA | shape=torch.Size([64, 120])\n"
     ]
    },
    {
     "name": "stderr",
     "output_type": "stream",
     "text": [
      " 76%|███████▌  | 643/844 [02:33<01:22,  2.43it/s]"
     ]
    },
    {
     "name": "stdout",
     "output_type": "stream",
     "text": [
      "✅ Loaded MSA for 6ZVK_h2 from /kaggle/input/stanford-rna-3d-folding/MSA | shape=torch.Size([64, 156])\n",
      "✅ Loaded MSA for 6ZVK_h2 from /kaggle/input/stanford-rna-3d-folding/MSA | shape=torch.Size([64, 156])\n"
     ]
    },
    {
     "name": "stderr",
     "output_type": "stream",
     "text": [
      " 76%|███████▋  | 645/844 [02:33<01:18,  2.52it/s]"
     ]
    },
    {
     "name": "stdout",
     "output_type": "stream",
     "text": [
      "✅ Loaded MSA for 6ZVK_E1 from /kaggle/input/stanford-rna-3d-folding/MSA | shape=torch.Size([64, 153])\n",
      "✅ Loaded MSA for 6ZVK_E1 from /kaggle/input/stanford-rna-3d-folding/MSA | shape=torch.Size([64, 153])\n"
     ]
    },
    {
     "name": "stderr",
     "output_type": "stream",
     "text": [
      " 77%|███████▋  | 649/844 [02:34<00:44,  4.40it/s]"
     ]
    },
    {
     "name": "stdout",
     "output_type": "stream",
     "text": [
      "✅ Loaded MSA for 6VAR_A from /kaggle/input/stanford-rna-3d-folding/MSA | shape=torch.Size([64, 61])\n",
      "✅ Loaded MSA for 6VAR_A from /kaggle/input/stanford-rna-3d-folding/MSA | shape=torch.Size([64, 61])\n"
     ]
    },
    {
     "name": "stderr",
     "output_type": "stream",
     "text": [
      " 77%|███████▋  | 650/844 [02:35<01:23,  2.33it/s]"
     ]
    },
    {
     "name": "stdout",
     "output_type": "stream",
     "text": [
      "✅ Loaded MSA for 7B9V_5 from /kaggle/input/stanford-rna-3d-folding/MSA | shape=torch.Size([64, 214])\n",
      "✅ Loaded MSA for 7B9V_5 from /kaggle/input/stanford-rna-3d-folding/MSA | shape=torch.Size([64, 214])\n"
     ]
    },
    {
     "name": "stderr",
     "output_type": "stream",
     "text": [
      " 77%|███████▋  | 651/844 [02:36<01:44,  1.86it/s]"
     ]
    },
    {
     "name": "stdout",
     "output_type": "stream",
     "text": [
      "✅ Loaded MSA for 7B9V_2 from /kaggle/input/stanford-rna-3d-folding/MSA_v2 | shape=torch.Size([64, 196])\n",
      "✅ Loaded MSA for 7B9V_2 from /kaggle/input/stanford-rna-3d-folding/MSA_v2 | shape=torch.Size([64, 196])\n"
     ]
    },
    {
     "name": "stderr",
     "output_type": "stream",
     "text": [
      " 77%|███████▋  | 652/844 [02:37<01:41,  1.90it/s]"
     ]
    },
    {
     "name": "stdout",
     "output_type": "stream",
     "text": [
      "✅ Loaded MSA for 7LVA_A from /kaggle/input/stanford-rna-3d-folding/MSA_v2 | shape=torch.Size([64, 103])\n",
      "✅ Loaded MSA for 7LVA_A from /kaggle/input/stanford-rna-3d-folding/MSA_v2 | shape=torch.Size([64, 103])\n"
     ]
    },
    {
     "name": "stderr",
     "output_type": "stream",
     "text": [
      " 77%|███████▋  | 653/844 [02:37<01:33,  2.04it/s]"
     ]
    },
    {
     "name": "stdout",
     "output_type": "stream",
     "text": [
      "✅ Loaded MSA for 7LJY_B from /kaggle/input/stanford-rna-3d-folding/MSA_v2 | shape=torch.Size([64, 76])\n",
      "✅ Loaded MSA for 7LJY_B from /kaggle/input/stanford-rna-3d-folding/MSA_v2 | shape=torch.Size([64, 76])\n"
     ]
    },
    {
     "name": "stderr",
     "output_type": "stream",
     "text": [
      " 77%|███████▋  | 654/844 [02:37<01:22,  2.30it/s]"
     ]
    },
    {
     "name": "stdout",
     "output_type": "stream",
     "text": [
      "✅ Loaded MSA for 6ZDU_C from /kaggle/input/stanford-rna-3d-folding/MSA | shape=torch.Size([23, 65])\n",
      "✅ Loaded MSA for 6ZDU_C from /kaggle/input/stanford-rna-3d-folding/MSA | shape=torch.Size([23, 65])\n"
     ]
    },
    {
     "name": "stderr",
     "output_type": "stream",
     "text": [
      " 78%|███████▊  | 655/844 [02:38<01:37,  1.94it/s]"
     ]
    },
    {
     "name": "stdout",
     "output_type": "stream",
     "text": [
      "✅ Loaded MSA for 7LMA_B from /kaggle/input/stanford-rna-3d-folding/MSA | shape=torch.Size([21, 159])\n",
      "✅ Loaded MSA for 7LMA_B from /kaggle/input/stanford-rna-3d-folding/MSA | shape=torch.Size([21, 159])\n"
     ]
    },
    {
     "name": "stderr",
     "output_type": "stream",
     "text": [
      " 78%|███████▊  | 656/844 [02:39<01:48,  1.73it/s]"
     ]
    },
    {
     "name": "stdout",
     "output_type": "stream",
     "text": [
      "✅ Loaded MSA for 7LYG_A from /kaggle/input/stanford-rna-3d-folding/MSA | shape=torch.Size([64, 142])\n",
      "✅ Loaded MSA for 7LYG_A from /kaggle/input/stanford-rna-3d-folding/MSA | shape=torch.Size([64, 142])\n"
     ]
    },
    {
     "name": "stderr",
     "output_type": "stream",
     "text": [
      " 78%|███████▊  | 658/844 [02:40<01:35,  1.96it/s]"
     ]
    },
    {
     "name": "stdout",
     "output_type": "stream",
     "text": [
      "✅ Loaded MSA for 7LMB_B from /kaggle/input/stanford-rna-3d-folding/MSA | shape=torch.Size([21, 159])\n",
      "✅ Loaded MSA for 7LMB_B from /kaggle/input/stanford-rna-3d-folding/MSA | shape=torch.Size([21, 159])\n",
      "✅ Loaded MSA for 7D8C_B from /kaggle/input/stanford-rna-3d-folding/MSA_v2 | shape=torch.Size([11, 44])\n",
      "✅ Loaded MSA for 7D8C_B from /kaggle/input/stanford-rna-3d-folding/MSA_v2 | shape=torch.Size([11, 44])\n"
     ]
    },
    {
     "name": "stderr",
     "output_type": "stream",
     "text": [
      " 78%|███████▊  | 659/844 [02:40<01:15,  2.45it/s]"
     ]
    },
    {
     "name": "stdout",
     "output_type": "stream",
     "text": [
      "✅ Loaded MSA for 7DD4_A from /kaggle/input/stanford-rna-3d-folding/MSA_v2 | shape=torch.Size([38, 36])\n",
      "✅ Loaded MSA for 7DD4_A from /kaggle/input/stanford-rna-3d-folding/MSA_v2 | shape=torch.Size([38, 36])\n"
     ]
    },
    {
     "name": "stderr",
     "output_type": "stream",
     "text": [
      " 78%|███████▊  | 661/844 [02:42<01:52,  1.63it/s]"
     ]
    },
    {
     "name": "stdout",
     "output_type": "stream",
     "text": [
      "✅ Loaded MSA for 7OBQ_1 from /kaggle/input/stanford-rna-3d-folding/MSA | shape=torch.Size([64, 249])\n",
      "✅ Loaded MSA for 7OBQ_1 from /kaggle/input/stanford-rna-3d-folding/MSA | shape=torch.Size([64, 249])\n",
      "✅ Loaded MSA for 7M5O_B from /kaggle/input/stanford-rna-3d-folding/MSA_v2 | shape=torch.Size([18, 45])\n",
      "✅ Loaded MSA for 7M5O_B from /kaggle/input/stanford-rna-3d-folding/MSA_v2 | shape=torch.Size([18, 45])\n"
     ]
    },
    {
     "name": "stderr",
     "output_type": "stream",
     "text": [
      " 79%|███████▊  | 663/844 [02:42<01:12,  2.51it/s]"
     ]
    },
    {
     "name": "stdout",
     "output_type": "stream",
     "text": [
      "✅ Loaded MSA for 7LYT_B from /kaggle/input/stanford-rna-3d-folding/MSA_v2 | shape=torch.Size([18, 45])\n",
      "✅ Loaded MSA for 7LYT_B from /kaggle/input/stanford-rna-3d-folding/MSA_v2 | shape=torch.Size([18, 45])\n",
      "✅ Loaded MSA for 7LYS_B from /kaggle/input/stanford-rna-3d-folding/MSA | shape=torch.Size([18, 45])\n",
      "✅ Loaded MSA for 7LYS_B from /kaggle/input/stanford-rna-3d-folding/MSA | shape=torch.Size([18, 45])\n",
      "✅ Loaded MSA for 7NQ4_C from /kaggle/input/stanford-rna-3d-folding/MSA_v2 | shape=torch.Size([6, 20])\n",
      "✅ Loaded MSA for 7NQ4_C from /kaggle/input/stanford-rna-3d-folding/MSA_v2 | shape=torch.Size([6, 20])\n"
     ]
    },
    {
     "name": "stderr",
     "output_type": "stream",
     "text": [
      " 79%|███████▉  | 665/844 [02:43<00:58,  3.08it/s]"
     ]
    },
    {
     "name": "stdout",
     "output_type": "stream",
     "text": [
      "✅ Loaded MSA for 7ELE_G from /kaggle/input/stanford-rna-3d-folding/MSA | shape=torch.Size([64, 89])\n",
      "✅ Loaded MSA for 7ELE_G from /kaggle/input/stanford-rna-3d-folding/MSA | shape=torch.Size([64, 89])\n"
     ]
    },
    {
     "name": "stderr",
     "output_type": "stream",
     "text": [
      " 79%|███████▉  | 666/844 [02:43<01:10,  2.54it/s]"
     ]
    },
    {
     "name": "stdout",
     "output_type": "stream",
     "text": [
      "✅ Loaded MSA for 7JRT_B from /kaggle/input/stanford-rna-3d-folding/MSA | shape=torch.Size([1, 134])\n",
      "✅ Loaded MSA for 7JRT_B from /kaggle/input/stanford-rna-3d-folding/MSA | shape=torch.Size([1, 134])\n"
     ]
    },
    {
     "name": "stderr",
     "output_type": "stream",
     "text": [
      " 79%|███████▉  | 668/844 [02:44<01:04,  2.75it/s]"
     ]
    },
    {
     "name": "stdout",
     "output_type": "stream",
     "text": [
      "✅ Loaded MSA for 7JRS_B from /kaggle/input/stanford-rna-3d-folding/MSA_v2 | shape=torch.Size([40, 129])\n",
      "✅ Loaded MSA for 7JRS_B from /kaggle/input/stanford-rna-3d-folding/MSA_v2 | shape=torch.Size([40, 129])\n",
      "✅ Loaded MSA for 7K4L_A from /kaggle/input/stanford-rna-3d-folding/MSA_v2 | shape=torch.Size([20, 36])\n",
      "✅ Loaded MSA for 7K4L_A from /kaggle/input/stanford-rna-3d-folding/MSA_v2 | shape=torch.Size([20, 36])\n"
     ]
    },
    {
     "name": "stderr",
     "output_type": "stream",
     "text": [
      " 79%|███████▉  | 669/844 [02:44<00:55,  3.14it/s]"
     ]
    },
    {
     "name": "stdout",
     "output_type": "stream",
     "text": [
      "✅ Loaded MSA for 7DLZ_Y from /kaggle/input/stanford-rna-3d-folding/MSA | shape=torch.Size([64, 45])\n",
      "✅ Loaded MSA for 7DLZ_Y from /kaggle/input/stanford-rna-3d-folding/MSA | shape=torch.Size([64, 45])\n"
     ]
    },
    {
     "name": "stderr",
     "output_type": "stream",
     "text": [
      " 79%|███████▉  | 670/844 [02:45<00:51,  3.39it/s]"
     ]
    },
    {
     "name": "stdout",
     "output_type": "stream",
     "text": [
      "✅ Loaded MSA for 6WW6_E from /kaggle/input/stanford-rna-3d-folding/MSA_v2 | shape=torch.Size([30, 54])\n",
      "✅ Loaded MSA for 6WW6_E from /kaggle/input/stanford-rna-3d-folding/MSA_v2 | shape=torch.Size([30, 54])\n"
     ]
    },
    {
     "name": "stderr",
     "output_type": "stream",
     "text": [
      " 80%|███████▉  | 671/844 [02:45<00:47,  3.63it/s]"
     ]
    },
    {
     "name": "stdout",
     "output_type": "stream",
     "text": [
      "✅ Loaded MSA for 6WW6_F from /kaggle/input/stanford-rna-3d-folding/MSA_v2 | shape=torch.Size([30, 54])\n",
      "✅ Loaded MSA for 6WW6_F from /kaggle/input/stanford-rna-3d-folding/MSA_v2 | shape=torch.Size([30, 54])\n"
     ]
    },
    {
     "name": "stderr",
     "output_type": "stream",
     "text": [
      " 80%|███████▉  | 672/844 [02:45<00:45,  3.82it/s]"
     ]
    },
    {
     "name": "stdout",
     "output_type": "stream",
     "text": [
      "✅ Loaded MSA for 6WW6_C from /kaggle/input/stanford-rna-3d-folding/MSA_v2 | shape=torch.Size([30, 54])\n",
      "✅ Loaded MSA for 6WW6_C from /kaggle/input/stanford-rna-3d-folding/MSA_v2 | shape=torch.Size([30, 54])\n",
      "✅ Loaded MSA for 7NK4_D from /kaggle/input/stanford-rna-3d-folding/MSA | shape=torch.Size([1, 15])\n",
      "✅ Loaded MSA for 7NK4_D from /kaggle/input/stanford-rna-3d-folding/MSA | shape=torch.Size([1, 15])\n"
     ]
    },
    {
     "name": "stderr",
     "output_type": "stream",
     "text": [
      " 80%|████████  | 676/844 [02:46<00:42,  3.91it/s]"
     ]
    },
    {
     "name": "stdout",
     "output_type": "stream",
     "text": [
      "✅ Loaded MSA for 7SAM_A from /kaggle/input/stanford-rna-3d-folding/MSA | shape=torch.Size([64, 171])\n",
      "✅ Loaded MSA for 7SAM_A from /kaggle/input/stanford-rna-3d-folding/MSA | shape=torch.Size([64, 171])\n",
      "✅ Loaded MSA for 7M57_cc from /kaggle/input/stanford-rna-3d-folding/MSA | shape=torch.Size([1, 16])\n",
      "✅ Loaded MSA for 7M57_cc from /kaggle/input/stanford-rna-3d-folding/MSA | shape=torch.Size([1, 16])\n",
      "✅ Loaded MSA for 7M57_ii from /kaggle/input/stanford-rna-3d-folding/MSA | shape=torch.Size([1, 27])\n",
      "✅ Loaded MSA for 7M57_ii from /kaggle/input/stanford-rna-3d-folding/MSA | shape=torch.Size([1, 27])\n"
     ]
    },
    {
     "name": "stderr",
     "output_type": "stream",
     "text": [
      " 80%|████████  | 677/844 [02:46<00:37,  4.45it/s]"
     ]
    },
    {
     "name": "stdout",
     "output_type": "stream",
     "text": [
      "✅ Loaded MSA for 7M2T_ss from /kaggle/input/stanford-rna-3d-folding/MSA | shape=torch.Size([1, 27])\n",
      "✅ Loaded MSA for 7M2T_ss from /kaggle/input/stanford-rna-3d-folding/MSA | shape=torch.Size([1, 27])\n",
      "✅ Loaded MSA for 7RQ5_A from /kaggle/input/stanford-rna-3d-folding/MSA_v2 | shape=torch.Size([1, 19])\n",
      "✅ Loaded MSA for 7RQ5_A from /kaggle/input/stanford-rna-3d-folding/MSA_v2 | shape=torch.Size([1, 19])\n"
     ]
    },
    {
     "name": "stderr",
     "output_type": "stream",
     "text": [
      " 81%|████████  | 682/844 [02:47<00:29,  5.54it/s]"
     ]
    },
    {
     "name": "stdout",
     "output_type": "stream",
     "text": [
      "✅ Loaded MSA for 7RYG_B from /kaggle/input/stanford-rna-3d-folding/MSA | shape=torch.Size([64, 115])\n",
      "✅ Loaded MSA for 7RYG_B from /kaggle/input/stanford-rna-3d-folding/MSA | shape=torch.Size([64, 115])\n",
      "✅ Loaded MSA for 7ORJ_H from /kaggle/input/stanford-rna-3d-folding/MSA | shape=torch.Size([1, 17])\n",
      "✅ Loaded MSA for 7ORJ_H from /kaggle/input/stanford-rna-3d-folding/MSA | shape=torch.Size([1, 17])\n",
      "✅ Loaded MSA for 7ORM_H from /kaggle/input/stanford-rna-3d-folding/MSA | shape=torch.Size([1, 17])\n",
      "✅ Loaded MSA for 7ORM_H from /kaggle/input/stanford-rna-3d-folding/MSA | shape=torch.Size([1, 17])\n"
     ]
    },
    {
     "name": "stderr",
     "output_type": "stream",
     "text": [
      " 81%|████████  | 684/844 [02:47<00:24,  6.65it/s]"
     ]
    },
    {
     "name": "stdout",
     "output_type": "stream",
     "text": [
      "✅ Loaded MSA for 7ORI_H from /kaggle/input/stanford-rna-3d-folding/MSA_v2 | shape=torch.Size([1, 17])\n",
      "✅ Loaded MSA for 7ORI_H from /kaggle/input/stanford-rna-3d-folding/MSA_v2 | shape=torch.Size([1, 17])\n",
      "✅ Loaded MSA for 7EXY_A from /kaggle/input/stanford-rna-3d-folding/MSA_v2 | shape=torch.Size([1, 16])\n",
      "✅ Loaded MSA for 7EXY_A from /kaggle/input/stanford-rna-3d-folding/MSA_v2 | shape=torch.Size([1, 16])\n"
     ]
    },
    {
     "name": "stderr",
     "output_type": "stream",
     "text": [
      " 81%|████████  | 685/844 [02:48<00:31,  5.05it/s]"
     ]
    },
    {
     "name": "stdout",
     "output_type": "stream",
     "text": [
      "✅ Loaded MSA for 7S4V_B from /kaggle/input/stanford-rna-3d-folding/MSA | shape=torch.Size([64, 98])\n",
      "✅ Loaded MSA for 7S4V_B from /kaggle/input/stanford-rna-3d-folding/MSA | shape=torch.Size([64, 98])\n"
     ]
    },
    {
     "name": "stderr",
     "output_type": "stream",
     "text": [
      " 81%|████████▏ | 686/844 [02:48<00:37,  4.17it/s]"
     ]
    },
    {
     "name": "stdout",
     "output_type": "stream",
     "text": [
      "✅ Loaded MSA for 7S4U_B from /kaggle/input/stanford-rna-3d-folding/MSA | shape=torch.Size([64, 97])\n",
      "✅ Loaded MSA for 7S4U_B from /kaggle/input/stanford-rna-3d-folding/MSA | shape=torch.Size([64, 97])\n"
     ]
    },
    {
     "name": "stderr",
     "output_type": "stream",
     "text": [
      " 81%|████████▏ | 687/844 [02:49<00:49,  3.18it/s]"
     ]
    },
    {
     "name": "stdout",
     "output_type": "stream",
     "text": [
      "✅ Loaded MSA for 7WB1_D from /kaggle/input/stanford-rna-3d-folding/MSA | shape=torch.Size([19, 121])\n",
      "✅ Loaded MSA for 7WB1_D from /kaggle/input/stanford-rna-3d-folding/MSA | shape=torch.Size([19, 121])\n"
     ]
    },
    {
     "name": "stderr",
     "output_type": "stream",
     "text": [
      " 82%|████████▏ | 689/844 [02:49<00:44,  3.46it/s]"
     ]
    },
    {
     "name": "stdout",
     "output_type": "stream",
     "text": [
      "✅ Loaded MSA for 7SLP_R from /kaggle/input/stanford-rna-3d-folding/MSA_v2 | shape=torch.Size([64, 81])\n",
      "✅ Loaded MSA for 7SLP_R from /kaggle/input/stanford-rna-3d-folding/MSA_v2 | shape=torch.Size([64, 81])\n",
      "✅ Loaded MSA for 7UGA_A from /kaggle/input/stanford-rna-3d-folding/MSA | shape=torch.Size([64, 43])\n",
      "✅ Loaded MSA for 7UGA_A from /kaggle/input/stanford-rna-3d-folding/MSA | shape=torch.Size([64, 43])\n"
     ]
    },
    {
     "name": "stderr",
     "output_type": "stream",
     "text": [
      " 82%|████████▏ | 690/844 [02:50<00:50,  3.06it/s]"
     ]
    },
    {
     "name": "stdout",
     "output_type": "stream",
     "text": [
      "✅ Loaded MSA for 7S36_R from /kaggle/input/stanford-rna-3d-folding/MSA | shape=torch.Size([64, 102])\n",
      "✅ Loaded MSA for 7S36_R from /kaggle/input/stanford-rna-3d-folding/MSA | shape=torch.Size([64, 102])\n"
     ]
    },
    {
     "name": "stderr",
     "output_type": "stream",
     "text": [
      " 82%|████████▏ | 691/844 [02:50<00:55,  2.75it/s]"
     ]
    },
    {
     "name": "stdout",
     "output_type": "stream",
     "text": [
      "✅ Loaded MSA for 7S38_R from /kaggle/input/stanford-rna-3d-folding/MSA | shape=torch.Size([64, 102])\n",
      "✅ Loaded MSA for 7S38_R from /kaggle/input/stanford-rna-3d-folding/MSA | shape=torch.Size([64, 102])\n"
     ]
    },
    {
     "name": "stderr",
     "output_type": "stream",
     "text": [
      " 82%|████████▏ | 692/844 [02:51<00:57,  2.63it/s]"
     ]
    },
    {
     "name": "stdout",
     "output_type": "stream",
     "text": [
      "✅ Loaded MSA for 7S3H_R from /kaggle/input/stanford-rna-3d-folding/MSA | shape=torch.Size([64, 102])\n",
      "✅ Loaded MSA for 7S3H_R from /kaggle/input/stanford-rna-3d-folding/MSA | shape=torch.Size([64, 102])\n"
     ]
    },
    {
     "name": "stderr",
     "output_type": "stream",
     "text": [
      " 82%|████████▏ | 695/844 [02:51<00:33,  4.50it/s]"
     ]
    },
    {
     "name": "stdout",
     "output_type": "stream",
     "text": [
      "✅ Loaded MSA for 7KUB_A from /kaggle/input/stanford-rna-3d-folding/MSA | shape=torch.Size([64, 60])\n",
      "✅ Loaded MSA for 7KUB_A from /kaggle/input/stanford-rna-3d-folding/MSA | shape=torch.Size([64, 60])\n",
      "✅ Loaded MSA for 7KUD_A from /kaggle/input/stanford-rna-3d-folding/MSA_v2 | shape=torch.Size([1, 13])\n",
      "✅ Loaded MSA for 7KUD_A from /kaggle/input/stanford-rna-3d-folding/MSA_v2 | shape=torch.Size([1, 13])\n",
      "✅ Loaded MSA for 7KUC_A from /kaggle/input/stanford-rna-3d-folding/MSA_v2 | shape=torch.Size([1, 16])\n",
      "✅ Loaded MSA for 7KUC_A from /kaggle/input/stanford-rna-3d-folding/MSA_v2 | shape=torch.Size([1, 16])\n"
     ]
    },
    {
     "name": "stderr",
     "output_type": "stream",
     "text": [
      " 83%|████████▎ | 697/844 [02:52<00:43,  3.40it/s]"
     ]
    },
    {
     "name": "stdout",
     "output_type": "stream",
     "text": [
      "✅ Loaded MSA for 7X34_3 from /kaggle/input/stanford-rna-3d-folding/MSA_v2 | shape=torch.Size([64, 130])\n",
      "✅ Loaded MSA for 7X34_3 from /kaggle/input/stanford-rna-3d-folding/MSA_v2 | shape=torch.Size([64, 130])\n",
      "✅ Loaded MSA for 7V06_A from /kaggle/input/stanford-rna-3d-folding/MSA_v2 | shape=torch.Size([64, 43])\n",
      "✅ Loaded MSA for 7V06_A from /kaggle/input/stanford-rna-3d-folding/MSA_v2 | shape=torch.Size([64, 43])\n"
     ]
    },
    {
     "name": "stderr",
     "output_type": "stream",
     "text": [
      " 83%|████████▎ | 699/844 [02:52<00:37,  3.83it/s]"
     ]
    },
    {
     "name": "stdout",
     "output_type": "stream",
     "text": [
      "✅ Loaded MSA for 7UMC_A from /kaggle/input/stanford-rna-3d-folding/MSA_v2 | shape=torch.Size([64, 70])\n",
      "✅ Loaded MSA for 7UMC_A from /kaggle/input/stanford-rna-3d-folding/MSA_v2 | shape=torch.Size([64, 70])\n",
      "✅ Loaded MSA for 7UMD_A from /kaggle/input/stanford-rna-3d-folding/MSA_v2 | shape=torch.Size([25, 40])\n",
      "✅ Loaded MSA for 7UMD_A from /kaggle/input/stanford-rna-3d-folding/MSA_v2 | shape=torch.Size([25, 40])\n"
     ]
    },
    {
     "name": "stderr",
     "output_type": "stream",
     "text": [
      " 83%|████████▎ | 700/844 [02:52<00:32,  4.47it/s]"
     ]
    },
    {
     "name": "stdout",
     "output_type": "stream",
     "text": [
      "✅ Loaded MSA for 7UME_A from /kaggle/input/stanford-rna-3d-folding/MSA_v2 | shape=torch.Size([40, 28])\n",
      "✅ Loaded MSA for 7UME_A from /kaggle/input/stanford-rna-3d-folding/MSA_v2 | shape=torch.Size([40, 28])\n"
     ]
    },
    {
     "name": "stderr",
     "output_type": "stream",
     "text": [
      " 83%|████████▎ | 702/844 [02:53<00:40,  3.47it/s]"
     ]
    },
    {
     "name": "stdout",
     "output_type": "stream",
     "text": [
      "✅ Loaded MSA for 7URM_v from /kaggle/input/stanford-rna-3d-folding/MSA | shape=torch.Size([64, 90])\n",
      "✅ Loaded MSA for 7URM_v from /kaggle/input/stanford-rna-3d-folding/MSA | shape=torch.Size([64, 90])\n"
     ]
    },
    {
     "name": "stderr",
     "output_type": "stream",
     "text": [
      " 83%|████████▎ | 703/844 [02:54<00:57,  2.47it/s]"
     ]
    },
    {
     "name": "stdout",
     "output_type": "stream",
     "text": [
      "✅ Loaded MSA for 7UR5_y from /kaggle/input/stanford-rna-3d-folding/MSA_v2 | shape=torch.Size([64, 90])\n",
      "✅ Loaded MSA for 7UR5_y from /kaggle/input/stanford-rna-3d-folding/MSA_v2 | shape=torch.Size([64, 90])\n"
     ]
    },
    {
     "name": "stderr",
     "output_type": "stream",
     "text": [
      " 83%|████████▎ | 704/844 [02:54<01:00,  2.30it/s]"
     ]
    },
    {
     "name": "stdout",
     "output_type": "stream",
     "text": [
      "✅ Loaded MSA for 7V59_C from /kaggle/input/stanford-rna-3d-folding/MSA | shape=torch.Size([64, 115])\n",
      "✅ Loaded MSA for 7V59_C from /kaggle/input/stanford-rna-3d-folding/MSA | shape=torch.Size([64, 115])\n"
     ]
    },
    {
     "name": "stderr",
     "output_type": "stream",
     "text": [
      " 84%|████████▍ | 707/844 [02:55<00:37,  3.69it/s]"
     ]
    },
    {
     "name": "stdout",
     "output_type": "stream",
     "text": [
      "✅ Loaded MSA for 7VTN_B from /kaggle/input/stanford-rna-3d-folding/MSA_v2 | shape=torch.Size([6, 61])\n",
      "✅ Loaded MSA for 7VTN_B from /kaggle/input/stanford-rna-3d-folding/MSA_v2 | shape=torch.Size([6, 61])\n",
      "✅ Loaded MSA for 7U2A_C from /kaggle/input/stanford-rna-3d-folding/MSA_v2 | shape=torch.Size([64, 38])\n",
      "✅ Loaded MSA for 7U2A_C from /kaggle/input/stanford-rna-3d-folding/MSA_v2 | shape=torch.Size([64, 38])\n"
     ]
    },
    {
     "name": "stderr",
     "output_type": "stream",
     "text": [
      " 84%|████████▍ | 708/844 [02:55<00:41,  3.25it/s]"
     ]
    },
    {
     "name": "stdout",
     "output_type": "stream",
     "text": [
      "✅ Loaded MSA for 7UO0_C from /kaggle/input/stanford-rna-3d-folding/MSA_v2 | shape=torch.Size([64, 82])\n",
      "✅ Loaded MSA for 7UO0_C from /kaggle/input/stanford-rna-3d-folding/MSA_v2 | shape=torch.Size([64, 82])\n"
     ]
    },
    {
     "name": "stderr",
     "output_type": "stream",
     "text": [
      " 84%|████████▍ | 709/844 [02:56<00:45,  2.98it/s]"
     ]
    },
    {
     "name": "stdout",
     "output_type": "stream",
     "text": [
      "✅ Loaded MSA for 7UO1_C from /kaggle/input/stanford-rna-3d-folding/MSA_v2 | shape=torch.Size([64, 82])\n",
      "✅ Loaded MSA for 7UO1_C from /kaggle/input/stanford-rna-3d-folding/MSA_v2 | shape=torch.Size([64, 82])\n"
     ]
    },
    {
     "name": "stderr",
     "output_type": "stream",
     "text": [
      " 84%|████████▍ | 713/844 [02:57<00:37,  3.51it/s]"
     ]
    },
    {
     "name": "stdout",
     "output_type": "stream",
     "text": [
      "✅ Loaded MSA for 7OZS_3 from /kaggle/input/stanford-rna-3d-folding/MSA | shape=torch.Size([64, 119])\n",
      "✅ Loaded MSA for 7OZS_3 from /kaggle/input/stanford-rna-3d-folding/MSA | shape=torch.Size([64, 119])\n"
     ]
    },
    {
     "name": "stderr",
     "output_type": "stream",
     "text": [
      " 85%|████████▍ | 714/844 [02:57<00:39,  3.32it/s]"
     ]
    },
    {
     "name": "stdout",
     "output_type": "stream",
     "text": [
      "✅ Loaded MSA for 7SHX_A from /kaggle/input/stanford-rna-3d-folding/MSA_v2 | shape=torch.Size([26, 94])\n",
      "✅ Loaded MSA for 7SHX_A from /kaggle/input/stanford-rna-3d-folding/MSA_v2 | shape=torch.Size([26, 94])\n"
     ]
    },
    {
     "name": "stderr",
     "output_type": "stream",
     "text": [
      " 85%|████████▍ | 716/844 [02:58<00:41,  3.11it/s]"
     ]
    },
    {
     "name": "stdout",
     "output_type": "stream",
     "text": [
      "✅ Loaded MSA for 7QGG_v from /kaggle/input/stanford-rna-3d-folding/MSA | shape=torch.Size([64, 76])\n",
      "✅ Loaded MSA for 7QGG_v from /kaggle/input/stanford-rna-3d-folding/MSA | shape=torch.Size([64, 76])\n",
      "✅ Loaded MSA for 7RGU_H from /kaggle/input/stanford-rna-3d-folding/MSA | shape=torch.Size([64, 28])\n",
      "✅ Loaded MSA for 7RGU_H from /kaggle/input/stanford-rna-3d-folding/MSA | shape=torch.Size([64, 28])\n"
     ]
    },
    {
     "name": "stderr",
     "output_type": "stream",
     "text": [
      " 85%|████████▌ | 718/844 [02:58<00:36,  3.41it/s]"
     ]
    },
    {
     "name": "stdout",
     "output_type": "stream",
     "text": [
      "✅ Loaded MSA for 8AW3_1 from /kaggle/input/stanford-rna-3d-folding/MSA | shape=torch.Size([64, 75])\n",
      "✅ Loaded MSA for 8AW3_1 from /kaggle/input/stanford-rna-3d-folding/MSA | shape=torch.Size([64, 75])\n",
      "✅ Loaded MSA for 8DVS_B from /kaggle/input/stanford-rna-3d-folding/MSA_v2 | shape=torch.Size([26, 26])\n",
      "✅ Loaded MSA for 8DVS_B from /kaggle/input/stanford-rna-3d-folding/MSA_v2 | shape=torch.Size([26, 26])\n"
     ]
    },
    {
     "name": "stderr",
     "output_type": "stream",
     "text": [
      " 85%|████████▌ | 719/844 [02:59<00:32,  3.90it/s]"
     ]
    },
    {
     "name": "stdout",
     "output_type": "stream",
     "text": [
      "✅ Loaded MSA for 8DK7_C from /kaggle/input/stanford-rna-3d-folding/MSA | shape=torch.Size([29, 34])\n",
      "✅ Loaded MSA for 8DK7_C from /kaggle/input/stanford-rna-3d-folding/MSA | shape=torch.Size([29, 34])\n"
     ]
    },
    {
     "name": "stderr",
     "output_type": "stream",
     "text": [
      " 85%|████████▌ | 720/844 [02:59<00:46,  2.67it/s]"
     ]
    },
    {
     "name": "stdout",
     "output_type": "stream",
     "text": [
      "✅ Loaded MSA for 8CTI_C from /kaggle/input/stanford-rna-3d-folding/MSA_v2 | shape=torch.Size([64, 73])\n",
      "✅ Loaded MSA for 8CTI_C from /kaggle/input/stanford-rna-3d-folding/MSA_v2 | shape=torch.Size([64, 73])\n"
     ]
    },
    {
     "name": "stderr",
     "output_type": "stream",
     "text": [
      " 86%|████████▌ | 722/844 [02:59<00:31,  3.91it/s]"
     ]
    },
    {
     "name": "stdout",
     "output_type": "stream",
     "text": [
      "✅ Loaded MSA for 8DC2_B from /kaggle/input/stanford-rna-3d-folding/MSA_v2 | shape=torch.Size([14, 52])\n",
      "✅ Loaded MSA for 8DC2_B from /kaggle/input/stanford-rna-3d-folding/MSA_v2 | shape=torch.Size([14, 52])\n"
     ]
    },
    {
     "name": "stderr",
     "output_type": "stream",
     "text": [
      " 86%|████████▌ | 723/844 [03:01<01:00,  1.99it/s]"
     ]
    },
    {
     "name": "stdout",
     "output_type": "stream",
     "text": [
      "✅ Loaded MSA for 8BTZ_A from /kaggle/input/stanford-rna-3d-folding/MSA_v2 | shape=torch.Size([64, 238])\n",
      "✅ Loaded MSA for 8BTZ_A from /kaggle/input/stanford-rna-3d-folding/MSA_v2 | shape=torch.Size([64, 238])\n"
     ]
    },
    {
     "name": "stderr",
     "output_type": "stream",
     "text": [
      " 86%|████████▌ | 725/844 [03:02<01:10,  1.69it/s]"
     ]
    },
    {
     "name": "stdout",
     "output_type": "stream",
     "text": [
      "✅ Loaded MSA for 8BD5_B from /kaggle/input/stanford-rna-3d-folding/MSA | shape=torch.Size([64, 256])\n",
      "✅ Loaded MSA for 8BD5_B from /kaggle/input/stanford-rna-3d-folding/MSA | shape=torch.Size([64, 256])\n",
      "✅ Loaded MSA for 8D4A_B from /kaggle/input/stanford-rna-3d-folding/MSA | shape=torch.Size([12, 41])\n",
      "✅ Loaded MSA for 8D4A_B from /kaggle/input/stanford-rna-3d-folding/MSA | shape=torch.Size([12, 41])\n"
     ]
    },
    {
     "name": "stderr",
     "output_type": "stream",
     "text": [
      " 86%|████████▌ | 727/844 [03:03<00:43,  2.70it/s]"
     ]
    },
    {
     "name": "stdout",
     "output_type": "stream",
     "text": [
      "✅ Loaded MSA for 8D49_B from /kaggle/input/stanford-rna-3d-folding/MSA | shape=torch.Size([51, 26])\n",
      "✅ Loaded MSA for 8D49_B from /kaggle/input/stanford-rna-3d-folding/MSA | shape=torch.Size([51, 26])\n",
      "✅ Loaded MSA for 8EXY_R from /kaggle/input/stanford-rna-3d-folding/MSA | shape=torch.Size([64, 30])\n",
      "✅ Loaded MSA for 8EXY_R from /kaggle/input/stanford-rna-3d-folding/MSA | shape=torch.Size([64, 30])\n"
     ]
    },
    {
     "name": "stderr",
     "output_type": "stream",
     "text": [
      " 86%|████████▋ | 728/844 [03:04<00:59,  1.95it/s]"
     ]
    },
    {
     "name": "stdout",
     "output_type": "stream",
     "text": [
      "✅ Loaded MSA for 7YOJ_B from /kaggle/input/stanford-rna-3d-folding/MSA | shape=torch.Size([31, 174])\n",
      "✅ Loaded MSA for 7YOJ_B from /kaggle/input/stanford-rna-3d-folding/MSA | shape=torch.Size([31, 174])\n"
     ]
    },
    {
     "name": "stderr",
     "output_type": "stream",
     "text": [
      " 86%|████████▋ | 729/844 [03:04<00:54,  2.10it/s]"
     ]
    },
    {
     "name": "stdout",
     "output_type": "stream",
     "text": [
      "✅ Loaded MSA for 7ZPQ_6 from /kaggle/input/stanford-rna-3d-folding/MSA | shape=torch.Size([64, 76])\n",
      "✅ Loaded MSA for 7ZPQ_6 from /kaggle/input/stanford-rna-3d-folding/MSA | shape=torch.Size([64, 76])\n"
     ]
    },
    {
     "name": "stderr",
     "output_type": "stream",
     "text": [
      " 86%|████████▋ | 730/844 [03:04<00:48,  2.34it/s]"
     ]
    },
    {
     "name": "stdout",
     "output_type": "stream",
     "text": [
      "✅ Loaded MSA for 8FCS_A from /kaggle/input/stanford-rna-3d-folding/MSA_v2 | shape=torch.Size([64, 71])\n",
      "✅ Loaded MSA for 8FCS_A from /kaggle/input/stanford-rna-3d-folding/MSA_v2 | shape=torch.Size([64, 71])\n"
     ]
    },
    {
     "name": "stderr",
     "output_type": "stream",
     "text": [
      " 87%|████████▋ | 732/844 [03:05<00:43,  2.56it/s]"
     ]
    },
    {
     "name": "stdout",
     "output_type": "stream",
     "text": [
      "✅ Loaded MSA for 7ZRS_6 from /kaggle/input/stanford-rna-3d-folding/MSA | shape=torch.Size([64, 75])\n",
      "✅ Loaded MSA for 7ZRS_6 from /kaggle/input/stanford-rna-3d-folding/MSA | shape=torch.Size([64, 75])\n",
      "✅ Loaded MSA for 8E29_B from /kaggle/input/stanford-rna-3d-folding/MSA_v2 | shape=torch.Size([64, 33])\n",
      "✅ Loaded MSA for 8E29_B from /kaggle/input/stanford-rna-3d-folding/MSA_v2 | shape=torch.Size([64, 33])\n"
     ]
    },
    {
     "name": "stderr",
     "output_type": "stream",
     "text": [
      " 87%|████████▋ | 733/844 [03:05<00:41,  2.70it/s]"
     ]
    },
    {
     "name": "stdout",
     "output_type": "stream",
     "text": [
      "✅ Loaded MSA for 7XW2_C from /kaggle/input/stanford-rna-3d-folding/MSA_v2 | shape=torch.Size([64, 73])\n",
      "✅ Loaded MSA for 7XW2_C from /kaggle/input/stanford-rna-3d-folding/MSA_v2 | shape=torch.Size([64, 73])\n"
     ]
    },
    {
     "name": "stderr",
     "output_type": "stream",
     "text": [
      " 87%|████████▋ | 735/844 [03:06<00:35,  3.04it/s]"
     ]
    },
    {
     "name": "stdout",
     "output_type": "stream",
     "text": [
      "✅ Loaded MSA for 7VW3_B from /kaggle/input/stanford-rna-3d-folding/MSA | shape=torch.Size([64, 104])\n",
      "✅ Loaded MSA for 7VW3_B from /kaggle/input/stanford-rna-3d-folding/MSA | shape=torch.Size([64, 104])\n",
      "✅ Loaded MSA for 8E79_R from /kaggle/input/stanford-rna-3d-folding/MSA_v2 | shape=torch.Size([64, 42])\n",
      "✅ Loaded MSA for 8E79_R from /kaggle/input/stanford-rna-3d-folding/MSA_v2 | shape=torch.Size([64, 42])\n"
     ]
    },
    {
     "name": "stderr",
     "output_type": "stream",
     "text": [
      " 87%|████████▋ | 736/844 [03:06<00:30,  3.51it/s]"
     ]
    },
    {
     "name": "stdout",
     "output_type": "stream",
     "text": [
      "✅ Loaded MSA for 7ZAP_B from /kaggle/input/stanford-rna-3d-folding/MSA | shape=torch.Size([64, 28])\n",
      "✅ Loaded MSA for 7ZAP_B from /kaggle/input/stanford-rna-3d-folding/MSA | shape=torch.Size([64, 28])\n"
     ]
    },
    {
     "name": "stderr",
     "output_type": "stream",
     "text": [
      " 87%|████████▋ | 738/844 [03:07<00:32,  3.29it/s]"
     ]
    },
    {
     "name": "stdout",
     "output_type": "stream",
     "text": [
      "✅ Loaded MSA for 8C8X_B from /kaggle/input/stanford-rna-3d-folding/MSA | shape=torch.Size([64, 119])\n",
      "✅ Loaded MSA for 8C8X_B from /kaggle/input/stanford-rna-3d-folding/MSA | shape=torch.Size([64, 119])\n"
     ]
    },
    {
     "name": "stderr",
     "output_type": "stream",
     "text": [
      " 88%|████████▊ | 740/844 [03:07<00:31,  3.34it/s]"
     ]
    },
    {
     "name": "stdout",
     "output_type": "stream",
     "text": [
      "✅ Loaded MSA for 7YR7_A from /kaggle/input/stanford-rna-3d-folding/MSA_v2 | shape=torch.Size([64, 118])\n",
      "✅ Loaded MSA for 7YR7_A from /kaggle/input/stanford-rna-3d-folding/MSA_v2 | shape=torch.Size([64, 118])\n"
     ]
    },
    {
     "name": "stderr",
     "output_type": "stream",
     "text": [
      " 88%|████████▊ | 741/844 [03:08<00:33,  3.06it/s]"
     ]
    },
    {
     "name": "stdout",
     "output_type": "stream",
     "text": [
      "✅ Loaded MSA for 8G1I_B from /kaggle/input/stanford-rna-3d-folding/MSA | shape=torch.Size([64, 98])\n",
      "✅ Loaded MSA for 8G1I_B from /kaggle/input/stanford-rna-3d-folding/MSA | shape=torch.Size([64, 98])\n"
     ]
    },
    {
     "name": "stderr",
     "output_type": "stream",
     "text": [
      " 88%|████████▊ | 742/844 [03:09<00:43,  2.33it/s]"
     ]
    },
    {
     "name": "stdout",
     "output_type": "stream",
     "text": [
      "✅ Loaded MSA for 7ZRZ_ZN1 from /kaggle/input/stanford-rna-3d-folding/MSA | shape=torch.Size([64, 89])\n",
      "✅ Loaded MSA for 7ZRZ_ZN1 from /kaggle/input/stanford-rna-3d-folding/MSA | shape=torch.Size([64, 89])\n"
     ]
    },
    {
     "name": "stderr",
     "output_type": "stream",
     "text": [
      " 88%|████████▊ | 744/844 [03:09<00:34,  2.87it/s]"
     ]
    },
    {
     "name": "stdout",
     "output_type": "stream",
     "text": [
      "✅ Loaded MSA for 8FZT_B from /kaggle/input/stanford-rna-3d-folding/MSA_v2 | shape=torch.Size([64, 70])\n",
      "✅ Loaded MSA for 8FZT_B from /kaggle/input/stanford-rna-3d-folding/MSA_v2 | shape=torch.Size([64, 70])\n",
      "✅ Loaded MSA for 8G1S_R from /kaggle/input/stanford-rna-3d-folding/MSA | shape=torch.Size([64, 47])\n",
      "✅ Loaded MSA for 8G1S_R from /kaggle/input/stanford-rna-3d-folding/MSA | shape=torch.Size([64, 47])\n",
      "✅ Loaded MSA for 8H69_5 from /kaggle/input/stanford-rna-3d-folding/MSA_v2 | shape=torch.Size([5, 19])\n",
      "✅ Loaded MSA for 8H69_5 from /kaggle/input/stanford-rna-3d-folding/MSA_v2 | shape=torch.Size([5, 19])\n"
     ]
    },
    {
     "name": "stderr",
     "output_type": "stream",
     "text": [
      " 89%|████████▊ | 747/844 [03:10<00:31,  3.09it/s]"
     ]
    },
    {
     "name": "stdout",
     "output_type": "stream",
     "text": [
      "✅ Loaded MSA for 8GAP_B from /kaggle/input/stanford-rna-3d-folding/MSA | shape=torch.Size([21, 159])\n",
      "✅ Loaded MSA for 8GAP_B from /kaggle/input/stanford-rna-3d-folding/MSA | shape=torch.Size([21, 159])\n",
      "✅ Loaded MSA for 8SCF_A from /kaggle/input/stanford-rna-3d-folding/MSA_v2 | shape=torch.Size([64, 30])\n",
      "✅ Loaded MSA for 8SCF_A from /kaggle/input/stanford-rna-3d-folding/MSA_v2 | shape=torch.Size([64, 30])\n"
     ]
    },
    {
     "name": "stderr",
     "output_type": "stream",
     "text": [
      " 89%|████████▊ | 749/844 [03:10<00:24,  3.85it/s]"
     ]
    },
    {
     "name": "stdout",
     "output_type": "stream",
     "text": [
      "✅ Loaded MSA for 8SCH_A from /kaggle/input/stanford-rna-3d-folding/MSA | shape=torch.Size([64, 68])\n",
      "✅ Loaded MSA for 8SCH_A from /kaggle/input/stanford-rna-3d-folding/MSA | shape=torch.Size([64, 68])\n",
      "✅ Loaded MSA for 8CI5_C from /kaggle/input/stanford-rna-3d-folding/MSA_v2 | shape=torch.Size([1, 18])\n",
      "✅ Loaded MSA for 8CI5_C from /kaggle/input/stanford-rna-3d-folding/MSA_v2 | shape=torch.Size([1, 18])\n",
      "✅ Loaded MSA for 8CLR_A from /kaggle/input/stanford-rna-3d-folding/MSA_v2 | shape=torch.Size([1, 14])\n",
      "✅ Loaded MSA for 8CLR_A from /kaggle/input/stanford-rna-3d-folding/MSA_v2 | shape=torch.Size([1, 14])\n"
     ]
    },
    {
     "name": "stderr",
     "output_type": "stream",
     "text": [
      " 89%|████████▉ | 751/844 [03:12<00:38,  2.42it/s]"
     ]
    },
    {
     "name": "stdout",
     "output_type": "stream",
     "text": [
      "✅ Loaded MSA for 8SA6_A from /kaggle/input/stanford-rna-3d-folding/MSA | shape=torch.Size([64, 210])\n",
      "✅ Loaded MSA for 8SA6_A from /kaggle/input/stanford-rna-3d-folding/MSA | shape=torch.Size([64, 210])\n"
     ]
    },
    {
     "name": "stderr",
     "output_type": "stream",
     "text": [
      " 89%|████████▉ | 752/844 [03:12<00:34,  2.65it/s]"
     ]
    },
    {
     "name": "stdout",
     "output_type": "stream",
     "text": [
      "✅ Loaded MSA for 8IDF_B from /kaggle/input/stanford-rna-3d-folding/MSA_v2 | shape=torch.Size([64, 53])\n",
      "✅ Loaded MSA for 8IDF_B from /kaggle/input/stanford-rna-3d-folding/MSA_v2 | shape=torch.Size([64, 53])\n"
     ]
    },
    {
     "name": "stderr",
     "output_type": "stream",
     "text": [
      " 89%|████████▉ | 754/844 [03:12<00:25,  3.52it/s]"
     ]
    },
    {
     "name": "stdout",
     "output_type": "stream",
     "text": [
      "✅ Loaded MSA for 8EWG_B from /kaggle/input/stanford-rna-3d-folding/MSA | shape=torch.Size([64, 60])\n",
      "✅ Loaded MSA for 8EWG_B from /kaggle/input/stanford-rna-3d-folding/MSA | shape=torch.Size([64, 60])\n",
      "✅ Loaded MSA for 8BWT_A from /kaggle/input/stanford-rna-3d-folding/MSA_v2 | shape=torch.Size([64, 26])\n",
      "✅ Loaded MSA for 8BWT_A from /kaggle/input/stanford-rna-3d-folding/MSA_v2 | shape=torch.Size([64, 26])\n"
     ]
    },
    {
     "name": "stderr",
     "output_type": "stream",
     "text": [
      " 89%|████████▉ | 755/844 [03:13<00:43,  2.03it/s]"
     ]
    },
    {
     "name": "stdout",
     "output_type": "stream",
     "text": [
      "✅ Loaded MSA for 8EVQ_EC from /kaggle/input/stanford-rna-3d-folding/MSA_v2 | shape=torch.Size([64, 202])\n",
      "✅ Loaded MSA for 8EVQ_EC from /kaggle/input/stanford-rna-3d-folding/MSA_v2 | shape=torch.Size([64, 202])\n"
     ]
    },
    {
     "name": "stderr",
     "output_type": "stream",
     "text": [
      " 90%|████████▉ | 757/844 [03:15<00:44,  1.95it/s]"
     ]
    },
    {
     "name": "stdout",
     "output_type": "stream",
     "text": [
      "✅ Loaded MSA for 8EVR_EC from /kaggle/input/stanford-rna-3d-folding/MSA | shape=torch.Size([64, 202])\n",
      "✅ Loaded MSA for 8EVR_EC from /kaggle/input/stanford-rna-3d-folding/MSA | shape=torch.Size([64, 202])\n",
      "✅ Loaded MSA for 8CQ1_A from /kaggle/input/stanford-rna-3d-folding/MSA_v2 | shape=torch.Size([12, 44])\n",
      "✅ Loaded MSA for 8CQ1_A from /kaggle/input/stanford-rna-3d-folding/MSA_v2 | shape=torch.Size([12, 44])\n"
     ]
    },
    {
     "name": "stderr",
     "output_type": "stream",
     "text": [
      " 90%|████████▉ | 758/844 [03:15<00:34,  2.48it/s]"
     ]
    },
    {
     "name": "stdout",
     "output_type": "stream",
     "text": [
      "✅ Loaded MSA for 8U3M_A from /kaggle/input/stanford-rna-3d-folding/MSA_v2 | shape=torch.Size([64, 31])\n",
      "✅ Loaded MSA for 8U3M_A from /kaggle/input/stanford-rna-3d-folding/MSA_v2 | shape=torch.Size([64, 31])\n"
     ]
    },
    {
     "name": "stderr",
     "output_type": "stream",
     "text": [
      " 90%|████████▉ | 759/844 [03:15<00:39,  2.15it/s]"
     ]
    },
    {
     "name": "stdout",
     "output_type": "stream",
     "text": [
      "✅ Loaded MSA for 8UYL_A from /kaggle/input/stanford-rna-3d-folding/MSA_v2 | shape=torch.Size([59, 135])\n",
      "✅ Loaded MSA for 8UYL_A from /kaggle/input/stanford-rna-3d-folding/MSA_v2 | shape=torch.Size([59, 135])\n"
     ]
    },
    {
     "name": "stderr",
     "output_type": "stream",
     "text": [
      " 90%|█████████ | 760/844 [03:16<00:41,  2.03it/s]"
     ]
    },
    {
     "name": "stdout",
     "output_type": "stream",
     "text": [
      "✅ Loaded MSA for 8UYS_A from /kaggle/input/stanford-rna-3d-folding/MSA | shape=torch.Size([64, 124])\n",
      "✅ Loaded MSA for 8UYS_A from /kaggle/input/stanford-rna-3d-folding/MSA | shape=torch.Size([64, 124])\n"
     ]
    },
    {
     "name": "stderr",
     "output_type": "stream",
     "text": [
      " 90%|█████████ | 761/844 [03:17<00:44,  1.88it/s]"
     ]
    },
    {
     "name": "stdout",
     "output_type": "stream",
     "text": [
      "✅ Loaded MSA for 8UYJ_A from /kaggle/input/stanford-rna-3d-folding/MSA | shape=torch.Size([53, 135])\n",
      "✅ Loaded MSA for 8UYJ_A from /kaggle/input/stanford-rna-3d-folding/MSA | shape=torch.Size([53, 135])\n"
     ]
    },
    {
     "name": "stderr",
     "output_type": "stream",
     "text": [
      " 90%|█████████ | 762/844 [03:17<00:46,  1.76it/s]"
     ]
    },
    {
     "name": "stdout",
     "output_type": "stream",
     "text": [
      "✅ Loaded MSA for 8UYP_A from /kaggle/input/stanford-rna-3d-folding/MSA_v2 | shape=torch.Size([64, 143])\n",
      "✅ Loaded MSA for 8UYP_A from /kaggle/input/stanford-rna-3d-folding/MSA_v2 | shape=torch.Size([64, 143])\n"
     ]
    },
    {
     "name": "stderr",
     "output_type": "stream",
     "text": [
      " 90%|█████████ | 763/844 [03:18<00:46,  1.74it/s]"
     ]
    },
    {
     "name": "stdout",
     "output_type": "stream",
     "text": [
      "✅ Loaded MSA for 8OMR_C from /kaggle/input/stanford-rna-3d-folding/MSA_v2 | shape=torch.Size([64, 75])\n",
      "✅ Loaded MSA for 8OMR_C from /kaggle/input/stanford-rna-3d-folding/MSA_v2 | shape=torch.Size([64, 75])\n"
     ]
    },
    {
     "name": "stderr",
     "output_type": "stream",
     "text": [
      " 91%|█████████ | 764/844 [03:18<00:39,  2.02it/s]"
     ]
    },
    {
     "name": "stdout",
     "output_type": "stream",
     "text": [
      "✅ Loaded MSA for 8HUD_B from /kaggle/input/stanford-rna-3d-folding/MSA | shape=torch.Size([27, 75])\n",
      "✅ Loaded MSA for 8HUD_B from /kaggle/input/stanford-rna-3d-folding/MSA | shape=torch.Size([27, 75])\n"
     ]
    },
    {
     "name": "stderr",
     "output_type": "stream",
     "text": [
      " 91%|█████████ | 765/844 [03:18<00:36,  2.19it/s]"
     ]
    },
    {
     "name": "stdout",
     "output_type": "stream",
     "text": [
      "✅ Loaded MSA for 8T2B_R from /kaggle/input/stanford-rna-3d-folding/MSA_v2 | shape=torch.Size([5, 90])\n",
      "✅ Loaded MSA for 8T2B_R from /kaggle/input/stanford-rna-3d-folding/MSA_v2 | shape=torch.Size([5, 90])\n"
     ]
    },
    {
     "name": "stderr",
     "output_type": "stream",
     "text": [
      " 91%|█████████ | 766/844 [03:19<00:33,  2.34it/s]"
     ]
    },
    {
     "name": "stdout",
     "output_type": "stream",
     "text": [
      "✅ Loaded MSA for 8UPT_A from /kaggle/input/stanford-rna-3d-folding/MSA_v2 | shape=torch.Size([64, 71])\n",
      "✅ Loaded MSA for 8UPT_A from /kaggle/input/stanford-rna-3d-folding/MSA_v2 | shape=torch.Size([64, 71])\n"
     ]
    },
    {
     "name": "stderr",
     "output_type": "stream",
     "text": [
      " 91%|█████████ | 767/844 [03:19<00:31,  2.43it/s]"
     ]
    },
    {
     "name": "stdout",
     "output_type": "stream",
     "text": [
      "✅ Loaded MSA for 8T2O_R from /kaggle/input/stanford-rna-3d-folding/MSA_v2 | shape=torch.Size([8, 90])\n",
      "✅ Loaded MSA for 8T2O_R from /kaggle/input/stanford-rna-3d-folding/MSA_v2 | shape=torch.Size([8, 90])\n"
     ]
    },
    {
     "name": "stderr",
     "output_type": "stream",
     "text": [
      " 91%|█████████ | 768/844 [03:20<00:30,  2.52it/s]"
     ]
    },
    {
     "name": "stdout",
     "output_type": "stream",
     "text": [
      "✅ Loaded MSA for 8T29_R from /kaggle/input/stanford-rna-3d-folding/MSA | shape=torch.Size([3, 90])\n",
      "✅ Loaded MSA for 8T29_R from /kaggle/input/stanford-rna-3d-folding/MSA | shape=torch.Size([3, 90])\n"
     ]
    },
    {
     "name": "stderr",
     "output_type": "stream",
     "text": [
      " 91%|█████████ | 769/844 [03:20<00:29,  2.57it/s]"
     ]
    },
    {
     "name": "stdout",
     "output_type": "stream",
     "text": [
      "✅ Loaded MSA for 8T2A_R from /kaggle/input/stanford-rna-3d-folding/MSA | shape=torch.Size([5, 90])\n",
      "✅ Loaded MSA for 8T2A_R from /kaggle/input/stanford-rna-3d-folding/MSA | shape=torch.Size([5, 90])\n"
     ]
    },
    {
     "name": "stderr",
     "output_type": "stream",
     "text": [
      " 91%|█████████ | 770/844 [03:20<00:31,  2.35it/s]"
     ]
    },
    {
     "name": "stdout",
     "output_type": "stream",
     "text": [
      "✅ Loaded MSA for 8VCI_A from /kaggle/input/stanford-rna-3d-folding/MSA | shape=torch.Size([56, 118])\n",
      "✅ Loaded MSA for 8VCI_A from /kaggle/input/stanford-rna-3d-folding/MSA | shape=torch.Size([56, 118])\n"
     ]
    },
    {
     "name": "stderr",
     "output_type": "stream",
     "text": [
      " 91%|█████████▏| 772/844 [03:21<00:28,  2.53it/s]"
     ]
    },
    {
     "name": "stdout",
     "output_type": "stream",
     "text": [
      "✅ Loaded MSA for 8T2P_B from /kaggle/input/stanford-rna-3d-folding/MSA | shape=torch.Size([10, 152])\n",
      "✅ Loaded MSA for 8T2P_B from /kaggle/input/stanford-rna-3d-folding/MSA | shape=torch.Size([10, 152])\n"
     ]
    },
    {
     "name": "stderr",
     "output_type": "stream",
     "text": [
      " 92%|█████████▏| 773/844 [03:22<00:31,  2.22it/s]"
     ]
    },
    {
     "name": "stdout",
     "output_type": "stream",
     "text": [
      "✅ Loaded MSA for 8T2P_A from /kaggle/input/stanford-rna-3d-folding/MSA_v2 | shape=torch.Size([38, 135])\n",
      "✅ Loaded MSA for 8T2P_A from /kaggle/input/stanford-rna-3d-folding/MSA_v2 | shape=torch.Size([38, 135])\n"
     ]
    },
    {
     "name": "stderr",
     "output_type": "stream",
     "text": [
      " 92%|█████████▏| 775/844 [03:22<00:22,  3.02it/s]"
     ]
    },
    {
     "name": "stdout",
     "output_type": "stream",
     "text": [
      "✅ Loaded MSA for 8PM4_B from /kaggle/input/stanford-rna-3d-folding/MSA | shape=torch.Size([5, 58])\n",
      "✅ Loaded MSA for 8PM4_B from /kaggle/input/stanford-rna-3d-folding/MSA | shape=torch.Size([5, 58])\n",
      "✅ Loaded MSA for 8IEW_B from /kaggle/input/stanford-rna-3d-folding/MSA_v2 | shape=torch.Size([7, 38])\n",
      "✅ Loaded MSA for 8IEW_B from /kaggle/input/stanford-rna-3d-folding/MSA_v2 | shape=torch.Size([7, 38])\n",
      "✅ Loaded MSA for 8J72_C from /kaggle/input/stanford-rna-3d-folding/MSA | shape=torch.Size([1, 11])\n",
      "✅ Loaded MSA for 8J72_C from /kaggle/input/stanford-rna-3d-folding/MSA | shape=torch.Size([1, 11])\n"
     ]
    },
    {
     "name": "stderr",
     "output_type": "stream",
     "text": [
      " 92%|█████████▏| 778/844 [03:23<00:17,  3.87it/s]"
     ]
    },
    {
     "name": "stdout",
     "output_type": "stream",
     "text": [
      "✅ Loaded MSA for 8QO3_A from /kaggle/input/stanford-rna-3d-folding/MSA | shape=torch.Size([63, 118])\n",
      "✅ Loaded MSA for 8QO3_A from /kaggle/input/stanford-rna-3d-folding/MSA | shape=torch.Size([63, 118])\n"
     ]
    },
    {
     "name": "stderr",
     "output_type": "stream",
     "text": [
      " 92%|█████████▏| 779/844 [03:23<00:23,  2.80it/s]"
     ]
    },
    {
     "name": "stdout",
     "output_type": "stream",
     "text": [
      "✅ Loaded MSA for 8QO4_A from /kaggle/input/stanford-rna-3d-folding/MSA | shape=torch.Size([49, 156])\n",
      "✅ Loaded MSA for 8QO4_A from /kaggle/input/stanford-rna-3d-folding/MSA | shape=torch.Size([49, 156])\n"
     ]
    },
    {
     "name": "stderr",
     "output_type": "stream",
     "text": [
      " 92%|█████████▏| 780/844 [03:24<00:27,  2.32it/s]"
     ]
    },
    {
     "name": "stdout",
     "output_type": "stream",
     "text": [
      "✅ Loaded MSA for 8QO5_A from /kaggle/input/stanford-rna-3d-folding/MSA_v2 | shape=torch.Size([64, 145])\n",
      "✅ Loaded MSA for 8QO5_A from /kaggle/input/stanford-rna-3d-folding/MSA_v2 | shape=torch.Size([64, 145])\n"
     ]
    },
    {
     "name": "stderr",
     "output_type": "stream",
     "text": [
      " 93%|█████████▎| 781/844 [03:25<00:38,  1.64it/s]"
     ]
    },
    {
     "name": "stdout",
     "output_type": "stream",
     "text": [
      "✅ Loaded MSA for 8QO2_A from /kaggle/input/stanford-rna-3d-folding/MSA | shape=torch.Size([64, 222])\n",
      "✅ Loaded MSA for 8QO2_A from /kaggle/input/stanford-rna-3d-folding/MSA | shape=torch.Size([64, 222])\n"
     ]
    },
    {
     "name": "stderr",
     "output_type": "stream",
     "text": [
      " 93%|█████████▎| 783/844 [03:26<00:31,  1.96it/s]"
     ]
    },
    {
     "name": "stdout",
     "output_type": "stream",
     "text": [
      "✅ Loaded MSA for 8H6E_4A from /kaggle/input/stanford-rna-3d-folding/MSA_v2 | shape=torch.Size([64, 146])\n",
      "✅ Loaded MSA for 8H6E_4A from /kaggle/input/stanford-rna-3d-folding/MSA_v2 | shape=torch.Size([64, 146])\n"
     ]
    },
    {
     "name": "stderr",
     "output_type": "stream",
     "text": [
      " 93%|█████████▎| 785/844 [03:27<00:25,  2.33it/s]"
     ]
    },
    {
     "name": "stdout",
     "output_type": "stream",
     "text": [
      "✅ Loaded MSA for 8H6E_5A from /kaggle/input/stanford-rna-3d-folding/MSA_v2 | shape=torch.Size([64, 117])\n",
      "✅ Loaded MSA for 8H6E_5A from /kaggle/input/stanford-rna-3d-folding/MSA_v2 | shape=torch.Size([64, 117])\n",
      "✅ Loaded MSA for 8P0B_V from /kaggle/input/stanford-rna-3d-folding/MSA_v2 | shape=torch.Size([15, 32])\n",
      "✅ Loaded MSA for 8P0B_V from /kaggle/input/stanford-rna-3d-folding/MSA_v2 | shape=torch.Size([15, 32])\n"
     ]
    },
    {
     "name": "stderr",
     "output_type": "stream",
     "text": [
      " 93%|█████████▎| 787/844 [03:27<00:16,  3.38it/s]"
     ]
    },
    {
     "name": "stdout",
     "output_type": "stream",
     "text": [
      "✅ Loaded MSA for 8P0G_V from /kaggle/input/stanford-rna-3d-folding/MSA_v2 | shape=torch.Size([11, 35])\n",
      "✅ Loaded MSA for 8P0G_V from /kaggle/input/stanford-rna-3d-folding/MSA_v2 | shape=torch.Size([11, 35])\n",
      "✅ Loaded MSA for 8JHP_A from /kaggle/input/stanford-rna-3d-folding/MSA | shape=torch.Size([64, 27])\n",
      "✅ Loaded MSA for 8JHP_A from /kaggle/input/stanford-rna-3d-folding/MSA | shape=torch.Size([64, 27])\n"
     ]
    },
    {
     "name": "stderr",
     "output_type": "stream",
     "text": [
      " 93%|█████████▎| 789/844 [03:27<00:11,  4.81it/s]"
     ]
    },
    {
     "name": "stdout",
     "output_type": "stream",
     "text": [
      "✅ Loaded MSA for 8Z85_D from /kaggle/input/stanford-rna-3d-folding/MSA_v2 | shape=torch.Size([1, 18])\n",
      "✅ Loaded MSA for 8Z85_D from /kaggle/input/stanford-rna-3d-folding/MSA_v2 | shape=torch.Size([1, 18])\n",
      "✅ Loaded MSA for 8Z90_D from /kaggle/input/stanford-rna-3d-folding/MSA_v2 | shape=torch.Size([1, 18])\n",
      "✅ Loaded MSA for 8Z90_D from /kaggle/input/stanford-rna-3d-folding/MSA_v2 | shape=torch.Size([1, 18])\n",
      "✅ Loaded MSA for 8Z8N_D from /kaggle/input/stanford-rna-3d-folding/MSA | shape=torch.Size([1, 18])\n",
      "✅ Loaded MSA for 8Z8N_D from /kaggle/input/stanford-rna-3d-folding/MSA | shape=torch.Size([1, 18])\n"
     ]
    },
    {
     "name": "stderr",
     "output_type": "stream",
     "text": [
      " 94%|█████████▎| 791/844 [03:28<00:10,  5.08it/s]"
     ]
    },
    {
     "name": "stdout",
     "output_type": "stream",
     "text": [
      "✅ Loaded MSA for 8KAI_I from /kaggle/input/stanford-rna-3d-folding/MSA | shape=torch.Size([64, 65])\n",
      "✅ Loaded MSA for 8KAI_I from /kaggle/input/stanford-rna-3d-folding/MSA | shape=torch.Size([64, 65])\n"
     ]
    },
    {
     "name": "stderr",
     "output_type": "stream",
     "text": [
      " 94%|█████████▍| 792/844 [03:28<00:12,  4.12it/s]"
     ]
    },
    {
     "name": "stdout",
     "output_type": "stream",
     "text": [
      "✅ Loaded MSA for 8KAM_A from /kaggle/input/stanford-rna-3d-folding/MSA | shape=torch.Size([64, 98])\n",
      "✅ Loaded MSA for 8KAM_A from /kaggle/input/stanford-rna-3d-folding/MSA | shape=torch.Size([64, 98])\n",
      "✅ Loaded MSA for 8K8B_A from /kaggle/input/stanford-rna-3d-folding/MSA_v2 | shape=torch.Size([1, 19])\n",
      "✅ Loaded MSA for 8K8B_A from /kaggle/input/stanford-rna-3d-folding/MSA_v2 | shape=torch.Size([1, 19])\n"
     ]
    },
    {
     "name": "stderr",
     "output_type": "stream",
     "text": [
      " 94%|█████████▍| 794/844 [03:29<00:14,  3.38it/s]"
     ]
    },
    {
     "name": "stdout",
     "output_type": "stream",
     "text": [
      "✅ Loaded MSA for 8JTJ_B from /kaggle/input/stanford-rna-3d-folding/MSA_v2 | shape=torch.Size([64, 139])\n",
      "✅ Loaded MSA for 8JTJ_B from /kaggle/input/stanford-rna-3d-folding/MSA_v2 | shape=torch.Size([64, 139])\n"
     ]
    },
    {
     "name": "stderr",
     "output_type": "stream",
     "text": [
      " 94%|█████████▍| 795/844 [03:29<00:16,  2.93it/s]"
     ]
    },
    {
     "name": "stdout",
     "output_type": "stream",
     "text": [
      "✅ Loaded MSA for 8WUS_B from /kaggle/input/stanford-rna-3d-folding/MSA_v2 | shape=torch.Size([64, 115])\n",
      "✅ Loaded MSA for 8WUS_B from /kaggle/input/stanford-rna-3d-folding/MSA_v2 | shape=torch.Size([64, 115])\n"
     ]
    },
    {
     "name": "stderr",
     "output_type": "stream",
     "text": [
      " 94%|█████████▍| 796/844 [03:30<00:22,  2.15it/s]"
     ]
    },
    {
     "name": "stdout",
     "output_type": "stream",
     "text": [
      "✅ Loaded MSA for 8YGJ_B from /kaggle/input/stanford-rna-3d-folding/MSA | shape=torch.Size([64, 137])\n",
      "✅ Loaded MSA for 8YGJ_B from /kaggle/input/stanford-rna-3d-folding/MSA | shape=torch.Size([64, 137])\n"
     ]
    },
    {
     "name": "stderr",
     "output_type": "stream",
     "text": [
      " 94%|█████████▍| 797/844 [03:31<00:24,  1.94it/s]"
     ]
    },
    {
     "name": "stdout",
     "output_type": "stream",
     "text": [
      "✅ Loaded MSA for 8UO6_B from /kaggle/input/stanford-rna-3d-folding/MSA_v2 | shape=torch.Size([64, 134])\n",
      "✅ Loaded MSA for 8UO6_B from /kaggle/input/stanford-rna-3d-folding/MSA_v2 | shape=torch.Size([64, 134])\n"
     ]
    },
    {
     "name": "stderr",
     "output_type": "stream",
     "text": [
      " 95%|█████████▍| 798/844 [03:31<00:25,  1.83it/s]"
     ]
    },
    {
     "name": "stdout",
     "output_type": "stream",
     "text": [
      "✅ Loaded MSA for 8JTR_B from /kaggle/input/stanford-rna-3d-folding/MSA | shape=torch.Size([64, 139])\n",
      "✅ Loaded MSA for 8JTR_B from /kaggle/input/stanford-rna-3d-folding/MSA | shape=torch.Size([64, 139])\n"
     ]
    },
    {
     "name": "stderr",
     "output_type": "stream",
     "text": [
      " 95%|█████████▍| 799/844 [03:32<00:22,  1.97it/s]"
     ]
    },
    {
     "name": "stdout",
     "output_type": "stream",
     "text": [
      "✅ Loaded MSA for 8KAG_A from /kaggle/input/stanford-rna-3d-folding/MSA | shape=torch.Size([64, 98])\n",
      "✅ Loaded MSA for 8KAG_A from /kaggle/input/stanford-rna-3d-folding/MSA | shape=torch.Size([64, 98])\n"
     ]
    },
    {
     "name": "stderr",
     "output_type": "stream",
     "text": [
      " 95%|█████████▍| 800/844 [03:32<00:23,  1.89it/s]"
     ]
    },
    {
     "name": "stdout",
     "output_type": "stream",
     "text": [
      "✅ Loaded MSA for 8URY_d from /kaggle/input/stanford-rna-3d-folding/MSA | shape=torch.Size([64, 120])\n",
      "✅ Loaded MSA for 8URY_d from /kaggle/input/stanford-rna-3d-folding/MSA | shape=torch.Size([64, 120])\n"
     ]
    },
    {
     "name": "stderr",
     "output_type": "stream",
     "text": [
      " 95%|█████████▌| 802/844 [03:33<00:18,  2.25it/s]"
     ]
    },
    {
     "name": "stdout",
     "output_type": "stream",
     "text": [
      "✅ Loaded MSA for 8URY_A from /kaggle/input/stanford-rna-3d-folding/MSA | shape=torch.Size([64, 76])\n",
      "✅ Loaded MSA for 8URY_A from /kaggle/input/stanford-rna-3d-folding/MSA | shape=torch.Size([64, 76])\n",
      "✅ Loaded MSA for 9EOW_A from /kaggle/input/stanford-rna-3d-folding/MSA_v2 | shape=torch.Size([12, 29])\n",
      "✅ Loaded MSA for 9EOW_A from /kaggle/input/stanford-rna-3d-folding/MSA_v2 | shape=torch.Size([12, 29])\n"
     ]
    },
    {
     "name": "stderr",
     "output_type": "stream",
     "text": [
      " 95%|█████████▌| 803/844 [03:34<00:23,  1.74it/s]"
     ]
    },
    {
     "name": "stdout",
     "output_type": "stream",
     "text": [
      "✅ Loaded MSA for 8WT6_E from /kaggle/input/stanford-rna-3d-folding/MSA_v2 | shape=torch.Size([64, 180])\n",
      "✅ Loaded MSA for 8WT6_E from /kaggle/input/stanford-rna-3d-folding/MSA_v2 | shape=torch.Size([64, 180])\n"
     ]
    },
    {
     "name": "stderr",
     "output_type": "stream",
     "text": [
      " 95%|█████████▌| 804/844 [03:35<00:26,  1.50it/s]"
     ]
    },
    {
     "name": "stdout",
     "output_type": "stream",
     "text": [
      "✅ Loaded MSA for 8WT8_F from /kaggle/input/stanford-rna-3d-folding/MSA_v2 | shape=torch.Size([64, 180])\n",
      "✅ Loaded MSA for 8WT8_F from /kaggle/input/stanford-rna-3d-folding/MSA_v2 | shape=torch.Size([64, 180])\n"
     ]
    },
    {
     "name": "stderr",
     "output_type": "stream",
     "text": [
      " 95%|█████████▌| 805/844 [03:36<00:28,  1.37it/s]"
     ]
    },
    {
     "name": "stdout",
     "output_type": "stream",
     "text": [
      "✅ Loaded MSA for 8WT8_E from /kaggle/input/stanford-rna-3d-folding/MSA | shape=torch.Size([64, 180])\n",
      "✅ Loaded MSA for 8WT8_E from /kaggle/input/stanford-rna-3d-folding/MSA | shape=torch.Size([64, 180])\n"
     ]
    },
    {
     "name": "stderr",
     "output_type": "stream",
     "text": [
      " 95%|█████████▌| 806/844 [03:37<00:29,  1.29it/s]"
     ]
    },
    {
     "name": "stdout",
     "output_type": "stream",
     "text": [
      "✅ Loaded MSA for 8WT6_F from /kaggle/input/stanford-rna-3d-folding/MSA | shape=torch.Size([64, 180])\n",
      "✅ Loaded MSA for 8WT6_F from /kaggle/input/stanford-rna-3d-folding/MSA | shape=torch.Size([64, 180])\n"
     ]
    },
    {
     "name": "stderr",
     "output_type": "stream",
     "text": [
      " 96%|█████████▌| 807/844 [03:38<00:29,  1.24it/s]"
     ]
    },
    {
     "name": "stdout",
     "output_type": "stream",
     "text": [
      "✅ Loaded MSA for 8WT7_E from /kaggle/input/stanford-rna-3d-folding/MSA | shape=torch.Size([64, 180])\n",
      "✅ Loaded MSA for 8WT7_E from /kaggle/input/stanford-rna-3d-folding/MSA | shape=torch.Size([64, 180])\n"
     ]
    },
    {
     "name": "stderr",
     "output_type": "stream",
     "text": [
      " 96%|█████████▌| 808/844 [03:39<00:31,  1.13it/s]"
     ]
    },
    {
     "name": "stdout",
     "output_type": "stream",
     "text": [
      "✅ Loaded MSA for 8WT7_F from /kaggle/input/stanford-rna-3d-folding/MSA_v2 | shape=torch.Size([64, 180])\n",
      "✅ Loaded MSA for 8WT7_F from /kaggle/input/stanford-rna-3d-folding/MSA_v2 | shape=torch.Size([64, 180])\n"
     ]
    },
    {
     "name": "stderr",
     "output_type": "stream",
     "text": [
      " 96%|█████████▌| 809/844 [03:39<00:23,  1.46it/s]"
     ]
    },
    {
     "name": "stdout",
     "output_type": "stream",
     "text": [
      "✅ Loaded MSA for 8SFO_B from /kaggle/input/stanford-rna-3d-folding/MSA | shape=torch.Size([32, 48])\n",
      "✅ Loaded MSA for 8SFO_B from /kaggle/input/stanford-rna-3d-folding/MSA | shape=torch.Size([32, 48])\n",
      "✅ Loaded MSA for 8SFI_B from /kaggle/input/stanford-rna-3d-folding/MSA_v2 | shape=torch.Size([32, 48])\n",
      "✅ Loaded MSA for 8SFI_B from /kaggle/input/stanford-rna-3d-folding/MSA_v2 | shape=torch.Size([32, 48])\n"
     ]
    },
    {
     "name": "stderr",
     "output_type": "stream",
     "text": [
      " 96%|█████████▌| 812/844 [03:40<00:11,  2.72it/s]"
     ]
    },
    {
     "name": "stdout",
     "output_type": "stream",
     "text": [
      "✅ Loaded MSA for 8SFL_B from /kaggle/input/stanford-rna-3d-folding/MSA_v2 | shape=torch.Size([32, 48])\n",
      "✅ Loaded MSA for 8SFL_B from /kaggle/input/stanford-rna-3d-folding/MSA_v2 | shape=torch.Size([32, 48])\n",
      "✅ Loaded MSA for 8SFN_B from /kaggle/input/stanford-rna-3d-folding/MSA | shape=torch.Size([32, 48])\n",
      "✅ Loaded MSA for 8SFN_B from /kaggle/input/stanford-rna-3d-folding/MSA | shape=torch.Size([32, 48])\n"
     ]
    },
    {
     "name": "stderr",
     "output_type": "stream",
     "text": [
      " 96%|█████████▋| 813/844 [03:40<00:09,  3.41it/s]"
     ]
    },
    {
     "name": "stdout",
     "output_type": "stream",
     "text": [
      "✅ Loaded MSA for 8SFH_B from /kaggle/input/stanford-rna-3d-folding/MSA_v2 | shape=torch.Size([11, 27])\n",
      "✅ Loaded MSA for 8SFH_B from /kaggle/input/stanford-rna-3d-folding/MSA_v2 | shape=torch.Size([11, 27])\n"
     ]
    },
    {
     "name": "stderr",
     "output_type": "stream",
     "text": [
      " 96%|█████████▋| 814/844 [03:40<00:08,  3.75it/s]"
     ]
    },
    {
     "name": "stdout",
     "output_type": "stream",
     "text": [
      "✅ Loaded MSA for 8SFJ_B from /kaggle/input/stanford-rna-3d-folding/MSA_v2 | shape=torch.Size([32, 48])\n",
      "✅ Loaded MSA for 8SFJ_B from /kaggle/input/stanford-rna-3d-folding/MSA_v2 | shape=torch.Size([32, 48])\n"
     ]
    },
    {
     "name": "stderr",
     "output_type": "stream",
     "text": [
      " 97%|█████████▋| 815/844 [03:40<00:09,  3.04it/s]"
     ]
    },
    {
     "name": "stdout",
     "output_type": "stream",
     "text": [
      "✅ Loaded MSA for 9ENF_C from /kaggle/input/stanford-rna-3d-folding/MSA | shape=torch.Size([64, 94])\n",
      "✅ Loaded MSA for 9ENF_C from /kaggle/input/stanford-rna-3d-folding/MSA | shape=torch.Size([64, 94])\n"
     ]
    },
    {
     "name": "stderr",
     "output_type": "stream",
     "text": [
      " 97%|█████████▋| 816/844 [03:41<00:09,  2.85it/s]"
     ]
    },
    {
     "name": "stdout",
     "output_type": "stream",
     "text": [
      "✅ Loaded MSA for 9ENE_D from /kaggle/input/stanford-rna-3d-folding/MSA | shape=torch.Size([64, 76])\n",
      "✅ Loaded MSA for 9ENE_D from /kaggle/input/stanford-rna-3d-folding/MSA | shape=torch.Size([64, 76])\n"
     ]
    },
    {
     "name": "stderr",
     "output_type": "stream",
     "text": [
      " 97%|█████████▋| 817/844 [03:41<00:12,  2.21it/s]"
     ]
    },
    {
     "name": "stdout",
     "output_type": "stream",
     "text": [
      "✅ Loaded MSA for 9ENC_D from /kaggle/input/stanford-rna-3d-folding/MSA | shape=torch.Size([64, 75])\n",
      "✅ Loaded MSA for 9ENC_D from /kaggle/input/stanford-rna-3d-folding/MSA | shape=torch.Size([64, 75])\n"
     ]
    },
    {
     "name": "stderr",
     "output_type": "stream",
     "text": [
      " 97%|█████████▋| 818/844 [03:42<00:11,  2.24it/s]"
     ]
    },
    {
     "name": "stdout",
     "output_type": "stream",
     "text": [
      "✅ Loaded MSA for 8OKD_X from /kaggle/input/stanford-rna-3d-folding/MSA_v2 | shape=torch.Size([64, 75])\n",
      "✅ Loaded MSA for 8OKD_X from /kaggle/input/stanford-rna-3d-folding/MSA_v2 | shape=torch.Size([64, 75])\n"
     ]
    },
    {
     "name": "stderr",
     "output_type": "stream",
     "text": [
      " 97%|█████████▋| 819/844 [03:42<00:10,  2.50it/s]"
     ]
    },
    {
     "name": "stdout",
     "output_type": "stream",
     "text": [
      "✅ Loaded MSA for 8OST_C from /kaggle/input/stanford-rna-3d-folding/MSA | shape=torch.Size([64, 69])\n",
      "✅ Loaded MSA for 8OST_C from /kaggle/input/stanford-rna-3d-folding/MSA | shape=torch.Size([64, 69])\n"
     ]
    },
    {
     "name": "stderr",
     "output_type": "stream",
     "text": [
      " 97%|█████████▋| 821/844 [03:43<00:06,  3.52it/s]"
     ]
    },
    {
     "name": "stdout",
     "output_type": "stream",
     "text": [
      "✅ Loaded MSA for 8OPT_D from /kaggle/input/stanford-rna-3d-folding/MSA | shape=torch.Size([64, 54])\n",
      "✅ Loaded MSA for 8OPT_D from /kaggle/input/stanford-rna-3d-folding/MSA | shape=torch.Size([64, 54])\n",
      "✅ Loaded MSA for 8OPP_D from /kaggle/input/stanford-rna-3d-folding/MSA | shape=torch.Size([4, 25])\n",
      "✅ Loaded MSA for 8OPP_D from /kaggle/input/stanford-rna-3d-folding/MSA | shape=torch.Size([4, 25])\n"
     ]
    },
    {
     "name": "stderr",
     "output_type": "stream",
     "text": [
      " 97%|█████████▋| 822/844 [03:43<00:06,  3.42it/s]"
     ]
    },
    {
     "name": "stdout",
     "output_type": "stream",
     "text": [
      "✅ Loaded MSA for 8OPS_C from /kaggle/input/stanford-rna-3d-folding/MSA | shape=torch.Size([64, 71])\n",
      "✅ Loaded MSA for 8OPS_C from /kaggle/input/stanford-rna-3d-folding/MSA | shape=torch.Size([64, 71])\n"
     ]
    },
    {
     "name": "stderr",
     "output_type": "stream",
     "text": [
      " 98%|█████████▊| 823/844 [03:44<00:09,  2.31it/s]"
     ]
    },
    {
     "name": "stdout",
     "output_type": "stream",
     "text": [
      "✅ Loaded MSA for 8I0P_F from /kaggle/input/stanford-rna-3d-folding/MSA | shape=torch.Size([64, 107])\n",
      "✅ Loaded MSA for 8I0P_F from /kaggle/input/stanford-rna-3d-folding/MSA | shape=torch.Size([64, 107])\n"
     ]
    },
    {
     "name": "stderr",
     "output_type": "stream",
     "text": [
      " 98%|█████████▊| 824/844 [03:44<00:08,  2.36it/s]"
     ]
    },
    {
     "name": "stdout",
     "output_type": "stream",
     "text": [
      "✅ Loaded MSA for 8KDA_O from /kaggle/input/stanford-rna-3d-folding/MSA_v2 | shape=torch.Size([64, 73])\n",
      "✅ Loaded MSA for 8KDA_O from /kaggle/input/stanford-rna-3d-folding/MSA_v2 | shape=torch.Size([64, 73])\n"
     ]
    },
    {
     "name": "stderr",
     "output_type": "stream",
     "text": [
      " 98%|█████████▊| 825/844 [03:45<00:09,  1.95it/s]"
     ]
    },
    {
     "name": "stdout",
     "output_type": "stream",
     "text": [
      "✅ Loaded MSA for 8UAU_R from /kaggle/input/stanford-rna-3d-folding/MSA_v2 | shape=torch.Size([64, 76])\n",
      "✅ Loaded MSA for 8UAU_R from /kaggle/input/stanford-rna-3d-folding/MSA_v2 | shape=torch.Size([64, 76])\n"
     ]
    },
    {
     "name": "stderr",
     "output_type": "stream",
     "text": [
      " 98%|█████████▊| 826/844 [03:45<00:07,  2.30it/s]"
     ]
    },
    {
     "name": "stdout",
     "output_type": "stream",
     "text": [
      "✅ Loaded MSA for 9CF1_W from /kaggle/input/stanford-rna-3d-folding/MSA_v2 | shape=torch.Size([44, 61])\n",
      "✅ Loaded MSA for 9CF1_W from /kaggle/input/stanford-rna-3d-folding/MSA_v2 | shape=torch.Size([44, 61])\n"
     ]
    },
    {
     "name": "stderr",
     "output_type": "stream",
     "text": [
      " 98%|█████████▊| 827/844 [03:45<00:06,  2.63it/s]"
     ]
    },
    {
     "name": "stdout",
     "output_type": "stream",
     "text": [
      "✅ Loaded MSA for 9CF3_W from /kaggle/input/stanford-rna-3d-folding/MSA | shape=torch.Size([44, 61])\n",
      "✅ Loaded MSA for 9CF3_W from /kaggle/input/stanford-rna-3d-folding/MSA | shape=torch.Size([44, 61])\n"
     ]
    },
    {
     "name": "stderr",
     "output_type": "stream",
     "text": [
      " 98%|█████████▊| 828/844 [03:46<00:06,  2.62it/s]"
     ]
    },
    {
     "name": "stdout",
     "output_type": "stream",
     "text": [
      "✅ Loaded MSA for 8YE6_C from /kaggle/input/stanford-rna-3d-folding/MSA_v2 | shape=torch.Size([64, 92])\n",
      "✅ Loaded MSA for 8YE6_C from /kaggle/input/stanford-rna-3d-folding/MSA_v2 | shape=torch.Size([64, 92])\n",
      "✅ Loaded MSA for 8KI7_E from /kaggle/input/stanford-rna-3d-folding/MSA_v2 | shape=torch.Size([1, 10])\n",
      "✅ Loaded MSA for 8KI7_E from /kaggle/input/stanford-rna-3d-folding/MSA_v2 | shape=torch.Size([1, 10])\n"
     ]
    },
    {
     "name": "stderr",
     "output_type": "stream",
     "text": [
      " 98%|█████████▊| 831/844 [03:46<00:03,  3.37it/s]"
     ]
    },
    {
     "name": "stdout",
     "output_type": "stream",
     "text": [
      "✅ Loaded MSA for 8UBE_I from /kaggle/input/stanford-rna-3d-folding/MSA_v2 | shape=torch.Size([64, 140])\n",
      "✅ Loaded MSA for 8UBE_I from /kaggle/input/stanford-rna-3d-folding/MSA_v2 | shape=torch.Size([64, 140])\n"
     ]
    },
    {
     "name": "stderr",
     "output_type": "stream",
     "text": [
      " 99%|█████████▊| 832/844 [03:47<00:03,  3.38it/s]"
     ]
    },
    {
     "name": "stdout",
     "output_type": "stream",
     "text": [
      "✅ Loaded MSA for 9DTT_B from /kaggle/input/stanford-rna-3d-folding/MSA | shape=torch.Size([64, 70])\n",
      "✅ Loaded MSA for 9DTT_B from /kaggle/input/stanford-rna-3d-folding/MSA | shape=torch.Size([64, 70])\n"
     ]
    },
    {
     "name": "stderr",
     "output_type": "stream",
     "text": [
      " 99%|█████████▉| 834/844 [03:48<00:04,  2.42it/s]"
     ]
    },
    {
     "name": "stdout",
     "output_type": "stream",
     "text": [
      "✅ Loaded MSA for 9G7C_A from /kaggle/input/stanford-rna-3d-folding/MSA | shape=torch.Size([64, 224])\n",
      "✅ Loaded MSA for 9G7C_A from /kaggle/input/stanford-rna-3d-folding/MSA | shape=torch.Size([64, 224])\n",
      "✅ Loaded MSA for 9FO8_A from /kaggle/input/stanford-rna-3d-folding/MSA | shape=torch.Size([64, 29])\n",
      "✅ Loaded MSA for 9FO8_A from /kaggle/input/stanford-rna-3d-folding/MSA | shape=torch.Size([64, 29])\n"
     ]
    },
    {
     "name": "stderr",
     "output_type": "stream",
     "text": [
      " 99%|█████████▉| 836/844 [03:48<00:02,  3.43it/s]"
     ]
    },
    {
     "name": "stdout",
     "output_type": "stream",
     "text": [
      "✅ Loaded MSA for 9FO9_A from /kaggle/input/stanford-rna-3d-folding/MSA | shape=torch.Size([64, 33])\n",
      "✅ Loaded MSA for 9FO9_A from /kaggle/input/stanford-rna-3d-folding/MSA | shape=torch.Size([64, 33])\n",
      "✅ Loaded MSA for 8XPP_B from /kaggle/input/stanford-rna-3d-folding/MSA_v2 | shape=torch.Size([64, 35])\n",
      "✅ Loaded MSA for 8XPP_B from /kaggle/input/stanford-rna-3d-folding/MSA_v2 | shape=torch.Size([64, 35])\n"
     ]
    },
    {
     "name": "stderr",
     "output_type": "stream",
     "text": [
      " 99%|█████████▉| 837/844 [03:49<00:02,  2.86it/s]"
     ]
    },
    {
     "name": "stdout",
     "output_type": "stream",
     "text": [
      "✅ Loaded MSA for 8T2Y_tA from /kaggle/input/stanford-rna-3d-folding/MSA_v2 | shape=torch.Size([64, 76])\n",
      "✅ Loaded MSA for 8T2Y_tA from /kaggle/input/stanford-rna-3d-folding/MSA_v2 | shape=torch.Size([64, 76])\n"
     ]
    },
    {
     "name": "stderr",
     "output_type": "stream",
     "text": [
      " 99%|█████████▉| 838/844 [03:49<00:02,  2.24it/s]"
     ]
    },
    {
     "name": "stdout",
     "output_type": "stream",
     "text": [
      "✅ Loaded MSA for 8T2Y_tP from /kaggle/input/stanford-rna-3d-folding/MSA | shape=torch.Size([64, 75])\n",
      "✅ Loaded MSA for 8T2Y_tP from /kaggle/input/stanford-rna-3d-folding/MSA | shape=torch.Size([64, 75])\n"
     ]
    },
    {
     "name": "stderr",
     "output_type": "stream",
     "text": [
      " 99%|█████████▉| 839/844 [03:50<00:01,  2.57it/s]"
     ]
    },
    {
     "name": "stdout",
     "output_type": "stream",
     "text": [
      "✅ Loaded MSA for 8XCA_B from /kaggle/input/stanford-rna-3d-folding/MSA_v2 | shape=torch.Size([42, 60])\n",
      "✅ Loaded MSA for 8XCA_B from /kaggle/input/stanford-rna-3d-folding/MSA_v2 | shape=torch.Size([42, 60])\n"
     ]
    },
    {
     "name": "stderr",
     "output_type": "stream",
     "text": [
      "100%|█████████▉| 840/844 [03:51<00:02,  1.72it/s]"
     ]
    },
    {
     "name": "stdout",
     "output_type": "stream",
     "text": [
      "✅ Loaded MSA for 8T3E_EC from /kaggle/input/stanford-rna-3d-folding/MSA | shape=torch.Size([64, 202])\n",
      "✅ Loaded MSA for 8T3E_EC from /kaggle/input/stanford-rna-3d-folding/MSA | shape=torch.Size([64, 202])\n"
     ]
    },
    {
     "name": "stderr",
     "output_type": "stream",
     "text": [
      "100%|█████████▉| 841/844 [03:52<00:02,  1.39it/s]"
     ]
    },
    {
     "name": "stdout",
     "output_type": "stream",
     "text": [
      "✅ Loaded MSA for 8T3F_EC from /kaggle/input/stanford-rna-3d-folding/MSA_v2 | shape=torch.Size([64, 202])\n",
      "✅ Loaded MSA for 8T3F_EC from /kaggle/input/stanford-rna-3d-folding/MSA_v2 | shape=torch.Size([64, 202])\n"
     ]
    },
    {
     "name": "stderr",
     "output_type": "stream",
     "text": [
      "100%|█████████▉| 842/844 [03:52<00:01,  1.73it/s]"
     ]
    },
    {
     "name": "stdout",
     "output_type": "stream",
     "text": [
      "✅ Loaded MSA for 8XCC_B from /kaggle/input/stanford-rna-3d-folding/MSA_v2 | shape=torch.Size([32, 60])\n",
      "✅ Loaded MSA for 8XCC_B from /kaggle/input/stanford-rna-3d-folding/MSA_v2 | shape=torch.Size([32, 60])\n"
     ]
    },
    {
     "name": "stderr",
     "output_type": "stream",
     "text": [
      "100%|█████████▉| 843/844 [03:52<00:00,  1.91it/s]"
     ]
    },
    {
     "name": "stdout",
     "output_type": "stream",
     "text": [
      "✅ Loaded MSA for 8Z1G_T from /kaggle/input/stanford-rna-3d-folding/MSA_v2 | shape=torch.Size([64, 86])\n",
      "✅ Loaded MSA for 8Z1G_T from /kaggle/input/stanford-rna-3d-folding/MSA_v2 | shape=torch.Size([64, 86])\n"
     ]
    },
    {
     "name": "stderr",
     "output_type": "stream",
     "text": [
      "100%|██████████| 844/844 [03:53<00:00,  3.62it/s]"
     ]
    },
    {
     "name": "stdout",
     "output_type": "stream",
     "text": [
      "✅ Loaded MSA for 8Z1F_T from /kaggle/input/stanford-rna-3d-folding/MSA_v2 | shape=torch.Size([64, 86])\n",
      "✅ Loaded MSA for 8Z1F_T from /kaggle/input/stanford-rna-3d-folding/MSA_v2 | shape=torch.Size([64, 86])\n",
      "nan\n"
     ]
    },
    {
     "name": "stderr",
     "output_type": "stream",
     "text": [
      "\n"
     ]
    },
    {
     "data": {
      "text/plain": [
       "<Axes: >"
      ]
     },
     "metadata": {},
     "output_type": "display_data"
    },
    {
     "data": {
      "image/png": "[encoded data removed]",
      "text/plain": [
       "<Figure size 640x480 with 1 Axes>"
      ]
     },
     "metadata": {},
     "output_type": "display_data"
    }
   ],
   "source": [
    "\n",
    "\n",
    "if MODEL_TYPE=='protenix' and VALIDATION:\n",
    "    import warnings\n",
    "    warnings.filterwarnings(\"ignore\")  \n",
    "    \n",
    "    train_df['protenix_tm_score']=None\n",
    "    dataset = DictDataset(\n",
    "        seq_list=train_df.sequence,\n",
    "        dump_dir='output',\n",
    "        id_list=train_df.target_id,\n",
    "        msa_root_1=\"/kaggle/input/stanford-rna-3d-folding/MSA\",\n",
    "        msa_root_2=\"/kaggle/input/stanford-rna-3d-folding/MSA_v2\",\n",
    "    )\n",
    "    num_data = len(dataset)\n",
    "    for i, seq in tqdm(enumerate(train_df.sequence),total=num_data):\n",
    "        if train_df.loc[i,'protenix_tm_score']!=None:\n",
    "            continue\n",
    "        if len(seq)>300:\n",
    "            continue\n",
    "        target_id = train_df.loc[i,'target_id']\n",
    "        truth_df = get_truth_df(target_id)\n",
    "        if sum(~np.isnan(truth_df.x_1))<3:\n",
    "            continue\n",
    "        data, atom_array, data_error_message=dataset[i]\n",
    "        if data_error_message!='':\n",
    "            continue\n",
    "        print(\"📦 keys in input data:\", data['input_feature_dict'].keys())\n",
    "        if \"msa_feat\" in data['input_feature_dict']:\n",
    "            msa_feat = data['input_feature_dict']['msa_feat']\n",
    "            print(\"✅ msa_feat present, shape:\", msa_feat.shape)\n",
    "            print(\"📊 sample values:\", msa_feat[0, :2, :5])\n",
    "        else:\n",
    "            print(\"❌ msa_feat not present → MSA not used\")\n",
    "\n",
    "        new_configs = update_inference_configs(configs, data[\"N_token\"].item())\n",
    "        runner.update_model_configs(new_configs)\n",
    "        prediction = runner.predict(data)\n",
    "        prediction=prediction['coordinate'][:,data['input_feature_dict']['atom_to_tokatom_idx']==12]       \n",
    "        result = parse_output_to_df(prediction[:1], seq, target_id)[0]\n",
    "        try:\n",
    "            tm_score, transform = call_usalign(result, truth_df, verbose=0)\n",
    "            train_df.loc[i,'protenix_tm_score']=tm_score\n",
    "        except:\n",
    "            pass\n",
    "        if (time.time()-time0)>(12*3600-360):\n",
    "            break\n",
    "    train_df.to_csv('tm_scores.csv', index=False)\n",
    "    print(train_df.protenix_tm_score.mean())\n",
    "    display(train_df.protenix_tm_score.hist())"
   ]
  },
  {
   "cell_type": "code",
   "execution_count": 11,
   "id": "e73e16ff",
   "metadata": {
    "execution": {
     "iopub.execute_input": "2025-05-14T01:51:50.559265Z",
     "iopub.status.busy": "2025-05-14T01:51:50.558845Z",
     "iopub.status.idle": "2025-05-14T01:51:50.564350Z",
     "shell.execute_reply": "2025-05-14T01:51:50.563478Z"
    },
    "papermill": {
     "duration": 0.071902,
     "end_time": "2025-05-14T01:51:50.565675",
     "exception": false,
     "start_time": "2025-05-14T01:51:50.493773",
     "status": "completed"
    },
    "tags": []
   },
   "outputs": [],
   "source": [
    "from scipy.ndimage import gaussian_filter1d\n",
    "\n",
    "def smooth_coords(df, sigma=1.0):\n",
    "    df = df.copy()\n",
    "    for n in range(1, 6):  # 5개의 구조 (x_1 ~ x_5, y_1 ~ y_5, z_1 ~ z_5)\n",
    "        for axis in ['x', 'y', 'z']:\n",
    "            col = f\"{axis}_{n}\"\n",
    "            if col in df.columns:\n",
    "                df[col] = gaussian_filter1d(df[col].values, sigma=sigma)\n",
    "    return df"
   ]
  },
  {
   "cell_type": "code",
   "execution_count": 12,
   "id": "92cfa051",
   "metadata": {
    "execution": {
     "iopub.execute_input": "2025-05-14T01:51:50.699901Z",
     "iopub.status.busy": "2025-05-14T01:51:50.699574Z",
     "iopub.status.idle": "2025-05-14T01:51:50.709257Z",
     "shell.execute_reply": "2025-05-14T01:51:50.708331Z"
    },
    "papermill": {
     "duration": 0.079525,
     "end_time": "2025-05-14T01:51:50.710706",
     "exception": false,
     "start_time": "2025-05-14T01:51:50.631181",
     "status": "completed"
    },
    "tags": []
   },
   "outputs": [],
   "source": [
    "if MODEL_TYPE=='protenix' and not VALIDATION:\n",
    "    test_df=pd.read_csv('/kaggle/input/stanford-rna-3d-folding/test_sequences.csv')\n",
    "    import warnings\n",
    "    warnings.filterwarnings(\"ignore\")  \n",
    "    \n",
    "    dataset = DictDataset(test_df.sequence, dump_dir='output', id_list=test_df.target_id, use_msa_server=True)\n",
    "    num_data = len(dataset)\n",
    "    for i, seq in tqdm(enumerate(test_df.sequence),total=num_data):\n",
    "        try:\n",
    "            data, atom_array, data_error_message=dataset[i]\n",
    "            target_id = data[\"sample_name\"]\n",
    "            assert target_id==test_df.target_id[i]\n",
    "            assert data_error_message==''\n",
    "            \n",
    "            new_configs = update_inference_configs(configs, data[\"N_token\"].item())\n",
    "            runner.update_model_configs(new_configs)\n",
    "            prediction = runner.predict(data)\n",
    "            prediction=prediction['coordinate'][:,data['input_feature_dict']['atom_to_tokatom_idx']==12]\n",
    "\n",
    "            result = parse_output_to_df(prediction, seq, target_id)[0]\n",
    "        except:\n",
    "            target_id==test_df.target_id[i]\n",
    "            print('Failed to predict', target_id)\n",
    "            result=pd.DataFrame(columns=['ID', 'resname', 'resid', \n",
    "                                         'x_1', 'y_1', 'z_1', \n",
    "                                         'x_2', 'y_2', 'z_2',\n",
    "                                         'x_3', 'y_3', 'z_3', \n",
    "                                         'x_4', 'y_4', 'z_4', \n",
    "                                         'x_5', 'y_5', 'z_5'], \n",
    "                                         data=[[target_id, x, j+1] + [0.0]*15 for j, x in enumerate(seq)])\n",
    "        result = smooth_coords(result, sigma=1.0)\n",
    "        result['ID']=result.apply(lambda x: x.ID + '_' + str(x.resid), axis=1)\n",
    "        result.to_csv('submission.csv', index=False, mode='a', header=(i==0))\n",
    "        torch.cuda.empty_cache()\n",
    "\n",
    "    display(pd.read_csv('submission.csv'))"
   ]
  },
  {
   "cell_type": "code",
   "execution_count": null,
   "id": "da0491fe",
   "metadata": {
    "papermill": {
     "duration": 0.065481,
     "end_time": "2025-05-14T01:51:50.843342",
     "exception": false,
     "start_time": "2025-05-14T01:51:50.777861",
     "status": "completed"
    },
    "tags": []
   },
   "outputs": [],
   "source": []
  },
  {
   "cell_type": "markdown",
   "id": "1e612211",
   "metadata": {
    "papermill": {
     "duration": 0.065107,
     "end_time": "2025-05-14T01:51:51.030151",
     "exception": false,
     "start_time": "2025-05-14T01:51:50.965044",
     "status": "completed"
    },
    "tags": []
   },
   "source": []
  },
  {
   "cell_type": "code",
   "execution_count": null,
   "id": "d13cae0a",
   "metadata": {
    "papermill": {
     "duration": 0.065265,
     "end_time": "2025-05-14T01:51:51.161765",
     "exception": false,
     "start_time": "2025-05-14T01:51:51.096500",
     "status": "completed"
    },
    "tags": []
   },
   "outputs": [],
   "source": []
  }
 ],
 "metadata": {
  "kaggle": {
   "accelerator": "gpu",
   "dataSources": [
    {
     "databundleVersionId": 12276181,
     "sourceId": 87793,
     "sourceType": "competition"
    },
    {
     "datasetId": 6742586,
     "sourceId": 10855324,
     "sourceType": "datasetVersion"
    },
    {
     "datasetId": 6933267,
     "sourceId": 11118830,
     "sourceType": "datasetVersion"
    },
    {
     "sourceId": 224830487,
     "sourceType": "kernelVersion"
    }
   ],
   "dockerImageVersionId": 30919,
   "isGpuEnabled": true,
   "isInternetEnabled": true,
   "language": "python",
   "sourceType": "notebook"
  },
  "kernelspec": {
   "display_name": "Python 3",
   "language": "python",
   "name": "python3"
  },
  "language_info": {
   "codemirror_mode": {
    "name": "ipython",
    "version": 3
   },
   "file_extension": ".py",
   "mimetype": "text/x-python",
   "name": "python",
   "nbconvert_exporter": "python",
   "pygments_lexer": "ipython3",
   "version": "3.10.12"
  },
  "papermill": {
   "default_parameters": {},
   "duration": 290.055633,
   "end_time": "2025-05-14T01:51:54.331460",
   "environment_variables": {},
   "exception": null,
   "input_path": "__notebook__.ipynb",
   "output_path": "__notebook__.ipynb",
   "parameters": {},
   "start_time": "2025-05-14T01:47:04.275827",
   "version": "2.6.0"
  }
 },
 "nbformat": 4,
 "nbformat_minor": 5
}
